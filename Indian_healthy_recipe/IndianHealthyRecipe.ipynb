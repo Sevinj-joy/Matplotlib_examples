{
 "cells": [
  {
   "metadata": {
    "collapsed": true,
    "ExecuteTime": {
     "end_time": "2025-03-21T09:37:12.859697Z",
     "start_time": "2025-03-21T09:37:10.565737Z"
    }
   },
   "cell_type": "code",
   "source": [
    "import pandas as pd\n",
    "import numpy as np\n",
    "import matplotlib.pyplot as plt\n",
    "import seaborn as sns"
   ],
   "id": "initial_id",
   "outputs": [],
   "execution_count": 6
  },
  {
   "metadata": {
    "ExecuteTime": {
     "end_time": "2025-03-21T09:43:32.511959Z",
     "start_time": "2025-03-21T09:43:31.975672Z"
    }
   },
   "cell_type": "code",
   "source": "data = pd.read_csv('C:\\\\Users\\\\aa\\\\PyCharmMiscProject\\\\IndianRecipe\\\\IndianHealthyRecipe.csv')",
   "id": "680001a1c5f4e40",
   "outputs": [],
   "execution_count": 15
  },
  {
   "metadata": {
    "ExecuteTime": {
     "end_time": "2025-03-21T09:44:04.151946Z",
     "start_time": "2025-03-21T09:44:03.629232Z"
    }
   },
   "cell_type": "code",
   "source": "data",
   "id": "d6a23cf449731845",
   "outputs": [
    {
     "data": {
      "text/plain": [
       "                                     Dish Name  \\\n",
       "0                            Pistachio chicken   \n",
       "1                             Tangy Fried Okra   \n",
       "2                        Healthy Chicken Korma   \n",
       "3                            Brown Lentil Dhal   \n",
       "4                           Thari Wala Chicken   \n",
       "..                                         ...   \n",
       "144  Vegan Wild Rice, Cumin & Chickpea Burgers   \n",
       "145                            Vegetable Pilau   \n",
       "146                  Watermelon and Feta Chaat   \n",
       "147                    Zambezi Baked Sea Bream   \n",
       "148                                      Zhoug   \n",
       "\n",
       "                                  Description   Spice     Prep Time   Views  \\\n",
       "0    Mild chicken in a creamy pistachio sauce    mild  Prep 10 mins   11604   \n",
       "1                         Bhindi with Amchoor  medium  Prep 10 mins   49899   \n",
       "2              Chicken in Creamy Almond Sauce    mild  Prep 10 mins  115569   \n",
       "3                        Sabut Masoor di Dhal  medium  Prep 10 mins  146798   \n",
       "4                       Healthy Chicken Curry  medium  Prep 10 mins  262696   \n",
       "..                                        ...     ...           ...     ...   \n",
       "144                        Channa Chaul Tikki  medium  Prep 10 mins   12641   \n",
       "145                      Mixed Vegetable Rice  medium  Prep 10 mins   69937   \n",
       "146    Indian Style Watermelon and Feta Salad  medium  Prep 40 mins   16652   \n",
       "147                         Shama with relish  medium   Prep 5 mins   11808   \n",
       "148              Middle Eastern Coriander Dip  medium   Prep 5 mins   67834   \n",
       "\n",
       "     Rating  Number of Votes  Serves       Dietary Info Cook Time  \\\n",
       "0       4.1             18.0     4.0  ['CONTAINS-NUTS']   30 mins   \n",
       "1       4.6             35.0     4.0     ['VEGETARIAN']   15 mins   \n",
       "2       3.6            163.0     4.0  ['CONTAINS-NUTS']   20 mins   \n",
       "3       3.7             87.0     4.0     ['VEGETARIAN']   20 mins   \n",
       "4       3.5            343.0     4.0   ['LACTOSE-FREE']   40 mins   \n",
       "..      ...              ...     ...                ...       ...   \n",
       "144     4.2              9.0     4.0     ['VEGETARIAN']   15 mins   \n",
       "145     4.0             15.0     4.0     ['VEGETARIAN']   20 mins   \n",
       "146     4.4             11.0     6.0     ['VEGETARIAN']   15 mins   \n",
       "147     4.0              7.0     2.0   ['LACTOSE-FREE']   20 mins   \n",
       "148     3.7              3.0     4.0     ['VEGETARIAN']    5 mins   \n",
       "\n",
       "                                           Ingredients  \\\n",
       "0    1) 600g chicken thighs, cut into chunks\\n2) 10...   \n",
       "1    1) 500g okra\\n2) 3 tbsp mustard oil\\n3) 1 onio...   \n",
       "2    1) 6-8 tbsp natural yoghurt\\n2) 1 tsp turmeric...   \n",
       "3      1) 200g brown lentils\\n2) Approx. 1L of water\\n   \n",
       "4    1) 8 pieces of chicken (4 legs cut into thigh ...   \n",
       "..                                                 ...   \n",
       "144  1) 200g cooked and cooled wild rice\\n2) 200g t...   \n",
       "145  1) 50g peas\\n2) 1 carrot (diced small)\\n3) 100...   \n",
       "146  1) 250g atta\\n2) salt pinch\\n3) 1 tsp ajwain\\n...   \n",
       "147  1) 2 whole sea bream (sea bass fillets if you ...   \n",
       "148  1) 4 cloves garlic, roughly chopped\\n2) 2 bunc...   \n",
       "\n",
       "                                          Instructions  \n",
       "0    1) Boil enough water to cover the pistachios, ...  \n",
       "1    1) Wash and thoroughly dry the okra (kitchen r...  \n",
       "2    1) Grind your whole spices in a spice grinder....  \n",
       "3    1) Place the lentils in the pressure cooker wi...  \n",
       "4    1) Skin the chicken, removing any excess fat.\\...  \n",
       "..                                                 ...  \n",
       "144  1) Cook the rice as per the instructions on th...  \n",
       "145  1) Wash the rice until water runs clear and se...  \n",
       "146  1) Add the flour to a bowl and mix in the salt...  \n",
       "147  1) Heat your oven to 180ºC\\n2) Remove any scal...  \n",
       "148  1) Toast the cardamom and cumin until fragrant...  \n",
       "\n",
       "[149 rows x 12 columns]"
      ],
      "text/html": [
       "<div>\n",
       "<style scoped>\n",
       "    .dataframe tbody tr th:only-of-type {\n",
       "        vertical-align: middle;\n",
       "    }\n",
       "\n",
       "    .dataframe tbody tr th {\n",
       "        vertical-align: top;\n",
       "    }\n",
       "\n",
       "    .dataframe thead th {\n",
       "        text-align: right;\n",
       "    }\n",
       "</style>\n",
       "<table border=\"1\" class=\"dataframe\">\n",
       "  <thead>\n",
       "    <tr style=\"text-align: right;\">\n",
       "      <th></th>\n",
       "      <th>Dish Name</th>\n",
       "      <th>Description</th>\n",
       "      <th>Spice</th>\n",
       "      <th>Prep Time</th>\n",
       "      <th>Views</th>\n",
       "      <th>Rating</th>\n",
       "      <th>Number of Votes</th>\n",
       "      <th>Serves</th>\n",
       "      <th>Dietary Info</th>\n",
       "      <th>Cook Time</th>\n",
       "      <th>Ingredients</th>\n",
       "      <th>Instructions</th>\n",
       "    </tr>\n",
       "  </thead>\n",
       "  <tbody>\n",
       "    <tr>\n",
       "      <th>0</th>\n",
       "      <td>Pistachio chicken</td>\n",
       "      <td>Mild chicken in a creamy pistachio sauce</td>\n",
       "      <td>mild</td>\n",
       "      <td>Prep 10 mins</td>\n",
       "      <td>11604</td>\n",
       "      <td>4.1</td>\n",
       "      <td>18.0</td>\n",
       "      <td>4.0</td>\n",
       "      <td>['CONTAINS-NUTS']</td>\n",
       "      <td>30 mins</td>\n",
       "      <td>1) 600g chicken thighs, cut into chunks\\n2) 10...</td>\n",
       "      <td>1) Boil enough water to cover the pistachios, ...</td>\n",
       "    </tr>\n",
       "    <tr>\n",
       "      <th>1</th>\n",
       "      <td>Tangy Fried Okra</td>\n",
       "      <td>Bhindi with Amchoor</td>\n",
       "      <td>medium</td>\n",
       "      <td>Prep 10 mins</td>\n",
       "      <td>49899</td>\n",
       "      <td>4.6</td>\n",
       "      <td>35.0</td>\n",
       "      <td>4.0</td>\n",
       "      <td>['VEGETARIAN']</td>\n",
       "      <td>15 mins</td>\n",
       "      <td>1) 500g okra\\n2) 3 tbsp mustard oil\\n3) 1 onio...</td>\n",
       "      <td>1) Wash and thoroughly dry the okra (kitchen r...</td>\n",
       "    </tr>\n",
       "    <tr>\n",
       "      <th>2</th>\n",
       "      <td>Healthy Chicken Korma</td>\n",
       "      <td>Chicken in Creamy Almond Sauce</td>\n",
       "      <td>mild</td>\n",
       "      <td>Prep 10 mins</td>\n",
       "      <td>115569</td>\n",
       "      <td>3.6</td>\n",
       "      <td>163.0</td>\n",
       "      <td>4.0</td>\n",
       "      <td>['CONTAINS-NUTS']</td>\n",
       "      <td>20 mins</td>\n",
       "      <td>1) 6-8 tbsp natural yoghurt\\n2) 1 tsp turmeric...</td>\n",
       "      <td>1) Grind your whole spices in a spice grinder....</td>\n",
       "    </tr>\n",
       "    <tr>\n",
       "      <th>3</th>\n",
       "      <td>Brown Lentil Dhal</td>\n",
       "      <td>Sabut Masoor di Dhal</td>\n",
       "      <td>medium</td>\n",
       "      <td>Prep 10 mins</td>\n",
       "      <td>146798</td>\n",
       "      <td>3.7</td>\n",
       "      <td>87.0</td>\n",
       "      <td>4.0</td>\n",
       "      <td>['VEGETARIAN']</td>\n",
       "      <td>20 mins</td>\n",
       "      <td>1) 200g brown lentils\\n2) Approx. 1L of water\\n</td>\n",
       "      <td>1) Place the lentils in the pressure cooker wi...</td>\n",
       "    </tr>\n",
       "    <tr>\n",
       "      <th>4</th>\n",
       "      <td>Thari Wala Chicken</td>\n",
       "      <td>Healthy Chicken Curry</td>\n",
       "      <td>medium</td>\n",
       "      <td>Prep 10 mins</td>\n",
       "      <td>262696</td>\n",
       "      <td>3.5</td>\n",
       "      <td>343.0</td>\n",
       "      <td>4.0</td>\n",
       "      <td>['LACTOSE-FREE']</td>\n",
       "      <td>40 mins</td>\n",
       "      <td>1) 8 pieces of chicken (4 legs cut into thigh ...</td>\n",
       "      <td>1) Skin the chicken, removing any excess fat.\\...</td>\n",
       "    </tr>\n",
       "    <tr>\n",
       "      <th>...</th>\n",
       "      <td>...</td>\n",
       "      <td>...</td>\n",
       "      <td>...</td>\n",
       "      <td>...</td>\n",
       "      <td>...</td>\n",
       "      <td>...</td>\n",
       "      <td>...</td>\n",
       "      <td>...</td>\n",
       "      <td>...</td>\n",
       "      <td>...</td>\n",
       "      <td>...</td>\n",
       "      <td>...</td>\n",
       "    </tr>\n",
       "    <tr>\n",
       "      <th>144</th>\n",
       "      <td>Vegan Wild Rice, Cumin &amp; Chickpea Burgers</td>\n",
       "      <td>Channa Chaul Tikki</td>\n",
       "      <td>medium</td>\n",
       "      <td>Prep 10 mins</td>\n",
       "      <td>12641</td>\n",
       "      <td>4.2</td>\n",
       "      <td>9.0</td>\n",
       "      <td>4.0</td>\n",
       "      <td>['VEGETARIAN']</td>\n",
       "      <td>15 mins</td>\n",
       "      <td>1) 200g cooked and cooled wild rice\\n2) 200g t...</td>\n",
       "      <td>1) Cook the rice as per the instructions on th...</td>\n",
       "    </tr>\n",
       "    <tr>\n",
       "      <th>145</th>\n",
       "      <td>Vegetable Pilau</td>\n",
       "      <td>Mixed Vegetable Rice</td>\n",
       "      <td>medium</td>\n",
       "      <td>Prep 10 mins</td>\n",
       "      <td>69937</td>\n",
       "      <td>4.0</td>\n",
       "      <td>15.0</td>\n",
       "      <td>4.0</td>\n",
       "      <td>['VEGETARIAN']</td>\n",
       "      <td>20 mins</td>\n",
       "      <td>1) 50g peas\\n2) 1 carrot (diced small)\\n3) 100...</td>\n",
       "      <td>1) Wash the rice until water runs clear and se...</td>\n",
       "    </tr>\n",
       "    <tr>\n",
       "      <th>146</th>\n",
       "      <td>Watermelon and Feta Chaat</td>\n",
       "      <td>Indian Style Watermelon and Feta Salad</td>\n",
       "      <td>medium</td>\n",
       "      <td>Prep 40 mins</td>\n",
       "      <td>16652</td>\n",
       "      <td>4.4</td>\n",
       "      <td>11.0</td>\n",
       "      <td>6.0</td>\n",
       "      <td>['VEGETARIAN']</td>\n",
       "      <td>15 mins</td>\n",
       "      <td>1) 250g atta\\n2) salt pinch\\n3) 1 tsp ajwain\\n...</td>\n",
       "      <td>1) Add the flour to a bowl and mix in the salt...</td>\n",
       "    </tr>\n",
       "    <tr>\n",
       "      <th>147</th>\n",
       "      <td>Zambezi Baked Sea Bream</td>\n",
       "      <td>Shama with relish</td>\n",
       "      <td>medium</td>\n",
       "      <td>Prep 5 mins</td>\n",
       "      <td>11808</td>\n",
       "      <td>4.0</td>\n",
       "      <td>7.0</td>\n",
       "      <td>2.0</td>\n",
       "      <td>['LACTOSE-FREE']</td>\n",
       "      <td>20 mins</td>\n",
       "      <td>1) 2 whole sea bream (sea bass fillets if you ...</td>\n",
       "      <td>1) Heat your oven to 180ºC\\n2) Remove any scal...</td>\n",
       "    </tr>\n",
       "    <tr>\n",
       "      <th>148</th>\n",
       "      <td>Zhoug</td>\n",
       "      <td>Middle Eastern Coriander Dip</td>\n",
       "      <td>medium</td>\n",
       "      <td>Prep 5 mins</td>\n",
       "      <td>67834</td>\n",
       "      <td>3.7</td>\n",
       "      <td>3.0</td>\n",
       "      <td>4.0</td>\n",
       "      <td>['VEGETARIAN']</td>\n",
       "      <td>5 mins</td>\n",
       "      <td>1) 4 cloves garlic, roughly chopped\\n2) 2 bunc...</td>\n",
       "      <td>1) Toast the cardamom and cumin until fragrant...</td>\n",
       "    </tr>\n",
       "  </tbody>\n",
       "</table>\n",
       "<p>149 rows × 12 columns</p>\n",
       "</div>"
      ]
     },
     "execution_count": 16,
     "metadata": {},
     "output_type": "execute_result"
    }
   ],
   "execution_count": 16
  },
  {
   "metadata": {
    "ExecuteTime": {
     "end_time": "2025-03-21T09:47:55.656619Z",
     "start_time": "2025-03-21T09:47:54.967614Z"
    }
   },
   "cell_type": "code",
   "source": "data.info()",
   "id": "9b81d3baaa2d7eae",
   "outputs": [
    {
     "name": "stdout",
     "output_type": "stream",
     "text": [
      "<class 'pandas.core.frame.DataFrame'>\n",
      "RangeIndex: 149 entries, 0 to 148\n",
      "Data columns (total 12 columns):\n",
      " #   Column           Non-Null Count  Dtype  \n",
      "---  ------           --------------  -----  \n",
      " 0   Dish Name        149 non-null    object \n",
      " 1   Description      149 non-null    object \n",
      " 2   Spice            145 non-null    object \n",
      " 3   Prep Time        148 non-null    object \n",
      " 4   Views            149 non-null    int64  \n",
      " 5   Rating           149 non-null    float64\n",
      " 6   Number of Votes  147 non-null    float64\n",
      " 7   Serves           146 non-null    float64\n",
      " 8   Dietary Info     149 non-null    object \n",
      " 9   Cook Time        134 non-null    object \n",
      " 10  Ingredients      149 non-null    object \n",
      " 11  Instructions     149 non-null    object \n",
      "dtypes: float64(3), int64(1), object(8)\n",
      "memory usage: 14.1+ KB\n"
     ]
    }
   ],
   "execution_count": 17
  },
  {
   "metadata": {
    "ExecuteTime": {
     "end_time": "2025-03-21T09:52:28.507572Z",
     "start_time": "2025-03-21T09:52:28.124845Z"
    }
   },
   "cell_type": "code",
   "source": "data.shape",
   "id": "84a23ce2c98688e3",
   "outputs": [
    {
     "data": {
      "text/plain": [
       "(149, 12)"
      ]
     },
     "execution_count": 18,
     "metadata": {},
     "output_type": "execute_result"
    }
   ],
   "execution_count": 18
  },
  {
   "metadata": {
    "ExecuteTime": {
     "end_time": "2025-03-21T09:52:55.882593Z",
     "start_time": "2025-03-21T09:52:55.507198Z"
    }
   },
   "cell_type": "code",
   "source": "data.isnull().sum()",
   "id": "82ceb8d13c7a1a4d",
   "outputs": [
    {
     "data": {
      "text/plain": [
       "Dish Name           0\n",
       "Description         0\n",
       "Spice               4\n",
       "Prep Time           1\n",
       "Views               0\n",
       "Rating              0\n",
       "Number of Votes     2\n",
       "Serves              3\n",
       "Dietary Info        0\n",
       "Cook Time          15\n",
       "Ingredients         0\n",
       "Instructions        0\n",
       "dtype: int64"
      ]
     },
     "execution_count": 19,
     "metadata": {},
     "output_type": "execute_result"
    }
   ],
   "execution_count": 19
  },
  {
   "metadata": {
    "ExecuteTime": {
     "end_time": "2025-03-21T09:55:24.472290Z",
     "start_time": "2025-03-21T09:55:23.975488Z"
    }
   },
   "cell_type": "code",
   "source": [
    "null_rows = data[data.isnull().any(axis=1)]\n",
    "print(null_rows)"
   ],
   "id": "57bfbf4f75ded87f",
   "outputs": [
    {
     "name": "stdout",
     "output_type": "stream",
     "text": [
      "                            Dish Name                        Description  \\\n",
      "38     Corn and Pomegranate Kachumber         Corn and Pomegranate Salad   \n",
      "39                     Cucumber Raita                   Cucumber Yoghurt   \n",
      "48                 Green Chilli Sauce                    Hot Green Sauce   \n",
      "51                        Indian Slaw                    Spiced Coleslaw   \n",
      "54                        Jeera Chaul                 Cumin and Pea Rice   \n",
      "55                         Jeera Pani                   Cumin soda water   \n",
      "57                    Kachumber Salad   Tomato, Onion and Cucumber Salad   \n",
      "69                    Mango Kachumber                        Mango Salsa   \n",
      "70                        Mango Lassi         Frozen Mango Yoghurt Drink   \n",
      "74   Melon Soup with a hint of Chilli                  Spiced Melon Soup   \n",
      "75         Mint and Coriander Chutney              Pudina Thania Chutney   \n",
      "78                         Mint Lassi          Salted Mint Yoghurt drink   \n",
      "79                         Mint Raita           Quick Mint Yoghurt Sauce   \n",
      "91                    Piri Piri Sauce                   Hot Pepper Sauce   \n",
      "92       Pitta Bread with Carom Seeds               Middle Eastern Bread   \n",
      "94                  Pomegranate Raita                            10 mins   \n",
      "95                    Power Salad Jar                   Spiced Salad Jar   \n",
      "97                      Punjabi Piyaz                Punjabi Onion Salad   \n",
      "102            Radish and Lemon Salad  A Healthy and Crunchy Mooli Salad   \n",
      "104                  Red Chilli Sauce              Habenaro Chilli Sauce   \n",
      "107                              Roti              Unleavened Flat Bread   \n",
      "113                      Salted Lassi               Salted Yoghurt Drink   \n",
      "142            Tomato Kachumber Salad             Tomato and Onion Salad   \n",
      "\n",
      "      Spice     Prep Time   Views  Rating  Number of Votes  Serves  \\\n",
      "38     mild  Prep 10 mins   37660     3.7             31.0     2.0   \n",
      "39      NaN   Prep 5 mins   74026     3.1             71.0     4.0   \n",
      "48      hot   Prep 5 mins  110923     3.5             58.0     NaN   \n",
      "51   medium  Prep 10 mins   18140     4.0             16.0     4.0   \n",
      "54      NaN  Prep 10 mins   67651     4.1             29.0     4.0   \n",
      "55     none   Prep 5 mins   30233     3.9             13.0     6.0   \n",
      "57   medium  Prep 20 mins   50816     3.2             75.0     4.0   \n",
      "69   medium  Prep 10 mins   47890     4.4             16.0     4.0   \n",
      "70     none  Prep 10 mins   46882     4.6             12.0     4.0   \n",
      "74     none  Prep 10 mins   19117     4.3              4.0     4.0   \n",
      "75   medium           NaN   31700     3.9             16.0     6.0   \n",
      "78     none  Prep 10 mins   34365     3.4             12.0     4.0   \n",
      "79      NaN   Prep 5 mins   88641     3.4            156.0     4.0   \n",
      "91      hot   Prep 5 mins   43207     4.1             13.0     NaN   \n",
      "92     none  Prep 20 mins    6638     5.0              NaN     4.0   \n",
      "94     none  Prep 10 mins   40557     4.2             19.0     6.0   \n",
      "95     mild  Prep 10 mins    9798     5.0              NaN     4.0   \n",
      "97      hot  Prep 10 mins   71715     3.7             26.0     6.0   \n",
      "102  medium  Prep 10 mins   49854     3.3             26.0     4.0   \n",
      "104     hot  Prep 10 mins   73997     3.6             21.0     NaN   \n",
      "107     NaN  Prep 30 mins  108368     4.1             37.0     4.0   \n",
      "113    none  Prep 10 mins   23872     4.4              5.0     4.0   \n",
      "142  medium  Prep 20 mins   61585     3.9             29.0     4.0   \n",
      "\n",
      "         Dietary Info Cook Time  \\\n",
      "38     ['VEGETARIAN']       NaN   \n",
      "39     ['VEGETARIAN']       NaN   \n",
      "48     ['VEGETARIAN']   20 mins   \n",
      "51     ['VEGETARIAN']       NaN   \n",
      "54     ['VEGETARIAN']   15 mins   \n",
      "55     ['VEGETARIAN']       NaN   \n",
      "57     ['VEGETARIAN']       NaN   \n",
      "69     ['VEGETARIAN']       NaN   \n",
      "70   ['LOW-CALORIES']       NaN   \n",
      "74     ['VEGETARIAN']       NaN   \n",
      "75     ['VEGETARIAN']       NaN   \n",
      "78     ['VEGETARIAN']       NaN   \n",
      "79   ['LOW-CALORIES']    5 mins   \n",
      "91   ['LACTOSE-FREE']   10 mins   \n",
      "92     ['VEGETARIAN']    5 mins   \n",
      "94                 []       NaN   \n",
      "95        ['HEALTHY']   30 mins   \n",
      "97     ['VEGETARIAN']       NaN   \n",
      "102    ['VEGETARIAN']       NaN   \n",
      "104       ['HEALTHY']   30 mins   \n",
      "107    ['VEGETARIAN']    5 mins   \n",
      "113    ['VEGETARIAN']       NaN   \n",
      "142    ['VEGETARIAN']       NaN   \n",
      "\n",
      "                                           Ingredients  \\\n",
      "38   1) 300g tin sweetcorn\\n2) ¼ of a cucumber, pee...   \n",
      "39   1) ½ cucumber (more if you want)\\n2) 200ml low...   \n",
      "48   1) 100g large green chilli (mild)\\n2) 100g roc...   \n",
      "51   1) 2-3 medium carrots, peeled and coarsely shr...   \n",
      "54   1) 1 tbsp oil\\n2) 1 tsp cumin seeds\\n3) 1 smal...   \n",
      "55   1) Handful of mint leaves\\n2) 2 litres soda wa...   \n",
      "57   1) 1 small red onion\\n2) ½ cucumber\\n3) 1 toma...   \n",
      "69   1) 1 red onion, very finely diced\\n2) Handful ...   \n",
      "70   1) 1 mango, peeled, stoned and chopped\\n2) 4 t...   \n",
      "74   1) 1 melon\\n2) 2 green chillies very finely ch...   \n",
      "75   1) 30g fresh mint leaves\\n2) 30g fresh coriand...   \n",
      "78   1) 500ml Greek yoghurt\\n2) water\\n3) Handful f...   \n",
      "79   1) 100ml natural set yoghurt\\n2) Splash of mil...   \n",
      "91   1) 5-10 fresh red chillies, depending on how h...   \n",
      "92   1) 250g brown flour\\n2) 1 tsp ajwain (carom se...   \n",
      "94   1) 250g plan Greek yoghurt\\n2) ½ tsp roasted c...   \n",
      "95   1) 100g wild rice, cooked\\n2) 1 tbsp rapeseed ...   \n",
      "97   1) 2 red onions, finely sliced in rings\\n2) la...   \n",
      "102  1) 10-12 radishes\\n2) 1 handful coriander leav...   \n",
      "104  1) 150g habanero chillies\\n2) 50g red birds ey...   \n",
      "107  1) 500g whole-wheat flour (atta)\\n2) 300ml Wat...   \n",
      "113  1) 500ml Greek yoghurt\\n2) 250ml water\\n3) 1 t...   \n",
      "142  1) 1 small red onion\\n2) 2 tomatoes\\n3) 1 chil...   \n",
      "\n",
      "                                          Instructions  \n",
      "38   1) Wash the corn and leave to dry.\\n2) Mix all...  \n",
      "39   1) Carefully grate the cucumber, leaving the s...  \n",
      "48   1) Put some kitchen gloves on and wash the gre...  \n",
      "51   1) In a large bowl, mix the carrots, cabbage a...  \n",
      "54   1) Wash the rice until the water runs clear. I...  \n",
      "55   1) Bash the mint leaves between your palms to ...  \n",
      "57   1) Cut the onions, cucumber, tomato into a ver...  \n",
      "69   1) Finely dice the onion, mango.\\n2) Chop the ...  \n",
      "70   1) Put the yoghurt, milk, mango, sugar, ice in...  \n",
      "74   1) Cut open a melon and remove the seeds and r...  \n",
      "75   1) In a blender grind all the ingredients to a...  \n",
      "78   1) Put the yoghurt, mint, a splash of water in...  \n",
      "79   1) Put the yoghurt into a bowl, add a splash o...  \n",
      "91   1) Preheat the oven to 180°C and put all the c...  \n",
      "92   1) Tip the flour into the mixing bowl of your ...  \n",
      "94   1) Put the yoghurt into a bowl and beat it a l...  \n",
      "95   1) Heat the oven to 180ºC\\n2) Coat the diced b...  \n",
      "97   1) Place the sliced onions in a bowl\\n2) Add t...  \n",
      "102  1) Finely slice the radishes and place them in...  \n",
      "104  1) Put kitchen gloves on and remove the stalks...  \n",
      "107  1) Put the atta in a bowl and adding a little ...  \n",
      "113  1) Put the yoghurt into a tall jug and add the...  \n",
      "142  1) Cut the onions, tomato, chilli into a very ...  \n"
     ]
    }
   ],
   "execution_count": 21
  },
  {
   "metadata": {
    "ExecuteTime": {
     "end_time": "2025-03-21T09:56:40.408174Z",
     "start_time": "2025-03-21T09:56:40.365805Z"
    }
   },
   "cell_type": "code",
   "source": "print(f\"Null rows: {len(null_rows)}\")",
   "id": "3b894bbd0e2dd2b4",
   "outputs": [
    {
     "name": "stdout",
     "output_type": "stream",
     "text": [
      "Null rows: 23\n"
     ]
    }
   ],
   "execution_count": 23
  },
  {
   "metadata": {
    "ExecuteTime": {
     "end_time": "2025-03-21T09:58:53.482693Z",
     "start_time": "2025-03-21T09:58:53.375282Z"
    }
   },
   "cell_type": "code",
   "source": [
    "total_rows = len(data)\n",
    "\n",
    "null_percentage = (len(null_rows) / total_rows) * 100\n",
    "print(f\"Percentage of null values: {null_percentage:.2f}%\")\n"
   ],
   "id": "3483ac1420e0a2",
   "outputs": [
    {
     "name": "stdout",
     "output_type": "stream",
     "text": [
      "Percentage of null values: 15.44%\n"
     ]
    }
   ],
   "execution_count": 24
  },
  {
   "metadata": {
    "ExecuteTime": {
     "end_time": "2025-03-21T10:00:51.288958Z",
     "start_time": "2025-03-21T10:00:50.862834Z"
    }
   },
   "cell_type": "code",
   "source": "print(data.isnull().sum())",
   "id": "515b908745244c6e",
   "outputs": [
    {
     "name": "stdout",
     "output_type": "stream",
     "text": [
      "Dish Name           0\n",
      "Description         0\n",
      "Spice               4\n",
      "Prep Time           1\n",
      "Views               0\n",
      "Rating              0\n",
      "Number of Votes     2\n",
      "Serves              3\n",
      "Dietary Info        0\n",
      "Cook Time          15\n",
      "Ingredients         0\n",
      "Instructions        0\n",
      "dtype: int64\n"
     ]
    }
   ],
   "execution_count": 25
  },
  {
   "metadata": {
    "ExecuteTime": {
     "end_time": "2025-03-21T10:08:27.469176Z",
     "start_time": "2025-03-21T10:08:27.109174Z"
    }
   },
   "cell_type": "code",
   "source": "print(data[data['Cook Time'].isnull()])",
   "id": "1f3a52362df4a43f",
   "outputs": [
    {
     "name": "stdout",
     "output_type": "stream",
     "text": [
      "                            Dish Name                        Description  \\\n",
      "38     Corn and Pomegranate Kachumber         Corn and Pomegranate Salad   \n",
      "39                     Cucumber Raita                   Cucumber Yoghurt   \n",
      "51                        Indian Slaw                    Spiced Coleslaw   \n",
      "55                         Jeera Pani                   Cumin soda water   \n",
      "57                    Kachumber Salad   Tomato, Onion and Cucumber Salad   \n",
      "69                    Mango Kachumber                        Mango Salsa   \n",
      "70                        Mango Lassi         Frozen Mango Yoghurt Drink   \n",
      "74   Melon Soup with a hint of Chilli                  Spiced Melon Soup   \n",
      "75         Mint and Coriander Chutney              Pudina Thania Chutney   \n",
      "78                         Mint Lassi          Salted Mint Yoghurt drink   \n",
      "94                  Pomegranate Raita                            10 mins   \n",
      "97                      Punjabi Piyaz                Punjabi Onion Salad   \n",
      "102            Radish and Lemon Salad  A Healthy and Crunchy Mooli Salad   \n",
      "113                      Salted Lassi               Salted Yoghurt Drink   \n",
      "142            Tomato Kachumber Salad             Tomato and Onion Salad   \n",
      "\n",
      "      Spice     Prep Time  Views  Rating  Number of Votes  Serves  \\\n",
      "38     mild  Prep 10 mins  37660     3.7             31.0     2.0   \n",
      "39      NaN   Prep 5 mins  74026     3.1             71.0     4.0   \n",
      "51   medium  Prep 10 mins  18140     4.0             16.0     4.0   \n",
      "55     none   Prep 5 mins  30233     3.9             13.0     6.0   \n",
      "57   medium  Prep 20 mins  50816     3.2             75.0     4.0   \n",
      "69   medium  Prep 10 mins  47890     4.4             16.0     4.0   \n",
      "70     none  Prep 10 mins  46882     4.6             12.0     4.0   \n",
      "74     none  Prep 10 mins  19117     4.3              4.0     4.0   \n",
      "75   medium           NaN  31700     3.9             16.0     6.0   \n",
      "78     none  Prep 10 mins  34365     3.4             12.0     4.0   \n",
      "94     none  Prep 10 mins  40557     4.2             19.0     6.0   \n",
      "97      hot  Prep 10 mins  71715     3.7             26.0     6.0   \n",
      "102  medium  Prep 10 mins  49854     3.3             26.0     4.0   \n",
      "113    none  Prep 10 mins  23872     4.4              5.0     4.0   \n",
      "142  medium  Prep 20 mins  61585     3.9             29.0     4.0   \n",
      "\n",
      "         Dietary Info Cook Time  \\\n",
      "38     ['VEGETARIAN']       NaN   \n",
      "39     ['VEGETARIAN']       NaN   \n",
      "51     ['VEGETARIAN']       NaN   \n",
      "55     ['VEGETARIAN']       NaN   \n",
      "57     ['VEGETARIAN']       NaN   \n",
      "69     ['VEGETARIAN']       NaN   \n",
      "70   ['LOW-CALORIES']       NaN   \n",
      "74     ['VEGETARIAN']       NaN   \n",
      "75     ['VEGETARIAN']       NaN   \n",
      "78     ['VEGETARIAN']       NaN   \n",
      "94                 []       NaN   \n",
      "97     ['VEGETARIAN']       NaN   \n",
      "102    ['VEGETARIAN']       NaN   \n",
      "113    ['VEGETARIAN']       NaN   \n",
      "142    ['VEGETARIAN']       NaN   \n",
      "\n",
      "                                           Ingredients  \\\n",
      "38   1) 300g tin sweetcorn\\n2) ¼ of a cucumber, pee...   \n",
      "39   1) ½ cucumber (more if you want)\\n2) 200ml low...   \n",
      "51   1) 2-3 medium carrots, peeled and coarsely shr...   \n",
      "55   1) Handful of mint leaves\\n2) 2 litres soda wa...   \n",
      "57   1) 1 small red onion\\n2) ½ cucumber\\n3) 1 toma...   \n",
      "69   1) 1 red onion, very finely diced\\n2) Handful ...   \n",
      "70   1) 1 mango, peeled, stoned and chopped\\n2) 4 t...   \n",
      "74   1) 1 melon\\n2) 2 green chillies very finely ch...   \n",
      "75   1) 30g fresh mint leaves\\n2) 30g fresh coriand...   \n",
      "78   1) 500ml Greek yoghurt\\n2) water\\n3) Handful f...   \n",
      "94   1) 250g plan Greek yoghurt\\n2) ½ tsp roasted c...   \n",
      "97   1) 2 red onions, finely sliced in rings\\n2) la...   \n",
      "102  1) 10-12 radishes\\n2) 1 handful coriander leav...   \n",
      "113  1) 500ml Greek yoghurt\\n2) 250ml water\\n3) 1 t...   \n",
      "142  1) 1 small red onion\\n2) 2 tomatoes\\n3) 1 chil...   \n",
      "\n",
      "                                          Instructions  \n",
      "38   1) Wash the corn and leave to dry.\\n2) Mix all...  \n",
      "39   1) Carefully grate the cucumber, leaving the s...  \n",
      "51   1) In a large bowl, mix the carrots, cabbage a...  \n",
      "55   1) Bash the mint leaves between your palms to ...  \n",
      "57   1) Cut the onions, cucumber, tomato into a ver...  \n",
      "69   1) Finely dice the onion, mango.\\n2) Chop the ...  \n",
      "70   1) Put the yoghurt, milk, mango, sugar, ice in...  \n",
      "74   1) Cut open a melon and remove the seeds and r...  \n",
      "75   1) In a blender grind all the ingredients to a...  \n",
      "78   1) Put the yoghurt, mint, a splash of water in...  \n",
      "94   1) Put the yoghurt into a bowl and beat it a l...  \n",
      "97   1) Place the sliced onions in a bowl\\n2) Add t...  \n",
      "102  1) Finely slice the radishes and place them in...  \n",
      "113  1) Put the yoghurt into a tall jug and add the...  \n",
      "142  1) Cut the onions, tomato, chilli into a very ...  \n"
     ]
    }
   ],
   "execution_count": 27
  },
  {
   "metadata": {
    "ExecuteTime": {
     "end_time": "2025-03-21T10:18:31.295235Z",
     "start_time": "2025-03-21T10:18:29.748990Z"
    }
   },
   "cell_type": "code",
   "source": [
    "def infer_cook_time(row):\n",
    "    instructions = row['Instructions'].lower()\n",
    "\n",
    "    if 'boil' in instructions or 'simmer' in instructions:\n",
    "        return 15  # Boiling usually takes ~15 minutes\n",
    "    elif 'fry' in instructions or 'stir-fry' in instructions:\n",
    "        return 10  # Frying ~10 minutes\n",
    "    elif 'bake' in instructions or 'roast' in instructions:\n",
    "        return 30  # Baking ~30 minutes\n",
    "    elif 'mix' in instructions or 'blend' in instructions:\n",
    "        return 0  # No cooking needed for blending or mixing\n",
    "    else:\n",
    "        return None  # Unknown, leave as null for now\n",
    "\n",
    "data['Cook Time'] = data.apply(\n",
    "    lambda row: infer_cook_time(row) if pd.isnull(row['Cook Time']) else row['Cook Time'],\n",
    "    axis=1\n",
    ")"
   ],
   "id": "d4508571b28c5958",
   "outputs": [],
   "execution_count": 28
  },
  {
   "metadata": {
    "ExecuteTime": {
     "end_time": "2025-03-21T10:22:43.841275Z",
     "start_time": "2025-03-21T10:22:43.486950Z"
    }
   },
   "cell_type": "code",
   "source": "print(data[data['Cook Time'].isnull()])",
   "id": "87dd4db83775cd48",
   "outputs": [
    {
     "name": "stdout",
     "output_type": "stream",
     "text": [
      "                  Dish Name                       Description   Spice  \\\n",
      "39           Cucumber Raita                  Cucumber Yoghurt     NaN   \n",
      "57          Kachumber Salad  Tomato, Onion and Cucumber Salad  medium   \n",
      "69          Mango Kachumber                       Mango Salsa  medium   \n",
      "142  Tomato Kachumber Salad            Tomato and Onion Salad  medium   \n",
      "\n",
      "        Prep Time  Views  Rating  Number of Votes  Serves    Dietary Info  \\\n",
      "39    Prep 5 mins  74026     3.1             71.0     4.0  ['VEGETARIAN']   \n",
      "57   Prep 20 mins  50816     3.2             75.0     4.0  ['VEGETARIAN']   \n",
      "69   Prep 10 mins  47890     4.4             16.0     4.0  ['VEGETARIAN']   \n",
      "142  Prep 20 mins  61585     3.9             29.0     4.0  ['VEGETARIAN']   \n",
      "\n",
      "    Cook Time                                        Ingredients  \\\n",
      "39       None  1) ½ cucumber (more if you want)\\n2) 200ml low...   \n",
      "57       None  1) 1 small red onion\\n2) ½ cucumber\\n3) 1 toma...   \n",
      "69       None  1) 1 red onion, very finely diced\\n2) Handful ...   \n",
      "142      None  1) 1 small red onion\\n2) 2 tomatoes\\n3) 1 chil...   \n",
      "\n",
      "                                          Instructions  \n",
      "39   1) Carefully grate the cucumber, leaving the s...  \n",
      "57   1) Cut the onions, cucumber, tomato into a ver...  \n",
      "69   1) Finely dice the onion, mango.\\n2) Chop the ...  \n",
      "142  1) Cut the onions, tomato, chilli into a very ...  \n"
     ]
    }
   ],
   "execution_count": 29
  },
  {
   "metadata": {
    "ExecuteTime": {
     "end_time": "2025-03-21T10:23:02.524583Z",
     "start_time": "2025-03-21T10:23:02.398741Z"
    }
   },
   "cell_type": "code",
   "source": "data['Dish Name'].value_counts()",
   "id": "ceb460bae232d820",
   "outputs": [
    {
     "data": {
      "text/plain": [
       "Dish Name\n",
       "Pistachio chicken                            1\n",
       "Tangy Fried Okra                             1\n",
       "Healthy Chicken Korma                        1\n",
       "Brown Lentil Dhal                            1\n",
       "Thari Wala Chicken                           1\n",
       "                                            ..\n",
       "Vegan Wild Rice, Cumin & Chickpea Burgers    1\n",
       "Vegetable Pilau                              1\n",
       "Watermelon and Feta Chaat                    1\n",
       "Zambezi Baked Sea Bream                      1\n",
       "Zhoug                                        1\n",
       "Name: count, Length: 149, dtype: int64"
      ]
     },
     "execution_count": 30,
     "metadata": {},
     "output_type": "execute_result"
    }
   ],
   "execution_count": 30
  },
  {
   "metadata": {},
   "cell_type": "markdown",
   "source": "5.\tIs there duplicated dish name?",
   "id": "54bd337025676244"
  },
  {
   "metadata": {
    "ExecuteTime": {
     "end_time": "2025-03-21T10:23:11.576298Z",
     "start_time": "2025-03-21T10:23:11.544432Z"
    }
   },
   "cell_type": "code",
   "source": "data['Dish Name'].duplicated().sum()",
   "id": "a365b69cea3f766c",
   "outputs": [
    {
     "data": {
      "text/plain": [
       "np.int64(0)"
      ]
     },
     "execution_count": 31,
     "metadata": {},
     "output_type": "execute_result"
    }
   ],
   "execution_count": 31
  },
  {
   "metadata": {},
   "cell_type": "markdown",
   "source": "6.\tShow dish name which is get max views.",
   "id": "72a5b18fae2e319c"
  },
  {
   "metadata": {
    "ExecuteTime": {
     "end_time": "2025-03-21T10:23:13.878200Z",
     "start_time": "2025-03-21T10:23:13.860137Z"
    }
   },
   "cell_type": "code",
   "source": "data['Dish Name'].value_counts().idxmax()",
   "id": "8246ae3350728f6b",
   "outputs": [
    {
     "data": {
      "text/plain": [
       "'Pistachio chicken'"
      ]
     },
     "execution_count": 32,
     "metadata": {},
     "output_type": "execute_result"
    }
   ],
   "execution_count": 32
  },
  {
   "metadata": {},
   "cell_type": "markdown",
   "source": "7.\tShow dishname which is get max rating.",
   "id": "4218cba5b5c541bd"
  },
  {
   "metadata": {
    "ExecuteTime": {
     "end_time": "2025-03-19T08:29:23.509344Z",
     "start_time": "2025-03-19T08:29:23.500574Z"
    }
   },
   "cell_type": "code",
   "source": [
    "max_rating=data['Rating'].max()\n",
    "max_rating"
   ],
   "id": "8b664f2c60fe2b8c",
   "outputs": [
    {
     "data": {
      "text/plain": [
       "5.0"
      ]
     },
     "execution_count": 41,
     "metadata": {},
     "output_type": "execute_result"
    }
   ],
   "execution_count": 41
  },
  {
   "metadata": {
    "ExecuteTime": {
     "end_time": "2025-03-19T08:36:32.056331Z",
     "start_time": "2025-03-19T08:36:32.039372Z"
    }
   },
   "cell_type": "code",
   "source": [
    "dish_max_rating=data[data['Rating']==max_rating]\n",
    "\n",
    "dish_max_rating"
   ],
   "id": "fadb77cd44d312ce",
   "outputs": [
    {
     "data": {
      "text/plain": [
       "                               Dish Name  \\\n",
       "60   Kati Egg Roll with Basmati & Quinoa   \n",
       "92          Pitta Bread with Carom Seeds   \n",
       "95                       Power Salad Jar   \n",
       "127                 Spiced Pumpkin Seeds   \n",
       "\n",
       "                                 Description   Spice     Prep Time  Views  \\\n",
       "60   Spiced rice tucked into a kati egg roll    mild  Prep 35 mins   7405   \n",
       "92                      Middle Eastern Bread    none  Prep 20 mins   6638   \n",
       "95                          Spiced Salad Jar    mild  Prep 10 mins   9798   \n",
       "127                    Roasted Pumpkin Seeds  medium  Prep 10 mins   7643   \n",
       "\n",
       "     Rating  Number of Votes  Serves    Dietary Info Cook Time  \\\n",
       "60      5.0              3.0     4.0     ['HEALTHY']   10 mins   \n",
       "92      5.0              NaN     4.0  ['VEGETARIAN']    5 mins   \n",
       "95      5.0              NaN     4.0     ['HEALTHY']   30 mins   \n",
       "127     5.0              5.0     4.0  ['VEGETARIAN']   20 mins   \n",
       "\n",
       "                                           Ingredients  \\\n",
       "60    100g Brown Basmati rice or use left over rice...   \n",
       "92    250g brown flour 1 tsp ajwain carom seeds) 1 ...   \n",
       "95    100g wild rice, cooked 1 tbsp rapeseed oil 1 ...   \n",
       "127   Seeds from one pumpkin 1 tsp salt 1 tsp chill...   \n",
       "\n",
       "                                          Instructions  \n",
       "60    Wash the quinoa and rice then add to a pan of...  \n",
       "92    Tip the flour into the mixing bowl of your st...  \n",
       "95    Heat the oven to 180ºC Coat the diced buttern...  \n",
       "127   Pull out the seeds from the pumpkin and place...  "
      ],
      "text/html": [
       "<div>\n",
       "<style scoped>\n",
       "    .dataframe tbody tr th:only-of-type {\n",
       "        vertical-align: middle;\n",
       "    }\n",
       "\n",
       "    .dataframe tbody tr th {\n",
       "        vertical-align: top;\n",
       "    }\n",
       "\n",
       "    .dataframe thead th {\n",
       "        text-align: right;\n",
       "    }\n",
       "</style>\n",
       "<table border=\"1\" class=\"dataframe\">\n",
       "  <thead>\n",
       "    <tr style=\"text-align: right;\">\n",
       "      <th></th>\n",
       "      <th>Dish Name</th>\n",
       "      <th>Description</th>\n",
       "      <th>Spice</th>\n",
       "      <th>Prep Time</th>\n",
       "      <th>Views</th>\n",
       "      <th>Rating</th>\n",
       "      <th>Number of Votes</th>\n",
       "      <th>Serves</th>\n",
       "      <th>Dietary Info</th>\n",
       "      <th>Cook Time</th>\n",
       "      <th>Ingredients</th>\n",
       "      <th>Instructions</th>\n",
       "    </tr>\n",
       "  </thead>\n",
       "  <tbody>\n",
       "    <tr>\n",
       "      <th>60</th>\n",
       "      <td>Kati Egg Roll with Basmati &amp; Quinoa</td>\n",
       "      <td>Spiced rice tucked into a kati egg roll</td>\n",
       "      <td>mild</td>\n",
       "      <td>Prep 35 mins</td>\n",
       "      <td>7405</td>\n",
       "      <td>5.0</td>\n",
       "      <td>3.0</td>\n",
       "      <td>4.0</td>\n",
       "      <td>['HEALTHY']</td>\n",
       "      <td>10 mins</td>\n",
       "      <td>100g Brown Basmati rice or use left over rice...</td>\n",
       "      <td>Wash the quinoa and rice then add to a pan of...</td>\n",
       "    </tr>\n",
       "    <tr>\n",
       "      <th>92</th>\n",
       "      <td>Pitta Bread with Carom Seeds</td>\n",
       "      <td>Middle Eastern Bread</td>\n",
       "      <td>none</td>\n",
       "      <td>Prep 20 mins</td>\n",
       "      <td>6638</td>\n",
       "      <td>5.0</td>\n",
       "      <td>NaN</td>\n",
       "      <td>4.0</td>\n",
       "      <td>['VEGETARIAN']</td>\n",
       "      <td>5 mins</td>\n",
       "      <td>250g brown flour 1 tsp ajwain carom seeds) 1 ...</td>\n",
       "      <td>Tip the flour into the mixing bowl of your st...</td>\n",
       "    </tr>\n",
       "    <tr>\n",
       "      <th>95</th>\n",
       "      <td>Power Salad Jar</td>\n",
       "      <td>Spiced Salad Jar</td>\n",
       "      <td>mild</td>\n",
       "      <td>Prep 10 mins</td>\n",
       "      <td>9798</td>\n",
       "      <td>5.0</td>\n",
       "      <td>NaN</td>\n",
       "      <td>4.0</td>\n",
       "      <td>['HEALTHY']</td>\n",
       "      <td>30 mins</td>\n",
       "      <td>100g wild rice, cooked 1 tbsp rapeseed oil 1 ...</td>\n",
       "      <td>Heat the oven to 180ºC Coat the diced buttern...</td>\n",
       "    </tr>\n",
       "    <tr>\n",
       "      <th>127</th>\n",
       "      <td>Spiced Pumpkin Seeds</td>\n",
       "      <td>Roasted Pumpkin Seeds</td>\n",
       "      <td>medium</td>\n",
       "      <td>Prep 10 mins</td>\n",
       "      <td>7643</td>\n",
       "      <td>5.0</td>\n",
       "      <td>5.0</td>\n",
       "      <td>4.0</td>\n",
       "      <td>['VEGETARIAN']</td>\n",
       "      <td>20 mins</td>\n",
       "      <td>Seeds from one pumpkin 1 tsp salt 1 tsp chill...</td>\n",
       "      <td>Pull out the seeds from the pumpkin and place...</td>\n",
       "    </tr>\n",
       "  </tbody>\n",
       "</table>\n",
       "</div>"
      ]
     },
     "execution_count": 45,
     "metadata": {},
     "output_type": "execute_result"
    }
   ],
   "execution_count": 45
  },
  {
   "metadata": {},
   "cell_type": "markdown",
   "source": "8.\tFind dishname that gives the least serves",
   "id": "c8acf96e96f9d2d7"
  },
  {
   "metadata": {
    "ExecuteTime": {
     "end_time": "2025-03-21T10:23:23.866242Z",
     "start_time": "2025-03-21T10:23:23.855169Z"
    }
   },
   "cell_type": "code",
   "source": "least_serve=data['Serves'].value_counts().idxmin()",
   "id": "c3d5450d4f13cbb5",
   "outputs": [],
   "execution_count": 33
  },
  {
   "metadata": {
    "ExecuteTime": {
     "end_time": "2025-03-21T10:23:25.916140Z",
     "start_time": "2025-03-21T10:23:25.846831Z"
    }
   },
   "cell_type": "code",
   "source": [
    "# Ensure the Serves column is numeric in case it contains any non-numeric data\n",
    "data['Serves'] = pd.to_numeric(data['Serves'], errors='coerce')\n",
    "min_serves = data['Serves'].min()\n",
    "rows_with_min_serves = data[data['Serves'] == min_serves]\n",
    "\n",
    "rows_with_min_serves"
   ],
   "id": "d8e8420bf5c45aaf",
   "outputs": [
    {
     "data": {
      "text/plain": [
       "                         Dish Name Description   Spice    Prep Time  Views  \\\n",
       "131  Spinach and Mushroom Omelette     10 mins  medium  Prep 5 mins  13519   \n",
       "\n",
       "     Rating  Number of Votes  Serves Dietary Info Cook Time  \\\n",
       "131     4.1             22.0     1.0           []    5 mins   \n",
       "\n",
       "                                           Ingredients  \\\n",
       "131  1) 1 tbsp oil\\n2) 1 spring onion, chopped\\n3) ...   \n",
       "\n",
       "                                          Instructions  \n",
       "131  1) Heat the oil in a pan then add the cumin se...  "
      ],
      "text/html": [
       "<div>\n",
       "<style scoped>\n",
       "    .dataframe tbody tr th:only-of-type {\n",
       "        vertical-align: middle;\n",
       "    }\n",
       "\n",
       "    .dataframe tbody tr th {\n",
       "        vertical-align: top;\n",
       "    }\n",
       "\n",
       "    .dataframe thead th {\n",
       "        text-align: right;\n",
       "    }\n",
       "</style>\n",
       "<table border=\"1\" class=\"dataframe\">\n",
       "  <thead>\n",
       "    <tr style=\"text-align: right;\">\n",
       "      <th></th>\n",
       "      <th>Dish Name</th>\n",
       "      <th>Description</th>\n",
       "      <th>Spice</th>\n",
       "      <th>Prep Time</th>\n",
       "      <th>Views</th>\n",
       "      <th>Rating</th>\n",
       "      <th>Number of Votes</th>\n",
       "      <th>Serves</th>\n",
       "      <th>Dietary Info</th>\n",
       "      <th>Cook Time</th>\n",
       "      <th>Ingredients</th>\n",
       "      <th>Instructions</th>\n",
       "    </tr>\n",
       "  </thead>\n",
       "  <tbody>\n",
       "    <tr>\n",
       "      <th>131</th>\n",
       "      <td>Spinach and Mushroom Omelette</td>\n",
       "      <td>10 mins</td>\n",
       "      <td>medium</td>\n",
       "      <td>Prep 5 mins</td>\n",
       "      <td>13519</td>\n",
       "      <td>4.1</td>\n",
       "      <td>22.0</td>\n",
       "      <td>1.0</td>\n",
       "      <td>[]</td>\n",
       "      <td>5 mins</td>\n",
       "      <td>1) 1 tbsp oil\\n2) 1 spring onion, chopped\\n3) ...</td>\n",
       "      <td>1) Heat the oil in a pan then add the cumin se...</td>\n",
       "    </tr>\n",
       "  </tbody>\n",
       "</table>\n",
       "</div>"
      ]
     },
     "execution_count": 34,
     "metadata": {},
     "output_type": "execute_result"
    }
   ],
   "execution_count": 34
  },
  {
   "metadata": {},
   "cell_type": "code",
   "outputs": [],
   "execution_count": null,
   "source": "",
   "id": "f2dfd6e3def895b2"
  },
  {
   "metadata": {},
   "cell_type": "code",
   "outputs": [],
   "execution_count": null,
   "source": "",
   "id": "5f3e3777a7a5523a"
  },
  {
   "metadata": {},
   "cell_type": "code",
   "outputs": [],
   "execution_count": null,
   "source": "",
   "id": "86d83ac7bbc81153"
  },
  {
   "metadata": {},
   "cell_type": "code",
   "outputs": [],
   "execution_count": null,
   "source": "",
   "id": "8da404a3f255c1ed"
  },
  {
   "metadata": {},
   "cell_type": "code",
   "outputs": [],
   "execution_count": null,
   "source": "",
   "id": "f6d204c42b4a567a"
  },
  {
   "metadata": {},
   "cell_type": "code",
   "outputs": [],
   "execution_count": null,
   "source": "",
   "id": "cbeab7958a2f3171"
  },
  {
   "metadata": {},
   "cell_type": "code",
   "outputs": [],
   "execution_count": null,
   "source": "",
   "id": "6c3244a0a113885b"
  }
 ],
 "metadata": {
  "kernelspec": {
   "display_name": "Python 3",
   "language": "python",
   "name": "python3"
  },
  "language_info": {
   "codemirror_mode": {
    "name": "ipython",
    "version": 2
   },
   "file_extension": ".py",
   "mimetype": "text/x-python",
   "name": "python",
   "nbconvert_exporter": "python",
   "pygments_lexer": "ipython2",
   "version": "2.7.6"
  }
 },
 "nbformat": 4,
 "nbformat_minor": 5
}
