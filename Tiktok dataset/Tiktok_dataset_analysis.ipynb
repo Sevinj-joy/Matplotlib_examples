{
 "cells": [
  {
   "metadata": {
    "ExecuteTime": {
     "end_time": "2025-03-30T18:31:19.748604Z",
     "start_time": "2025-03-30T18:31:19.742277Z"
    }
   },
   "cell_type": "code",
   "source": [
    "import pandas as pd\n",
    "import numpy as np\n",
    "import matplotlib.pyplot as plt\n",
    "import seaborn as sns"
   ],
   "id": "dd13670437d7964c",
   "outputs": [],
   "execution_count": 1
  },
  {
   "metadata": {
    "ExecuteTime": {
     "end_time": "2025-03-30T18:31:19.960164Z",
     "start_time": "2025-03-30T18:31:19.806514Z"
    }
   },
   "cell_type": "code",
   "source": "data = pd.read_csv(r'C:\\Users\\aa\\PyCharmMiscProject\\Tiktok_analysis\\tiktok_dataset.csv', sep=';')",
   "id": "e51e8ab331f644ae",
   "outputs": [],
   "execution_count": 2
  },
  {
   "metadata": {
    "ExecuteTime": {
     "end_time": "2025-03-30T18:31:20.815594Z",
     "start_time": "2025-03-30T18:31:20.786035Z"
    }
   },
   "cell_type": "code",
   "source": "data.head()",
   "id": "169d112ec3827146",
   "outputs": [
    {
     "data": {
      "text/plain": [
       "   # claim_status    video_id  video_duration_sec  \\\n",
       "0  1        claim  7017666017                  59   \n",
       "1  2        claim  4014381136                  32   \n",
       "2  3        claim  9859838091                  31   \n",
       "3  4        claim  1866847991                  25   \n",
       "4  5        claim  7105231098                  19   \n",
       "\n",
       "                            video_transcription_text verified_status  \\\n",
       "0  someone shared with me that drone deliveries a...    not verified   \n",
       "1  someone shared with me that there are more mic...    not verified   \n",
       "2  someone shared with me that american industria...    not verified   \n",
       "3  someone shared with me that the metro of st. p...    not verified   \n",
       "4  someone shared with me that the number of busi...    not verified   \n",
       "\n",
       "  author_ban_status  video_view_count  video_like_count  video_share_count  \\\n",
       "0      under review          343296.0           19425.0              241.0   \n",
       "1            active          140877.0           77355.0            19034.0   \n",
       "2            active          902185.0           97690.0             2858.0   \n",
       "3            active          437506.0          239954.0            34812.0   \n",
       "4            active           56167.0           34987.0             4110.0   \n",
       "\n",
       "   video_download_count  video_comment_count  \n",
       "0                   1.0                  0.0  \n",
       "1                1161.0                684.0  \n",
       "2                 833.0                329.0  \n",
       "3                1234.0                584.0  \n",
       "4                 547.0                152.0  "
      ],
      "text/html": [
       "<div>\n",
       "<style scoped>\n",
       "    .dataframe tbody tr th:only-of-type {\n",
       "        vertical-align: middle;\n",
       "    }\n",
       "\n",
       "    .dataframe tbody tr th {\n",
       "        vertical-align: top;\n",
       "    }\n",
       "\n",
       "    .dataframe thead th {\n",
       "        text-align: right;\n",
       "    }\n",
       "</style>\n",
       "<table border=\"1\" class=\"dataframe\">\n",
       "  <thead>\n",
       "    <tr style=\"text-align: right;\">\n",
       "      <th></th>\n",
       "      <th>#</th>\n",
       "      <th>claim_status</th>\n",
       "      <th>video_id</th>\n",
       "      <th>video_duration_sec</th>\n",
       "      <th>video_transcription_text</th>\n",
       "      <th>verified_status</th>\n",
       "      <th>author_ban_status</th>\n",
       "      <th>video_view_count</th>\n",
       "      <th>video_like_count</th>\n",
       "      <th>video_share_count</th>\n",
       "      <th>video_download_count</th>\n",
       "      <th>video_comment_count</th>\n",
       "    </tr>\n",
       "  </thead>\n",
       "  <tbody>\n",
       "    <tr>\n",
       "      <th>0</th>\n",
       "      <td>1</td>\n",
       "      <td>claim</td>\n",
       "      <td>7017666017</td>\n",
       "      <td>59</td>\n",
       "      <td>someone shared with me that drone deliveries a...</td>\n",
       "      <td>not verified</td>\n",
       "      <td>under review</td>\n",
       "      <td>343296.0</td>\n",
       "      <td>19425.0</td>\n",
       "      <td>241.0</td>\n",
       "      <td>1.0</td>\n",
       "      <td>0.0</td>\n",
       "    </tr>\n",
       "    <tr>\n",
       "      <th>1</th>\n",
       "      <td>2</td>\n",
       "      <td>claim</td>\n",
       "      <td>4014381136</td>\n",
       "      <td>32</td>\n",
       "      <td>someone shared with me that there are more mic...</td>\n",
       "      <td>not verified</td>\n",
       "      <td>active</td>\n",
       "      <td>140877.0</td>\n",
       "      <td>77355.0</td>\n",
       "      <td>19034.0</td>\n",
       "      <td>1161.0</td>\n",
       "      <td>684.0</td>\n",
       "    </tr>\n",
       "    <tr>\n",
       "      <th>2</th>\n",
       "      <td>3</td>\n",
       "      <td>claim</td>\n",
       "      <td>9859838091</td>\n",
       "      <td>31</td>\n",
       "      <td>someone shared with me that american industria...</td>\n",
       "      <td>not verified</td>\n",
       "      <td>active</td>\n",
       "      <td>902185.0</td>\n",
       "      <td>97690.0</td>\n",
       "      <td>2858.0</td>\n",
       "      <td>833.0</td>\n",
       "      <td>329.0</td>\n",
       "    </tr>\n",
       "    <tr>\n",
       "      <th>3</th>\n",
       "      <td>4</td>\n",
       "      <td>claim</td>\n",
       "      <td>1866847991</td>\n",
       "      <td>25</td>\n",
       "      <td>someone shared with me that the metro of st. p...</td>\n",
       "      <td>not verified</td>\n",
       "      <td>active</td>\n",
       "      <td>437506.0</td>\n",
       "      <td>239954.0</td>\n",
       "      <td>34812.0</td>\n",
       "      <td>1234.0</td>\n",
       "      <td>584.0</td>\n",
       "    </tr>\n",
       "    <tr>\n",
       "      <th>4</th>\n",
       "      <td>5</td>\n",
       "      <td>claim</td>\n",
       "      <td>7105231098</td>\n",
       "      <td>19</td>\n",
       "      <td>someone shared with me that the number of busi...</td>\n",
       "      <td>not verified</td>\n",
       "      <td>active</td>\n",
       "      <td>56167.0</td>\n",
       "      <td>34987.0</td>\n",
       "      <td>4110.0</td>\n",
       "      <td>547.0</td>\n",
       "      <td>152.0</td>\n",
       "    </tr>\n",
       "  </tbody>\n",
       "</table>\n",
       "</div>"
      ]
     },
     "execution_count": 3,
     "metadata": {},
     "output_type": "execute_result"
    }
   ],
   "execution_count": 3
  },
  {
   "metadata": {
    "ExecuteTime": {
     "end_time": "2025-03-30T19:00:46.523962Z",
     "start_time": "2025-03-30T19:00:46.510739Z"
    }
   },
   "cell_type": "code",
   "source": "data['verified_status'].value_counts()",
   "id": "a3f5b69767c09493",
   "outputs": [
    {
     "data": {
      "text/plain": [
       "verified_status\n",
       "not verified    14327\n",
       "verified         1110\n",
       "Name: count, dtype: int64"
      ]
     },
     "execution_count": 31,
     "metadata": {},
     "output_type": "execute_result"
    }
   ],
   "execution_count": 31
  },
  {
   "metadata": {
    "ExecuteTime": {
     "end_time": "2025-03-30T18:31:20.929212Z",
     "start_time": "2025-03-30T18:31:20.884564Z"
    }
   },
   "cell_type": "code",
   "source": "data.info()",
   "id": "d906e6e4895cccdd",
   "outputs": [
    {
     "name": "stdout",
     "output_type": "stream",
     "text": [
      "<class 'pandas.core.frame.DataFrame'>\n",
      "RangeIndex: 19382 entries, 0 to 19381\n",
      "Data columns (total 12 columns):\n",
      " #   Column                    Non-Null Count  Dtype  \n",
      "---  ------                    --------------  -----  \n",
      " 0   #                         19382 non-null  int64  \n",
      " 1   claim_status              19084 non-null  object \n",
      " 2   video_id                  19382 non-null  int64  \n",
      " 3   video_duration_sec        19382 non-null  int64  \n",
      " 4   video_transcription_text  19084 non-null  object \n",
      " 5   verified_status           19382 non-null  object \n",
      " 6   author_ban_status         19382 non-null  object \n",
      " 7   video_view_count          19084 non-null  float64\n",
      " 8   video_like_count          19084 non-null  float64\n",
      " 9   video_share_count         19084 non-null  float64\n",
      " 10  video_download_count      19084 non-null  float64\n",
      " 11  video_comment_count       19084 non-null  float64\n",
      "dtypes: float64(5), int64(3), object(4)\n",
      "memory usage: 1.8+ MB\n"
     ]
    }
   ],
   "execution_count": 4
  },
  {
   "metadata": {
    "ExecuteTime": {
     "end_time": "2025-03-30T18:31:21.146127Z",
     "start_time": "2025-03-30T18:31:21.086730Z"
    }
   },
   "cell_type": "code",
   "source": "data.describe()",
   "id": "1bcde84ab4ffda18",
   "outputs": [
    {
     "data": {
      "text/plain": [
       "                  #      video_id  video_duration_sec  video_view_count  \\\n",
       "count  19382.000000  1.938200e+04        19382.000000      19084.000000   \n",
       "mean    9691.500000  5.627454e+09           32.421732     254708.558688   \n",
       "std     5595.245794  2.536440e+09           16.229967     322893.280814   \n",
       "min        1.000000  1.234959e+09            5.000000         20.000000   \n",
       "25%     4846.250000  3.430417e+09           18.000000       4942.500000   \n",
       "50%     9691.500000  5.618664e+09           32.000000       9954.500000   \n",
       "75%    14536.750000  7.843960e+09           47.000000     504327.000000   \n",
       "max    19382.000000  9.999873e+09           60.000000     999817.000000   \n",
       "\n",
       "       video_like_count  video_share_count  video_download_count  \\\n",
       "count      19084.000000       19084.000000          19084.000000   \n",
       "mean       84304.636030       16735.248323           1049.429627   \n",
       "std       133420.546814       32036.174350           2004.299894   \n",
       "min            0.000000           0.000000              0.000000   \n",
       "25%          810.750000         115.000000              7.000000   \n",
       "50%         3403.500000         717.000000             46.000000   \n",
       "75%       125020.000000       18222.000000           1156.250000   \n",
       "max       657830.000000      256130.000000          14994.000000   \n",
       "\n",
       "       video_comment_count  \n",
       "count         19084.000000  \n",
       "mean            349.312146  \n",
       "std             799.638865  \n",
       "min               0.000000  \n",
       "25%               1.000000  \n",
       "50%               9.000000  \n",
       "75%             292.000000  \n",
       "max            9599.000000  "
      ],
      "text/html": [
       "<div>\n",
       "<style scoped>\n",
       "    .dataframe tbody tr th:only-of-type {\n",
       "        vertical-align: middle;\n",
       "    }\n",
       "\n",
       "    .dataframe tbody tr th {\n",
       "        vertical-align: top;\n",
       "    }\n",
       "\n",
       "    .dataframe thead th {\n",
       "        text-align: right;\n",
       "    }\n",
       "</style>\n",
       "<table border=\"1\" class=\"dataframe\">\n",
       "  <thead>\n",
       "    <tr style=\"text-align: right;\">\n",
       "      <th></th>\n",
       "      <th>#</th>\n",
       "      <th>video_id</th>\n",
       "      <th>video_duration_sec</th>\n",
       "      <th>video_view_count</th>\n",
       "      <th>video_like_count</th>\n",
       "      <th>video_share_count</th>\n",
       "      <th>video_download_count</th>\n",
       "      <th>video_comment_count</th>\n",
       "    </tr>\n",
       "  </thead>\n",
       "  <tbody>\n",
       "    <tr>\n",
       "      <th>count</th>\n",
       "      <td>19382.000000</td>\n",
       "      <td>1.938200e+04</td>\n",
       "      <td>19382.000000</td>\n",
       "      <td>19084.000000</td>\n",
       "      <td>19084.000000</td>\n",
       "      <td>19084.000000</td>\n",
       "      <td>19084.000000</td>\n",
       "      <td>19084.000000</td>\n",
       "    </tr>\n",
       "    <tr>\n",
       "      <th>mean</th>\n",
       "      <td>9691.500000</td>\n",
       "      <td>5.627454e+09</td>\n",
       "      <td>32.421732</td>\n",
       "      <td>254708.558688</td>\n",
       "      <td>84304.636030</td>\n",
       "      <td>16735.248323</td>\n",
       "      <td>1049.429627</td>\n",
       "      <td>349.312146</td>\n",
       "    </tr>\n",
       "    <tr>\n",
       "      <th>std</th>\n",
       "      <td>5595.245794</td>\n",
       "      <td>2.536440e+09</td>\n",
       "      <td>16.229967</td>\n",
       "      <td>322893.280814</td>\n",
       "      <td>133420.546814</td>\n",
       "      <td>32036.174350</td>\n",
       "      <td>2004.299894</td>\n",
       "      <td>799.638865</td>\n",
       "    </tr>\n",
       "    <tr>\n",
       "      <th>min</th>\n",
       "      <td>1.000000</td>\n",
       "      <td>1.234959e+09</td>\n",
       "      <td>5.000000</td>\n",
       "      <td>20.000000</td>\n",
       "      <td>0.000000</td>\n",
       "      <td>0.000000</td>\n",
       "      <td>0.000000</td>\n",
       "      <td>0.000000</td>\n",
       "    </tr>\n",
       "    <tr>\n",
       "      <th>25%</th>\n",
       "      <td>4846.250000</td>\n",
       "      <td>3.430417e+09</td>\n",
       "      <td>18.000000</td>\n",
       "      <td>4942.500000</td>\n",
       "      <td>810.750000</td>\n",
       "      <td>115.000000</td>\n",
       "      <td>7.000000</td>\n",
       "      <td>1.000000</td>\n",
       "    </tr>\n",
       "    <tr>\n",
       "      <th>50%</th>\n",
       "      <td>9691.500000</td>\n",
       "      <td>5.618664e+09</td>\n",
       "      <td>32.000000</td>\n",
       "      <td>9954.500000</td>\n",
       "      <td>3403.500000</td>\n",
       "      <td>717.000000</td>\n",
       "      <td>46.000000</td>\n",
       "      <td>9.000000</td>\n",
       "    </tr>\n",
       "    <tr>\n",
       "      <th>75%</th>\n",
       "      <td>14536.750000</td>\n",
       "      <td>7.843960e+09</td>\n",
       "      <td>47.000000</td>\n",
       "      <td>504327.000000</td>\n",
       "      <td>125020.000000</td>\n",
       "      <td>18222.000000</td>\n",
       "      <td>1156.250000</td>\n",
       "      <td>292.000000</td>\n",
       "    </tr>\n",
       "    <tr>\n",
       "      <th>max</th>\n",
       "      <td>19382.000000</td>\n",
       "      <td>9.999873e+09</td>\n",
       "      <td>60.000000</td>\n",
       "      <td>999817.000000</td>\n",
       "      <td>657830.000000</td>\n",
       "      <td>256130.000000</td>\n",
       "      <td>14994.000000</td>\n",
       "      <td>9599.000000</td>\n",
       "    </tr>\n",
       "  </tbody>\n",
       "</table>\n",
       "</div>"
      ]
     },
     "execution_count": 5,
     "metadata": {},
     "output_type": "execute_result"
    }
   ],
   "execution_count": 5
  },
  {
   "metadata": {
    "ExecuteTime": {
     "end_time": "2025-03-30T18:31:21.585088Z",
     "start_time": "2025-03-30T18:31:21.572807Z"
    }
   },
   "cell_type": "code",
   "source": "data.shape",
   "id": "feaa1a82b24581db",
   "outputs": [
    {
     "data": {
      "text/plain": [
       "(19382, 12)"
      ]
     },
     "execution_count": 6,
     "metadata": {},
     "output_type": "execute_result"
    }
   ],
   "execution_count": 6
  },
  {
   "metadata": {
    "ExecuteTime": {
     "end_time": "2025-03-30T18:31:21.960711Z",
     "start_time": "2025-03-30T18:31:21.940898Z"
    }
   },
   "cell_type": "code",
   "source": "data.isnull().sum()",
   "id": "e2d31b94f2d729e5",
   "outputs": [
    {
     "data": {
      "text/plain": [
       "#                             0\n",
       "claim_status                298\n",
       "video_id                      0\n",
       "video_duration_sec            0\n",
       "video_transcription_text    298\n",
       "verified_status               0\n",
       "author_ban_status             0\n",
       "video_view_count            298\n",
       "video_like_count            298\n",
       "video_share_count           298\n",
       "video_download_count        298\n",
       "video_comment_count         298\n",
       "dtype: int64"
      ]
     },
     "execution_count": 7,
     "metadata": {},
     "output_type": "execute_result"
    }
   ],
   "execution_count": 7
  },
  {
   "metadata": {
    "ExecuteTime": {
     "end_time": "2025-03-30T18:31:22.227428Z",
     "start_time": "2025-03-30T18:31:22.186492Z"
    }
   },
   "cell_type": "code",
   "source": "data['claim_status'].value_counts()",
   "id": "23cddcd9f78d8518",
   "outputs": [
    {
     "data": {
      "text/plain": [
       "claim_status\n",
       "claim      9608\n",
       "opinion    9476\n",
       "Name: count, dtype: int64"
      ]
     },
     "execution_count": 8,
     "metadata": {},
     "output_type": "execute_result"
    }
   ],
   "execution_count": 8
  },
  {
   "metadata": {},
   "cell_type": "markdown",
   "source": "Data Preprocessing",
   "id": "8e359010058caaf"
  },
  {
   "metadata": {},
   "cell_type": "markdown",
   "source": [
    "\tIdentify missing values (NaN) in the dataset.\n",
    "\n",
    "\tDecide on a strategy to handle them (e.g., filling with mean/median/mode, forward/backward filling, or dropping rows/columns).\n"
   ],
   "id": "ea2f8bcdfda08b98"
  },
  {
   "metadata": {
    "ExecuteTime": {
     "end_time": "2025-03-30T18:31:23.109929Z",
     "start_time": "2025-03-30T18:31:23.002635Z"
    }
   },
   "cell_type": "code",
   "source": [
    "null_values = data.isnull()\n",
    "print(null_values)"
   ],
   "id": "3af066a0b063684c",
   "outputs": [
    {
     "name": "stdout",
     "output_type": "stream",
     "text": [
      "           #  claim_status  video_id  video_duration_sec  \\\n",
      "0      False         False     False               False   \n",
      "1      False         False     False               False   \n",
      "2      False         False     False               False   \n",
      "3      False         False     False               False   \n",
      "4      False         False     False               False   \n",
      "...      ...           ...       ...                 ...   \n",
      "19377  False          True     False               False   \n",
      "19378  False          True     False               False   \n",
      "19379  False          True     False               False   \n",
      "19380  False          True     False               False   \n",
      "19381  False          True     False               False   \n",
      "\n",
      "       video_transcription_text  verified_status  author_ban_status  \\\n",
      "0                         False            False              False   \n",
      "1                         False            False              False   \n",
      "2                         False            False              False   \n",
      "3                         False            False              False   \n",
      "4                         False            False              False   \n",
      "...                         ...              ...                ...   \n",
      "19377                      True            False              False   \n",
      "19378                      True            False              False   \n",
      "19379                      True            False              False   \n",
      "19380                      True            False              False   \n",
      "19381                      True            False              False   \n",
      "\n",
      "       video_view_count  video_like_count  video_share_count  \\\n",
      "0                 False             False              False   \n",
      "1                 False             False              False   \n",
      "2                 False             False              False   \n",
      "3                 False             False              False   \n",
      "4                 False             False              False   \n",
      "...                 ...               ...                ...   \n",
      "19377              True              True               True   \n",
      "19378              True              True               True   \n",
      "19379              True              True               True   \n",
      "19380              True              True               True   \n",
      "19381              True              True               True   \n",
      "\n",
      "       video_download_count  video_comment_count  \n",
      "0                     False                False  \n",
      "1                     False                False  \n",
      "2                     False                False  \n",
      "3                     False                False  \n",
      "4                     False                False  \n",
      "...                     ...                  ...  \n",
      "19377                  True                 True  \n",
      "19378                  True                 True  \n",
      "19379                  True                 True  \n",
      "19380                  True                 True  \n",
      "19381                  True                 True  \n",
      "\n",
      "[19382 rows x 12 columns]\n"
     ]
    }
   ],
   "execution_count": 9
  },
  {
   "metadata": {
    "ExecuteTime": {
     "end_time": "2025-03-30T18:31:23.671693Z",
     "start_time": "2025-03-30T18:31:23.461453Z"
    }
   },
   "cell_type": "code",
   "source": [
    "null_count = data.isnull().sum()\n",
    "print(null_count)"
   ],
   "id": "ae785bc9e889324f",
   "outputs": [
    {
     "name": "stdout",
     "output_type": "stream",
     "text": [
      "#                             0\n",
      "claim_status                298\n",
      "video_id                      0\n",
      "video_duration_sec            0\n",
      "video_transcription_text    298\n",
      "verified_status               0\n",
      "author_ban_status             0\n",
      "video_view_count            298\n",
      "video_like_count            298\n",
      "video_share_count           298\n",
      "video_download_count        298\n",
      "video_comment_count         298\n",
      "dtype: int64\n"
     ]
    }
   ],
   "execution_count": 10
  },
  {
   "metadata": {
    "ExecuteTime": {
     "end_time": "2025-03-30T18:31:23.773325Z",
     "start_time": "2025-03-30T18:31:23.708668Z"
    }
   },
   "cell_type": "code",
   "source": [
    "missing_percentage = data.isnull().sum() / len(data) * 100\n",
    "print(missing_percentage)"
   ],
   "id": "a3d38eca0e91fb36",
   "outputs": [
    {
     "name": "stdout",
     "output_type": "stream",
     "text": [
      "#                           0.000000\n",
      "claim_status                1.537509\n",
      "video_id                    0.000000\n",
      "video_duration_sec          0.000000\n",
      "video_transcription_text    1.537509\n",
      "verified_status             0.000000\n",
      "author_ban_status           0.000000\n",
      "video_view_count            1.537509\n",
      "video_like_count            1.537509\n",
      "video_share_count           1.537509\n",
      "video_download_count        1.537509\n",
      "video_comment_count         1.537509\n",
      "dtype: float64\n"
     ]
    }
   ],
   "execution_count": 11
  },
  {
   "metadata": {
    "ExecuteTime": {
     "end_time": "2025-03-30T18:31:24.236346Z",
     "start_time": "2025-03-30T18:31:23.879243Z"
    }
   },
   "cell_type": "code",
   "source": [
    "null_summary = data.isnull().sum().reset_index()\n",
    "null_summary.columns = ['Column', 'MissingValues']\n",
    "null_summary['Percentage'] = (null_summary['MissingValues'] / len(data)) * 100\n",
    "print(null_summary)"
   ],
   "id": "31c548654c7e32ac",
   "outputs": [
    {
     "name": "stdout",
     "output_type": "stream",
     "text": [
      "                      Column  MissingValues  Percentage\n",
      "0                          #              0    0.000000\n",
      "1               claim_status            298    1.537509\n",
      "2                   video_id              0    0.000000\n",
      "3         video_duration_sec              0    0.000000\n",
      "4   video_transcription_text            298    1.537509\n",
      "5            verified_status              0    0.000000\n",
      "6          author_ban_status              0    0.000000\n",
      "7           video_view_count            298    1.537509\n",
      "8           video_like_count            298    1.537509\n",
      "9          video_share_count            298    1.537509\n",
      "10      video_download_count            298    1.537509\n",
      "11       video_comment_count            298    1.537509\n"
     ]
    }
   ],
   "execution_count": 12
  },
  {
   "metadata": {
    "ExecuteTime": {
     "end_time": "2025-03-30T18:31:24.459873Z",
     "start_time": "2025-03-30T18:31:24.348906Z"
    }
   },
   "cell_type": "code",
   "source": [
    "only_nulls = data[data.isnull()]\n",
    "print(only_nulls)\n"
   ],
   "id": "9d7ed7c73e892055",
   "outputs": [
    {
     "name": "stdout",
     "output_type": "stream",
     "text": [
      "        # claim_status  video_id  video_duration_sec video_transcription_text  \\\n",
      "0     NaN          NaN       NaN                 NaN                      NaN   \n",
      "1     NaN          NaN       NaN                 NaN                      NaN   \n",
      "2     NaN          NaN       NaN                 NaN                      NaN   \n",
      "3     NaN          NaN       NaN                 NaN                      NaN   \n",
      "4     NaN          NaN       NaN                 NaN                      NaN   \n",
      "...    ..          ...       ...                 ...                      ...   \n",
      "19377 NaN          NaN       NaN                 NaN                      NaN   \n",
      "19378 NaN          NaN       NaN                 NaN                      NaN   \n",
      "19379 NaN          NaN       NaN                 NaN                      NaN   \n",
      "19380 NaN          NaN       NaN                 NaN                      NaN   \n",
      "19381 NaN          NaN       NaN                 NaN                      NaN   \n",
      "\n",
      "      verified_status author_ban_status  video_view_count  video_like_count  \\\n",
      "0                 NaN               NaN               NaN               NaN   \n",
      "1                 NaN               NaN               NaN               NaN   \n",
      "2                 NaN               NaN               NaN               NaN   \n",
      "3                 NaN               NaN               NaN               NaN   \n",
      "4                 NaN               NaN               NaN               NaN   \n",
      "...               ...               ...               ...               ...   \n",
      "19377             NaN               NaN               NaN               NaN   \n",
      "19378             NaN               NaN               NaN               NaN   \n",
      "19379             NaN               NaN               NaN               NaN   \n",
      "19380             NaN               NaN               NaN               NaN   \n",
      "19381             NaN               NaN               NaN               NaN   \n",
      "\n",
      "       video_share_count  video_download_count  video_comment_count  \n",
      "0                    NaN                   NaN                  NaN  \n",
      "1                    NaN                   NaN                  NaN  \n",
      "2                    NaN                   NaN                  NaN  \n",
      "3                    NaN                   NaN                  NaN  \n",
      "4                    NaN                   NaN                  NaN  \n",
      "...                  ...                   ...                  ...  \n",
      "19377                NaN                   NaN                  NaN  \n",
      "19378                NaN                   NaN                  NaN  \n",
      "19379                NaN                   NaN                  NaN  \n",
      "19380                NaN                   NaN                  NaN  \n",
      "19381                NaN                   NaN                  NaN  \n",
      "\n",
      "[19382 rows x 12 columns]\n"
     ]
    }
   ],
   "execution_count": 13
  },
  {
   "metadata": {},
   "cell_type": "markdown",
   "source": [
    "Total missing values by column\n",
    "\n",
    "Rows with missing values\n",
    "\n",
    "Percentage of missing values by column\n",
    "\n",
    "\n"
   ],
   "id": "540fcffa63f9790a"
  },
  {
   "metadata": {
    "ExecuteTime": {
     "end_time": "2025-03-30T18:31:24.597820Z",
     "start_time": "2025-03-30T18:31:24.520909Z"
    }
   },
   "cell_type": "code",
   "source": [
    "print(\"Total missing values by column:\")\n",
    "print(data.isnull().sum())\n",
    "\n",
    "print(\"\\nRows with missing values:\")\n",
    "print(data[data.isnull().any(axis=1)])\n",
    "\n",
    "print(\"\\nPercentage of missing values by column:\")\n",
    "print((data.isnull().sum() / len(data)) * 100)"
   ],
   "id": "1240f13bd782dddf",
   "outputs": [
    {
     "name": "stdout",
     "output_type": "stream",
     "text": [
      "Total missing values by column:\n",
      "#                             0\n",
      "claim_status                298\n",
      "video_id                      0\n",
      "video_duration_sec            0\n",
      "video_transcription_text    298\n",
      "verified_status               0\n",
      "author_ban_status             0\n",
      "video_view_count            298\n",
      "video_like_count            298\n",
      "video_share_count           298\n",
      "video_download_count        298\n",
      "video_comment_count         298\n",
      "dtype: int64\n",
      "\n",
      "Rows with missing values:\n",
      "           # claim_status    video_id  video_duration_sec  \\\n",
      "19084  19085          NaN  4380513697                  39   \n",
      "19085  19086          NaN  8352130892                  60   \n",
      "19086  19087          NaN  4443076562                  25   \n",
      "19087  19088          NaN  8328300333                   7   \n",
      "19088  19089          NaN  3968729520                   8   \n",
      "...      ...          ...         ...                 ...   \n",
      "19377  19378          NaN  7578226840                  21   \n",
      "19378  19379          NaN  6079236179                  53   \n",
      "19379  19380          NaN  2565539685                  10   \n",
      "19380  19381          NaN  2969178540                  24   \n",
      "19381  19382          NaN  8132759688                  13   \n",
      "\n",
      "      video_transcription_text verified_status author_ban_status  \\\n",
      "19084                      NaN    not verified            active   \n",
      "19085                      NaN    not verified            active   \n",
      "19086                      NaN    not verified            active   \n",
      "19087                      NaN    not verified            active   \n",
      "19088                      NaN    not verified            active   \n",
      "...                        ...             ...               ...   \n",
      "19377                      NaN    not verified            active   \n",
      "19378                      NaN    not verified            active   \n",
      "19379                      NaN        verified      under review   \n",
      "19380                      NaN    not verified            active   \n",
      "19381                      NaN    not verified            active   \n",
      "\n",
      "       video_view_count  video_like_count  video_share_count  \\\n",
      "19084               NaN               NaN                NaN   \n",
      "19085               NaN               NaN                NaN   \n",
      "19086               NaN               NaN                NaN   \n",
      "19087               NaN               NaN                NaN   \n",
      "19088               NaN               NaN                NaN   \n",
      "...                 ...               ...                ...   \n",
      "19377               NaN               NaN                NaN   \n",
      "19378               NaN               NaN                NaN   \n",
      "19379               NaN               NaN                NaN   \n",
      "19380               NaN               NaN                NaN   \n",
      "19381               NaN               NaN                NaN   \n",
      "\n",
      "       video_download_count  video_comment_count  \n",
      "19084                   NaN                  NaN  \n",
      "19085                   NaN                  NaN  \n",
      "19086                   NaN                  NaN  \n",
      "19087                   NaN                  NaN  \n",
      "19088                   NaN                  NaN  \n",
      "...                     ...                  ...  \n",
      "19377                   NaN                  NaN  \n",
      "19378                   NaN                  NaN  \n",
      "19379                   NaN                  NaN  \n",
      "19380                   NaN                  NaN  \n",
      "19381                   NaN                  NaN  \n",
      "\n",
      "[298 rows x 12 columns]\n",
      "\n",
      "Percentage of missing values by column:\n",
      "#                           0.000000\n",
      "claim_status                1.537509\n",
      "video_id                    0.000000\n",
      "video_duration_sec          0.000000\n",
      "video_transcription_text    1.537509\n",
      "verified_status             0.000000\n",
      "author_ban_status           0.000000\n",
      "video_view_count            1.537509\n",
      "video_like_count            1.537509\n",
      "video_share_count           1.537509\n",
      "video_download_count        1.537509\n",
      "video_comment_count         1.537509\n",
      "dtype: float64\n"
     ]
    }
   ],
   "execution_count": 14
  },
  {
   "metadata": {
    "ExecuteTime": {
     "end_time": "2025-03-30T19:01:32.951403Z",
     "start_time": "2025-03-30T19:01:32.764368Z"
    }
   },
   "cell_type": "code",
   "source": [
    "# Drop all rows with null values\n",
    "data = data.dropna()\n",
    "print(\"Shape of the DataFrame after dropping rows with null values:\", data.shape)\n",
    "\n",
    "rows_with_null = data[data.isnull().any(axis=1)]\n",
    "print(rows_with_null)"
   ],
   "id": "edfea680e5e6dc0d",
   "outputs": [
    {
     "name": "stdout",
     "output_type": "stream",
     "text": [
      "Shape of the DataFrame after dropping rows with null values: (15437, 12)\n",
      "Empty DataFrame\n",
      "Columns: [#, claim_status, video_id, video_duration_sec, video_transcription_text, verified_status, author_ban_status, video_view_count, video_like_count, video_share_count, video_download_count, video_comment_count]\n",
      "Index: []\n"
     ]
    }
   ],
   "execution_count": 32
  },
  {
   "metadata": {
    "ExecuteTime": {
     "end_time": "2025-03-30T18:31:25.240177Z",
     "start_time": "2025-03-30T18:31:25.197169Z"
    }
   },
   "cell_type": "code",
   "source": "data.isnull().sum()",
   "id": "18ff178dc5a0dc88",
   "outputs": [
    {
     "data": {
      "text/plain": [
       "#                           0\n",
       "claim_status                0\n",
       "video_id                    0\n",
       "video_duration_sec          0\n",
       "video_transcription_text    0\n",
       "verified_status             0\n",
       "author_ban_status           0\n",
       "video_view_count            0\n",
       "video_like_count            0\n",
       "video_share_count           0\n",
       "video_download_count        0\n",
       "video_comment_count         0\n",
       "dtype: int64"
      ]
     },
     "execution_count": 16,
     "metadata": {},
     "output_type": "execute_result"
    }
   ],
   "execution_count": 16
  },
  {
   "metadata": {},
   "cell_type": "markdown",
   "source": "\tCheck for and remove any duplicate rows to ensure that each entry is unique.",
   "id": "4ae24122b679e4f9"
  },
  {
   "metadata": {
    "ExecuteTime": {
     "end_time": "2025-03-30T18:31:25.572444Z",
     "start_time": "2025-03-30T18:31:25.448895Z"
    }
   },
   "cell_type": "code",
   "source": "data.nunique()",
   "id": "76bb3848d6b7aa8b",
   "outputs": [
    {
     "data": {
      "text/plain": [
       "#                           19084\n",
       "claim_status                    2\n",
       "video_id                    19084\n",
       "video_duration_sec             56\n",
       "video_transcription_text    19012\n",
       "verified_status                 2\n",
       "author_ban_status               3\n",
       "video_view_count            15632\n",
       "video_like_count            12224\n",
       "video_share_count            9231\n",
       "video_download_count         4336\n",
       "video_comment_count          2424\n",
       "dtype: int64"
      ]
     },
     "execution_count": 17,
     "metadata": {},
     "output_type": "execute_result"
    }
   ],
   "execution_count": 17
  },
  {
   "metadata": {
    "ExecuteTime": {
     "end_time": "2025-03-30T18:31:25.768439Z",
     "start_time": "2025-03-30T18:31:25.715864Z"
    }
   },
   "cell_type": "code",
   "source": "data.duplicated()",
   "id": "95529f9a061c674a",
   "outputs": [
    {
     "data": {
      "text/plain": [
       "0        False\n",
       "1        False\n",
       "2        False\n",
       "3        False\n",
       "4        False\n",
       "         ...  \n",
       "19079    False\n",
       "19080    False\n",
       "19081    False\n",
       "19082    False\n",
       "19083    False\n",
       "Length: 19084, dtype: bool"
      ]
     },
     "execution_count": 18,
     "metadata": {},
     "output_type": "execute_result"
    }
   ],
   "execution_count": 18
  },
  {
   "metadata": {
    "ExecuteTime": {
     "end_time": "2025-03-30T18:31:26.180503Z",
     "start_time": "2025-03-30T18:31:26.092092Z"
    }
   },
   "cell_type": "code",
   "source": [
    "duplicates = data[data.duplicated()]\n",
    "print(duplicates)"
   ],
   "id": "83a2a3254f74839e",
   "outputs": [
    {
     "name": "stdout",
     "output_type": "stream",
     "text": [
      "Empty DataFrame\n",
      "Columns: [#, claim_status, video_id, video_duration_sec, video_transcription_text, verified_status, author_ban_status, video_view_count, video_like_count, video_share_count, video_download_count, video_comment_count]\n",
      "Index: []\n"
     ]
    }
   ],
   "execution_count": 19
  },
  {
   "metadata": {},
   "cell_type": "markdown",
   "source": "\tIdentify and handle outliers in numerical columns like views, likes, comments, etc., using methods such as the IQR method or Z-score.\n",
   "id": "d51bd3c9e3b3ba1d"
  },
  {
   "metadata": {
    "ExecuteTime": {
     "end_time": "2025-03-30T18:31:26.622520Z",
     "start_time": "2025-03-30T18:31:26.563313Z"
    }
   },
   "cell_type": "code",
   "source": [
    "# Calculate the IQR for numerical columns\n",
    "numerical_columns = ['video_view_count', 'video_like_count', 'video_share_count', 'video_download_count']\n",
    "Q1 = data[numerical_columns].quantile(0.25)\n",
    "Q3 = data[numerical_columns].quantile(0.75)\n",
    "IQR = Q3 - Q1\n",
    "\n",
    "lower_bound = Q1 - 1.5 * IQR\n",
    "upper_bound = Q3 + 1.5 * IQR\n",
    "\n",
    "print(\"Shape before removing outliers:\", data.shape)\n",
    "data = data[~((data[numerical_columns] < lower_bound) | (data[numerical_columns] > upper_bound)).any(axis=1)]\n",
    "print(\"Shape after removing outliers:\", data.shape)"
   ],
   "id": "6164dc54019a8d9",
   "outputs": [
    {
     "name": "stdout",
     "output_type": "stream",
     "text": [
      "Shape before removing outliers: (19084, 12)\n",
      "Shape after removing outliers: (15437, 12)\n"
     ]
    }
   ],
   "execution_count": 20
  },
  {
   "metadata": {},
   "cell_type": "markdown",
   "source": "\tConvert categorical variables like verified_status, author_ban_status, etc., into binary or dummy variables if needed for modeling.",
   "id": "aa40ac39d37418a8"
  },
  {
   "metadata": {
    "ExecuteTime": {
     "end_time": "2025-03-30T19:23:57.376567Z",
     "start_time": "2025-03-30T19:23:56.495339Z"
    }
   },
   "cell_type": "code",
   "source": "data.head()",
   "id": "ad6900619b75bf85",
   "outputs": [
    {
     "data": {
      "text/plain": [
       "   # claim_status    video_id  video_duration_sec  \\\n",
       "0  1        claim  7017666017                  59   \n",
       "1  2        claim  4014381136                  32   \n",
       "2  3        claim  9859838091                  31   \n",
       "3  4        claim  1866847991                  25   \n",
       "4  5        claim  7105231098                  19   \n",
       "\n",
       "                            video_transcription_text verified_status  \\\n",
       "0  someone shared with me that drone deliveries a...    not verified   \n",
       "1  someone shared with me that there are more mic...    not verified   \n",
       "2  someone shared with me that american industria...    not verified   \n",
       "3  someone shared with me that the metro of st. p...    not verified   \n",
       "4  someone shared with me that the number of busi...    not verified   \n",
       "\n",
       "  author_ban_status  video_view_count  video_like_count  video_share_count  \\\n",
       "0      under review          343296.0           19425.0              241.0   \n",
       "1            active          140877.0           77355.0            19034.0   \n",
       "2            active          902185.0           97690.0             2858.0   \n",
       "3            active          437506.0          239954.0            34812.0   \n",
       "4            active           56167.0           34987.0             4110.0   \n",
       "\n",
       "   video_download_count  video_comment_count  status_not verified  \\\n",
       "0                   1.0                  0.0                 True   \n",
       "1                1161.0                684.0                 True   \n",
       "2                 833.0                329.0                 True   \n",
       "3                1234.0                584.0                 True   \n",
       "4                 547.0                152.0                 True   \n",
       "\n",
       "   status_verified  status_not verified  status_verified  status_verified  \n",
       "0            False                 True            False            False  \n",
       "1            False                 True            False            False  \n",
       "2            False                 True            False            False  \n",
       "3            False                 True            False            False  \n",
       "4            False                 True            False            False  "
      ],
      "text/html": [
       "<div>\n",
       "<style scoped>\n",
       "    .dataframe tbody tr th:only-of-type {\n",
       "        vertical-align: middle;\n",
       "    }\n",
       "\n",
       "    .dataframe tbody tr th {\n",
       "        vertical-align: top;\n",
       "    }\n",
       "\n",
       "    .dataframe thead th {\n",
       "        text-align: right;\n",
       "    }\n",
       "</style>\n",
       "<table border=\"1\" class=\"dataframe\">\n",
       "  <thead>\n",
       "    <tr style=\"text-align: right;\">\n",
       "      <th></th>\n",
       "      <th>#</th>\n",
       "      <th>claim_status</th>\n",
       "      <th>video_id</th>\n",
       "      <th>video_duration_sec</th>\n",
       "      <th>video_transcription_text</th>\n",
       "      <th>verified_status</th>\n",
       "      <th>author_ban_status</th>\n",
       "      <th>video_view_count</th>\n",
       "      <th>video_like_count</th>\n",
       "      <th>video_share_count</th>\n",
       "      <th>video_download_count</th>\n",
       "      <th>video_comment_count</th>\n",
       "      <th>status_not verified</th>\n",
       "      <th>status_verified</th>\n",
       "      <th>status_not verified</th>\n",
       "      <th>status_verified</th>\n",
       "      <th>status_verified</th>\n",
       "    </tr>\n",
       "  </thead>\n",
       "  <tbody>\n",
       "    <tr>\n",
       "      <th>0</th>\n",
       "      <td>1</td>\n",
       "      <td>claim</td>\n",
       "      <td>7017666017</td>\n",
       "      <td>59</td>\n",
       "      <td>someone shared with me that drone deliveries a...</td>\n",
       "      <td>not verified</td>\n",
       "      <td>under review</td>\n",
       "      <td>343296.0</td>\n",
       "      <td>19425.0</td>\n",
       "      <td>241.0</td>\n",
       "      <td>1.0</td>\n",
       "      <td>0.0</td>\n",
       "      <td>True</td>\n",
       "      <td>False</td>\n",
       "      <td>True</td>\n",
       "      <td>False</td>\n",
       "      <td>False</td>\n",
       "    </tr>\n",
       "    <tr>\n",
       "      <th>1</th>\n",
       "      <td>2</td>\n",
       "      <td>claim</td>\n",
       "      <td>4014381136</td>\n",
       "      <td>32</td>\n",
       "      <td>someone shared with me that there are more mic...</td>\n",
       "      <td>not verified</td>\n",
       "      <td>active</td>\n",
       "      <td>140877.0</td>\n",
       "      <td>77355.0</td>\n",
       "      <td>19034.0</td>\n",
       "      <td>1161.0</td>\n",
       "      <td>684.0</td>\n",
       "      <td>True</td>\n",
       "      <td>False</td>\n",
       "      <td>True</td>\n",
       "      <td>False</td>\n",
       "      <td>False</td>\n",
       "    </tr>\n",
       "    <tr>\n",
       "      <th>2</th>\n",
       "      <td>3</td>\n",
       "      <td>claim</td>\n",
       "      <td>9859838091</td>\n",
       "      <td>31</td>\n",
       "      <td>someone shared with me that american industria...</td>\n",
       "      <td>not verified</td>\n",
       "      <td>active</td>\n",
       "      <td>902185.0</td>\n",
       "      <td>97690.0</td>\n",
       "      <td>2858.0</td>\n",
       "      <td>833.0</td>\n",
       "      <td>329.0</td>\n",
       "      <td>True</td>\n",
       "      <td>False</td>\n",
       "      <td>True</td>\n",
       "      <td>False</td>\n",
       "      <td>False</td>\n",
       "    </tr>\n",
       "    <tr>\n",
       "      <th>3</th>\n",
       "      <td>4</td>\n",
       "      <td>claim</td>\n",
       "      <td>1866847991</td>\n",
       "      <td>25</td>\n",
       "      <td>someone shared with me that the metro of st. p...</td>\n",
       "      <td>not verified</td>\n",
       "      <td>active</td>\n",
       "      <td>437506.0</td>\n",
       "      <td>239954.0</td>\n",
       "      <td>34812.0</td>\n",
       "      <td>1234.0</td>\n",
       "      <td>584.0</td>\n",
       "      <td>True</td>\n",
       "      <td>False</td>\n",
       "      <td>True</td>\n",
       "      <td>False</td>\n",
       "      <td>False</td>\n",
       "    </tr>\n",
       "    <tr>\n",
       "      <th>4</th>\n",
       "      <td>5</td>\n",
       "      <td>claim</td>\n",
       "      <td>7105231098</td>\n",
       "      <td>19</td>\n",
       "      <td>someone shared with me that the number of busi...</td>\n",
       "      <td>not verified</td>\n",
       "      <td>active</td>\n",
       "      <td>56167.0</td>\n",
       "      <td>34987.0</td>\n",
       "      <td>4110.0</td>\n",
       "      <td>547.0</td>\n",
       "      <td>152.0</td>\n",
       "      <td>True</td>\n",
       "      <td>False</td>\n",
       "      <td>True</td>\n",
       "      <td>False</td>\n",
       "      <td>False</td>\n",
       "    </tr>\n",
       "  </tbody>\n",
       "</table>\n",
       "</div>"
      ]
     },
     "execution_count": 36,
     "metadata": {},
     "output_type": "execute_result"
    }
   ],
   "execution_count": 36
  },
  {
   "metadata": {
    "ExecuteTime": {
     "end_time": "2025-03-30T19:26:32.252835Z",
     "start_time": "2025-03-30T19:26:31.918372Z"
    }
   },
   "cell_type": "code",
   "source": [
    "categorical_columns = data.select_dtypes(include=['object','category']).columns\n",
    "print(\"________________Categorical columns________________________\")\n",
    "print(categorical_columns)"
   ],
   "id": "f19e73f45d0435b7",
   "outputs": [
    {
     "name": "stdout",
     "output_type": "stream",
     "text": [
      "________________Categorical columns________________________\n",
      "Index(['claim_status', 'video_transcription_text', 'verified_status',\n",
      "       'author_ban_status'],\n",
      "      dtype='object')\n"
     ]
    }
   ],
   "execution_count": 37
  },
  {
   "metadata": {},
   "cell_type": "code",
   "outputs": [],
   "execution_count": null,
   "source": "",
   "id": "e2762a556a6c6ce2"
  },
  {
   "metadata": {},
   "cell_type": "code",
   "outputs": [],
   "execution_count": null,
   "source": "",
   "id": "9012cf969e516989"
  },
  {
   "metadata": {},
   "cell_type": "code",
   "outputs": [],
   "execution_count": null,
   "source": "",
   "id": "2929bbb29b01d87c"
  },
  {
   "metadata": {},
   "cell_type": "code",
   "outputs": [],
   "execution_count": null,
   "source": "",
   "id": "ac4e87f0530ccd7c"
  }
 ],
 "metadata": {
  "kernelspec": {
   "display_name": "Python 3",
   "language": "python",
   "name": "python3"
  },
  "language_info": {
   "codemirror_mode": {
    "name": "ipython",
    "version": 2
   },
   "file_extension": ".py",
   "mimetype": "text/x-python",
   "name": "python",
   "nbconvert_exporter": "python",
   "pygments_lexer": "ipython2",
   "version": "2.7.6"
  }
 },
 "nbformat": 4,
 "nbformat_minor": 5
}
