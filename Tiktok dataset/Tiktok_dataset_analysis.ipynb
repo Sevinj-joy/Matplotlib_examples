{
 "cells": [
  {
   "metadata": {
    "ExecuteTime": {
     "end_time": "2025-03-24T16:59:50.741865Z",
     "start_time": "2025-03-24T16:59:50.732880Z"
    }
   },
   "cell_type": "code",
   "source": [
    "import pandas as pd\n",
    "import numpy as np\n",
    "import matplotlib.pyplot as plt\n",
    "import seaborn as sns"
   ],
   "id": "dd13670437d7964c",
   "outputs": [],
   "execution_count": 16
  },
  {
   "metadata": {
    "ExecuteTime": {
     "end_time": "2025-03-24T17:16:57.019542Z",
     "start_time": "2025-03-24T17:16:56.459345Z"
    }
   },
   "cell_type": "code",
   "source": "data = pd.read_csv(r'C:\\Users\\aa\\PyCharmMiscProject\\Tiktok_analysis\\tiktok_dataset.csv', sep=';')",
   "id": "e51e8ab331f644ae",
   "outputs": [],
   "execution_count": 27
  },
  {
   "metadata": {
    "ExecuteTime": {
     "end_time": "2025-03-24T17:17:34.593144Z",
     "start_time": "2025-03-24T17:17:34.374043Z"
    }
   },
   "cell_type": "code",
   "source": "data.head()",
   "id": "169d112ec3827146",
   "outputs": [
    {
     "data": {
      "text/plain": [
       "   # claim_status    video_id  video_duration_sec  \\\n",
       "0  1        claim  7017666017                  59   \n",
       "1  2        claim  4014381136                  32   \n",
       "2  3        claim  9859838091                  31   \n",
       "3  4        claim  1866847991                  25   \n",
       "4  5        claim  7105231098                  19   \n",
       "\n",
       "                            video_transcription_text verified_status  \\\n",
       "0  someone shared with me that drone deliveries a...    not verified   \n",
       "1  someone shared with me that there are more mic...    not verified   \n",
       "2  someone shared with me that american industria...    not verified   \n",
       "3  someone shared with me that the metro of st. p...    not verified   \n",
       "4  someone shared with me that the number of busi...    not verified   \n",
       "\n",
       "  author_ban_status  video_view_count  video_like_count  video_share_count  \\\n",
       "0      under review          343296.0           19425.0              241.0   \n",
       "1            active          140877.0           77355.0            19034.0   \n",
       "2            active          902185.0           97690.0             2858.0   \n",
       "3            active          437506.0          239954.0            34812.0   \n",
       "4            active           56167.0           34987.0             4110.0   \n",
       "\n",
       "   video_download_count  video_comment_count  \n",
       "0                   1.0                  0.0  \n",
       "1                1161.0                684.0  \n",
       "2                 833.0                329.0  \n",
       "3                1234.0                584.0  \n",
       "4                 547.0                152.0  "
      ],
      "text/html": [
       "<div>\n",
       "<style scoped>\n",
       "    .dataframe tbody tr th:only-of-type {\n",
       "        vertical-align: middle;\n",
       "    }\n",
       "\n",
       "    .dataframe tbody tr th {\n",
       "        vertical-align: top;\n",
       "    }\n",
       "\n",
       "    .dataframe thead th {\n",
       "        text-align: right;\n",
       "    }\n",
       "</style>\n",
       "<table border=\"1\" class=\"dataframe\">\n",
       "  <thead>\n",
       "    <tr style=\"text-align: right;\">\n",
       "      <th></th>\n",
       "      <th>#</th>\n",
       "      <th>claim_status</th>\n",
       "      <th>video_id</th>\n",
       "      <th>video_duration_sec</th>\n",
       "      <th>video_transcription_text</th>\n",
       "      <th>verified_status</th>\n",
       "      <th>author_ban_status</th>\n",
       "      <th>video_view_count</th>\n",
       "      <th>video_like_count</th>\n",
       "      <th>video_share_count</th>\n",
       "      <th>video_download_count</th>\n",
       "      <th>video_comment_count</th>\n",
       "    </tr>\n",
       "  </thead>\n",
       "  <tbody>\n",
       "    <tr>\n",
       "      <th>0</th>\n",
       "      <td>1</td>\n",
       "      <td>claim</td>\n",
       "      <td>7017666017</td>\n",
       "      <td>59</td>\n",
       "      <td>someone shared with me that drone deliveries a...</td>\n",
       "      <td>not verified</td>\n",
       "      <td>under review</td>\n",
       "      <td>343296.0</td>\n",
       "      <td>19425.0</td>\n",
       "      <td>241.0</td>\n",
       "      <td>1.0</td>\n",
       "      <td>0.0</td>\n",
       "    </tr>\n",
       "    <tr>\n",
       "      <th>1</th>\n",
       "      <td>2</td>\n",
       "      <td>claim</td>\n",
       "      <td>4014381136</td>\n",
       "      <td>32</td>\n",
       "      <td>someone shared with me that there are more mic...</td>\n",
       "      <td>not verified</td>\n",
       "      <td>active</td>\n",
       "      <td>140877.0</td>\n",
       "      <td>77355.0</td>\n",
       "      <td>19034.0</td>\n",
       "      <td>1161.0</td>\n",
       "      <td>684.0</td>\n",
       "    </tr>\n",
       "    <tr>\n",
       "      <th>2</th>\n",
       "      <td>3</td>\n",
       "      <td>claim</td>\n",
       "      <td>9859838091</td>\n",
       "      <td>31</td>\n",
       "      <td>someone shared with me that american industria...</td>\n",
       "      <td>not verified</td>\n",
       "      <td>active</td>\n",
       "      <td>902185.0</td>\n",
       "      <td>97690.0</td>\n",
       "      <td>2858.0</td>\n",
       "      <td>833.0</td>\n",
       "      <td>329.0</td>\n",
       "    </tr>\n",
       "    <tr>\n",
       "      <th>3</th>\n",
       "      <td>4</td>\n",
       "      <td>claim</td>\n",
       "      <td>1866847991</td>\n",
       "      <td>25</td>\n",
       "      <td>someone shared with me that the metro of st. p...</td>\n",
       "      <td>not verified</td>\n",
       "      <td>active</td>\n",
       "      <td>437506.0</td>\n",
       "      <td>239954.0</td>\n",
       "      <td>34812.0</td>\n",
       "      <td>1234.0</td>\n",
       "      <td>584.0</td>\n",
       "    </tr>\n",
       "    <tr>\n",
       "      <th>4</th>\n",
       "      <td>5</td>\n",
       "      <td>claim</td>\n",
       "      <td>7105231098</td>\n",
       "      <td>19</td>\n",
       "      <td>someone shared with me that the number of busi...</td>\n",
       "      <td>not verified</td>\n",
       "      <td>active</td>\n",
       "      <td>56167.0</td>\n",
       "      <td>34987.0</td>\n",
       "      <td>4110.0</td>\n",
       "      <td>547.0</td>\n",
       "      <td>152.0</td>\n",
       "    </tr>\n",
       "  </tbody>\n",
       "</table>\n",
       "</div>"
      ]
     },
     "execution_count": 29,
     "metadata": {},
     "output_type": "execute_result"
    }
   ],
   "execution_count": 29
  },
  {
   "metadata": {
    "ExecuteTime": {
     "end_time": "2025-03-24T17:18:02.155900Z",
     "start_time": "2025-03-24T17:18:01.761029Z"
    }
   },
   "cell_type": "code",
   "source": "data.info()",
   "id": "d906e6e4895cccdd",
   "outputs": [
    {
     "name": "stdout",
     "output_type": "stream",
     "text": [
      "<class 'pandas.core.frame.DataFrame'>\n",
      "RangeIndex: 19382 entries, 0 to 19381\n",
      "Data columns (total 12 columns):\n",
      " #   Column                    Non-Null Count  Dtype  \n",
      "---  ------                    --------------  -----  \n",
      " 0   #                         19382 non-null  int64  \n",
      " 1   claim_status              19084 non-null  object \n",
      " 2   video_id                  19382 non-null  int64  \n",
      " 3   video_duration_sec        19382 non-null  int64  \n",
      " 4   video_transcription_text  19084 non-null  object \n",
      " 5   verified_status           19382 non-null  object \n",
      " 6   author_ban_status         19382 non-null  object \n",
      " 7   video_view_count          19084 non-null  float64\n",
      " 8   video_like_count          19084 non-null  float64\n",
      " 9   video_share_count         19084 non-null  float64\n",
      " 10  video_download_count      19084 non-null  float64\n",
      " 11  video_comment_count       19084 non-null  float64\n",
      "dtypes: float64(5), int64(3), object(4)\n",
      "memory usage: 1.8+ MB\n"
     ]
    }
   ],
   "execution_count": 30
  },
  {
   "metadata": {
    "ExecuteTime": {
     "end_time": "2025-03-24T17:18:40.061479Z",
     "start_time": "2025-03-24T17:18:39.903265Z"
    }
   },
   "cell_type": "code",
   "source": "data.describe()",
   "id": "1bcde84ab4ffda18",
   "outputs": [
    {
     "data": {
      "text/plain": [
       "                  #      video_id  video_duration_sec  video_view_count  \\\n",
       "count  19382.000000  1.938200e+04        19382.000000      19084.000000   \n",
       "mean    9691.500000  5.627454e+09           32.421732     254708.558688   \n",
       "std     5595.245794  2.536440e+09           16.229967     322893.280814   \n",
       "min        1.000000  1.234959e+09            5.000000         20.000000   \n",
       "25%     4846.250000  3.430417e+09           18.000000       4942.500000   \n",
       "50%     9691.500000  5.618664e+09           32.000000       9954.500000   \n",
       "75%    14536.750000  7.843960e+09           47.000000     504327.000000   \n",
       "max    19382.000000  9.999873e+09           60.000000     999817.000000   \n",
       "\n",
       "       video_like_count  video_share_count  video_download_count  \\\n",
       "count      19084.000000       19084.000000          19084.000000   \n",
       "mean       84304.636030       16735.248323           1049.429627   \n",
       "std       133420.546814       32036.174350           2004.299894   \n",
       "min            0.000000           0.000000              0.000000   \n",
       "25%          810.750000         115.000000              7.000000   \n",
       "50%         3403.500000         717.000000             46.000000   \n",
       "75%       125020.000000       18222.000000           1156.250000   \n",
       "max       657830.000000      256130.000000          14994.000000   \n",
       "\n",
       "       video_comment_count  \n",
       "count         19084.000000  \n",
       "mean            349.312146  \n",
       "std             799.638865  \n",
       "min               0.000000  \n",
       "25%               1.000000  \n",
       "50%               9.000000  \n",
       "75%             292.000000  \n",
       "max            9599.000000  "
      ],
      "text/html": [
       "<div>\n",
       "<style scoped>\n",
       "    .dataframe tbody tr th:only-of-type {\n",
       "        vertical-align: middle;\n",
       "    }\n",
       "\n",
       "    .dataframe tbody tr th {\n",
       "        vertical-align: top;\n",
       "    }\n",
       "\n",
       "    .dataframe thead th {\n",
       "        text-align: right;\n",
       "    }\n",
       "</style>\n",
       "<table border=\"1\" class=\"dataframe\">\n",
       "  <thead>\n",
       "    <tr style=\"text-align: right;\">\n",
       "      <th></th>\n",
       "      <th>#</th>\n",
       "      <th>video_id</th>\n",
       "      <th>video_duration_sec</th>\n",
       "      <th>video_view_count</th>\n",
       "      <th>video_like_count</th>\n",
       "      <th>video_share_count</th>\n",
       "      <th>video_download_count</th>\n",
       "      <th>video_comment_count</th>\n",
       "    </tr>\n",
       "  </thead>\n",
       "  <tbody>\n",
       "    <tr>\n",
       "      <th>count</th>\n",
       "      <td>19382.000000</td>\n",
       "      <td>1.938200e+04</td>\n",
       "      <td>19382.000000</td>\n",
       "      <td>19084.000000</td>\n",
       "      <td>19084.000000</td>\n",
       "      <td>19084.000000</td>\n",
       "      <td>19084.000000</td>\n",
       "      <td>19084.000000</td>\n",
       "    </tr>\n",
       "    <tr>\n",
       "      <th>mean</th>\n",
       "      <td>9691.500000</td>\n",
       "      <td>5.627454e+09</td>\n",
       "      <td>32.421732</td>\n",
       "      <td>254708.558688</td>\n",
       "      <td>84304.636030</td>\n",
       "      <td>16735.248323</td>\n",
       "      <td>1049.429627</td>\n",
       "      <td>349.312146</td>\n",
       "    </tr>\n",
       "    <tr>\n",
       "      <th>std</th>\n",
       "      <td>5595.245794</td>\n",
       "      <td>2.536440e+09</td>\n",
       "      <td>16.229967</td>\n",
       "      <td>322893.280814</td>\n",
       "      <td>133420.546814</td>\n",
       "      <td>32036.174350</td>\n",
       "      <td>2004.299894</td>\n",
       "      <td>799.638865</td>\n",
       "    </tr>\n",
       "    <tr>\n",
       "      <th>min</th>\n",
       "      <td>1.000000</td>\n",
       "      <td>1.234959e+09</td>\n",
       "      <td>5.000000</td>\n",
       "      <td>20.000000</td>\n",
       "      <td>0.000000</td>\n",
       "      <td>0.000000</td>\n",
       "      <td>0.000000</td>\n",
       "      <td>0.000000</td>\n",
       "    </tr>\n",
       "    <tr>\n",
       "      <th>25%</th>\n",
       "      <td>4846.250000</td>\n",
       "      <td>3.430417e+09</td>\n",
       "      <td>18.000000</td>\n",
       "      <td>4942.500000</td>\n",
       "      <td>810.750000</td>\n",
       "      <td>115.000000</td>\n",
       "      <td>7.000000</td>\n",
       "      <td>1.000000</td>\n",
       "    </tr>\n",
       "    <tr>\n",
       "      <th>50%</th>\n",
       "      <td>9691.500000</td>\n",
       "      <td>5.618664e+09</td>\n",
       "      <td>32.000000</td>\n",
       "      <td>9954.500000</td>\n",
       "      <td>3403.500000</td>\n",
       "      <td>717.000000</td>\n",
       "      <td>46.000000</td>\n",
       "      <td>9.000000</td>\n",
       "    </tr>\n",
       "    <tr>\n",
       "      <th>75%</th>\n",
       "      <td>14536.750000</td>\n",
       "      <td>7.843960e+09</td>\n",
       "      <td>47.000000</td>\n",
       "      <td>504327.000000</td>\n",
       "      <td>125020.000000</td>\n",
       "      <td>18222.000000</td>\n",
       "      <td>1156.250000</td>\n",
       "      <td>292.000000</td>\n",
       "    </tr>\n",
       "    <tr>\n",
       "      <th>max</th>\n",
       "      <td>19382.000000</td>\n",
       "      <td>9.999873e+09</td>\n",
       "      <td>60.000000</td>\n",
       "      <td>999817.000000</td>\n",
       "      <td>657830.000000</td>\n",
       "      <td>256130.000000</td>\n",
       "      <td>14994.000000</td>\n",
       "      <td>9599.000000</td>\n",
       "    </tr>\n",
       "  </tbody>\n",
       "</table>\n",
       "</div>"
      ]
     },
     "execution_count": 31,
     "metadata": {},
     "output_type": "execute_result"
    }
   ],
   "execution_count": 31
  },
  {
   "metadata": {
    "ExecuteTime": {
     "end_time": "2025-03-24T17:18:59.950982Z",
     "start_time": "2025-03-24T17:18:59.934886Z"
    }
   },
   "cell_type": "code",
   "source": "data.shape",
   "id": "feaa1a82b24581db",
   "outputs": [
    {
     "data": {
      "text/plain": [
       "(19382, 12)"
      ]
     },
     "execution_count": 32,
     "metadata": {},
     "output_type": "execute_result"
    }
   ],
   "execution_count": 32
  },
  {
   "metadata": {
    "ExecuteTime": {
     "end_time": "2025-03-24T17:19:14.121309Z",
     "start_time": "2025-03-24T17:19:14.072920Z"
    }
   },
   "cell_type": "code",
   "source": "data.isnull().sum()",
   "id": "e2d31b94f2d729e5",
   "outputs": [
    {
     "data": {
      "text/plain": [
       "#                             0\n",
       "claim_status                298\n",
       "video_id                      0\n",
       "video_duration_sec            0\n",
       "video_transcription_text    298\n",
       "verified_status               0\n",
       "author_ban_status             0\n",
       "video_view_count            298\n",
       "video_like_count            298\n",
       "video_share_count           298\n",
       "video_download_count        298\n",
       "video_comment_count         298\n",
       "dtype: int64"
      ]
     },
     "execution_count": 33,
     "metadata": {},
     "output_type": "execute_result"
    }
   ],
   "execution_count": 33
  },
  {
   "metadata": {
    "ExecuteTime": {
     "end_time": "2025-03-24T17:20:15.875874Z",
     "start_time": "2025-03-24T17:20:15.796898Z"
    }
   },
   "cell_type": "code",
   "source": "data.duplicated().sum()",
   "id": "95529f9a061c674a",
   "outputs": [
    {
     "data": {
      "text/plain": [
       "np.int64(0)"
      ]
     },
     "execution_count": 36,
     "metadata": {},
     "output_type": "execute_result"
    }
   ],
   "execution_count": 36
  },
  {
   "metadata": {
    "ExecuteTime": {
     "end_time": "2025-03-24T17:20:21.990237Z",
     "start_time": "2025-03-24T17:20:21.862307Z"
    }
   },
   "cell_type": "code",
   "source": "data.nunique()",
   "id": "76bb3848d6b7aa8b",
   "outputs": [
    {
     "data": {
      "text/plain": [
       "#                           19382\n",
       "claim_status                    2\n",
       "video_id                    19382\n",
       "video_duration_sec             56\n",
       "video_transcription_text    19012\n",
       "verified_status                 2\n",
       "author_ban_status               3\n",
       "video_view_count            15632\n",
       "video_like_count            12224\n",
       "video_share_count            9231\n",
       "video_download_count         4336\n",
       "video_comment_count          2424\n",
       "dtype: int64"
      ]
     },
     "execution_count": 37,
     "metadata": {},
     "output_type": "execute_result"
    }
   ],
   "execution_count": 37
  },
  {
   "metadata": {
    "ExecuteTime": {
     "end_time": "2025-03-24T17:21:45.224571Z",
     "start_time": "2025-03-24T17:21:45.059106Z"
    }
   },
   "cell_type": "code",
   "source": "data['claim_status'].value_counts()",
   "id": "23cddcd9f78d8518",
   "outputs": [
    {
     "data": {
      "text/plain": [
       "claim_status\n",
       "claim      9608\n",
       "opinion    9476\n",
       "Name: count, dtype: int64"
      ]
     },
     "execution_count": 39,
     "metadata": {},
     "output_type": "execute_result"
    }
   ],
   "execution_count": 39
  },
  {
   "metadata": {},
   "cell_type": "markdown",
   "source": "Data Preprocessing",
   "id": "8e359010058caaf"
  },
  {
   "metadata": {},
   "cell_type": "markdown",
   "source": [
    "\tIdentify missing values (NaN) in the dataset.\n",
    "\n",
    "\tDecide on a strategy to handle them (e.g., filling with mean/median/mode, forward/backward filling, or dropping rows/columns).\n"
   ],
   "id": "ea2f8bcdfda08b98"
  },
  {
   "metadata": {
    "ExecuteTime": {
     "end_time": "2025-03-24T17:25:22.805126Z",
     "start_time": "2025-03-24T17:25:22.683832Z"
    }
   },
   "cell_type": "code",
   "source": [
    "null_values = data.isnull()\n",
    "print(null_values)"
   ],
   "id": "3af066a0b063684c",
   "outputs": [
    {
     "name": "stdout",
     "output_type": "stream",
     "text": [
      "           #  claim_status  video_id  video_duration_sec  \\\n",
      "0      False         False     False               False   \n",
      "1      False         False     False               False   \n",
      "2      False         False     False               False   \n",
      "3      False         False     False               False   \n",
      "4      False         False     False               False   \n",
      "...      ...           ...       ...                 ...   \n",
      "19377  False          True     False               False   \n",
      "19378  False          True     False               False   \n",
      "19379  False          True     False               False   \n",
      "19380  False          True     False               False   \n",
      "19381  False          True     False               False   \n",
      "\n",
      "       video_transcription_text  verified_status  author_ban_status  \\\n",
      "0                         False            False              False   \n",
      "1                         False            False              False   \n",
      "2                         False            False              False   \n",
      "3                         False            False              False   \n",
      "4                         False            False              False   \n",
      "...                         ...              ...                ...   \n",
      "19377                      True            False              False   \n",
      "19378                      True            False              False   \n",
      "19379                      True            False              False   \n",
      "19380                      True            False              False   \n",
      "19381                      True            False              False   \n",
      "\n",
      "       video_view_count  video_like_count  video_share_count  \\\n",
      "0                 False             False              False   \n",
      "1                 False             False              False   \n",
      "2                 False             False              False   \n",
      "3                 False             False              False   \n",
      "4                 False             False              False   \n",
      "...                 ...               ...                ...   \n",
      "19377              True              True               True   \n",
      "19378              True              True               True   \n",
      "19379              True              True               True   \n",
      "19380              True              True               True   \n",
      "19381              True              True               True   \n",
      "\n",
      "       video_download_count  video_comment_count  \n",
      "0                     False                False  \n",
      "1                     False                False  \n",
      "2                     False                False  \n",
      "3                     False                False  \n",
      "4                     False                False  \n",
      "...                     ...                  ...  \n",
      "19377                  True                 True  \n",
      "19378                  True                 True  \n",
      "19379                  True                 True  \n",
      "19380                  True                 True  \n",
      "19381                  True                 True  \n",
      "\n",
      "[19382 rows x 12 columns]\n"
     ]
    }
   ],
   "execution_count": 47
  },
  {
   "metadata": {
    "ExecuteTime": {
     "end_time": "2025-03-24T17:26:08.759723Z",
     "start_time": "2025-03-24T17:26:08.710660Z"
    }
   },
   "cell_type": "code",
   "source": [
    "null_count = data.isnull().sum()\n",
    "print(null_count)"
   ],
   "id": "ae785bc9e889324f",
   "outputs": [
    {
     "name": "stdout",
     "output_type": "stream",
     "text": [
      "#                             0\n",
      "claim_status                298\n",
      "video_id                      0\n",
      "video_duration_sec            0\n",
      "video_transcription_text    298\n",
      "verified_status               0\n",
      "author_ban_status             0\n",
      "video_view_count            298\n",
      "video_like_count            298\n",
      "video_share_count           298\n",
      "video_download_count        298\n",
      "video_comment_count         298\n",
      "dtype: int64\n"
     ]
    }
   ],
   "execution_count": 48
  },
  {
   "metadata": {
    "ExecuteTime": {
     "end_time": "2025-03-24T17:26:44.683519Z",
     "start_time": "2025-03-24T17:26:44.566912Z"
    }
   },
   "cell_type": "code",
   "source": [
    "rows_with_null = data[data.isnull().any(axis=1)]\n",
    "print(rows_with_null)"
   ],
   "id": "edfea680e5e6dc0d",
   "outputs": [
    {
     "name": "stdout",
     "output_type": "stream",
     "text": [
      "           # claim_status    video_id  video_duration_sec  \\\n",
      "19084  19085          NaN  4380513697                  39   \n",
      "19085  19086          NaN  8352130892                  60   \n",
      "19086  19087          NaN  4443076562                  25   \n",
      "19087  19088          NaN  8328300333                   7   \n",
      "19088  19089          NaN  3968729520                   8   \n",
      "...      ...          ...         ...                 ...   \n",
      "19377  19378          NaN  7578226840                  21   \n",
      "19378  19379          NaN  6079236179                  53   \n",
      "19379  19380          NaN  2565539685                  10   \n",
      "19380  19381          NaN  2969178540                  24   \n",
      "19381  19382          NaN  8132759688                  13   \n",
      "\n",
      "      video_transcription_text verified_status author_ban_status  \\\n",
      "19084                      NaN    not verified            active   \n",
      "19085                      NaN    not verified            active   \n",
      "19086                      NaN    not verified            active   \n",
      "19087                      NaN    not verified            active   \n",
      "19088                      NaN    not verified            active   \n",
      "...                        ...             ...               ...   \n",
      "19377                      NaN    not verified            active   \n",
      "19378                      NaN    not verified            active   \n",
      "19379                      NaN        verified      under review   \n",
      "19380                      NaN    not verified            active   \n",
      "19381                      NaN    not verified            active   \n",
      "\n",
      "       video_view_count  video_like_count  video_share_count  \\\n",
      "19084               NaN               NaN                NaN   \n",
      "19085               NaN               NaN                NaN   \n",
      "19086               NaN               NaN                NaN   \n",
      "19087               NaN               NaN                NaN   \n",
      "19088               NaN               NaN                NaN   \n",
      "...                 ...               ...                ...   \n",
      "19377               NaN               NaN                NaN   \n",
      "19378               NaN               NaN                NaN   \n",
      "19379               NaN               NaN                NaN   \n",
      "19380               NaN               NaN                NaN   \n",
      "19381               NaN               NaN                NaN   \n",
      "\n",
      "       video_download_count  video_comment_count  \n",
      "19084                   NaN                  NaN  \n",
      "19085                   NaN                  NaN  \n",
      "19086                   NaN                  NaN  \n",
      "19087                   NaN                  NaN  \n",
      "19088                   NaN                  NaN  \n",
      "...                     ...                  ...  \n",
      "19377                   NaN                  NaN  \n",
      "19378                   NaN                  NaN  \n",
      "19379                   NaN                  NaN  \n",
      "19380                   NaN                  NaN  \n",
      "19381                   NaN                  NaN  \n",
      "\n",
      "[298 rows x 12 columns]\n"
     ]
    }
   ],
   "execution_count": 49
  },
  {
   "metadata": {
    "ExecuteTime": {
     "end_time": "2025-03-24T17:26:57.825191Z",
     "start_time": "2025-03-24T17:26:57.769998Z"
    }
   },
   "cell_type": "code",
   "source": [
    "missing_percentage = data.isnull().sum() / len(data) * 100\n",
    "print(missing_percentage)"
   ],
   "id": "a3d38eca0e91fb36",
   "outputs": [
    {
     "name": "stdout",
     "output_type": "stream",
     "text": [
      "#                           0.000000\n",
      "claim_status                1.537509\n",
      "video_id                    0.000000\n",
      "video_duration_sec          0.000000\n",
      "video_transcription_text    1.537509\n",
      "verified_status             0.000000\n",
      "author_ban_status           0.000000\n",
      "video_view_count            1.537509\n",
      "video_like_count            1.537509\n",
      "video_share_count           1.537509\n",
      "video_download_count        1.537509\n",
      "video_comment_count         1.537509\n",
      "dtype: float64\n"
     ]
    }
   ],
   "execution_count": 50
  },
  {
   "metadata": {
    "ExecuteTime": {
     "end_time": "2025-03-24T17:27:30.356380Z",
     "start_time": "2025-03-24T17:27:29.859275Z"
    }
   },
   "cell_type": "code",
   "source": [
    "null_summary = data.isnull().sum().reset_index()\n",
    "null_summary.columns = ['Column', 'MissingValues']\n",
    "null_summary['Percentage'] = (null_summary['MissingValues'] / len(data)) * 100\n",
    "print(null_summary)"
   ],
   "id": "31c548654c7e32ac",
   "outputs": [
    {
     "name": "stdout",
     "output_type": "stream",
     "text": [
      "                      Column  MissingValues  Percentage\n",
      "0                          #              0    0.000000\n",
      "1               claim_status            298    1.537509\n",
      "2                   video_id              0    0.000000\n",
      "3         video_duration_sec              0    0.000000\n",
      "4   video_transcription_text            298    1.537509\n",
      "5            verified_status              0    0.000000\n",
      "6          author_ban_status              0    0.000000\n",
      "7           video_view_count            298    1.537509\n",
      "8           video_like_count            298    1.537509\n",
      "9          video_share_count            298    1.537509\n",
      "10      video_download_count            298    1.537509\n",
      "11       video_comment_count            298    1.537509\n"
     ]
    }
   ],
   "execution_count": 51
  },
  {
   "metadata": {
    "ExecuteTime": {
     "end_time": "2025-03-24T17:27:59.277300Z",
     "start_time": "2025-03-24T17:27:59.114888Z"
    }
   },
   "cell_type": "code",
   "source": [
    "only_nulls = data[data.isnull()]\n",
    "print(only_nulls)\n"
   ],
   "id": "9d7ed7c73e892055",
   "outputs": [
    {
     "name": "stdout",
     "output_type": "stream",
     "text": [
      "        # claim_status  video_id  video_duration_sec video_transcription_text  \\\n",
      "0     NaN          NaN       NaN                 NaN                      NaN   \n",
      "1     NaN          NaN       NaN                 NaN                      NaN   \n",
      "2     NaN          NaN       NaN                 NaN                      NaN   \n",
      "3     NaN          NaN       NaN                 NaN                      NaN   \n",
      "4     NaN          NaN       NaN                 NaN                      NaN   \n",
      "...    ..          ...       ...                 ...                      ...   \n",
      "19377 NaN          NaN       NaN                 NaN                      NaN   \n",
      "19378 NaN          NaN       NaN                 NaN                      NaN   \n",
      "19379 NaN          NaN       NaN                 NaN                      NaN   \n",
      "19380 NaN          NaN       NaN                 NaN                      NaN   \n",
      "19381 NaN          NaN       NaN                 NaN                      NaN   \n",
      "\n",
      "      verified_status author_ban_status  video_view_count  video_like_count  \\\n",
      "0                 NaN               NaN               NaN               NaN   \n",
      "1                 NaN               NaN               NaN               NaN   \n",
      "2                 NaN               NaN               NaN               NaN   \n",
      "3                 NaN               NaN               NaN               NaN   \n",
      "4                 NaN               NaN               NaN               NaN   \n",
      "...               ...               ...               ...               ...   \n",
      "19377             NaN               NaN               NaN               NaN   \n",
      "19378             NaN               NaN               NaN               NaN   \n",
      "19379             NaN               NaN               NaN               NaN   \n",
      "19380             NaN               NaN               NaN               NaN   \n",
      "19381             NaN               NaN               NaN               NaN   \n",
      "\n",
      "       video_share_count  video_download_count  video_comment_count  \n",
      "0                    NaN                   NaN                  NaN  \n",
      "1                    NaN                   NaN                  NaN  \n",
      "2                    NaN                   NaN                  NaN  \n",
      "3                    NaN                   NaN                  NaN  \n",
      "4                    NaN                   NaN                  NaN  \n",
      "...                  ...                   ...                  ...  \n",
      "19377                NaN                   NaN                  NaN  \n",
      "19378                NaN                   NaN                  NaN  \n",
      "19379                NaN                   NaN                  NaN  \n",
      "19380                NaN                   NaN                  NaN  \n",
      "19381                NaN                   NaN                  NaN  \n",
      "\n",
      "[19382 rows x 12 columns]\n"
     ]
    }
   ],
   "execution_count": 52
  },
  {
   "metadata": {
    "ExecuteTime": {
     "end_time": "2025-03-24T17:28:16.922265Z",
     "start_time": "2025-03-24T17:28:16.888119Z"
    }
   },
   "cell_type": "code",
   "outputs": [
    {
     "name": "stdout",
     "output_type": "stream",
     "text": [
      "           # claim_status    video_id  video_duration_sec  \\\n",
      "19084  19085          NaN  4380513697                  39   \n",
      "19085  19086          NaN  8352130892                  60   \n",
      "19086  19087          NaN  4443076562                  25   \n",
      "19087  19088          NaN  8328300333                   7   \n",
      "19088  19089          NaN  3968729520                   8   \n",
      "...      ...          ...         ...                 ...   \n",
      "19377  19378          NaN  7578226840                  21   \n",
      "19378  19379          NaN  6079236179                  53   \n",
      "19379  19380          NaN  2565539685                  10   \n",
      "19380  19381          NaN  2969178540                  24   \n",
      "19381  19382          NaN  8132759688                  13   \n",
      "\n",
      "      video_transcription_text verified_status author_ban_status  \\\n",
      "19084                      NaN    not verified            active   \n",
      "19085                      NaN    not verified            active   \n",
      "19086                      NaN    not verified            active   \n",
      "19087                      NaN    not verified            active   \n",
      "19088                      NaN    not verified            active   \n",
      "...                        ...             ...               ...   \n",
      "19377                      NaN    not verified            active   \n",
      "19378                      NaN    not verified            active   \n",
      "19379                      NaN        verified      under review   \n",
      "19380                      NaN    not verified            active   \n",
      "19381                      NaN    not verified            active   \n",
      "\n",
      "       video_view_count  video_like_count  video_share_count  \\\n",
      "19084               NaN               NaN                NaN   \n",
      "19085               NaN               NaN                NaN   \n",
      "19086               NaN               NaN                NaN   \n",
      "19087               NaN               NaN                NaN   \n",
      "19088               NaN               NaN                NaN   \n",
      "...                 ...               ...                ...   \n",
      "19377               NaN               NaN                NaN   \n",
      "19378               NaN               NaN                NaN   \n",
      "19379               NaN               NaN                NaN   \n",
      "19380               NaN               NaN                NaN   \n",
      "19381               NaN               NaN                NaN   \n",
      "\n",
      "       video_download_count  video_comment_count  \n",
      "19084                   NaN                  NaN  \n",
      "19085                   NaN                  NaN  \n",
      "19086                   NaN                  NaN  \n",
      "19087                   NaN                  NaN  \n",
      "19088                   NaN                  NaN  \n",
      "...                     ...                  ...  \n",
      "19377                   NaN                  NaN  \n",
      "19378                   NaN                  NaN  \n",
      "19379                   NaN                  NaN  \n",
      "19380                   NaN                  NaN  \n",
      "19381                   NaN                  NaN  \n",
      "\n",
      "[298 rows x 12 columns]\n"
     ]
    }
   ],
   "execution_count": 53,
   "source": [
    "claim_status_nulls = data[data['claim_status'].isnull()]\n",
    "print(claim_status_nulls)"
   ],
   "id": "9ad3a0fd7186aa16"
  },
  {
   "metadata": {},
   "cell_type": "markdown",
   "source": [
    "Total missing values by column\n",
    "\n",
    "Rows with missing values\n",
    "\n",
    "Percentage of missing values by column\n",
    "\n",
    "\n"
   ],
   "id": "540fcffa63f9790a"
  },
  {
   "metadata": {
    "ExecuteTime": {
     "end_time": "2025-03-24T17:52:47.273968Z",
     "start_time": "2025-03-24T17:52:46.503521Z"
    }
   },
   "cell_type": "code",
   "source": [
    "print(\"Total missing values by column:\")\n",
    "print(data.isnull().sum())\n",
    "\n",
    "print(\"\\nRows with missing values:\")\n",
    "print(data[data.isnull().any(axis=1)])\n",
    "\n",
    "print(\"\\nPercentage of missing values by column:\")\n",
    "print((data.isnull().sum() / len(data)) * 100)"
   ],
   "id": "1240f13bd782dddf",
   "outputs": [
    {
     "name": "stdout",
     "output_type": "stream",
     "text": [
      "Total missing values by column:\n",
      "#                             0\n",
      "claim_status                298\n",
      "video_id                      0\n",
      "video_duration_sec            0\n",
      "video_transcription_text    298\n",
      "verified_status               0\n",
      "author_ban_status             0\n",
      "video_view_count            298\n",
      "video_like_count            298\n",
      "video_share_count           298\n",
      "video_download_count        298\n",
      "video_comment_count         298\n",
      "dtype: int64\n",
      "\n",
      "Rows with missing values:\n",
      "           # claim_status    video_id  video_duration_sec  \\\n",
      "19084  19085          NaN  4380513697                  39   \n",
      "19085  19086          NaN  8352130892                  60   \n",
      "19086  19087          NaN  4443076562                  25   \n",
      "19087  19088          NaN  8328300333                   7   \n",
      "19088  19089          NaN  3968729520                   8   \n",
      "...      ...          ...         ...                 ...   \n",
      "19377  19378          NaN  7578226840                  21   \n",
      "19378  19379          NaN  6079236179                  53   \n",
      "19379  19380          NaN  2565539685                  10   \n",
      "19380  19381          NaN  2969178540                  24   \n",
      "19381  19382          NaN  8132759688                  13   \n",
      "\n",
      "      video_transcription_text verified_status author_ban_status  \\\n",
      "19084                      NaN    not verified            active   \n",
      "19085                      NaN    not verified            active   \n",
      "19086                      NaN    not verified            active   \n",
      "19087                      NaN    not verified            active   \n",
      "19088                      NaN    not verified            active   \n",
      "...                        ...             ...               ...   \n",
      "19377                      NaN    not verified            active   \n",
      "19378                      NaN    not verified            active   \n",
      "19379                      NaN        verified      under review   \n",
      "19380                      NaN    not verified            active   \n",
      "19381                      NaN    not verified            active   \n",
      "\n",
      "       video_view_count  video_like_count  video_share_count  \\\n",
      "19084               NaN               NaN                NaN   \n",
      "19085               NaN               NaN                NaN   \n",
      "19086               NaN               NaN                NaN   \n",
      "19087               NaN               NaN                NaN   \n",
      "19088               NaN               NaN                NaN   \n",
      "...                 ...               ...                ...   \n",
      "19377               NaN               NaN                NaN   \n",
      "19378               NaN               NaN                NaN   \n",
      "19379               NaN               NaN                NaN   \n",
      "19380               NaN               NaN                NaN   \n",
      "19381               NaN               NaN                NaN   \n",
      "\n",
      "       video_download_count  video_comment_count  \n",
      "19084                   NaN                  NaN  \n",
      "19085                   NaN                  NaN  \n",
      "19086                   NaN                  NaN  \n",
      "19087                   NaN                  NaN  \n",
      "19088                   NaN                  NaN  \n",
      "...                     ...                  ...  \n",
      "19377                   NaN                  NaN  \n",
      "19378                   NaN                  NaN  \n",
      "19379                   NaN                  NaN  \n",
      "19380                   NaN                  NaN  \n",
      "19381                   NaN                  NaN  \n",
      "\n",
      "[298 rows x 12 columns]\n",
      "\n",
      "Percentage of missing values by column:\n",
      "#                           0.000000\n",
      "claim_status                1.537509\n",
      "video_id                    0.000000\n",
      "video_duration_sec          0.000000\n",
      "video_transcription_text    1.537509\n",
      "verified_status             0.000000\n",
      "author_ban_status           0.000000\n",
      "video_view_count            1.537509\n",
      "video_like_count            1.537509\n",
      "video_share_count           1.537509\n",
      "video_download_count        1.537509\n",
      "video_comment_count         1.537509\n",
      "dtype: float64\n"
     ]
    }
   ],
   "execution_count": 54
  },
  {
   "metadata": {
    "ExecuteTime": {
     "end_time": "2025-03-24T20:32:58.135023Z",
     "start_time": "2025-03-24T20:32:55.095437Z"
    }
   },
   "cell_type": "code",
   "source": [
    "from sklearn.impute import SimpleImputer\n",
    "\n",
    "imputer = SimpleImputer(strategy='mean')\n",
    "data['claim_status'] = imputer.fit_transform(data[['claim_status']])\n"
   ],
   "id": "2c604585eae12528",
   "outputs": [
    {
     "ename": "ValueError",
     "evalue": "Cannot use mean strategy with non-numeric data:\ncould not convert string to float: 'claim'",
     "output_type": "error",
     "traceback": [
      "\u001B[31m---------------------------------------------------------------------------\u001B[39m",
      "\u001B[31mValueError\u001B[39m                                Traceback (most recent call last)",
      "\u001B[36mCell\u001B[39m\u001B[36m \u001B[39m\u001B[32mIn[61]\u001B[39m\u001B[32m, line 4\u001B[39m\n\u001B[32m      1\u001B[39m \u001B[38;5;28;01mfrom\u001B[39;00m\u001B[38;5;250m \u001B[39m\u001B[34;01msklearn\u001B[39;00m\u001B[34;01m.\u001B[39;00m\u001B[34;01mimpute\u001B[39;00m\u001B[38;5;250m \u001B[39m\u001B[38;5;28;01mimport\u001B[39;00m SimpleImputer\n\u001B[32m      3\u001B[39m imputer = SimpleImputer(strategy=\u001B[33m'\u001B[39m\u001B[33mmean\u001B[39m\u001B[33m'\u001B[39m)\n\u001B[32m----> \u001B[39m\u001B[32m4\u001B[39m data[\u001B[33m'\u001B[39m\u001B[33mclaim_status\u001B[39m\u001B[33m'\u001B[39m] = \u001B[43mimputer\u001B[49m\u001B[43m.\u001B[49m\u001B[43mfit_transform\u001B[49m\u001B[43m(\u001B[49m\u001B[43mdata\u001B[49m\u001B[43m[\u001B[49m\u001B[43m[\u001B[49m\u001B[33;43m'\u001B[39;49m\u001B[33;43mclaim_status\u001B[39;49m\u001B[33;43m'\u001B[39;49m\u001B[43m]\u001B[49m\u001B[43m]\u001B[49m\u001B[43m)\u001B[49m\n",
      "\u001B[36mFile \u001B[39m\u001B[32m~\\PyCharmMiscProject\\.venv\\Lib\\site-packages\\sklearn\\utils\\_set_output.py:319\u001B[39m, in \u001B[36m_wrap_method_output.<locals>.wrapped\u001B[39m\u001B[34m(self, X, *args, **kwargs)\u001B[39m\n\u001B[32m    317\u001B[39m \u001B[38;5;129m@wraps\u001B[39m(f)\n\u001B[32m    318\u001B[39m \u001B[38;5;28;01mdef\u001B[39;00m\u001B[38;5;250m \u001B[39m\u001B[34mwrapped\u001B[39m(\u001B[38;5;28mself\u001B[39m, X, *args, **kwargs):\n\u001B[32m--> \u001B[39m\u001B[32m319\u001B[39m     data_to_wrap = \u001B[43mf\u001B[49m\u001B[43m(\u001B[49m\u001B[38;5;28;43mself\u001B[39;49m\u001B[43m,\u001B[49m\u001B[43m \u001B[49m\u001B[43mX\u001B[49m\u001B[43m,\u001B[49m\u001B[43m \u001B[49m\u001B[43m*\u001B[49m\u001B[43margs\u001B[49m\u001B[43m,\u001B[49m\u001B[43m \u001B[49m\u001B[43m*\u001B[49m\u001B[43m*\u001B[49m\u001B[43mkwargs\u001B[49m\u001B[43m)\u001B[49m\n\u001B[32m    320\u001B[39m     \u001B[38;5;28;01mif\u001B[39;00m \u001B[38;5;28misinstance\u001B[39m(data_to_wrap, \u001B[38;5;28mtuple\u001B[39m):\n\u001B[32m    321\u001B[39m         \u001B[38;5;66;03m# only wrap the first output for cross decomposition\u001B[39;00m\n\u001B[32m    322\u001B[39m         return_tuple = (\n\u001B[32m    323\u001B[39m             _wrap_data_with_container(method, data_to_wrap[\u001B[32m0\u001B[39m], X, \u001B[38;5;28mself\u001B[39m),\n\u001B[32m    324\u001B[39m             *data_to_wrap[\u001B[32m1\u001B[39m:],\n\u001B[32m    325\u001B[39m         )\n",
      "\u001B[36mFile \u001B[39m\u001B[32m~\\PyCharmMiscProject\\.venv\\Lib\\site-packages\\sklearn\\base.py:918\u001B[39m, in \u001B[36mTransformerMixin.fit_transform\u001B[39m\u001B[34m(self, X, y, **fit_params)\u001B[39m\n\u001B[32m    903\u001B[39m         warnings.warn(\n\u001B[32m    904\u001B[39m             (\n\u001B[32m    905\u001B[39m                 \u001B[33mf\u001B[39m\u001B[33m\"\u001B[39m\u001B[33mThis object (\u001B[39m\u001B[38;5;132;01m{\u001B[39;00m\u001B[38;5;28mself\u001B[39m.\u001B[34m__class__\u001B[39m.\u001B[34m__name__\u001B[39m\u001B[38;5;132;01m}\u001B[39;00m\u001B[33m) has a `transform`\u001B[39m\u001B[33m\"\u001B[39m\n\u001B[32m   (...)\u001B[39m\u001B[32m    913\u001B[39m             \u001B[38;5;167;01mUserWarning\u001B[39;00m,\n\u001B[32m    914\u001B[39m         )\n\u001B[32m    916\u001B[39m \u001B[38;5;28;01mif\u001B[39;00m y \u001B[38;5;129;01mis\u001B[39;00m \u001B[38;5;28;01mNone\u001B[39;00m:\n\u001B[32m    917\u001B[39m     \u001B[38;5;66;03m# fit method of arity 1 (unsupervised transformation)\u001B[39;00m\n\u001B[32m--> \u001B[39m\u001B[32m918\u001B[39m     \u001B[38;5;28;01mreturn\u001B[39;00m \u001B[38;5;28;43mself\u001B[39;49m\u001B[43m.\u001B[49m\u001B[43mfit\u001B[49m\u001B[43m(\u001B[49m\u001B[43mX\u001B[49m\u001B[43m,\u001B[49m\u001B[43m \u001B[49m\u001B[43m*\u001B[49m\u001B[43m*\u001B[49m\u001B[43mfit_params\u001B[49m\u001B[43m)\u001B[49m.transform(X)\n\u001B[32m    919\u001B[39m \u001B[38;5;28;01melse\u001B[39;00m:\n\u001B[32m    920\u001B[39m     \u001B[38;5;66;03m# fit method of arity 2 (supervised transformation)\u001B[39;00m\n\u001B[32m    921\u001B[39m     \u001B[38;5;28;01mreturn\u001B[39;00m \u001B[38;5;28mself\u001B[39m.fit(X, y, **fit_params).transform(X)\n",
      "\u001B[36mFile \u001B[39m\u001B[32m~\\PyCharmMiscProject\\.venv\\Lib\\site-packages\\sklearn\\base.py:1389\u001B[39m, in \u001B[36m_fit_context.<locals>.decorator.<locals>.wrapper\u001B[39m\u001B[34m(estimator, *args, **kwargs)\u001B[39m\n\u001B[32m   1382\u001B[39m     estimator._validate_params()\n\u001B[32m   1384\u001B[39m \u001B[38;5;28;01mwith\u001B[39;00m config_context(\n\u001B[32m   1385\u001B[39m     skip_parameter_validation=(\n\u001B[32m   1386\u001B[39m         prefer_skip_nested_validation \u001B[38;5;129;01mor\u001B[39;00m global_skip_validation\n\u001B[32m   1387\u001B[39m     )\n\u001B[32m   1388\u001B[39m ):\n\u001B[32m-> \u001B[39m\u001B[32m1389\u001B[39m     \u001B[38;5;28;01mreturn\u001B[39;00m \u001B[43mfit_method\u001B[49m\u001B[43m(\u001B[49m\u001B[43mestimator\u001B[49m\u001B[43m,\u001B[49m\u001B[43m \u001B[49m\u001B[43m*\u001B[49m\u001B[43margs\u001B[49m\u001B[43m,\u001B[49m\u001B[43m \u001B[49m\u001B[43m*\u001B[49m\u001B[43m*\u001B[49m\u001B[43mkwargs\u001B[49m\u001B[43m)\u001B[49m\n",
      "\u001B[36mFile \u001B[39m\u001B[32m~\\PyCharmMiscProject\\.venv\\Lib\\site-packages\\sklearn\\impute\\_base.py:434\u001B[39m, in \u001B[36mSimpleImputer.fit\u001B[39m\u001B[34m(self, X, y)\u001B[39m\n\u001B[32m    416\u001B[39m \u001B[38;5;129m@_fit_context\u001B[39m(prefer_skip_nested_validation=\u001B[38;5;28;01mTrue\u001B[39;00m)\n\u001B[32m    417\u001B[39m \u001B[38;5;28;01mdef\u001B[39;00m\u001B[38;5;250m \u001B[39m\u001B[34mfit\u001B[39m(\u001B[38;5;28mself\u001B[39m, X, y=\u001B[38;5;28;01mNone\u001B[39;00m):\n\u001B[32m    418\u001B[39m \u001B[38;5;250m    \u001B[39m\u001B[33;03m\"\"\"Fit the imputer on `X`.\u001B[39;00m\n\u001B[32m    419\u001B[39m \n\u001B[32m    420\u001B[39m \u001B[33;03m    Parameters\u001B[39;00m\n\u001B[32m   (...)\u001B[39m\u001B[32m    432\u001B[39m \u001B[33;03m        Fitted estimator.\u001B[39;00m\n\u001B[32m    433\u001B[39m \u001B[33;03m    \"\"\"\u001B[39;00m\n\u001B[32m--> \u001B[39m\u001B[32m434\u001B[39m     X = \u001B[38;5;28;43mself\u001B[39;49m\u001B[43m.\u001B[49m\u001B[43m_validate_input\u001B[49m\u001B[43m(\u001B[49m\u001B[43mX\u001B[49m\u001B[43m,\u001B[49m\u001B[43m \u001B[49m\u001B[43min_fit\u001B[49m\u001B[43m=\u001B[49m\u001B[38;5;28;43;01mTrue\u001B[39;49;00m\u001B[43m)\u001B[49m\n\u001B[32m    436\u001B[39m     \u001B[38;5;66;03m# default fill_value is 0 for numerical input and \"missing_value\"\u001B[39;00m\n\u001B[32m    437\u001B[39m     \u001B[38;5;66;03m# otherwise\u001B[39;00m\n\u001B[32m    438\u001B[39m     \u001B[38;5;28;01mif\u001B[39;00m \u001B[38;5;28mself\u001B[39m.fill_value \u001B[38;5;129;01mis\u001B[39;00m \u001B[38;5;28;01mNone\u001B[39;00m:\n",
      "\u001B[36mFile \u001B[39m\u001B[32m~\\PyCharmMiscProject\\.venv\\Lib\\site-packages\\sklearn\\impute\\_base.py:361\u001B[39m, in \u001B[36mSimpleImputer._validate_input\u001B[39m\u001B[34m(self, X, in_fit)\u001B[39m\n\u001B[32m    355\u001B[39m \u001B[38;5;28;01mif\u001B[39;00m \u001B[33m\"\u001B[39m\u001B[33mcould not convert\u001B[39m\u001B[33m\"\u001B[39m \u001B[38;5;129;01min\u001B[39;00m \u001B[38;5;28mstr\u001B[39m(ve):\n\u001B[32m    356\u001B[39m     new_ve = \u001B[38;5;167;01mValueError\u001B[39;00m(\n\u001B[32m    357\u001B[39m         \u001B[33m\"\u001B[39m\u001B[33mCannot use \u001B[39m\u001B[38;5;132;01m{}\u001B[39;00m\u001B[33m strategy with non-numeric data:\u001B[39m\u001B[38;5;130;01m\\n\u001B[39;00m\u001B[38;5;132;01m{}\u001B[39;00m\u001B[33m\"\u001B[39m.format(\n\u001B[32m    358\u001B[39m             \u001B[38;5;28mself\u001B[39m.strategy, ve\n\u001B[32m    359\u001B[39m         )\n\u001B[32m    360\u001B[39m     )\n\u001B[32m--> \u001B[39m\u001B[32m361\u001B[39m     \u001B[38;5;28;01mraise\u001B[39;00m new_ve \u001B[38;5;28;01mfrom\u001B[39;00m\u001B[38;5;250m \u001B[39m\u001B[38;5;28;01mNone\u001B[39;00m\n\u001B[32m    362\u001B[39m \u001B[38;5;28;01melse\u001B[39;00m:\n\u001B[32m    363\u001B[39m     \u001B[38;5;28;01mraise\u001B[39;00m ve\n",
      "\u001B[31mValueError\u001B[39m: Cannot use mean strategy with non-numeric data:\ncould not convert string to float: 'claim'"
     ]
    }
   ],
   "execution_count": 61
  },
  {
   "metadata": {},
   "cell_type": "code",
   "outputs": [],
   "execution_count": null,
   "source": "",
   "id": "18ff178dc5a0dc88"
  },
  {
   "metadata": {},
   "cell_type": "code",
   "outputs": [],
   "execution_count": null,
   "source": "",
   "id": "1da180d0b0e3e22b"
  },
  {
   "metadata": {},
   "cell_type": "code",
   "outputs": [],
   "execution_count": null,
   "source": "",
   "id": "88bd1ecf86ed2f90"
  },
  {
   "metadata": {},
   "cell_type": "code",
   "outputs": [],
   "execution_count": null,
   "source": "",
   "id": "9b9e49af9f339e17"
  },
  {
   "metadata": {},
   "cell_type": "code",
   "outputs": [],
   "execution_count": null,
   "source": "",
   "id": "22c94d9ab32f5129"
  }
 ],
 "metadata": {
  "kernelspec": {
   "display_name": "Python 3",
   "language": "python",
   "name": "python3"
  },
  "language_info": {
   "codemirror_mode": {
    "name": "ipython",
    "version": 2
   },
   "file_extension": ".py",
   "mimetype": "text/x-python",
   "name": "python",
   "nbconvert_exporter": "python",
   "pygments_lexer": "ipython2",
   "version": "2.7.6"
  }
 },
 "nbformat": 4,
 "nbformat_minor": 5
}
