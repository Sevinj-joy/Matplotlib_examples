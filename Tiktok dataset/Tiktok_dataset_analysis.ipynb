{
 "cells": [
  {
   "metadata": {
    "ExecuteTime": {
     "end_time": "2025-03-31T19:11:09.150986Z",
     "start_time": "2025-03-31T19:11:09.113518Z"
    }
   },
   "cell_type": "code",
   "source": [
    "import pandas as pd\n",
    "import numpy as np\n",
    "import matplotlib.pyplot as plt\n",
    "import seaborn as sns"
   ],
   "id": "dd13670437d7964c",
   "outputs": [],
   "execution_count": 88
  },
  {
   "metadata": {
    "ExecuteTime": {
     "end_time": "2025-03-31T19:11:11.538023Z",
     "start_time": "2025-03-31T19:11:11.255767Z"
    }
   },
   "cell_type": "code",
   "source": "data = pd.read_csv(r'C:\\Users\\aa\\PyCharmMiscProject\\Tiktok_analysis\\tiktok_dataset_.csv', sep=';')",
   "id": "e51e8ab331f644ae",
   "outputs": [],
   "execution_count": 89
  },
  {
   "metadata": {
    "ExecuteTime": {
     "end_time": "2025-03-31T19:11:13.312716Z",
     "start_time": "2025-03-31T19:11:13.258187Z"
    }
   },
   "cell_type": "code",
   "source": "data.head()",
   "id": "169d112ec3827146",
   "outputs": [
    {
     "data": {
      "text/plain": [
       "   # claim_status    video_id  video_duration_sec  \\\n",
       "0  1        claim  7017666017                  59   \n",
       "1  2        claim  4014381136                  32   \n",
       "2  3        claim  9859838091                  31   \n",
       "3  4        claim  1866847991                  25   \n",
       "4  5        claim  7105231098                  19   \n",
       "\n",
       "                            video_transcription_text verified_status  \\\n",
       "0  someone shared with me that drone deliveries a...    not verified   \n",
       "1  someone shared with me that there are more mic...    not verified   \n",
       "2  someone shared with me that american industria...    not verified   \n",
       "3  someone shared with me that the metro of st. p...    not verified   \n",
       "4  someone shared with me that the number of busi...    not verified   \n",
       "\n",
       "  author_ban_status  video_view_count  video_like_count  video_share_count  \\\n",
       "0      under review            343296             19425                241   \n",
       "1            active            140877             77355              19034   \n",
       "2            active            902185             97690               2858   \n",
       "3            active            437506            239954              34812   \n",
       "4            active             56167             34987               4110   \n",
       "\n",
       "   video_download_count  video_comment_count  \n",
       "0                     1                    0  \n",
       "1                  1161                  684  \n",
       "2                   833                  329  \n",
       "3                  1234                  584  \n",
       "4                   547                  152  "
      ],
      "text/html": [
       "<div>\n",
       "<style scoped>\n",
       "    .dataframe tbody tr th:only-of-type {\n",
       "        vertical-align: middle;\n",
       "    }\n",
       "\n",
       "    .dataframe tbody tr th {\n",
       "        vertical-align: top;\n",
       "    }\n",
       "\n",
       "    .dataframe thead th {\n",
       "        text-align: right;\n",
       "    }\n",
       "</style>\n",
       "<table border=\"1\" class=\"dataframe\">\n",
       "  <thead>\n",
       "    <tr style=\"text-align: right;\">\n",
       "      <th></th>\n",
       "      <th>#</th>\n",
       "      <th>claim_status</th>\n",
       "      <th>video_id</th>\n",
       "      <th>video_duration_sec</th>\n",
       "      <th>video_transcription_text</th>\n",
       "      <th>verified_status</th>\n",
       "      <th>author_ban_status</th>\n",
       "      <th>video_view_count</th>\n",
       "      <th>video_like_count</th>\n",
       "      <th>video_share_count</th>\n",
       "      <th>video_download_count</th>\n",
       "      <th>video_comment_count</th>\n",
       "    </tr>\n",
       "  </thead>\n",
       "  <tbody>\n",
       "    <tr>\n",
       "      <th>0</th>\n",
       "      <td>1</td>\n",
       "      <td>claim</td>\n",
       "      <td>7017666017</td>\n",
       "      <td>59</td>\n",
       "      <td>someone shared with me that drone deliveries a...</td>\n",
       "      <td>not verified</td>\n",
       "      <td>under review</td>\n",
       "      <td>343296</td>\n",
       "      <td>19425</td>\n",
       "      <td>241</td>\n",
       "      <td>1</td>\n",
       "      <td>0</td>\n",
       "    </tr>\n",
       "    <tr>\n",
       "      <th>1</th>\n",
       "      <td>2</td>\n",
       "      <td>claim</td>\n",
       "      <td>4014381136</td>\n",
       "      <td>32</td>\n",
       "      <td>someone shared with me that there are more mic...</td>\n",
       "      <td>not verified</td>\n",
       "      <td>active</td>\n",
       "      <td>140877</td>\n",
       "      <td>77355</td>\n",
       "      <td>19034</td>\n",
       "      <td>1161</td>\n",
       "      <td>684</td>\n",
       "    </tr>\n",
       "    <tr>\n",
       "      <th>2</th>\n",
       "      <td>3</td>\n",
       "      <td>claim</td>\n",
       "      <td>9859838091</td>\n",
       "      <td>31</td>\n",
       "      <td>someone shared with me that american industria...</td>\n",
       "      <td>not verified</td>\n",
       "      <td>active</td>\n",
       "      <td>902185</td>\n",
       "      <td>97690</td>\n",
       "      <td>2858</td>\n",
       "      <td>833</td>\n",
       "      <td>329</td>\n",
       "    </tr>\n",
       "    <tr>\n",
       "      <th>3</th>\n",
       "      <td>4</td>\n",
       "      <td>claim</td>\n",
       "      <td>1866847991</td>\n",
       "      <td>25</td>\n",
       "      <td>someone shared with me that the metro of st. p...</td>\n",
       "      <td>not verified</td>\n",
       "      <td>active</td>\n",
       "      <td>437506</td>\n",
       "      <td>239954</td>\n",
       "      <td>34812</td>\n",
       "      <td>1234</td>\n",
       "      <td>584</td>\n",
       "    </tr>\n",
       "    <tr>\n",
       "      <th>4</th>\n",
       "      <td>5</td>\n",
       "      <td>claim</td>\n",
       "      <td>7105231098</td>\n",
       "      <td>19</td>\n",
       "      <td>someone shared with me that the number of busi...</td>\n",
       "      <td>not verified</td>\n",
       "      <td>active</td>\n",
       "      <td>56167</td>\n",
       "      <td>34987</td>\n",
       "      <td>4110</td>\n",
       "      <td>547</td>\n",
       "      <td>152</td>\n",
       "    </tr>\n",
       "  </tbody>\n",
       "</table>\n",
       "</div>"
      ]
     },
     "execution_count": 90,
     "metadata": {},
     "output_type": "execute_result"
    }
   ],
   "execution_count": 90
  },
  {
   "metadata": {
    "ExecuteTime": {
     "end_time": "2025-03-31T19:04:59.727731Z",
     "start_time": "2025-03-31T19:04:59.682430Z"
    }
   },
   "cell_type": "code",
   "source": "data.info()",
   "id": "d906e6e4895cccdd",
   "outputs": [
    {
     "name": "stdout",
     "output_type": "stream",
     "text": [
      "<class 'pandas.core.frame.DataFrame'>\n",
      "RangeIndex: 19382 entries, 0 to 19381\n",
      "Data columns (total 12 columns):\n",
      " #   Column                    Non-Null Count  Dtype  \n",
      "---  ------                    --------------  -----  \n",
      " 0   #                         19382 non-null  int64  \n",
      " 1   claim_status              19084 non-null  object \n",
      " 2   video_id                  19382 non-null  int64  \n",
      " 3   video_duration_sec        19382 non-null  int64  \n",
      " 4   video_transcription_text  19084 non-null  object \n",
      " 5   verified_status           19382 non-null  object \n",
      " 6   author_ban_status         19382 non-null  object \n",
      " 7   video_view_count          19084 non-null  float64\n",
      " 8   video_like_count          19084 non-null  float64\n",
      " 9   video_share_count         19084 non-null  float64\n",
      " 10  video_download_count      19084 non-null  float64\n",
      " 11  video_comment_count       19084 non-null  float64\n",
      "dtypes: float64(5), int64(3), object(4)\n",
      "memory usage: 1.8+ MB\n"
     ]
    }
   ],
   "execution_count": 49
  },
  {
   "metadata": {
    "ExecuteTime": {
     "end_time": "2025-03-31T19:11:38.880293Z",
     "start_time": "2025-03-31T19:11:38.724011Z"
    }
   },
   "cell_type": "code",
   "source": "data.describe()",
   "id": "1bcde84ab4ffda18",
   "outputs": [
    {
     "data": {
      "text/plain": [
       "                  #      video_id  video_duration_sec  video_view_count  \\\n",
       "count  19084.000000  1.908400e+04        19084.000000      19084.000000   \n",
       "mean    9542.500000  5.624840e+09           32.423811     254708.558688   \n",
       "std     5509.220604  2.537030e+09           16.226470     322893.280814   \n",
       "min        1.000000  1.234959e+09            5.000000         20.000000   \n",
       "25%     4771.750000  3.425100e+09           18.000000       4942.500000   \n",
       "50%     9542.500000  5.609500e+09           32.000000       9954.500000   \n",
       "75%    14313.250000  7.840823e+09           47.000000     504327.000000   \n",
       "max    19084.000000  9.999873e+09           60.000000     999817.000000   \n",
       "\n",
       "       video_like_count  video_share_count  video_download_count  \\\n",
       "count      19084.000000       19084.000000          19084.000000   \n",
       "mean       84304.636030       16735.248323           1049.429627   \n",
       "std       133420.546814       32036.174350           2004.299894   \n",
       "min            0.000000           0.000000              0.000000   \n",
       "25%          810.750000         115.000000              7.000000   \n",
       "50%         3403.500000         717.000000             46.000000   \n",
       "75%       125020.000000       18222.000000           1156.250000   \n",
       "max       657830.000000      256130.000000          14994.000000   \n",
       "\n",
       "       video_comment_count  \n",
       "count         19084.000000  \n",
       "mean            349.312146  \n",
       "std             799.638865  \n",
       "min               0.000000  \n",
       "25%               1.000000  \n",
       "50%               9.000000  \n",
       "75%             292.000000  \n",
       "max            9599.000000  "
      ],
      "text/html": [
       "<div>\n",
       "<style scoped>\n",
       "    .dataframe tbody tr th:only-of-type {\n",
       "        vertical-align: middle;\n",
       "    }\n",
       "\n",
       "    .dataframe tbody tr th {\n",
       "        vertical-align: top;\n",
       "    }\n",
       "\n",
       "    .dataframe thead th {\n",
       "        text-align: right;\n",
       "    }\n",
       "</style>\n",
       "<table border=\"1\" class=\"dataframe\">\n",
       "  <thead>\n",
       "    <tr style=\"text-align: right;\">\n",
       "      <th></th>\n",
       "      <th>#</th>\n",
       "      <th>video_id</th>\n",
       "      <th>video_duration_sec</th>\n",
       "      <th>video_view_count</th>\n",
       "      <th>video_like_count</th>\n",
       "      <th>video_share_count</th>\n",
       "      <th>video_download_count</th>\n",
       "      <th>video_comment_count</th>\n",
       "    </tr>\n",
       "  </thead>\n",
       "  <tbody>\n",
       "    <tr>\n",
       "      <th>count</th>\n",
       "      <td>19084.000000</td>\n",
       "      <td>1.908400e+04</td>\n",
       "      <td>19084.000000</td>\n",
       "      <td>19084.000000</td>\n",
       "      <td>19084.000000</td>\n",
       "      <td>19084.000000</td>\n",
       "      <td>19084.000000</td>\n",
       "      <td>19084.000000</td>\n",
       "    </tr>\n",
       "    <tr>\n",
       "      <th>mean</th>\n",
       "      <td>9542.500000</td>\n",
       "      <td>5.624840e+09</td>\n",
       "      <td>32.423811</td>\n",
       "      <td>254708.558688</td>\n",
       "      <td>84304.636030</td>\n",
       "      <td>16735.248323</td>\n",
       "      <td>1049.429627</td>\n",
       "      <td>349.312146</td>\n",
       "    </tr>\n",
       "    <tr>\n",
       "      <th>std</th>\n",
       "      <td>5509.220604</td>\n",
       "      <td>2.537030e+09</td>\n",
       "      <td>16.226470</td>\n",
       "      <td>322893.280814</td>\n",
       "      <td>133420.546814</td>\n",
       "      <td>32036.174350</td>\n",
       "      <td>2004.299894</td>\n",
       "      <td>799.638865</td>\n",
       "    </tr>\n",
       "    <tr>\n",
       "      <th>min</th>\n",
       "      <td>1.000000</td>\n",
       "      <td>1.234959e+09</td>\n",
       "      <td>5.000000</td>\n",
       "      <td>20.000000</td>\n",
       "      <td>0.000000</td>\n",
       "      <td>0.000000</td>\n",
       "      <td>0.000000</td>\n",
       "      <td>0.000000</td>\n",
       "    </tr>\n",
       "    <tr>\n",
       "      <th>25%</th>\n",
       "      <td>4771.750000</td>\n",
       "      <td>3.425100e+09</td>\n",
       "      <td>18.000000</td>\n",
       "      <td>4942.500000</td>\n",
       "      <td>810.750000</td>\n",
       "      <td>115.000000</td>\n",
       "      <td>7.000000</td>\n",
       "      <td>1.000000</td>\n",
       "    </tr>\n",
       "    <tr>\n",
       "      <th>50%</th>\n",
       "      <td>9542.500000</td>\n",
       "      <td>5.609500e+09</td>\n",
       "      <td>32.000000</td>\n",
       "      <td>9954.500000</td>\n",
       "      <td>3403.500000</td>\n",
       "      <td>717.000000</td>\n",
       "      <td>46.000000</td>\n",
       "      <td>9.000000</td>\n",
       "    </tr>\n",
       "    <tr>\n",
       "      <th>75%</th>\n",
       "      <td>14313.250000</td>\n",
       "      <td>7.840823e+09</td>\n",
       "      <td>47.000000</td>\n",
       "      <td>504327.000000</td>\n",
       "      <td>125020.000000</td>\n",
       "      <td>18222.000000</td>\n",
       "      <td>1156.250000</td>\n",
       "      <td>292.000000</td>\n",
       "    </tr>\n",
       "    <tr>\n",
       "      <th>max</th>\n",
       "      <td>19084.000000</td>\n",
       "      <td>9.999873e+09</td>\n",
       "      <td>60.000000</td>\n",
       "      <td>999817.000000</td>\n",
       "      <td>657830.000000</td>\n",
       "      <td>256130.000000</td>\n",
       "      <td>14994.000000</td>\n",
       "      <td>9599.000000</td>\n",
       "    </tr>\n",
       "  </tbody>\n",
       "</table>\n",
       "</div>"
      ]
     },
     "execution_count": 92,
     "metadata": {},
     "output_type": "execute_result"
    }
   ],
   "execution_count": 92
  },
  {
   "metadata": {
    "ExecuteTime": {
     "end_time": "2025-03-31T19:11:50.123705Z",
     "start_time": "2025-03-31T19:11:50.107584Z"
    }
   },
   "cell_type": "code",
   "source": "data.shape",
   "id": "feaa1a82b24581db",
   "outputs": [
    {
     "data": {
      "text/plain": [
       "(19084, 12)"
      ]
     },
     "execution_count": 93,
     "metadata": {},
     "output_type": "execute_result"
    }
   ],
   "execution_count": 93
  },
  {
   "metadata": {
    "ExecuteTime": {
     "end_time": "2025-03-31T19:11:57.093826Z",
     "start_time": "2025-03-31T19:11:57.073564Z"
    }
   },
   "cell_type": "code",
   "source": "data.isnull().sum()",
   "id": "e2d31b94f2d729e5",
   "outputs": [
    {
     "data": {
      "text/plain": [
       "#                           0\n",
       "claim_status                0\n",
       "video_id                    0\n",
       "video_duration_sec          0\n",
       "video_transcription_text    0\n",
       "verified_status             0\n",
       "author_ban_status           0\n",
       "video_view_count            0\n",
       "video_like_count            0\n",
       "video_share_count           0\n",
       "video_download_count        0\n",
       "video_comment_count         0\n",
       "dtype: int64"
      ]
     },
     "execution_count": 94,
     "metadata": {},
     "output_type": "execute_result"
    }
   ],
   "execution_count": 94
  },
  {
   "metadata": {
    "ExecuteTime": {
     "end_time": "2025-03-31T19:12:04.733680Z",
     "start_time": "2025-03-31T19:12:04.720123Z"
    }
   },
   "cell_type": "code",
   "source": "data['verified_status'].value_counts()",
   "id": "a3f5b69767c09493",
   "outputs": [
    {
     "data": {
      "text/plain": [
       "verified_status\n",
       "not verified    17884\n",
       "verified         1200\n",
       "Name: count, dtype: int64"
      ]
     },
     "execution_count": 95,
     "metadata": {},
     "output_type": "execute_result"
    }
   ],
   "execution_count": 95
  },
  {
   "metadata": {
    "ExecuteTime": {
     "end_time": "2025-03-31T19:12:11.212349Z",
     "start_time": "2025-03-31T19:12:11.193216Z"
    }
   },
   "cell_type": "code",
   "source": "data['claim_status'].value_counts()",
   "id": "23cddcd9f78d8518",
   "outputs": [
    {
     "data": {
      "text/plain": [
       "claim_status\n",
       "claim      9608\n",
       "opinion    9476\n",
       "Name: count, dtype: int64"
      ]
     },
     "execution_count": 96,
     "metadata": {},
     "output_type": "execute_result"
    }
   ],
   "execution_count": 96
  },
  {
   "metadata": {},
   "cell_type": "markdown",
   "source": "Data Preprocessing",
   "id": "8e359010058caaf"
  },
  {
   "metadata": {},
   "cell_type": "markdown",
   "source": [
    "\tIdentify missing values (NaN) in the dataset.\n",
    "\n",
    "\tDecide on a strategy to handle them (e.g., filling with mean/median/mode, forward/backward filling, or dropping rows/columns).\n"
   ],
   "id": "ea2f8bcdfda08b98"
  },
  {
   "metadata": {
    "ExecuteTime": {
     "end_time": "2025-03-31T19:12:20.306713Z",
     "start_time": "2025-03-31T19:12:20.297923Z"
    }
   },
   "cell_type": "code",
   "outputs": [
    {
     "name": "stdout",
     "output_type": "stream",
     "text": [
      "0        False\n",
      "1        False\n",
      "2        False\n",
      "3        False\n",
      "4        False\n",
      "         ...  \n",
      "19079    False\n",
      "19080    False\n",
      "19081    False\n",
      "19082    False\n",
      "19083    False\n",
      "Name: claim_status, Length: 19084, dtype: bool\n"
     ]
    }
   ],
   "execution_count": 98,
   "source": "print(data['claim_status'].isnull())",
   "id": "d1c20838e18f6fdb"
  },
  {
   "metadata": {
    "ExecuteTime": {
     "end_time": "2025-03-31T19:12:17.565352Z",
     "start_time": "2025-03-31T19:12:17.556126Z"
    }
   },
   "cell_type": "code",
   "outputs": [
    {
     "data": {
      "text/plain": [
       "claim_status\n",
       "claim      9608\n",
       "opinion    9476\n",
       "Name: count, dtype: int64"
      ]
     },
     "execution_count": 97,
     "metadata": {},
     "output_type": "execute_result"
    }
   ],
   "execution_count": 97,
   "source": "data['claim_status'].value_counts(dropna=False)",
   "id": "54f997f89818722f"
  },
  {
   "metadata": {
    "ExecuteTime": {
     "end_time": "2025-03-31T19:14:16.834043Z",
     "start_time": "2025-03-31T19:14:16.814539Z"
    }
   },
   "cell_type": "code",
   "source": [
    "missing_percentage = (data.isnull().sum() / len(data)) * 100\n",
    "print(missing_percentage)"
   ],
   "id": "d588a14966fa3aea",
   "outputs": [
    {
     "name": "stdout",
     "output_type": "stream",
     "text": [
      "#                           0.0\n",
      "claim_status                0.0\n",
      "video_id                    0.0\n",
      "video_duration_sec          0.0\n",
      "video_transcription_text    0.0\n",
      "verified_status             0.0\n",
      "author_ban_status           0.0\n",
      "video_view_count            0.0\n",
      "video_like_count            0.0\n",
      "video_share_count           0.0\n",
      "video_download_count        0.0\n",
      "video_comment_count         0.0\n",
      "dtype: float64\n"
     ]
    }
   ],
   "execution_count": 103
  },
  {
   "metadata": {
    "ExecuteTime": {
     "end_time": "2025-03-31T19:12:40.600040Z",
     "start_time": "2025-03-31T19:12:40.565805Z"
    }
   },
   "cell_type": "code",
   "source": [
    "null_values = data.isnull()\n",
    "print(null_values)"
   ],
   "id": "3af066a0b063684c",
   "outputs": [
    {
     "name": "stdout",
     "output_type": "stream",
     "text": [
      "           #  claim_status  video_id  video_duration_sec  \\\n",
      "0      False         False     False               False   \n",
      "1      False         False     False               False   \n",
      "2      False         False     False               False   \n",
      "3      False         False     False               False   \n",
      "4      False         False     False               False   \n",
      "...      ...           ...       ...                 ...   \n",
      "19079  False         False     False               False   \n",
      "19080  False         False     False               False   \n",
      "19081  False         False     False               False   \n",
      "19082  False         False     False               False   \n",
      "19083  False         False     False               False   \n",
      "\n",
      "       video_transcription_text  verified_status  author_ban_status  \\\n",
      "0                         False            False              False   \n",
      "1                         False            False              False   \n",
      "2                         False            False              False   \n",
      "3                         False            False              False   \n",
      "4                         False            False              False   \n",
      "...                         ...              ...                ...   \n",
      "19079                     False            False              False   \n",
      "19080                     False            False              False   \n",
      "19081                     False            False              False   \n",
      "19082                     False            False              False   \n",
      "19083                     False            False              False   \n",
      "\n",
      "       video_view_count  video_like_count  video_share_count  \\\n",
      "0                 False             False              False   \n",
      "1                 False             False              False   \n",
      "2                 False             False              False   \n",
      "3                 False             False              False   \n",
      "4                 False             False              False   \n",
      "...                 ...               ...                ...   \n",
      "19079             False             False              False   \n",
      "19080             False             False              False   \n",
      "19081             False             False              False   \n",
      "19082             False             False              False   \n",
      "19083             False             False              False   \n",
      "\n",
      "       video_download_count  video_comment_count  \n",
      "0                     False                False  \n",
      "1                     False                False  \n",
      "2                     False                False  \n",
      "3                     False                False  \n",
      "4                     False                False  \n",
      "...                     ...                  ...  \n",
      "19079                 False                False  \n",
      "19080                 False                False  \n",
      "19081                 False                False  \n",
      "19082                 False                False  \n",
      "19083                 False                False  \n",
      "\n",
      "[19084 rows x 12 columns]\n"
     ]
    }
   ],
   "execution_count": 100
  },
  {
   "metadata": {
    "ExecuteTime": {
     "end_time": "2025-03-31T19:05:02.821756Z",
     "start_time": "2025-03-31T19:05:02.751228Z"
    }
   },
   "cell_type": "code",
   "source": [
    "null_summary = data.isnull().sum().reset_index()\n",
    "null_summary.columns = ['Column', 'MissingValues']\n",
    "null_summary['Percentage'] = (null_summary['MissingValues'] / len(data)) * 100\n",
    "print(null_summary)"
   ],
   "id": "31c548654c7e32ac",
   "outputs": [
    {
     "name": "stdout",
     "output_type": "stream",
     "text": [
      "                      Column  MissingValues  Percentage\n",
      "0                          #              0    0.000000\n",
      "1               claim_status            298    1.537509\n",
      "2                   video_id              0    0.000000\n",
      "3         video_duration_sec              0    0.000000\n",
      "4   video_transcription_text            298    1.537509\n",
      "5            verified_status              0    0.000000\n",
      "6          author_ban_status              0    0.000000\n",
      "7           video_view_count            298    1.537509\n",
      "8           video_like_count            298    1.537509\n",
      "9          video_share_count            298    1.537509\n",
      "10      video_download_count            298    1.537509\n",
      "11       video_comment_count            298    1.537509\n"
     ]
    }
   ],
   "execution_count": 59
  },
  {
   "metadata": {
    "ExecuteTime": {
     "end_time": "2025-03-31T19:05:02.950881Z",
     "start_time": "2025-03-31T19:05:02.844357Z"
    }
   },
   "cell_type": "code",
   "source": [
    "only_nulls = data[data.isnull()]\n",
    "print(only_nulls)\n"
   ],
   "id": "9d7ed7c73e892055",
   "outputs": [
    {
     "name": "stdout",
     "output_type": "stream",
     "text": [
      "        # claim_status  video_id  video_duration_sec video_transcription_text  \\\n",
      "0     NaN          NaN       NaN                 NaN                      NaN   \n",
      "1     NaN          NaN       NaN                 NaN                      NaN   \n",
      "2     NaN          NaN       NaN                 NaN                      NaN   \n",
      "3     NaN          NaN       NaN                 NaN                      NaN   \n",
      "4     NaN          NaN       NaN                 NaN                      NaN   \n",
      "...    ..          ...       ...                 ...                      ...   \n",
      "19377 NaN          NaN       NaN                 NaN                      NaN   \n",
      "19378 NaN          NaN       NaN                 NaN                      NaN   \n",
      "19379 NaN          NaN       NaN                 NaN                      NaN   \n",
      "19380 NaN          NaN       NaN                 NaN                      NaN   \n",
      "19381 NaN          NaN       NaN                 NaN                      NaN   \n",
      "\n",
      "      verified_status author_ban_status  video_view_count  video_like_count  \\\n",
      "0                 NaN               NaN               NaN               NaN   \n",
      "1                 NaN               NaN               NaN               NaN   \n",
      "2                 NaN               NaN               NaN               NaN   \n",
      "3                 NaN               NaN               NaN               NaN   \n",
      "4                 NaN               NaN               NaN               NaN   \n",
      "...               ...               ...               ...               ...   \n",
      "19377             NaN               NaN               NaN               NaN   \n",
      "19378             NaN               NaN               NaN               NaN   \n",
      "19379             NaN               NaN               NaN               NaN   \n",
      "19380             NaN               NaN               NaN               NaN   \n",
      "19381             NaN               NaN               NaN               NaN   \n",
      "\n",
      "       video_share_count  video_download_count  video_comment_count  \n",
      "0                    NaN                   NaN                  NaN  \n",
      "1                    NaN                   NaN                  NaN  \n",
      "2                    NaN                   NaN                  NaN  \n",
      "3                    NaN                   NaN                  NaN  \n",
      "4                    NaN                   NaN                  NaN  \n",
      "...                  ...                   ...                  ...  \n",
      "19377                NaN                   NaN                  NaN  \n",
      "19378                NaN                   NaN                  NaN  \n",
      "19379                NaN                   NaN                  NaN  \n",
      "19380                NaN                   NaN                  NaN  \n",
      "19381                NaN                   NaN                  NaN  \n",
      "\n",
      "[19382 rows x 12 columns]\n"
     ]
    }
   ],
   "execution_count": 60
  },
  {
   "metadata": {},
   "cell_type": "markdown",
   "source": [
    "Total missing values by column\n",
    "\n",
    "Rows with missing values\n",
    "\n",
    "Percentage of missing values by column\n",
    "\n",
    "\n"
   ],
   "id": "540fcffa63f9790a"
  },
  {
   "metadata": {
    "ExecuteTime": {
     "end_time": "2025-03-31T19:05:03.044862Z",
     "start_time": "2025-03-31T19:05:03.004753Z"
    }
   },
   "cell_type": "code",
   "source": [
    "print(\"Total missing values by column:\")\n",
    "print(data.isnull().sum())\n",
    "\n",
    "print(\"\\nRows with missing values:\")\n",
    "print(data[data.isnull().any(axis=1)])\n",
    "\n",
    "print(\"\\nPercentage of missing values by column:\")\n",
    "print((data.isnull().sum() / len(data)) * 100)"
   ],
   "id": "1240f13bd782dddf",
   "outputs": [
    {
     "name": "stdout",
     "output_type": "stream",
     "text": [
      "Total missing values by column:\n",
      "#                             0\n",
      "claim_status                298\n",
      "video_id                      0\n",
      "video_duration_sec            0\n",
      "video_transcription_text    298\n",
      "verified_status               0\n",
      "author_ban_status             0\n",
      "video_view_count            298\n",
      "video_like_count            298\n",
      "video_share_count           298\n",
      "video_download_count        298\n",
      "video_comment_count         298\n",
      "dtype: int64\n",
      "\n",
      "Rows with missing values:\n",
      "           # claim_status    video_id  video_duration_sec  \\\n",
      "19084  19085          NaN  4380513697                  39   \n",
      "19085  19086          NaN  8352130892                  60   \n",
      "19086  19087          NaN  4443076562                  25   \n",
      "19087  19088          NaN  8328300333                   7   \n",
      "19088  19089          NaN  3968729520                   8   \n",
      "...      ...          ...         ...                 ...   \n",
      "19377  19378          NaN  7578226840                  21   \n",
      "19378  19379          NaN  6079236179                  53   \n",
      "19379  19380          NaN  2565539685                  10   \n",
      "19380  19381          NaN  2969178540                  24   \n",
      "19381  19382          NaN  8132759688                  13   \n",
      "\n",
      "      video_transcription_text verified_status author_ban_status  \\\n",
      "19084                      NaN    not verified            active   \n",
      "19085                      NaN    not verified            active   \n",
      "19086                      NaN    not verified            active   \n",
      "19087                      NaN    not verified            active   \n",
      "19088                      NaN    not verified            active   \n",
      "...                        ...             ...               ...   \n",
      "19377                      NaN    not verified            active   \n",
      "19378                      NaN    not verified            active   \n",
      "19379                      NaN        verified      under review   \n",
      "19380                      NaN    not verified            active   \n",
      "19381                      NaN    not verified            active   \n",
      "\n",
      "       video_view_count  video_like_count  video_share_count  \\\n",
      "19084               NaN               NaN                NaN   \n",
      "19085               NaN               NaN                NaN   \n",
      "19086               NaN               NaN                NaN   \n",
      "19087               NaN               NaN                NaN   \n",
      "19088               NaN               NaN                NaN   \n",
      "...                 ...               ...                ...   \n",
      "19377               NaN               NaN                NaN   \n",
      "19378               NaN               NaN                NaN   \n",
      "19379               NaN               NaN                NaN   \n",
      "19380               NaN               NaN                NaN   \n",
      "19381               NaN               NaN                NaN   \n",
      "\n",
      "       video_download_count  video_comment_count  \n",
      "19084                   NaN                  NaN  \n",
      "19085                   NaN                  NaN  \n",
      "19086                   NaN                  NaN  \n",
      "19087                   NaN                  NaN  \n",
      "19088                   NaN                  NaN  \n",
      "...                     ...                  ...  \n",
      "19377                   NaN                  NaN  \n",
      "19378                   NaN                  NaN  \n",
      "19379                   NaN                  NaN  \n",
      "19380                   NaN                  NaN  \n",
      "19381                   NaN                  NaN  \n",
      "\n",
      "[298 rows x 12 columns]\n",
      "\n",
      "Percentage of missing values by column:\n",
      "#                           0.000000\n",
      "claim_status                1.537509\n",
      "video_id                    0.000000\n",
      "video_duration_sec          0.000000\n",
      "video_transcription_text    1.537509\n",
      "verified_status             0.000000\n",
      "author_ban_status           0.000000\n",
      "video_view_count            1.537509\n",
      "video_like_count            1.537509\n",
      "video_share_count           1.537509\n",
      "video_download_count        1.537509\n",
      "video_comment_count         1.537509\n",
      "dtype: float64\n"
     ]
    }
   ],
   "execution_count": 61
  },
  {
   "metadata": {
    "ExecuteTime": {
     "end_time": "2025-03-31T19:05:03.123640Z",
     "start_time": "2025-03-31T19:05:03.089264Z"
    }
   },
   "cell_type": "code",
   "source": [
    "# Drop all rows with null values\n",
    "data = data.dropna()\n",
    "print(\"Shape of the DataFrame after dropping rows with null values:\", data.shape)\n",
    "\n",
    "rows_with_null = data[data.isnull().any(axis=1)]\n",
    "print(rows_with_null)"
   ],
   "id": "edfea680e5e6dc0d",
   "outputs": [
    {
     "name": "stdout",
     "output_type": "stream",
     "text": [
      "Shape of the DataFrame after dropping rows with null values: (19084, 12)\n",
      "Empty DataFrame\n",
      "Columns: [#, claim_status, video_id, video_duration_sec, video_transcription_text, verified_status, author_ban_status, video_view_count, video_like_count, video_share_count, video_download_count, video_comment_count]\n",
      "Index: []\n"
     ]
    }
   ],
   "execution_count": 62
  },
  {
   "metadata": {
    "ExecuteTime": {
     "end_time": "2025-03-31T19:05:03.190688Z",
     "start_time": "2025-03-31T19:05:03.172912Z"
    }
   },
   "cell_type": "code",
   "source": "data.isnull().sum()",
   "id": "18ff178dc5a0dc88",
   "outputs": [
    {
     "data": {
      "text/plain": [
       "#                           0\n",
       "claim_status                0\n",
       "video_id                    0\n",
       "video_duration_sec          0\n",
       "video_transcription_text    0\n",
       "verified_status             0\n",
       "author_ban_status           0\n",
       "video_view_count            0\n",
       "video_like_count            0\n",
       "video_share_count           0\n",
       "video_download_count        0\n",
       "video_comment_count         0\n",
       "dtype: int64"
      ]
     },
     "execution_count": 63,
     "metadata": {},
     "output_type": "execute_result"
    }
   ],
   "execution_count": 63
  },
  {
   "metadata": {},
   "cell_type": "markdown",
   "source": "\tCheck for and remove any duplicate rows to ensure that each entry is unique.",
   "id": "4ae24122b679e4f9"
  },
  {
   "metadata": {
    "ExecuteTime": {
     "end_time": "2025-03-31T19:05:03.360964Z",
     "start_time": "2025-03-31T19:05:03.299128Z"
    }
   },
   "cell_type": "code",
   "source": "data.nunique()",
   "id": "76bb3848d6b7aa8b",
   "outputs": [
    {
     "data": {
      "text/plain": [
       "#                           19084\n",
       "claim_status                    2\n",
       "video_id                    19084\n",
       "video_duration_sec             56\n",
       "video_transcription_text    19012\n",
       "verified_status                 2\n",
       "author_ban_status               3\n",
       "video_view_count            15632\n",
       "video_like_count            12224\n",
       "video_share_count            9231\n",
       "video_download_count         4336\n",
       "video_comment_count          2424\n",
       "dtype: int64"
      ]
     },
     "execution_count": 64,
     "metadata": {},
     "output_type": "execute_result"
    }
   ],
   "execution_count": 64
  },
  {
   "metadata": {
    "ExecuteTime": {
     "end_time": "2025-03-31T19:05:03.628454Z",
     "start_time": "2025-03-31T19:05:03.577323Z"
    }
   },
   "cell_type": "code",
   "source": "data.duplicated()",
   "id": "95529f9a061c674a",
   "outputs": [
    {
     "data": {
      "text/plain": [
       "0        False\n",
       "1        False\n",
       "2        False\n",
       "3        False\n",
       "4        False\n",
       "         ...  \n",
       "19079    False\n",
       "19080    False\n",
       "19081    False\n",
       "19082    False\n",
       "19083    False\n",
       "Length: 19084, dtype: bool"
      ]
     },
     "execution_count": 65,
     "metadata": {},
     "output_type": "execute_result"
    }
   ],
   "execution_count": 65
  },
  {
   "metadata": {
    "ExecuteTime": {
     "end_time": "2025-03-31T19:05:03.891959Z",
     "start_time": "2025-03-31T19:05:03.837216Z"
    }
   },
   "cell_type": "code",
   "source": [
    "duplicates = data[data.duplicated()]\n",
    "print(duplicates)"
   ],
   "id": "83a2a3254f74839e",
   "outputs": [
    {
     "name": "stdout",
     "output_type": "stream",
     "text": [
      "Empty DataFrame\n",
      "Columns: [#, claim_status, video_id, video_duration_sec, video_transcription_text, verified_status, author_ban_status, video_view_count, video_like_count, video_share_count, video_download_count, video_comment_count]\n",
      "Index: []\n"
     ]
    }
   ],
   "execution_count": 66
  },
  {
   "metadata": {},
   "cell_type": "markdown",
   "source": "\tIdentify and handle outliers in numerical columns like views, likes, comments, etc., using methods such as the IQR method or Z-score.\n",
   "id": "d51bd3c9e3b3ba1d"
  },
  {
   "metadata": {
    "ExecuteTime": {
     "end_time": "2025-03-31T19:05:04.089594Z",
     "start_time": "2025-03-31T19:05:04.063141Z"
    }
   },
   "cell_type": "code",
   "source": [
    "# Calculate the IQR for numerical columns\n",
    "numerical_columns = ['video_view_count', 'video_like_count', 'video_share_count', 'video_download_count']\n",
    "Q1 = data[numerical_columns].quantile(0.25)\n",
    "Q3 = data[numerical_columns].quantile(0.75)\n",
    "IQR = Q3 - Q1\n",
    "\n",
    "lower_bound = Q1 - 1.5 * IQR\n",
    "upper_bound = Q3 + 1.5 * IQR\n",
    "\n",
    "print(\"Shape before removing outliers:\", data.shape)\n",
    "data = data[~((data[numerical_columns] < lower_bound) | (data[numerical_columns] > upper_bound)).any(axis=1)]\n",
    "print(\"Shape after removing outliers:\", data.shape)"
   ],
   "id": "6164dc54019a8d9",
   "outputs": [
    {
     "name": "stdout",
     "output_type": "stream",
     "text": [
      "Shape before removing outliers: (19084, 12)\n",
      "Shape after removing outliers: (15437, 12)\n"
     ]
    }
   ],
   "execution_count": 67
  },
  {
   "metadata": {},
   "cell_type": "markdown",
   "source": "\tConvert categorical variables like verified_status, author_ban_status, etc., into binary or dummy variables if needed for modeling.",
   "id": "aa40ac39d37418a8"
  },
  {
   "metadata": {
    "ExecuteTime": {
     "end_time": "2025-03-31T19:05:04.266799Z",
     "start_time": "2025-03-31T19:05:04.238043Z"
    }
   },
   "cell_type": "code",
   "source": "data.head()",
   "id": "ad6900619b75bf85",
   "outputs": [
    {
     "data": {
      "text/plain": [
       "   # claim_status    video_id  video_duration_sec  \\\n",
       "0  1        claim  7017666017                  59   \n",
       "1  2        claim  4014381136                  32   \n",
       "2  3        claim  9859838091                  31   \n",
       "3  4        claim  1866847991                  25   \n",
       "4  5        claim  7105231098                  19   \n",
       "\n",
       "                            video_transcription_text verified_status  \\\n",
       "0  someone shared with me that drone deliveries a...    not verified   \n",
       "1  someone shared with me that there are more mic...    not verified   \n",
       "2  someone shared with me that american industria...    not verified   \n",
       "3  someone shared with me that the metro of st. p...    not verified   \n",
       "4  someone shared with me that the number of busi...    not verified   \n",
       "\n",
       "  author_ban_status  video_view_count  video_like_count  video_share_count  \\\n",
       "0      under review          343296.0           19425.0              241.0   \n",
       "1            active          140877.0           77355.0            19034.0   \n",
       "2            active          902185.0           97690.0             2858.0   \n",
       "3            active          437506.0          239954.0            34812.0   \n",
       "4            active           56167.0           34987.0             4110.0   \n",
       "\n",
       "   video_download_count  video_comment_count  \n",
       "0                   1.0                  0.0  \n",
       "1                1161.0                684.0  \n",
       "2                 833.0                329.0  \n",
       "3                1234.0                584.0  \n",
       "4                 547.0                152.0  "
      ],
      "text/html": [
       "<div>\n",
       "<style scoped>\n",
       "    .dataframe tbody tr th:only-of-type {\n",
       "        vertical-align: middle;\n",
       "    }\n",
       "\n",
       "    .dataframe tbody tr th {\n",
       "        vertical-align: top;\n",
       "    }\n",
       "\n",
       "    .dataframe thead th {\n",
       "        text-align: right;\n",
       "    }\n",
       "</style>\n",
       "<table border=\"1\" class=\"dataframe\">\n",
       "  <thead>\n",
       "    <tr style=\"text-align: right;\">\n",
       "      <th></th>\n",
       "      <th>#</th>\n",
       "      <th>claim_status</th>\n",
       "      <th>video_id</th>\n",
       "      <th>video_duration_sec</th>\n",
       "      <th>video_transcription_text</th>\n",
       "      <th>verified_status</th>\n",
       "      <th>author_ban_status</th>\n",
       "      <th>video_view_count</th>\n",
       "      <th>video_like_count</th>\n",
       "      <th>video_share_count</th>\n",
       "      <th>video_download_count</th>\n",
       "      <th>video_comment_count</th>\n",
       "    </tr>\n",
       "  </thead>\n",
       "  <tbody>\n",
       "    <tr>\n",
       "      <th>0</th>\n",
       "      <td>1</td>\n",
       "      <td>claim</td>\n",
       "      <td>7017666017</td>\n",
       "      <td>59</td>\n",
       "      <td>someone shared with me that drone deliveries a...</td>\n",
       "      <td>not verified</td>\n",
       "      <td>under review</td>\n",
       "      <td>343296.0</td>\n",
       "      <td>19425.0</td>\n",
       "      <td>241.0</td>\n",
       "      <td>1.0</td>\n",
       "      <td>0.0</td>\n",
       "    </tr>\n",
       "    <tr>\n",
       "      <th>1</th>\n",
       "      <td>2</td>\n",
       "      <td>claim</td>\n",
       "      <td>4014381136</td>\n",
       "      <td>32</td>\n",
       "      <td>someone shared with me that there are more mic...</td>\n",
       "      <td>not verified</td>\n",
       "      <td>active</td>\n",
       "      <td>140877.0</td>\n",
       "      <td>77355.0</td>\n",
       "      <td>19034.0</td>\n",
       "      <td>1161.0</td>\n",
       "      <td>684.0</td>\n",
       "    </tr>\n",
       "    <tr>\n",
       "      <th>2</th>\n",
       "      <td>3</td>\n",
       "      <td>claim</td>\n",
       "      <td>9859838091</td>\n",
       "      <td>31</td>\n",
       "      <td>someone shared with me that american industria...</td>\n",
       "      <td>not verified</td>\n",
       "      <td>active</td>\n",
       "      <td>902185.0</td>\n",
       "      <td>97690.0</td>\n",
       "      <td>2858.0</td>\n",
       "      <td>833.0</td>\n",
       "      <td>329.0</td>\n",
       "    </tr>\n",
       "    <tr>\n",
       "      <th>3</th>\n",
       "      <td>4</td>\n",
       "      <td>claim</td>\n",
       "      <td>1866847991</td>\n",
       "      <td>25</td>\n",
       "      <td>someone shared with me that the metro of st. p...</td>\n",
       "      <td>not verified</td>\n",
       "      <td>active</td>\n",
       "      <td>437506.0</td>\n",
       "      <td>239954.0</td>\n",
       "      <td>34812.0</td>\n",
       "      <td>1234.0</td>\n",
       "      <td>584.0</td>\n",
       "    </tr>\n",
       "    <tr>\n",
       "      <th>4</th>\n",
       "      <td>5</td>\n",
       "      <td>claim</td>\n",
       "      <td>7105231098</td>\n",
       "      <td>19</td>\n",
       "      <td>someone shared with me that the number of busi...</td>\n",
       "      <td>not verified</td>\n",
       "      <td>active</td>\n",
       "      <td>56167.0</td>\n",
       "      <td>34987.0</td>\n",
       "      <td>4110.0</td>\n",
       "      <td>547.0</td>\n",
       "      <td>152.0</td>\n",
       "    </tr>\n",
       "  </tbody>\n",
       "</table>\n",
       "</div>"
      ]
     },
     "execution_count": 68,
     "metadata": {},
     "output_type": "execute_result"
    }
   ],
   "execution_count": 68
  },
  {
   "metadata": {
    "ExecuteTime": {
     "end_time": "2025-03-31T19:05:04.474131Z",
     "start_time": "2025-03-31T19:05:04.461550Z"
    }
   },
   "cell_type": "code",
   "source": [
    "categorical_columns = data.select_dtypes(include=['object','category']).columns\n",
    "print(\"________________Categorical columns________________________\")\n",
    "print(categorical_columns)"
   ],
   "id": "f19e73f45d0435b7",
   "outputs": [
    {
     "name": "stdout",
     "output_type": "stream",
     "text": [
      "________________Categorical columns________________________\n",
      "Index(['claim_status', 'video_transcription_text', 'verified_status',\n",
      "       'author_ban_status'],\n",
      "      dtype='object')\n"
     ]
    }
   ],
   "execution_count": 69
  },
  {
   "metadata": {
    "ExecuteTime": {
     "end_time": "2025-03-31T19:05:04.643329Z",
     "start_time": "2025-03-31T19:05:04.634614Z"
    }
   },
   "cell_type": "code",
   "source": "data.columns",
   "id": "22e64c39066ff180",
   "outputs": [
    {
     "data": {
      "text/plain": [
       "Index(['#', 'claim_status', 'video_id', 'video_duration_sec',\n",
       "       'video_transcription_text', 'verified_status', 'author_ban_status',\n",
       "       'video_view_count', 'video_like_count', 'video_share_count',\n",
       "       'video_download_count', 'video_comment_count'],\n",
       "      dtype='object')"
      ]
     },
     "execution_count": 70,
     "metadata": {},
     "output_type": "execute_result"
    }
   ],
   "execution_count": 70
  },
  {
   "metadata": {
    "ExecuteTime": {
     "end_time": "2025-03-31T19:05:04.988798Z",
     "start_time": "2025-03-31T19:05:04.873675Z"
    }
   },
   "cell_type": "code",
   "source": [
    "duplicates = data[data.duplicated()]\n",
    "print(\"Sürüşən sətirlər:\")\n",
    "print(duplicates)"
   ],
   "id": "8ee92f030f9004d6",
   "outputs": [
    {
     "name": "stdout",
     "output_type": "stream",
     "text": [
      "Sürüşən sətirlər:\n",
      "Empty DataFrame\n",
      "Columns: [#, claim_status, video_id, video_duration_sec, video_transcription_text, verified_status, author_ban_status, video_view_count, video_like_count, video_share_count, video_download_count, video_comment_count]\n",
      "Index: []\n"
     ]
    }
   ],
   "execution_count": 71
  },
  {
   "metadata": {
    "ExecuteTime": {
     "end_time": "2025-03-31T19:05:07.657141Z",
     "start_time": "2025-03-31T19:05:05.092428Z"
    }
   },
   "cell_type": "code",
   "source": [
    "# Sütunların sürüşən olub-olmadığını yoxlamaq\n",
    "duplicate_columns = data.T.duplicated()\n",
    "duplicate_columns_names = data.columns[duplicate_columns]\n",
    "\n",
    "print(\"Sürüşən sütunlar:\")\n",
    "print(duplicate_columns_names)\n"
   ],
   "id": "b7516b4a698cb8e6",
   "outputs": [
    {
     "name": "stdout",
     "output_type": "stream",
     "text": [
      "Sürüşən sütunlar:\n",
      "Index([], dtype='object')\n"
     ]
    }
   ],
   "execution_count": 72
  },
  {
   "metadata": {
    "ExecuteTime": {
     "end_time": "2025-03-31T19:05:07.768310Z",
     "start_time": "2025-03-31T19:05:07.724974Z"
    }
   },
   "cell_type": "code",
   "source": [
    "duplicates = data[data.duplicated(keep=False)]\n",
    "print(duplicates)\n"
   ],
   "id": "c79ddb9a6deed4c9",
   "outputs": [
    {
     "name": "stdout",
     "output_type": "stream",
     "text": [
      "Empty DataFrame\n",
      "Columns: [#, claim_status, video_id, video_duration_sec, video_transcription_text, verified_status, author_ban_status, video_view_count, video_like_count, video_share_count, video_download_count, video_comment_count]\n",
      "Index: []\n"
     ]
    }
   ],
   "execution_count": 73
  },
  {
   "metadata": {
    "ExecuteTime": {
     "end_time": "2025-03-31T19:05:07.876775Z",
     "start_time": "2025-03-31T19:05:07.856367Z"
    }
   },
   "cell_type": "code",
   "source": [
    "duplicates = data[data.duplicated(subset=['claim_status', 'video_id', 'video_duration_sec'], keep=False)]\n",
    "print(duplicates)"
   ],
   "id": "e9d3ad5e2d106de1",
   "outputs": [
    {
     "name": "stdout",
     "output_type": "stream",
     "text": [
      "Empty DataFrame\n",
      "Columns: [#, claim_status, video_id, video_duration_sec, video_transcription_text, verified_status, author_ban_status, video_view_count, video_like_count, video_share_count, video_download_count, video_comment_count]\n",
      "Index: []\n"
     ]
    }
   ],
   "execution_count": 74
  },
  {
   "metadata": {
    "ExecuteTime": {
     "end_time": "2025-03-31T19:05:08.039808Z",
     "start_time": "2025-03-31T19:05:07.933142Z"
    }
   },
   "cell_type": "code",
   "source": [
    "data_trimmed = data.apply(lambda x: x.astype(str).str.strip().str.lower() if x.dtype == \"object\" else x)\n",
    "duplicates = data_trimmed[data_trimmed.duplicated(keep=False)]\n",
    "print(duplicates)\n"
   ],
   "id": "1f36893475fd2dfd",
   "outputs": [
    {
     "name": "stdout",
     "output_type": "stream",
     "text": [
      "Empty DataFrame\n",
      "Columns: [#, claim_status, video_id, video_duration_sec, video_transcription_text, verified_status, author_ban_status, video_view_count, video_like_count, video_share_count, video_download_count, video_comment_count]\n",
      "Index: []\n"
     ]
    }
   ],
   "execution_count": 75
  },
  {
   "metadata": {
    "ExecuteTime": {
     "end_time": "2025-03-31T19:05:09.847978Z",
     "start_time": "2025-03-31T19:05:08.053102Z"
    }
   },
   "cell_type": "code",
   "source": [
    "duplicate_columns = data.T.duplicated(keep=False)\n",
    "print(\"Sürüşən sütunlar:\", data.columns[duplicate_columns].tolist())"
   ],
   "id": "efd9ef43b0f07454",
   "outputs": [
    {
     "name": "stdout",
     "output_type": "stream",
     "text": [
      "Sürüşən sütunlar: []\n"
     ]
    }
   ],
   "execution_count": 76
  },
  {
   "metadata": {
    "ExecuteTime": {
     "end_time": "2025-03-31T19:05:09.917218Z",
     "start_time": "2025-03-31T19:05:09.895480Z"
    }
   },
   "cell_type": "code",
   "source": [
    "for col1 in data.columns:\n",
    "    for col2 in data.columns:\n",
    "        if col1 != col2 and data[col1].equals(data[col2]):\n",
    "            print(f\"Sütunlar eynidir: {col1} və {col2}\")"
   ],
   "id": "4dad2e0b8237cb96",
   "outputs": [],
   "execution_count": 77
  },
  {
   "metadata": {
    "ExecuteTime": {
     "end_time": "2025-03-31T19:05:10.006594Z",
     "start_time": "2025-03-31T19:05:09.973190Z"
    }
   },
   "cell_type": "code",
   "source": "print(data.nunique())\n",
   "id": "8ce1b7f6488d7c87",
   "outputs": [
    {
     "name": "stdout",
     "output_type": "stream",
     "text": [
      "#                           15437\n",
      "claim_status                    2\n",
      "video_id                    15437\n",
      "video_duration_sec             56\n",
      "video_transcription_text    15412\n",
      "verified_status                 2\n",
      "author_ban_status               3\n",
      "video_view_count            12007\n",
      "video_like_count             8601\n",
      "video_share_count            5761\n",
      "video_download_count         2091\n",
      "video_comment_count          1102\n",
      "dtype: int64\n"
     ]
    }
   ],
   "execution_count": 78
  },
  {
   "metadata": {
    "ExecuteTime": {
     "end_time": "2025-03-31T19:05:10.095426Z",
     "start_time": "2025-03-31T19:05:10.056375Z"
    }
   },
   "cell_type": "code",
   "source": [
    "columns_to_check = ['claim_status', 'video_transcription_text', 'verified_status', 'author_ban_status']\n",
    "duplicates = data[data.duplicated(subset=columns_to_check, keep=False)]\n",
    "print(duplicates)\n"
   ],
   "id": "8c5fcd52b892d4e9",
   "outputs": [
    {
     "name": "stdout",
     "output_type": "stream",
     "text": [
      "         # claim_status    video_id  video_duration_sec  \\\n",
      "2502  2503        claim  2307103802                  36   \n",
      "2505  2506        claim  6457026547                  30   \n",
      "2510  2511        claim  2425568026                  15   \n",
      "2548  2549        claim  6553958541                  12   \n",
      "2560  2561        claim  7934238615                  18   \n",
      "2943  2944        claim  7402304136                  15   \n",
      "2945  2946        claim  5602633649                  58   \n",
      "2956  2957        claim  5473025809                  16   \n",
      "3002  3003        claim  2338854116                  34   \n",
      "3008  3009        claim  7820590426                  51   \n",
      "3217  3218        claim  9318941735                  33   \n",
      "3229  3230        claim  6953288910                  55   \n",
      "3665  3666        claim  5551035336                  20   \n",
      "3683  3684        claim  9058571671                  20   \n",
      "3892  3893        claim  3314084381                  34   \n",
      "3940  3941        claim  9195625646                  34   \n",
      "4333  4334        claim  1350472183                  10   \n",
      "4376  4377        claim  6814515791                  38   \n",
      "5378  5379        claim  5316150033                  23   \n",
      "5381  5382        claim  7941397202                  49   \n",
      "5394  5395        claim  2327006401                   8   \n",
      "5844  5845        claim  6891618304                  30   \n",
      "5847  5848        claim  6043517710                  46   \n",
      "5862  5863        claim  3266768979                  23   \n",
      "6117  6118        claim  6206902380                  11   \n",
      "6132  6133        claim  3127643969                  25   \n",
      "6575  6576        claim  5669697210                  57   \n",
      "6601  6602        claim  2785982551                   5   \n",
      "6827  6828        claim  3543707609                  42   \n",
      "6880  6881        claim  8816052210                  40   \n",
      "7297  7298        claim  2479083105                  17   \n",
      "7344  7345        claim  3165377206                  40   \n",
      "\n",
      "                               video_transcription_text verified_status  \\\n",
      "2502  a friend read  in the media that there are cur...    not verified   \n",
      "2505  a friend read  in the media that adult cats on...    not verified   \n",
      "2510  a friend read  in the media that artificial ba...    not verified   \n",
      "2548  a friend read  in the media a claim that there...    not verified   \n",
      "2560  a friend read  in the media a claim that the l...    not verified   \n",
      "2943  a friend read  in the media that there are cur...    not verified   \n",
      "2945  a friend read  in the media that adult cats on...    not verified   \n",
      "2956  a friend read  in the media that artificial ba...    not verified   \n",
      "3002  a friend read  in the media a claim that there...    not verified   \n",
      "3008  a friend read  in the media a claim that the l...    not verified   \n",
      "3217  someone learned  from the media that cats can'...    not verified   \n",
      "3229  someone learned  from the media a claim that t...    not verified   \n",
      "3665  someone learned  from the media that cats can'...    not verified   \n",
      "3683  someone learned  from the media a claim that t...    not verified   \n",
      "3892  someone read  in the media that a dog’s sense ...    not verified   \n",
      "3940  someone read  in the media a claim that sputni...    not verified   \n",
      "4333  someone read  in the media that a dog’s sense ...    not verified   \n",
      "4376  someone read  in the media a claim that sputni...    not verified   \n",
      "5378  i read  in the media that jobs in the field of...    not verified   \n",
      "5381  i read  in the media that a candle’s flame is ...    not verified   \n",
      "5394  i read  in the media a claim that 20% of the w...    not verified   \n",
      "5844  i read  in the media that jobs in the field of...    not verified   \n",
      "5847  i read  in the media that a candle’s flame is ...    not verified   \n",
      "5862  i read  in the media a claim that 20% of the w...    not verified   \n",
      "6117  a colleague learned  from the media that the r...    not verified   \n",
      "6132  a colleague learned  from the media a claim th...    not verified   \n",
      "6575  a colleague learned  from the media that the r...    not verified   \n",
      "6601  a colleague learned  from the media a claim th...    not verified   \n",
      "6827  a colleague read  in the media that reindeer g...    not verified   \n",
      "6880  a colleague read  in the media a claim that ju...    not verified   \n",
      "7297  a colleague read  in the media that reindeer g...    not verified   \n",
      "7344  a colleague read  in the media a claim that ju...    not verified   \n",
      "\n",
      "     author_ban_status  video_view_count  video_like_count  video_share_count  \\\n",
      "2502            active          630298.0          112281.0             6897.0   \n",
      "2505            active          232075.0           77163.0            26903.0   \n",
      "2510            active          338293.0           44921.0            13179.0   \n",
      "2548            active          291027.0           40589.0             3817.0   \n",
      "2560            active          461358.0           93267.0            12676.0   \n",
      "2943            active          655164.0           28652.0              216.0   \n",
      "2945            active          986956.0           16499.0             1408.0   \n",
      "2956            active          407165.0          125485.0            41770.0   \n",
      "3002            active          132187.0           37523.0             5415.0   \n",
      "3008            active          600359.0          105733.0            41926.0   \n",
      "3217            active          670231.0           63026.0            14895.0   \n",
      "3229            active          271453.0           87562.0            30177.0   \n",
      "3665            active          237008.0           85308.0             3748.0   \n",
      "3683            active          152892.0           91377.0            15920.0   \n",
      "3892      under review          277290.0           46615.0             4806.0   \n",
      "3940            active            7356.0            4216.0              794.0   \n",
      "4333      under review          858333.0          293410.0            12429.0   \n",
      "4376            active          186344.0           63623.0              289.0   \n",
      "5378            active          401261.0          108529.0            31581.0   \n",
      "5381            active          144491.0           23960.0             5937.0   \n",
      "5394            active          275243.0          157059.0            27823.0   \n",
      "5844            active          898766.0           92911.0             1604.0   \n",
      "5847            active          224457.0          146054.0            23616.0   \n",
      "5862            active          431132.0            2277.0              228.0   \n",
      "6117            active          503546.0           55133.0            18487.0   \n",
      "6132      under review          391999.0           38675.0             3902.0   \n",
      "6575            active          326294.0           77761.0            26572.0   \n",
      "6601      under review          437293.0          165935.0            22240.0   \n",
      "6827            active          320973.0            6630.0             1685.0   \n",
      "6880            active          376490.0          165831.0             1950.0   \n",
      "7297            active          428036.0          145990.0            24874.0   \n",
      "7344            active          176734.0           79197.0            27685.0   \n",
      "\n",
      "      video_download_count  video_comment_count  \n",
      "2502                2264.0               1275.0  \n",
      "2505                 164.0                 29.0  \n",
      "2510                 869.0                328.0  \n",
      "2548                 231.0                 65.0  \n",
      "2560                 268.0                100.0  \n",
      "2943                  17.0                  2.0  \n",
      "2945                 192.0                 57.0  \n",
      "2956                 485.0                 94.0  \n",
      "3002                 427.0                 98.0  \n",
      "3008                1932.0               1086.0  \n",
      "3217                 572.0                312.0  \n",
      "3229                1157.0                 65.0  \n",
      "3665                 472.0                141.0  \n",
      "3683                2160.0                 19.0  \n",
      "3892                 127.0                 39.0  \n",
      "3940                  70.0                 13.0  \n",
      "4333                1154.0                302.0  \n",
      "4376                 767.0                 16.0  \n",
      "5378                1016.0                475.0  \n",
      "5381                 334.0                160.0  \n",
      "5394                2479.0               1434.0  \n",
      "5844                1128.0                 41.0  \n",
      "5847                 102.0                 11.0  \n",
      "5862                   4.0                  0.0  \n",
      "6117                 555.0                113.0  \n",
      "6132                  19.0                  6.0  \n",
      "6575                1410.0                594.0  \n",
      "6601                1153.0                614.0  \n",
      "6827                 156.0                 92.0  \n",
      "6880                 347.0                 84.0  \n",
      "7297                 395.0                217.0  \n",
      "7344                1580.0               1039.0  \n"
     ]
    }
   ],
   "execution_count": 79
  },
  {
   "metadata": {
    "ExecuteTime": {
     "end_time": "2025-03-31T19:05:10.177173Z",
     "start_time": "2025-03-31T19:05:10.155699Z"
    }
   },
   "cell_type": "code",
   "source": [
    "columns_to_check = ['video_view_count', 'video_like_count', 'video_share_count']\n",
    "duplicates = data[data.duplicated(subset=columns_to_check, keep=False)]\n",
    "print(duplicates)\n"
   ],
   "id": "378b7f6e01815ceb",
   "outputs": [
    {
     "name": "stdout",
     "output_type": "stream",
     "text": [
      "           # claim_status    video_id  video_duration_sec  \\\n",
      "15881  15882      opinion  1341587679                  55   \n",
      "16136  16137      opinion  2701435506                  54   \n",
      "\n",
      "                                video_transcription_text verified_status  \\\n",
      "15881  my colleagues' point of view is that a giant t...    not verified   \n",
      "16136  my colleagues' thinking is that it would take ...    not verified   \n",
      "\n",
      "      author_ban_status  video_view_count  video_like_count  \\\n",
      "15881            active              51.0              12.0   \n",
      "16136            active              51.0              12.0   \n",
      "\n",
      "       video_share_count  video_download_count  video_comment_count  \n",
      "15881                3.0                   0.0                  0.0  \n",
      "16136                3.0                   0.0                  0.0  \n"
     ]
    }
   ],
   "execution_count": 80
  },
  {
   "metadata": {
    "ExecuteTime": {
     "end_time": "2025-03-31T19:05:10.222152Z",
     "start_time": "2025-03-31T19:05:10.215561Z"
    }
   },
   "cell_type": "code",
   "source": "",
   "id": "54b0c36f0cc8ac88",
   "outputs": [],
   "execution_count": null
  },
  {
   "metadata": {
    "ExecuteTime": {
     "end_time": "2025-03-31T19:05:10.277691Z",
     "start_time": "2025-03-31T19:05:10.272542Z"
    }
   },
   "cell_type": "code",
   "source": "",
   "id": "3f3be5a95db98e34",
   "outputs": [],
   "execution_count": null
  }
 ],
 "metadata": {
  "kernelspec": {
   "display_name": "Python 3",
   "language": "python",
   "name": "python3"
  },
  "language_info": {
   "codemirror_mode": {
    "name": "ipython",
    "version": 2
   },
   "file_extension": ".py",
   "mimetype": "text/x-python",
   "name": "python",
   "nbconvert_exporter": "python",
   "pygments_lexer": "ipython2",
   "version": "2.7.6"
  }
 },
 "nbformat": 4,
 "nbformat_minor": 5
}
