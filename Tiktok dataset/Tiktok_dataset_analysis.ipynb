{
 "cells": [
  {
   "metadata": {},
   "cell_type": "code",
   "source": [
    "import pandas as pd\n",
    "import numpy as np\n",
    "import matplotlib.pyplot as plt\n",
    "import seaborn as sns"
   ],
   "id": "dd13670437d7964c",
   "outputs": [],
   "execution_count": null
  },
  {
   "metadata": {},
   "cell_type": "code",
   "source": "data = pd.read_csv(r'C:\\Users\\aa\\PyCharmMiscProject\\Tiktok_analysis\\tiktok_dataset_.csv', sep=';')",
   "id": "e51e8ab331f644ae",
   "outputs": [],
   "execution_count": null
  },
  {
   "metadata": {
    "ExecuteTime": {
     "end_time": "2025-03-31T19:51:12.265742Z",
     "start_time": "2025-03-31T19:51:12.227529Z"
    }
   },
   "cell_type": "code",
   "source": "data.head()",
   "id": "169d112ec3827146",
   "outputs": [
    {
     "data": {
      "text/plain": [
       "   #  claim_status    video_id  video_duration_sec  \\\n",
       "0  1             0  7017666017                  59   \n",
       "1  2             0  4014381136                  32   \n",
       "2  3             0  9859838091                  31   \n",
       "3  4             0  1866847991                  25   \n",
       "4  5             0  7105231098                  19   \n",
       "\n",
       "                            video_transcription_text  verified_status  \\\n",
       "0  someone shared with me that drone deliveries a...                0   \n",
       "1  someone shared with me that there are more mic...                0   \n",
       "2  someone shared with me that american industria...                0   \n",
       "3  someone shared with me that the metro of st. p...                0   \n",
       "4  someone shared with me that the number of busi...                0   \n",
       "\n",
       "   author_ban_status  video_view_count  video_like_count  video_share_count  \\\n",
       "0                  2            343296             19425                241   \n",
       "1                  0            140877             77355              19034   \n",
       "2                  0            902185             97690               2858   \n",
       "3                  0            437506            239954              34812   \n",
       "4                  0             56167             34987               4110   \n",
       "\n",
       "   video_download_count  video_comment_count  \n",
       "0                     1                    0  \n",
       "1                  1161                  684  \n",
       "2                   833                  329  \n",
       "3                  1234                  584  \n",
       "4                   547                  152  "
      ],
      "text/html": [
       "<div>\n",
       "<style scoped>\n",
       "    .dataframe tbody tr th:only-of-type {\n",
       "        vertical-align: middle;\n",
       "    }\n",
       "\n",
       "    .dataframe tbody tr th {\n",
       "        vertical-align: top;\n",
       "    }\n",
       "\n",
       "    .dataframe thead th {\n",
       "        text-align: right;\n",
       "    }\n",
       "</style>\n",
       "<table border=\"1\" class=\"dataframe\">\n",
       "  <thead>\n",
       "    <tr style=\"text-align: right;\">\n",
       "      <th></th>\n",
       "      <th>#</th>\n",
       "      <th>claim_status</th>\n",
       "      <th>video_id</th>\n",
       "      <th>video_duration_sec</th>\n",
       "      <th>video_transcription_text</th>\n",
       "      <th>verified_status</th>\n",
       "      <th>author_ban_status</th>\n",
       "      <th>video_view_count</th>\n",
       "      <th>video_like_count</th>\n",
       "      <th>video_share_count</th>\n",
       "      <th>video_download_count</th>\n",
       "      <th>video_comment_count</th>\n",
       "    </tr>\n",
       "  </thead>\n",
       "  <tbody>\n",
       "    <tr>\n",
       "      <th>0</th>\n",
       "      <td>1</td>\n",
       "      <td>0</td>\n",
       "      <td>7017666017</td>\n",
       "      <td>59</td>\n",
       "      <td>someone shared with me that drone deliveries a...</td>\n",
       "      <td>0</td>\n",
       "      <td>2</td>\n",
       "      <td>343296</td>\n",
       "      <td>19425</td>\n",
       "      <td>241</td>\n",
       "      <td>1</td>\n",
       "      <td>0</td>\n",
       "    </tr>\n",
       "    <tr>\n",
       "      <th>1</th>\n",
       "      <td>2</td>\n",
       "      <td>0</td>\n",
       "      <td>4014381136</td>\n",
       "      <td>32</td>\n",
       "      <td>someone shared with me that there are more mic...</td>\n",
       "      <td>0</td>\n",
       "      <td>0</td>\n",
       "      <td>140877</td>\n",
       "      <td>77355</td>\n",
       "      <td>19034</td>\n",
       "      <td>1161</td>\n",
       "      <td>684</td>\n",
       "    </tr>\n",
       "    <tr>\n",
       "      <th>2</th>\n",
       "      <td>3</td>\n",
       "      <td>0</td>\n",
       "      <td>9859838091</td>\n",
       "      <td>31</td>\n",
       "      <td>someone shared with me that american industria...</td>\n",
       "      <td>0</td>\n",
       "      <td>0</td>\n",
       "      <td>902185</td>\n",
       "      <td>97690</td>\n",
       "      <td>2858</td>\n",
       "      <td>833</td>\n",
       "      <td>329</td>\n",
       "    </tr>\n",
       "    <tr>\n",
       "      <th>3</th>\n",
       "      <td>4</td>\n",
       "      <td>0</td>\n",
       "      <td>1866847991</td>\n",
       "      <td>25</td>\n",
       "      <td>someone shared with me that the metro of st. p...</td>\n",
       "      <td>0</td>\n",
       "      <td>0</td>\n",
       "      <td>437506</td>\n",
       "      <td>239954</td>\n",
       "      <td>34812</td>\n",
       "      <td>1234</td>\n",
       "      <td>584</td>\n",
       "    </tr>\n",
       "    <tr>\n",
       "      <th>4</th>\n",
       "      <td>5</td>\n",
       "      <td>0</td>\n",
       "      <td>7105231098</td>\n",
       "      <td>19</td>\n",
       "      <td>someone shared with me that the number of busi...</td>\n",
       "      <td>0</td>\n",
       "      <td>0</td>\n",
       "      <td>56167</td>\n",
       "      <td>34987</td>\n",
       "      <td>4110</td>\n",
       "      <td>547</td>\n",
       "      <td>152</td>\n",
       "    </tr>\n",
       "  </tbody>\n",
       "</table>\n",
       "</div>"
      ]
     },
     "execution_count": 126,
     "metadata": {},
     "output_type": "execute_result"
    }
   ],
   "execution_count": 126
  },
  {
   "metadata": {},
   "cell_type": "code",
   "source": "data.info()",
   "id": "d906e6e4895cccdd",
   "outputs": [],
   "execution_count": null
  },
  {
   "metadata": {},
   "cell_type": "code",
   "source": "data.describe()",
   "id": "1bcde84ab4ffda18",
   "outputs": [],
   "execution_count": null
  },
  {
   "metadata": {
    "ExecuteTime": {
     "end_time": "2025-03-31T19:38:42.315723Z",
     "start_time": "2025-03-31T19:38:42.230024Z"
    }
   },
   "cell_type": "code",
   "source": "data.shape",
   "id": "feaa1a82b24581db",
   "outputs": [
    {
     "data": {
      "text/plain": [
       "(19084, 12)"
      ]
     },
     "execution_count": 120,
     "metadata": {},
     "output_type": "execute_result"
    }
   ],
   "execution_count": 120
  },
  {
   "metadata": {},
   "cell_type": "code",
   "source": "data.isnull().sum()",
   "id": "e2d31b94f2d729e5",
   "outputs": [],
   "execution_count": null
  },
  {
   "metadata": {},
   "cell_type": "code",
   "source": "data['verified_status'].value_counts()",
   "id": "a3f5b69767c09493",
   "outputs": [],
   "execution_count": null
  },
  {
   "metadata": {},
   "cell_type": "code",
   "source": "data['claim_status'].value_counts()",
   "id": "23cddcd9f78d8518",
   "outputs": [],
   "execution_count": null
  },
  {
   "metadata": {},
   "cell_type": "markdown",
   "source": "Data Preprocessing",
   "id": "8e359010058caaf"
  },
  {
   "metadata": {},
   "cell_type": "markdown",
   "source": [
    "\tIdentify missing values (NaN) in the dataset.\n",
    "\n",
    "\tDecide on a strategy to handle them (e.g., filling with mean/median/mode, forward/backward filling, or dropping rows/columns).\n"
   ],
   "id": "ea2f8bcdfda08b98"
  },
  {
   "metadata": {},
   "cell_type": "code",
   "source": "print(data['claim_status'].isnull())",
   "id": "d1c20838e18f6fdb",
   "outputs": [],
   "execution_count": null
  },
  {
   "metadata": {},
   "cell_type": "code",
   "source": "data['claim_status'].value_counts(dropna=False)",
   "id": "54f997f89818722f",
   "outputs": [],
   "execution_count": null
  },
  {
   "metadata": {},
   "cell_type": "code",
   "source": [
    "missing_percentage = (data.isnull().sum() / len(data)) * 100\n",
    "print(missing_percentage)"
   ],
   "id": "d588a14966fa3aea",
   "outputs": [],
   "execution_count": null
  },
  {
   "metadata": {},
   "cell_type": "code",
   "source": [
    "null_values = data.isnull()\n",
    "print(null_values)"
   ],
   "id": "3af066a0b063684c",
   "outputs": [],
   "execution_count": null
  },
  {
   "metadata": {},
   "cell_type": "code",
   "source": [
    "null_summary = data.isnull().sum().reset_index()\n",
    "null_summary.columns = ['Column', 'MissingValues']\n",
    "null_summary['Percentage'] = (null_summary['MissingValues'] / len(data)) * 100\n",
    "\n",
    "print(data['claim_status'].dtype)"
   ],
   "id": "33f8bedad7e6a095",
   "outputs": [],
   "execution_count": null
  },
  {
   "metadata": {},
   "cell_type": "markdown",
   "source": [
    "Total missing values by column\n",
    "\n",
    "Rows with missing values\n",
    "\n",
    "Percentage of missing values by column\n",
    "\n",
    "\n"
   ],
   "id": "540fcffa63f9790a"
  },
  {
   "metadata": {},
   "cell_type": "code",
   "source": [
    "print(\"Total missing values by column:\")\n",
    "print(data.isnull().sum())\n",
    "\n",
    "print(\"\\nRows with missing values:\")\n",
    "print(data[data.isnull().any(axis=1)])\n",
    "\n",
    "print(\"\\nPercentage of missing values by column:\")\n",
    "print((data.isnull().sum() / len(data)) * 100)"
   ],
   "id": "1240f13bd782dddf",
   "outputs": [],
   "execution_count": null
  },
  {
   "metadata": {},
   "cell_type": "code",
   "source": [
    "# Drop all rows with null values\n",
    "data = data.dropna()\n",
    "print(\"Shape of the DataFrame after dropping rows with null values:\", data.shape)\n",
    "\n",
    "rows_with_null = data[data.isnull().any(axis=1)]\n",
    "print(rows_with_null)"
   ],
   "id": "edfea680e5e6dc0d",
   "outputs": [],
   "execution_count": null
  },
  {
   "metadata": {},
   "cell_type": "code",
   "source": "data.isnull().sum()",
   "id": "18ff178dc5a0dc88",
   "outputs": [],
   "execution_count": null
  },
  {
   "metadata": {},
   "cell_type": "markdown",
   "source": "\tCheck for and remove any duplicate rows to ensure that each entry is unique.",
   "id": "4ae24122b679e4f9"
  },
  {
   "metadata": {},
   "cell_type": "code",
   "source": "data.nunique()",
   "id": "76bb3848d6b7aa8b",
   "outputs": [],
   "execution_count": null
  },
  {
   "metadata": {},
   "cell_type": "code",
   "source": "data.duplicated()",
   "id": "95529f9a061c674a",
   "outputs": [],
   "execution_count": null
  },
  {
   "metadata": {},
   "cell_type": "code",
   "source": [
    "duplicates = data[data.duplicated()]\n",
    "print(duplicates)"
   ],
   "id": "83a2a3254f74839e",
   "outputs": [],
   "execution_count": null
  },
  {
   "metadata": {
    "ExecuteTime": {
     "end_time": "2025-03-31T19:53:21.043351Z",
     "start_time": "2025-03-31T19:53:20.908849Z"
    }
   },
   "cell_type": "code",
   "source": "data.drop('video_transcription_text', axis=1, inplace=True)\n",
   "id": "dc2988c3dcecccfb",
   "outputs": [],
   "execution_count": 127
  },
  {
   "metadata": {},
   "cell_type": "markdown",
   "source": "\tIdentify and handle outliers in numerical columns like views, likes, comments, etc., using methods such as the IQR method or Z-score.\n",
   "id": "d51bd3c9e3b3ba1d"
  },
  {
   "metadata": {},
   "cell_type": "code",
   "source": [
    "# Calculate the IQR for numerical columns\n",
    "numerical_columns = ['video_view_count', 'video_like_count', 'video_share_count', 'video_download_count']\n",
    "Q1 = data[numerical_columns].quantile(0.25)\n",
    "Q3 = data[numerical_columns].quantile(0.75)\n",
    "IQR = Q3 - Q1\n",
    "\n",
    "lower_bound = Q1 - 1.5 * IQR\n",
    "upper_bound = Q3 + 1.5 * IQR\n",
    "\n",
    "print(\"Shape before removing outliers:\", data.shape)\n",
    "data = data[~((data[numerical_columns] < lower_bound) | (data[numerical_columns] > upper_bound)).any(axis=1)]\n",
    "print(\"Shape after removing outliers:\", data.shape)"
   ],
   "id": "6164dc54019a8d9",
   "outputs": [],
   "execution_count": null
  },
  {
   "metadata": {},
   "cell_type": "markdown",
   "source": "\tConvert categorical variables like verified_status, author_ban_status, etc., into binary or dummy variables if needed for modeling.",
   "id": "aa40ac39d37418a8"
  },
  {
   "metadata": {},
   "cell_type": "code",
   "source": "data.head()",
   "id": "ad6900619b75bf85",
   "outputs": [],
   "execution_count": null
  },
  {
   "metadata": {
    "ExecuteTime": {
     "end_time": "2025-03-31T19:33:55.923455Z",
     "start_time": "2025-03-31T19:33:55.904818Z"
    }
   },
   "cell_type": "code",
   "source": [
    "categorical_columns = data.select_dtypes(include=['object','category']).columns\n",
    "print(\"________________Categorical columns________________________\")\n",
    "print(categorical_columns)"
   ],
   "id": "f19e73f45d0435b7",
   "outputs": [
    {
     "name": "stdout",
     "output_type": "stream",
     "text": [
      "________________Categorical columns________________________\n",
      "Index(['claim_status', 'video_transcription_text', 'verified_status',\n",
      "       'author_ban_status'],\n",
      "      dtype='object')\n"
     ]
    }
   ],
   "execution_count": 117
  },
  {
   "metadata": {},
   "cell_type": "markdown",
   "source": "One Hot Encoding (OHE)",
   "id": "b8806e513bec40e9"
  },
  {
   "metadata": {
    "ExecuteTime": {
     "end_time": "2025-03-31T19:38:23.665644Z",
     "start_time": "2025-03-31T19:38:23.501889Z"
    }
   },
   "cell_type": "code",
   "source": [
    "columns_to_dummy = ['claim_status', 'verified_status', 'author_ban_status']\n",
    "\n",
    "dummy_data = pd.get_dummies(data, columns=columns_to_dummy, drop_first=True)\n",
    "\n",
    "# Compare\n",
    "print(\"New dummy columns data shape\", dummy_data.shape)\n",
    "print(\"Dummy column names\", dummy_data.columns)\n"
   ],
   "id": "22e64c39066ff180",
   "outputs": [
    {
     "name": "stdout",
     "output_type": "stream",
     "text": [
      "New dummy columns data shape (19084, 13)\n",
      "Dummy column names Index(['#', 'video_id', 'video_duration_sec', 'video_transcription_text',\n",
      "       'video_view_count', 'video_like_count', 'video_share_count',\n",
      "       'video_download_count', 'video_comment_count', 'claim_status_opinion',\n",
      "       'verified_status_verified', 'author_ban_status_banned',\n",
      "       'author_ban_status_under review'],\n",
      "      dtype='object')\n"
     ]
    }
   ],
   "execution_count": 119
  },
  {
   "metadata": {
    "ExecuteTime": {
     "end_time": "2025-03-31T19:39:24.743973Z",
     "start_time": "2025-03-31T19:39:24.714525Z"
    }
   },
   "cell_type": "code",
   "source": "dummy_data.head()",
   "id": "54b0c36f0cc8ac88",
   "outputs": [
    {
     "data": {
      "text/plain": [
       "   #    video_id  video_duration_sec  \\\n",
       "0  1  7017666017                  59   \n",
       "1  2  4014381136                  32   \n",
       "2  3  9859838091                  31   \n",
       "3  4  1866847991                  25   \n",
       "4  5  7105231098                  19   \n",
       "\n",
       "                            video_transcription_text  video_view_count  \\\n",
       "0  someone shared with me that drone deliveries a...            343296   \n",
       "1  someone shared with me that there are more mic...            140877   \n",
       "2  someone shared with me that american industria...            902185   \n",
       "3  someone shared with me that the metro of st. p...            437506   \n",
       "4  someone shared with me that the number of busi...             56167   \n",
       "\n",
       "   video_like_count  video_share_count  video_download_count  \\\n",
       "0             19425                241                     1   \n",
       "1             77355              19034                  1161   \n",
       "2             97690               2858                   833   \n",
       "3            239954              34812                  1234   \n",
       "4             34987               4110                   547   \n",
       "\n",
       "   video_comment_count  claim_status_opinion  verified_status_verified  \\\n",
       "0                    0                 False                     False   \n",
       "1                  684                 False                     False   \n",
       "2                  329                 False                     False   \n",
       "3                  584                 False                     False   \n",
       "4                  152                 False                     False   \n",
       "\n",
       "   author_ban_status_banned  author_ban_status_under review  \n",
       "0                     False                            True  \n",
       "1                     False                           False  \n",
       "2                     False                           False  \n",
       "3                     False                           False  \n",
       "4                     False                           False  "
      ],
      "text/html": [
       "<div>\n",
       "<style scoped>\n",
       "    .dataframe tbody tr th:only-of-type {\n",
       "        vertical-align: middle;\n",
       "    }\n",
       "\n",
       "    .dataframe tbody tr th {\n",
       "        vertical-align: top;\n",
       "    }\n",
       "\n",
       "    .dataframe thead th {\n",
       "        text-align: right;\n",
       "    }\n",
       "</style>\n",
       "<table border=\"1\" class=\"dataframe\">\n",
       "  <thead>\n",
       "    <tr style=\"text-align: right;\">\n",
       "      <th></th>\n",
       "      <th>#</th>\n",
       "      <th>video_id</th>\n",
       "      <th>video_duration_sec</th>\n",
       "      <th>video_transcription_text</th>\n",
       "      <th>video_view_count</th>\n",
       "      <th>video_like_count</th>\n",
       "      <th>video_share_count</th>\n",
       "      <th>video_download_count</th>\n",
       "      <th>video_comment_count</th>\n",
       "      <th>claim_status_opinion</th>\n",
       "      <th>verified_status_verified</th>\n",
       "      <th>author_ban_status_banned</th>\n",
       "      <th>author_ban_status_under review</th>\n",
       "    </tr>\n",
       "  </thead>\n",
       "  <tbody>\n",
       "    <tr>\n",
       "      <th>0</th>\n",
       "      <td>1</td>\n",
       "      <td>7017666017</td>\n",
       "      <td>59</td>\n",
       "      <td>someone shared with me that drone deliveries a...</td>\n",
       "      <td>343296</td>\n",
       "      <td>19425</td>\n",
       "      <td>241</td>\n",
       "      <td>1</td>\n",
       "      <td>0</td>\n",
       "      <td>False</td>\n",
       "      <td>False</td>\n",
       "      <td>False</td>\n",
       "      <td>True</td>\n",
       "    </tr>\n",
       "    <tr>\n",
       "      <th>1</th>\n",
       "      <td>2</td>\n",
       "      <td>4014381136</td>\n",
       "      <td>32</td>\n",
       "      <td>someone shared with me that there are more mic...</td>\n",
       "      <td>140877</td>\n",
       "      <td>77355</td>\n",
       "      <td>19034</td>\n",
       "      <td>1161</td>\n",
       "      <td>684</td>\n",
       "      <td>False</td>\n",
       "      <td>False</td>\n",
       "      <td>False</td>\n",
       "      <td>False</td>\n",
       "    </tr>\n",
       "    <tr>\n",
       "      <th>2</th>\n",
       "      <td>3</td>\n",
       "      <td>9859838091</td>\n",
       "      <td>31</td>\n",
       "      <td>someone shared with me that american industria...</td>\n",
       "      <td>902185</td>\n",
       "      <td>97690</td>\n",
       "      <td>2858</td>\n",
       "      <td>833</td>\n",
       "      <td>329</td>\n",
       "      <td>False</td>\n",
       "      <td>False</td>\n",
       "      <td>False</td>\n",
       "      <td>False</td>\n",
       "    </tr>\n",
       "    <tr>\n",
       "      <th>3</th>\n",
       "      <td>4</td>\n",
       "      <td>1866847991</td>\n",
       "      <td>25</td>\n",
       "      <td>someone shared with me that the metro of st. p...</td>\n",
       "      <td>437506</td>\n",
       "      <td>239954</td>\n",
       "      <td>34812</td>\n",
       "      <td>1234</td>\n",
       "      <td>584</td>\n",
       "      <td>False</td>\n",
       "      <td>False</td>\n",
       "      <td>False</td>\n",
       "      <td>False</td>\n",
       "    </tr>\n",
       "    <tr>\n",
       "      <th>4</th>\n",
       "      <td>5</td>\n",
       "      <td>7105231098</td>\n",
       "      <td>19</td>\n",
       "      <td>someone shared with me that the number of busi...</td>\n",
       "      <td>56167</td>\n",
       "      <td>34987</td>\n",
       "      <td>4110</td>\n",
       "      <td>547</td>\n",
       "      <td>152</td>\n",
       "      <td>False</td>\n",
       "      <td>False</td>\n",
       "      <td>False</td>\n",
       "      <td>False</td>\n",
       "    </tr>\n",
       "  </tbody>\n",
       "</table>\n",
       "</div>"
      ]
     },
     "execution_count": 122,
     "metadata": {},
     "output_type": "execute_result"
    }
   ],
   "execution_count": 122
  },
  {
   "metadata": {},
   "cell_type": "markdown",
   "source": [
    "Data Transformation\n",
    "\n",
    "\tPrepare data for machine learning (encoding categorical variables, scaling numeric features)\n",
    "\n",
    "Label Encoding process"
   ],
   "id": "eb8359de74601110"
  },
  {
   "metadata": {
    "ExecuteTime": {
     "end_time": "2025-03-31T19:42:33.474552Z",
     "start_time": "2025-03-31T19:42:30.446817Z"
    }
   },
   "cell_type": "code",
   "source": [
    "from sklearn.preprocessing import LabelEncoder\n",
    "\n",
    "categorical_columns = ['claim_status', 'verified_status', 'author_ban_status']\n",
    "\n",
    "label_encoders = {}\n",
    "for col in categorical_columns:\n",
    "    le = LabelEncoder()\n",
    "    data[col] = le.fit_transform(data[col].astype(str))\n",
    "    label_encoders[col] = le\n",
    "\n",
    "print(\"Label Encoded sütun başlıkları:\", data[categorical_columns].head())\n"
   ],
   "id": "3f3be5a95db98e34",
   "outputs": [
    {
     "name": "stdout",
     "output_type": "stream",
     "text": [
      "Label Encoded sütun başlıkları:    claim_status  verified_status  author_ban_status\n",
      "0             0                0                  2\n",
      "1             0                0                  0\n",
      "2             0                0                  0\n",
      "3             0                0                  0\n",
      "4             0                0                  0\n"
     ]
    }
   ],
   "execution_count": 123
  },
  {
   "metadata": {
    "ExecuteTime": {
     "end_time": "2025-03-31T19:53:38.840922Z",
     "start_time": "2025-03-31T19:53:38.752872Z"
    }
   },
   "cell_type": "code",
   "source": "data.head()",
   "id": "d19d792c0f81207c",
   "outputs": [
    {
     "data": {
      "text/plain": [
       "   #  claim_status    video_id  video_duration_sec  verified_status  \\\n",
       "0  1             0  7017666017                  59                0   \n",
       "1  2             0  4014381136                  32                0   \n",
       "2  3             0  9859838091                  31                0   \n",
       "3  4             0  1866847991                  25                0   \n",
       "4  5             0  7105231098                  19                0   \n",
       "\n",
       "   author_ban_status  video_view_count  video_like_count  video_share_count  \\\n",
       "0                  2            343296             19425                241   \n",
       "1                  0            140877             77355              19034   \n",
       "2                  0            902185             97690               2858   \n",
       "3                  0            437506            239954              34812   \n",
       "4                  0             56167             34987               4110   \n",
       "\n",
       "   video_download_count  video_comment_count  \n",
       "0                     1                    0  \n",
       "1                  1161                  684  \n",
       "2                   833                  329  \n",
       "3                  1234                  584  \n",
       "4                   547                  152  "
      ],
      "text/html": [
       "<div>\n",
       "<style scoped>\n",
       "    .dataframe tbody tr th:only-of-type {\n",
       "        vertical-align: middle;\n",
       "    }\n",
       "\n",
       "    .dataframe tbody tr th {\n",
       "        vertical-align: top;\n",
       "    }\n",
       "\n",
       "    .dataframe thead th {\n",
       "        text-align: right;\n",
       "    }\n",
       "</style>\n",
       "<table border=\"1\" class=\"dataframe\">\n",
       "  <thead>\n",
       "    <tr style=\"text-align: right;\">\n",
       "      <th></th>\n",
       "      <th>#</th>\n",
       "      <th>claim_status</th>\n",
       "      <th>video_id</th>\n",
       "      <th>video_duration_sec</th>\n",
       "      <th>verified_status</th>\n",
       "      <th>author_ban_status</th>\n",
       "      <th>video_view_count</th>\n",
       "      <th>video_like_count</th>\n",
       "      <th>video_share_count</th>\n",
       "      <th>video_download_count</th>\n",
       "      <th>video_comment_count</th>\n",
       "    </tr>\n",
       "  </thead>\n",
       "  <tbody>\n",
       "    <tr>\n",
       "      <th>0</th>\n",
       "      <td>1</td>\n",
       "      <td>0</td>\n",
       "      <td>7017666017</td>\n",
       "      <td>59</td>\n",
       "      <td>0</td>\n",
       "      <td>2</td>\n",
       "      <td>343296</td>\n",
       "      <td>19425</td>\n",
       "      <td>241</td>\n",
       "      <td>1</td>\n",
       "      <td>0</td>\n",
       "    </tr>\n",
       "    <tr>\n",
       "      <th>1</th>\n",
       "      <td>2</td>\n",
       "      <td>0</td>\n",
       "      <td>4014381136</td>\n",
       "      <td>32</td>\n",
       "      <td>0</td>\n",
       "      <td>0</td>\n",
       "      <td>140877</td>\n",
       "      <td>77355</td>\n",
       "      <td>19034</td>\n",
       "      <td>1161</td>\n",
       "      <td>684</td>\n",
       "    </tr>\n",
       "    <tr>\n",
       "      <th>2</th>\n",
       "      <td>3</td>\n",
       "      <td>0</td>\n",
       "      <td>9859838091</td>\n",
       "      <td>31</td>\n",
       "      <td>0</td>\n",
       "      <td>0</td>\n",
       "      <td>902185</td>\n",
       "      <td>97690</td>\n",
       "      <td>2858</td>\n",
       "      <td>833</td>\n",
       "      <td>329</td>\n",
       "    </tr>\n",
       "    <tr>\n",
       "      <th>3</th>\n",
       "      <td>4</td>\n",
       "      <td>0</td>\n",
       "      <td>1866847991</td>\n",
       "      <td>25</td>\n",
       "      <td>0</td>\n",
       "      <td>0</td>\n",
       "      <td>437506</td>\n",
       "      <td>239954</td>\n",
       "      <td>34812</td>\n",
       "      <td>1234</td>\n",
       "      <td>584</td>\n",
       "    </tr>\n",
       "    <tr>\n",
       "      <th>4</th>\n",
       "      <td>5</td>\n",
       "      <td>0</td>\n",
       "      <td>7105231098</td>\n",
       "      <td>19</td>\n",
       "      <td>0</td>\n",
       "      <td>0</td>\n",
       "      <td>56167</td>\n",
       "      <td>34987</td>\n",
       "      <td>4110</td>\n",
       "      <td>547</td>\n",
       "      <td>152</td>\n",
       "    </tr>\n",
       "  </tbody>\n",
       "</table>\n",
       "</div>"
      ]
     },
     "execution_count": 128,
     "metadata": {},
     "output_type": "execute_result"
    }
   ],
   "execution_count": 128
  },
  {
   "metadata": {},
   "cell_type": "markdown",
   "source": [
    "Modeling\n",
    "\n",
    "\tSplit data into training and testing sets\n",
    "\n",
    "\tTry different algorithms (e.g., Logistic Regression, Random Forest, Gradient Boosting)\n"
   ],
   "id": "26debf954a363fe"
  },
  {
   "metadata": {
    "ExecuteTime": {
     "end_time": "2025-03-31T19:53:49.150376Z",
     "start_time": "2025-03-31T19:53:49.065839Z"
    }
   },
   "cell_type": "code",
   "source": [
    "from sklearn.model_selection import train_test_split\n",
    "\n",
    "X = data.drop('claim_status', axis=1)\n",
    "y = data['claim_status']\n",
    "\n",
    "X_train, X_test, y_train, y_test = train_test_split(X, y, test_size=0.2, random_state=42)\n",
    "\n",
    "print(\"X_train shape:\", X_train.shape)\n",
    "print(\"X_test shape:\", X_test.shape)\n",
    "print(\"y_train shape:\", y_train.shape)\n",
    "print(\"y_test shape:\", y_test.shape)\n"
   ],
   "id": "180f995a5349abd6",
   "outputs": [
    {
     "name": "stdout",
     "output_type": "stream",
     "text": [
      "X_train shape: (15267, 10)\n",
      "X_test shape: (3817, 10)\n",
      "y_train shape: (15267,)\n",
      "y_test shape: (3817,)\n"
     ]
    }
   ],
   "execution_count": 129
  },
  {
   "metadata": {
    "ExecuteTime": {
     "end_time": "2025-03-31T20:03:36.414455Z",
     "start_time": "2025-03-31T20:02:29.690108Z"
    }
   },
   "cell_type": "code",
   "source": [
    "from sklearn.model_selection import GridSearchCV\n",
    "from sklearn.ensemble import RandomForestClassifier\n",
    "\n",
    "param_grid = {\n",
    "    'n_estimators': [50, 100, 200],\n",
    "    'max_depth': [None, 10, 20],\n",
    "    'min_samples_split': [2, 5, 10]\n",
    "}\n",
    "grid_search= GridSearchCV(\n",
    "    RandomForestClassifier(random_state=42),param_grid=param_grid,\n",
    "    cv=3\n",
    ")\n",
    "grid_search.fit(X_train, y_train)\n",
    "\n",
    "print(\"The best parametrs:\", grid_search.best_params_)"
   ],
   "id": "8743d193835df9c5",
   "outputs": [
    {
     "name": "stdout",
     "output_type": "stream",
     "text": [
      "The best parametrs: {'max_depth': None, 'min_samples_split': 2, 'n_estimators': 50}\n"
     ]
    }
   ],
   "execution_count": 134
  },
  {
   "metadata": {
    "ExecuteTime": {
     "end_time": "2025-03-31T20:06:19.517663Z",
     "start_time": "2025-03-31T20:06:18.908921Z"
    }
   },
   "cell_type": "code",
   "source": [
    "from sklearn.linear_model import LogisticRegression\n",
    "from sklearn.metrics import accuracy_score, confusion_matrix, classification_report\n",
    "\n",
    "logistic_model = LogisticRegression(random_state=42)\n",
    "logistic_model.fit(X_train, y_train)\n",
    "\n",
    "y_pred = logistic_model.predict(X_test)"
   ],
   "id": "f9f6c60e41202ebb",
   "outputs": [],
   "execution_count": 135
  },
  {
   "metadata": {},
   "cell_type": "markdown",
   "source": "\tEvaluate models using appropriate metrics (accuracy, precision, recall, F1-score)",
   "id": "e46432308a65cc77"
  },
  {
   "metadata": {
    "ExecuteTime": {
     "end_time": "2025-03-31T20:06:27.221037Z",
     "start_time": "2025-03-31T20:06:27.129882Z"
    }
   },
   "cell_type": "code",
   "source": [
    "accuracy = accuracy_score(y_test, y_pred)\n",
    "print(\"Accuracy:\", accuracy)\n",
    "\n",
    "# Ek performans metrikleri\n",
    "print(\"Confusion Matrix:\\n\", confusion_matrix(y_test, y_pred))\n",
    "print(\"Classification Report:\\n\", classification_report(y_test, y_pred))\n"
   ],
   "id": "8b3d854838472904",
   "outputs": [
    {
     "name": "stdout",
     "output_type": "stream",
     "text": [
      "Accuracy: 0.9979041131778884\n",
      "Confusion Matrix:\n",
      " [[1920    8]\n",
      " [   0 1889]]\n",
      "Classification Report:\n",
      "               precision    recall  f1-score   support\n",
      "\n",
      "           0       1.00      1.00      1.00      1928\n",
      "           1       1.00      1.00      1.00      1889\n",
      "\n",
      "    accuracy                           1.00      3817\n",
      "   macro avg       1.00      1.00      1.00      3817\n",
      "weighted avg       1.00      1.00      1.00      3817\n",
      "\n"
     ]
    }
   ],
   "execution_count": 136
  },
  {
   "metadata": {
    "ExecuteTime": {
     "end_time": "2025-03-31T20:11:14.324156Z",
     "start_time": "2025-03-31T20:11:10.903836Z"
    }
   },
   "cell_type": "code",
   "source": [
    "# Confusion Matrix\n",
    "cm = confusion_matrix(y_test, y_pred)\n",
    "\n",
    "# Heatmap\n",
    "plt.figure(figsize=(8, 6))\n",
    "sns.heatmap(cm, annot=True, fmt='d', cmap='Blues', xticklabels=['Class 0', 'Class 1'],\n",
    "            yticklabels=['Class 0', 'Class 1'])\n",
    "plt.xlabel('Predicted')\n",
    "plt.ylabel('Actual')\n",
    "plt.title('Confusion Matrix')\n",
    "plt.show()\n"
   ],
   "id": "d2bf837a1b5ec5e0",
   "outputs": [
    {
     "data": {
      "text/plain": [
       "<Figure size 800x600 with 2 Axes>"
      ],
      "image/png": "[encoded data removed]"
     },
     "metadata": {},
     "output_type": "display_data"
    }
   ],
   "execution_count": 137
  }
 ],
 "metadata": {
  "kernelspec": {
   "display_name": "Python 3",
   "language": "python",
   "name": "python3"
  },
  "language_info": {
   "codemirror_mode": {
    "name": "ipython",
    "version": 2
   },
   "file_extension": ".py",
   "mimetype": "text/x-python",
   "name": "python",
   "nbconvert_exporter": "python",
   "pygments_lexer": "ipython2",
   "version": "2.7.6"
  }
 },
 "nbformat": 4,
 "nbformat_minor": 5
}
