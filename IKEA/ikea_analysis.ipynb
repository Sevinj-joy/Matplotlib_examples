{
  "cells": [
    {
      "cell_type": "code",
      "source": [
        "import pandas as pd\n",
        "import numpy as np\n",
        "import matplotlib.pyplot as plt\n",
        "import seaborn as sns\n"
      ],
      "metadata": {
        "id": "jjfM2LhrK1B2"
      },
      "id": "jjfM2LhrK1B2",
      "execution_count": 455,
      "outputs": []
    },
    {
      "metadata": {
        "ExecuteTime": {
          "end_time": "2025-04-21T19:06:09.462620Z",
          "start_time": "2025-04-21T19:06:09.447302Z"
        },
        "colab": {
          "base_uri": "https://localhost:8080/",
          "height": 343
        },
        "id": "94537cde8d92559c",
        "outputId": "d4d9ca00-e9f4-4782-b779-e864ef4ae9a6"
      },
      "cell_type": "code",
      "source": [
        "data=pd.read_csv('ikea2.csv')\n",
        "data.head()"
      ],
      "id": "94537cde8d92559c",
      "outputs": [
        {
          "output_type": "execute_result",
          "data": {
            "text/plain": [
              "    item_id        name       category  price     old_price  sellable_online  \\\n",
              "0  90420332    FREKVENS  Bar furniture  265.0  No old price             True   \n",
              "1  80155205        STIG  Bar furniture   69.0  No old price             True   \n",
              "2  50420329    FREKVENS  Bar furniture  177.0        SR 295             True   \n",
              "3    400550    EKEDALEN  Bar furniture  345.0  No old price             True   \n",
              "4  40426138  HENRIKSDAL  Bar furniture  395.0  No old price             True   \n",
              "\n",
              "                                                link other_colors  \\\n",
              "0  https://www.ikea.com/sa/en/p/frekvens-bar-tabl...           No   \n",
              "1  https://www.ikea.com/sa/en/p/stig-bar-stool-wi...          Yes   \n",
              "2  https://www.ikea.com/sa/en/p/frekvens-bar-stoo...           No   \n",
              "3  https://www.ikea.com/sa/en/p/ekedalen-bar-stoo...           No   \n",
              "4  https://www.ikea.com/sa/en/p/henriksdal-bar-st...           No   \n",
              "\n",
              "                                   short_description              designer  \\\n",
              "0           Bar table, in/outdoor,          51x51 cm  Nicholai Wiig Hansen   \n",
              "1            Bar stool with backrest,          74 cm         Henrik Preutz   \n",
              "2          Bar stool with backrest, in/outdoor,  ...  Nicholai Wiig Hansen   \n",
              "3            Bar stool with backrest,          75 cm      Ehl√©n Johansson   \n",
              "4          Bar stool with backrest frame,        ...         Karl Malmvall   \n",
              "\n",
              "   depth  height  width product_description     current_status kewords  \\\n",
              "0    NaN    99.0   51.0   Item discontinued  Item discontinued     NaN   \n",
              "1   50.0   100.0   60.0   Item discontinued  Item discontinued     NaN   \n",
              "2   53.0   104.0   43.0   Item discontinued  Item discontinued     NaN   \n",
              "3   52.0   114.0   43.0   Item discontinued  Item discontinued     NaN   \n",
              "4   51.0   102.0   40.0   Item discontinued  Item discontinued     NaN   \n",
              "\n",
              "   topic_group topic_desc  \n",
              "0          NaN        NaN  \n",
              "1          NaN        NaN  \n",
              "2          NaN        NaN  \n",
              "3          NaN        NaN  \n",
              "4          NaN        NaN  "
            ],
            "text/html": [
              "\n",
              "  <div id=\"df-e9b74fea-0d0d-41f1-82fe-5b9ace6ad940\" class=\"colab-df-container\">\n",
              "    <div>\n",
              "<style scoped>\n",
              "    .dataframe tbody tr th:only-of-type {\n",
              "        vertical-align: middle;\n",
              "    }\n",
              "\n",
              "    .dataframe tbody tr th {\n",
              "        vertical-align: top;\n",
              "    }\n",
              "\n",
              "    .dataframe thead th {\n",
              "        text-align: right;\n",
              "    }\n",
              "</style>\n",
              "<table border=\"1\" class=\"dataframe\">\n",
              "  <thead>\n",
              "    <tr style=\"text-align: right;\">\n",
              "      <th></th>\n",
              "      <th>item_id</th>\n",
              "      <th>name</th>\n",
              "      <th>category</th>\n",
              "      <th>price</th>\n",
              "      <th>old_price</th>\n",
              "      <th>sellable_online</th>\n",
              "      <th>link</th>\n",
              "      <th>other_colors</th>\n",
              "      <th>short_description</th>\n",
              "      <th>designer</th>\n",
              "      <th>depth</th>\n",
              "      <th>height</th>\n",
              "      <th>width</th>\n",
              "      <th>product_description</th>\n",
              "      <th>current_status</th>\n",
              "      <th>kewords</th>\n",
              "      <th>topic_group</th>\n",
              "      <th>topic_desc</th>\n",
              "    </tr>\n",
              "  </thead>\n",
              "  <tbody>\n",
              "    <tr>\n",
              "      <th>0</th>\n",
              "      <td>90420332</td>\n",
              "      <td>FREKVENS</td>\n",
              "      <td>Bar furniture</td>\n",
              "      <td>265.0</td>\n",
              "      <td>No old price</td>\n",
              "      <td>True</td>\n",
              "      <td>https://www.ikea.com/sa/en/p/frekvens-bar-tabl...</td>\n",
              "      <td>No</td>\n",
              "      <td>Bar table, in/outdoor,          51x51 cm</td>\n",
              "      <td>Nicholai Wiig Hansen</td>\n",
              "      <td>NaN</td>\n",
              "      <td>99.0</td>\n",
              "      <td>51.0</td>\n",
              "      <td>Item discontinued</td>\n",
              "      <td>Item discontinued</td>\n",
              "      <td>NaN</td>\n",
              "      <td>NaN</td>\n",
              "      <td>NaN</td>\n",
              "    </tr>\n",
              "    <tr>\n",
              "      <th>1</th>\n",
              "      <td>80155205</td>\n",
              "      <td>STIG</td>\n",
              "      <td>Bar furniture</td>\n",
              "      <td>69.0</td>\n",
              "      <td>No old price</td>\n",
              "      <td>True</td>\n",
              "      <td>https://www.ikea.com/sa/en/p/stig-bar-stool-wi...</td>\n",
              "      <td>Yes</td>\n",
              "      <td>Bar stool with backrest,          74 cm</td>\n",
              "      <td>Henrik Preutz</td>\n",
              "      <td>50.0</td>\n",
              "      <td>100.0</td>\n",
              "      <td>60.0</td>\n",
              "      <td>Item discontinued</td>\n",
              "      <td>Item discontinued</td>\n",
              "      <td>NaN</td>\n",
              "      <td>NaN</td>\n",
              "      <td>NaN</td>\n",
              "    </tr>\n",
              "    <tr>\n",
              "      <th>2</th>\n",
              "      <td>50420329</td>\n",
              "      <td>FREKVENS</td>\n",
              "      <td>Bar furniture</td>\n",
              "      <td>177.0</td>\n",
              "      <td>SR 295</td>\n",
              "      <td>True</td>\n",
              "      <td>https://www.ikea.com/sa/en/p/frekvens-bar-stoo...</td>\n",
              "      <td>No</td>\n",
              "      <td>Bar stool with backrest, in/outdoor,  ...</td>\n",
              "      <td>Nicholai Wiig Hansen</td>\n",
              "      <td>53.0</td>\n",
              "      <td>104.0</td>\n",
              "      <td>43.0</td>\n",
              "      <td>Item discontinued</td>\n",
              "      <td>Item discontinued</td>\n",
              "      <td>NaN</td>\n",
              "      <td>NaN</td>\n",
              "      <td>NaN</td>\n",
              "    </tr>\n",
              "    <tr>\n",
              "      <th>3</th>\n",
              "      <td>400550</td>\n",
              "      <td>EKEDALEN</td>\n",
              "      <td>Bar furniture</td>\n",
              "      <td>345.0</td>\n",
              "      <td>No old price</td>\n",
              "      <td>True</td>\n",
              "      <td>https://www.ikea.com/sa/en/p/ekedalen-bar-stoo...</td>\n",
              "      <td>No</td>\n",
              "      <td>Bar stool with backrest,          75 cm</td>\n",
              "      <td>Ehl√©n Johansson</td>\n",
              "      <td>52.0</td>\n",
              "      <td>114.0</td>\n",
              "      <td>43.0</td>\n",
              "      <td>Item discontinued</td>\n",
              "      <td>Item discontinued</td>\n",
              "      <td>NaN</td>\n",
              "      <td>NaN</td>\n",
              "      <td>NaN</td>\n",
              "    </tr>\n",
              "    <tr>\n",
              "      <th>4</th>\n",
              "      <td>40426138</td>\n",
              "      <td>HENRIKSDAL</td>\n",
              "      <td>Bar furniture</td>\n",
              "      <td>395.0</td>\n",
              "      <td>No old price</td>\n",
              "      <td>True</td>\n",
              "      <td>https://www.ikea.com/sa/en/p/henriksdal-bar-st...</td>\n",
              "      <td>No</td>\n",
              "      <td>Bar stool with backrest frame,        ...</td>\n",
              "      <td>Karl Malmvall</td>\n",
              "      <td>51.0</td>\n",
              "      <td>102.0</td>\n",
              "      <td>40.0</td>\n",
              "      <td>Item discontinued</td>\n",
              "      <td>Item discontinued</td>\n",
              "      <td>NaN</td>\n",
              "      <td>NaN</td>\n",
              "      <td>NaN</td>\n",
              "    </tr>\n",
              "  </tbody>\n",
              "</table>\n",
              "</div>\n",
              "    <div class=\"colab-df-buttons\">\n",
              "\n",
              "  <div class=\"colab-df-container\">\n",
              "    <button class=\"colab-df-convert\" onclick=\"convertToInteractive('df-e9b74fea-0d0d-41f1-82fe-5b9ace6ad940')\"\n",
              "            title=\"Convert this dataframe to an interactive table.\"\n",
              "            style=\"display:none;\">\n",
              "\n",
              "  <svg xmlns=\"http://www.w3.org/2000/svg\" height=\"24px\" viewBox=\"0 -960 960 960\">\n",
              "    <path d=\"M120-120v-720h720v720H120Zm60-500h600v-160H180v160Zm220 220h160v-160H400v160Zm0 220h160v-160H400v160ZM180-400h160v-160H180v160Zm440 0h160v-160H620v160ZM180-180h160v-160H180v160Zm440 0h160v-160H620v160Z\"/>\n",
              "  </svg>\n",
              "    </button>\n",
              "\n",
              "  <style>\n",
              "    .colab-df-container {\n",
              "      display:flex;\n",
              "      gap: 12px;\n",
              "    }\n",
              "\n",
              "    .colab-df-convert {\n",
              "      background-color: #E8F0FE;\n",
              "      border: none;\n",
              "      border-radius: 50%;\n",
              "      cursor: pointer;\n",
              "      display: none;\n",
              "      fill: #1967D2;\n",
              "      height: 32px;\n",
              "      padding: 0 0 0 0;\n",
              "      width: 32px;\n",
              "    }\n",
              "\n",
              "    .colab-df-convert:hover {\n",
              "      background-color: #E2EBFA;\n",
              "      box-shadow: 0px 1px 2px rgba(60, 64, 67, 0.3), 0px 1px 3px 1px rgba(60, 64, 67, 0.15);\n",
              "      fill: #174EA6;\n",
              "    }\n",
              "\n",
              "    .colab-df-buttons div {\n",
              "      margin-bottom: 4px;\n",
              "    }\n",
              "\n",
              "    [theme=dark] .colab-df-convert {\n",
              "      background-color: #3B4455;\n",
              "      fill: #D2E3FC;\n",
              "    }\n",
              "\n",
              "    [theme=dark] .colab-df-convert:hover {\n",
              "      background-color: #434B5C;\n",
              "      box-shadow: 0px 1px 3px 1px rgba(0, 0, 0, 0.15);\n",
              "      filter: drop-shadow(0px 1px 2px rgba(0, 0, 0, 0.3));\n",
              "      fill: #FFFFFF;\n",
              "    }\n",
              "  </style>\n",
              "\n",
              "    <script>\n",
              "      const buttonEl =\n",
              "        document.querySelector('#df-e9b74fea-0d0d-41f1-82fe-5b9ace6ad940 button.colab-df-convert');\n",
              "      buttonEl.style.display =\n",
              "        google.colab.kernel.accessAllowed ? 'block' : 'none';\n",
              "\n",
              "      async function convertToInteractive(key) {\n",
              "        const element = document.querySelector('#df-e9b74fea-0d0d-41f1-82fe-5b9ace6ad940');\n",
              "        const dataTable =\n",
              "          await google.colab.kernel.invokeFunction('convertToInteractive',\n",
              "                                                    [key], {});\n",
              "        if (!dataTable) return;\n",
              "\n",
              "        const docLinkHtml = 'Like what you see? Visit the ' +\n",
              "          '<a target=\"_blank\" href=https://colab.research.google.com/notebooks/data_table.ipynb>data table notebook</a>'\n",
              "          + ' to learn more about interactive tables.';\n",
              "        element.innerHTML = '';\n",
              "        dataTable['output_type'] = 'display_data';\n",
              "        await google.colab.output.renderOutput(dataTable, element);\n",
              "        const docLink = document.createElement('div');\n",
              "        docLink.innerHTML = docLinkHtml;\n",
              "        element.appendChild(docLink);\n",
              "      }\n",
              "    </script>\n",
              "  </div>\n",
              "\n",
              "\n",
              "    <div id=\"df-40f20950-8da2-4616-a4cd-55d6ec0f0908\">\n",
              "      <button class=\"colab-df-quickchart\" onclick=\"quickchart('df-40f20950-8da2-4616-a4cd-55d6ec0f0908')\"\n",
              "                title=\"Suggest charts\"\n",
              "                style=\"display:none;\">\n",
              "\n",
              "<svg xmlns=\"http://www.w3.org/2000/svg\" height=\"24px\"viewBox=\"0 0 24 24\"\n",
              "     width=\"24px\">\n",
              "    <g>\n",
              "        <path d=\"M19 3H5c-1.1 0-2 .9-2 2v14c0 1.1.9 2 2 2h14c1.1 0 2-.9 2-2V5c0-1.1-.9-2-2-2zM9 17H7v-7h2v7zm4 0h-2V7h2v10zm4 0h-2v-4h2v4z\"/>\n",
              "    </g>\n",
              "</svg>\n",
              "      </button>\n",
              "\n",
              "<style>\n",
              "  .colab-df-quickchart {\n",
              "      --bg-color: #E8F0FE;\n",
              "      --fill-color: #1967D2;\n",
              "      --hover-bg-color: #E2EBFA;\n",
              "      --hover-fill-color: #174EA6;\n",
              "      --disabled-fill-color: #AAA;\n",
              "      --disabled-bg-color: #DDD;\n",
              "  }\n",
              "\n",
              "  [theme=dark] .colab-df-quickchart {\n",
              "      --bg-color: #3B4455;\n",
              "      --fill-color: #D2E3FC;\n",
              "      --hover-bg-color: #434B5C;\n",
              "      --hover-fill-color: #FFFFFF;\n",
              "      --disabled-bg-color: #3B4455;\n",
              "      --disabled-fill-color: #666;\n",
              "  }\n",
              "\n",
              "  .colab-df-quickchart {\n",
              "    background-color: var(--bg-color);\n",
              "    border: none;\n",
              "    border-radius: 50%;\n",
              "    cursor: pointer;\n",
              "    display: none;\n",
              "    fill: var(--fill-color);\n",
              "    height: 32px;\n",
              "    padding: 0;\n",
              "    width: 32px;\n",
              "  }\n",
              "\n",
              "  .colab-df-quickchart:hover {\n",
              "    background-color: var(--hover-bg-color);\n",
              "    box-shadow: 0 1px 2px rgba(60, 64, 67, 0.3), 0 1px 3px 1px rgba(60, 64, 67, 0.15);\n",
              "    fill: var(--button-hover-fill-color);\n",
              "  }\n",
              "\n",
              "  .colab-df-quickchart-complete:disabled,\n",
              "  .colab-df-quickchart-complete:disabled:hover {\n",
              "    background-color: var(--disabled-bg-color);\n",
              "    fill: var(--disabled-fill-color);\n",
              "    box-shadow: none;\n",
              "  }\n",
              "\n",
              "  .colab-df-spinner {\n",
              "    border: 2px solid var(--fill-color);\n",
              "    border-color: transparent;\n",
              "    border-bottom-color: var(--fill-color);\n",
              "    animation:\n",
              "      spin 1s steps(1) infinite;\n",
              "  }\n",
              "\n",
              "  @keyframes spin {\n",
              "    0% {\n",
              "      border-color: transparent;\n",
              "      border-bottom-color: var(--fill-color);\n",
              "      border-left-color: var(--fill-color);\n",
              "    }\n",
              "    20% {\n",
              "      border-color: transparent;\n",
              "      border-left-color: var(--fill-color);\n",
              "      border-top-color: var(--fill-color);\n",
              "    }\n",
              "    30% {\n",
              "      border-color: transparent;\n",
              "      border-left-color: var(--fill-color);\n",
              "      border-top-color: var(--fill-color);\n",
              "      border-right-color: var(--fill-color);\n",
              "    }\n",
              "    40% {\n",
              "      border-color: transparent;\n",
              "      border-right-color: var(--fill-color);\n",
              "      border-top-color: var(--fill-color);\n",
              "    }\n",
              "    60% {\n",
              "      border-color: transparent;\n",
              "      border-right-color: var(--fill-color);\n",
              "    }\n",
              "    80% {\n",
              "      border-color: transparent;\n",
              "      border-right-color: var(--fill-color);\n",
              "      border-bottom-color: var(--fill-color);\n",
              "    }\n",
              "    90% {\n",
              "      border-color: transparent;\n",
              "      border-bottom-color: var(--fill-color);\n",
              "    }\n",
              "  }\n",
              "</style>\n",
              "\n",
              "      <script>\n",
              "        async function quickchart(key) {\n",
              "          const quickchartButtonEl =\n",
              "            document.querySelector('#' + key + ' button');\n",
              "          quickchartButtonEl.disabled = true;  // To prevent multiple clicks.\n",
              "          quickchartButtonEl.classList.add('colab-df-spinner');\n",
              "          try {\n",
              "            const charts = await google.colab.kernel.invokeFunction(\n",
              "                'suggestCharts', [key], {});\n",
              "          } catch (error) {\n",
              "            console.error('Error during call to suggestCharts:', error);\n",
              "          }\n",
              "          quickchartButtonEl.classList.remove('colab-df-spinner');\n",
              "          quickchartButtonEl.classList.add('colab-df-quickchart-complete');\n",
              "        }\n",
              "        (() => {\n",
              "          let quickchartButtonEl =\n",
              "            document.querySelector('#df-40f20950-8da2-4616-a4cd-55d6ec0f0908 button');\n",
              "          quickchartButtonEl.style.display =\n",
              "            google.colab.kernel.accessAllowed ? 'block' : 'none';\n",
              "        })();\n",
              "      </script>\n",
              "    </div>\n",
              "\n",
              "    </div>\n",
              "  </div>\n"
            ],
            "application/vnd.google.colaboratory.intrinsic+json": {
              "type": "dataframe",
              "variable_name": "data",
              "summary": "{\n  \"name\": \"data\",\n  \"rows\": 3694,\n  \"fields\": [\n    {\n      \"column\": \"item_id\",\n      \"properties\": {\n        \"dtype\": \"number\",\n        \"std\": 28887094,\n        \"min\": 58487,\n        \"max\": 99932615,\n        \"num_unique_values\": 2962,\n        \"samples\": [\n          79248588,\n          59214240,\n          19011777\n        ],\n        \"semantic_type\": \"\",\n        \"description\": \"\"\n      }\n    },\n    {\n      \"column\": \"name\",\n      \"properties\": {\n        \"dtype\": \"category\",\n        \"num_unique_values\": 607,\n        \"samples\": [\n          \"STOCKHOLM\",\n          \"KUDDARNA\",\n          \"ALGOT\"\n        ],\n        \"semantic_type\": \"\",\n        \"description\": \"\"\n      }\n    },\n    {\n      \"column\": \"category\",\n      \"properties\": {\n        \"dtype\": \"category\",\n        \"num_unique_values\": 17,\n        \"samples\": [\n          \"Bar furniture\",\n          \"Beds\",\n          \"Chairs\"\n        ],\n        \"semantic_type\": \"\",\n        \"description\": \"\"\n      }\n    },\n    {\n      \"column\": \"price\",\n      \"properties\": {\n        \"dtype\": \"number\",\n        \"std\": 1374.6524941516225,\n        \"min\": 3.0,\n        \"max\": 9585.0,\n        \"num_unique_values\": 979,\n        \"samples\": [\n          575.0,\n          2616.4,\n          775.0\n        ],\n        \"semantic_type\": \"\",\n        \"description\": \"\"\n      }\n    },\n    {\n      \"column\": \"old_price\",\n      \"properties\": {\n        \"dtype\": \"category\",\n        \"num_unique_values\": 365,\n        \"samples\": [\n          \"SR 625\",\n          \"SR 375\",\n          \"SR 9,745\"\n        ],\n        \"semantic_type\": \"\",\n        \"description\": \"\"\n      }\n    },\n    {\n      \"column\": \"sellable_online\",\n      \"properties\": {\n        \"dtype\": \"boolean\",\n        \"num_unique_values\": 2,\n        \"samples\": [\n          false,\n          true\n        ],\n        \"semantic_type\": \"\",\n        \"description\": \"\"\n      }\n    },\n    {\n      \"column\": \"link\",\n      \"properties\": {\n        \"dtype\": \"string\",\n        \"num_unique_values\": 2962,\n        \"samples\": [\n          \"https://www.ikea.com/sa/en/p/platsa-wardrobe-white-fonnes-white-s79248588/\",\n          \"https://www.ikea.com/sa/en/p/linnmon-olov-table-geometric-beige-silver-colour-s59214240/\"\n        ],\n        \"semantic_type\": \"\",\n        \"description\": \"\"\n      }\n    },\n    {\n      \"column\": \"other_colors\",\n      \"properties\": {\n        \"dtype\": \"category\",\n        \"num_unique_values\": 2,\n        \"samples\": [\n          \"Yes\",\n          \"No\"\n        ],\n        \"semantic_type\": \"\",\n        \"description\": \"\"\n      }\n    },\n    {\n      \"column\": \"short_description\",\n      \"properties\": {\n        \"dtype\": \"category\",\n        \"num_unique_values\": 1706,\n        \"samples\": [\n          \"        Children's chair\",\n          \"        Frame/mesh baskets/clothes rails,          148x51x207 cm\"\n        ],\n        \"semantic_type\": \"\",\n        \"description\": \"\"\n      }\n    },\n    {\n      \"column\": \"designer\",\n      \"properties\": {\n        \"dtype\": \"category\",\n        \"num_unique_values\": 381,\n        \"samples\": [\n          \"Jomi Evers\",\n          \"Ola Wihlborg/Ehl\\u221a\\u00a9n Johansson\"\n        ],\n        \"semantic_type\": \"\",\n        \"description\": \"\"\n      }\n    },\n    {\n      \"column\": \"depth\",\n      \"properties\": {\n        \"dtype\": \"number\",\n        \"std\": 29.958350722592506,\n        \"min\": 1.0,\n        \"max\": 257.0,\n        \"num_unique_values\": 114,\n        \"samples\": [\n          82.0,\n          36.0\n        ],\n        \"semantic_type\": \"\",\n        \"description\": \"\"\n      }\n    },\n    {\n      \"column\": \"height\",\n      \"properties\": {\n        \"dtype\": \"number\",\n        \"std\": 61.09758520961708,\n        \"min\": 1.0,\n        \"max\": 700.0,\n        \"num_unique_values\": 193,\n        \"samples\": [\n          147.0,\n          139.0\n        ],\n        \"semantic_type\": \"\",\n        \"description\": \"\"\n      }\n    },\n    {\n      \"column\": \"width\",\n      \"properties\": {\n        \"dtype\": \"number\",\n        \"std\": 71.13377120612036,\n        \"min\": 1.0,\n        \"max\": 420.0,\n        \"num_unique_values\": 263,\n        \"samples\": [\n          234.0,\n          139.0\n        ],\n        \"semantic_type\": \"\",\n        \"description\": \"\"\n      }\n    },\n    {\n      \"column\": \"product_description\",\n      \"properties\": {\n        \"dtype\": \"category\",\n        \"num_unique_values\": 960,\n        \"samples\": [\n          \"LISABO coffee table, ash veneer, 118x50 cm We\\u201a\\u00c4\\u00f4re proud of our LISABO series, awarded with the prestigious, international Red Dot Award, for its design. The products are durable, sturdy and easy to assemble, yet look light and hand-crafted. Easy to assemble as each leg only has one fitting.\",\n          \"JUSTINA chair pad, grey, 42/35x40x4 cm Simple and stylish, but above all - comfy. The thick, soft foam filling will make even the most restless feel relaxed at the table. Several colours to choose from \\u201a\\u00c4\\u00ec pick your favourite. The thick foam filling provides great comfort and long-lasting support.\"\n        ],\n        \"semantic_type\": \"\",\n        \"description\": \"\"\n      }\n    },\n    {\n      \"column\": \"current_status\",\n      \"properties\": {\n        \"dtype\": \"category\",\n        \"num_unique_values\": 2,\n        \"samples\": [\n          \"Item still available for sale\",\n          \"Item discontinued\"\n        ],\n        \"semantic_type\": \"\",\n        \"description\": \"\"\n      }\n    },\n    {\n      \"column\": \"kewords\",\n      \"properties\": {\n        \"dtype\": \"category\",\n        \"num_unique_values\": 723,\n        \"samples\": [\n          \"rattan white/Laila natural experienced makes rounded detailed natural develop unique\",\n          \"outdoor maintenance-free patio stylish functional allows pass\"\n        ],\n        \"semantic_type\": \"\",\n        \"description\": \"\"\n      }\n    },\n    {\n      \"column\": \"topic_group\",\n      \"properties\": {\n        \"dtype\": \"number\",\n        \"std\": 0.8528353735618281,\n        \"min\": 0.0,\n        \"max\": 2.0,\n        \"num_unique_values\": 3,\n        \"samples\": [\n          2.0,\n          1.0\n        ],\n        \"semantic_type\": \"\",\n        \"description\": \"\"\n      }\n    },\n    {\n      \"column\": \"topic_desc\",\n      \"properties\": {\n        \"dtype\": \"category\",\n        \"num_unique_values\": 3,\n        \"samples\": [\n          \"Durability and Appearance\",\n          \"Style and Functionality\"\n        ],\n        \"semantic_type\": \"\",\n        \"description\": \"\"\n      }\n    }\n  ]\n}"
            }
          },
          "metadata": {},
          "execution_count": 456
        }
      ],
      "execution_count": 456
    },
    {
      "metadata": {
        "ExecuteTime": {
          "end_time": "2025-04-21T19:06:09.490917Z",
          "start_time": "2025-04-21T19:06:09.489017Z"
        },
        "colab": {
          "base_uri": "https://localhost:8080/"
        },
        "id": "2de6ae0e3c8e897b",
        "outputId": "377dbccd-f6b6-470f-ea03-eedcb3b076f1"
      },
      "cell_type": "code",
      "source": [
        "data.shape"
      ],
      "id": "2de6ae0e3c8e897b",
      "outputs": [
        {
          "output_type": "execute_result",
          "data": {
            "text/plain": [
              "(3694, 18)"
            ]
          },
          "metadata": {},
          "execution_count": 457
        }
      ],
      "execution_count": 457
    },
    {
      "metadata": {
        "ExecuteTime": {
          "end_time": "2025-04-21T19:06:09.517166Z",
          "start_time": "2025-04-21T19:06:09.510693Z"
        },
        "colab": {
          "base_uri": "https://localhost:8080/",
          "height": 297
        },
        "id": "c7db72f78ac644ff",
        "outputId": "36de229c-4fb4-49f3-9045-f6bb8a4173c5"
      },
      "cell_type": "code",
      "source": [
        "data.describe()"
      ],
      "id": "c7db72f78ac644ff",
      "outputs": [
        {
          "output_type": "execute_result",
          "data": {
            "text/plain": [
              "            item_id        price        depth       height        width  \\\n",
              "count  3.694000e+03  3694.000000  2231.000000  2706.000000  3105.000000   \n",
              "mean   4.863240e+07  1078.208419    54.379202   101.679970   104.470853   \n",
              "std    2.888709e+07  1374.652494    29.958351    61.097585    71.133771   \n",
              "min    5.848700e+04     3.000000     1.000000     1.000000     1.000000   \n",
              "25%    2.039057e+07   180.900000    38.000000    67.000000    60.000000   \n",
              "50%    4.928808e+07   544.700000    47.000000    83.000000    80.000000   \n",
              "75%    7.040357e+07  1429.500000    60.000000   124.000000   140.000000   \n",
              "max    9.993262e+07  9585.000000   257.000000   700.000000   420.000000   \n",
              "\n",
              "       topic_group  \n",
              "count  1409.000000  \n",
              "mean      1.102910  \n",
              "std       0.852835  \n",
              "min       0.000000  \n",
              "25%       0.000000  \n",
              "50%       1.000000  \n",
              "75%       2.000000  \n",
              "max       2.000000  "
            ],
            "text/html": [
              "\n",
              "  <div id=\"df-96dacb7e-dd64-40bc-9591-954412190b2a\" class=\"colab-df-container\">\n",
              "    <div>\n",
              "<style scoped>\n",
              "    .dataframe tbody tr th:only-of-type {\n",
              "        vertical-align: middle;\n",
              "    }\n",
              "\n",
              "    .dataframe tbody tr th {\n",
              "        vertical-align: top;\n",
              "    }\n",
              "\n",
              "    .dataframe thead th {\n",
              "        text-align: right;\n",
              "    }\n",
              "</style>\n",
              "<table border=\"1\" class=\"dataframe\">\n",
              "  <thead>\n",
              "    <tr style=\"text-align: right;\">\n",
              "      <th></th>\n",
              "      <th>item_id</th>\n",
              "      <th>price</th>\n",
              "      <th>depth</th>\n",
              "      <th>height</th>\n",
              "      <th>width</th>\n",
              "      <th>topic_group</th>\n",
              "    </tr>\n",
              "  </thead>\n",
              "  <tbody>\n",
              "    <tr>\n",
              "      <th>count</th>\n",
              "      <td>3.694000e+03</td>\n",
              "      <td>3694.000000</td>\n",
              "      <td>2231.000000</td>\n",
              "      <td>2706.000000</td>\n",
              "      <td>3105.000000</td>\n",
              "      <td>1409.000000</td>\n",
              "    </tr>\n",
              "    <tr>\n",
              "      <th>mean</th>\n",
              "      <td>4.863240e+07</td>\n",
              "      <td>1078.208419</td>\n",
              "      <td>54.379202</td>\n",
              "      <td>101.679970</td>\n",
              "      <td>104.470853</td>\n",
              "      <td>1.102910</td>\n",
              "    </tr>\n",
              "    <tr>\n",
              "      <th>std</th>\n",
              "      <td>2.888709e+07</td>\n",
              "      <td>1374.652494</td>\n",
              "      <td>29.958351</td>\n",
              "      <td>61.097585</td>\n",
              "      <td>71.133771</td>\n",
              "      <td>0.852835</td>\n",
              "    </tr>\n",
              "    <tr>\n",
              "      <th>min</th>\n",
              "      <td>5.848700e+04</td>\n",
              "      <td>3.000000</td>\n",
              "      <td>1.000000</td>\n",
              "      <td>1.000000</td>\n",
              "      <td>1.000000</td>\n",
              "      <td>0.000000</td>\n",
              "    </tr>\n",
              "    <tr>\n",
              "      <th>25%</th>\n",
              "      <td>2.039057e+07</td>\n",
              "      <td>180.900000</td>\n",
              "      <td>38.000000</td>\n",
              "      <td>67.000000</td>\n",
              "      <td>60.000000</td>\n",
              "      <td>0.000000</td>\n",
              "    </tr>\n",
              "    <tr>\n",
              "      <th>50%</th>\n",
              "      <td>4.928808e+07</td>\n",
              "      <td>544.700000</td>\n",
              "      <td>47.000000</td>\n",
              "      <td>83.000000</td>\n",
              "      <td>80.000000</td>\n",
              "      <td>1.000000</td>\n",
              "    </tr>\n",
              "    <tr>\n",
              "      <th>75%</th>\n",
              "      <td>7.040357e+07</td>\n",
              "      <td>1429.500000</td>\n",
              "      <td>60.000000</td>\n",
              "      <td>124.000000</td>\n",
              "      <td>140.000000</td>\n",
              "      <td>2.000000</td>\n",
              "    </tr>\n",
              "    <tr>\n",
              "      <th>max</th>\n",
              "      <td>9.993262e+07</td>\n",
              "      <td>9585.000000</td>\n",
              "      <td>257.000000</td>\n",
              "      <td>700.000000</td>\n",
              "      <td>420.000000</td>\n",
              "      <td>2.000000</td>\n",
              "    </tr>\n",
              "  </tbody>\n",
              "</table>\n",
              "</div>\n",
              "    <div class=\"colab-df-buttons\">\n",
              "\n",
              "  <div class=\"colab-df-container\">\n",
              "    <button class=\"colab-df-convert\" onclick=\"convertToInteractive('df-96dacb7e-dd64-40bc-9591-954412190b2a')\"\n",
              "            title=\"Convert this dataframe to an interactive table.\"\n",
              "            style=\"display:none;\">\n",
              "\n",
              "  <svg xmlns=\"http://www.w3.org/2000/svg\" height=\"24px\" viewBox=\"0 -960 960 960\">\n",
              "    <path d=\"M120-120v-720h720v720H120Zm60-500h600v-160H180v160Zm220 220h160v-160H400v160Zm0 220h160v-160H400v160ZM180-400h160v-160H180v160Zm440 0h160v-160H620v160ZM180-180h160v-160H180v160Zm440 0h160v-160H620v160Z\"/>\n",
              "  </svg>\n",
              "    </button>\n",
              "\n",
              "  <style>\n",
              "    .colab-df-container {\n",
              "      display:flex;\n",
              "      gap: 12px;\n",
              "    }\n",
              "\n",
              "    .colab-df-convert {\n",
              "      background-color: #E8F0FE;\n",
              "      border: none;\n",
              "      border-radius: 50%;\n",
              "      cursor: pointer;\n",
              "      display: none;\n",
              "      fill: #1967D2;\n",
              "      height: 32px;\n",
              "      padding: 0 0 0 0;\n",
              "      width: 32px;\n",
              "    }\n",
              "\n",
              "    .colab-df-convert:hover {\n",
              "      background-color: #E2EBFA;\n",
              "      box-shadow: 0px 1px 2px rgba(60, 64, 67, 0.3), 0px 1px 3px 1px rgba(60, 64, 67, 0.15);\n",
              "      fill: #174EA6;\n",
              "    }\n",
              "\n",
              "    .colab-df-buttons div {\n",
              "      margin-bottom: 4px;\n",
              "    }\n",
              "\n",
              "    [theme=dark] .colab-df-convert {\n",
              "      background-color: #3B4455;\n",
              "      fill: #D2E3FC;\n",
              "    }\n",
              "\n",
              "    [theme=dark] .colab-df-convert:hover {\n",
              "      background-color: #434B5C;\n",
              "      box-shadow: 0px 1px 3px 1px rgba(0, 0, 0, 0.15);\n",
              "      filter: drop-shadow(0px 1px 2px rgba(0, 0, 0, 0.3));\n",
              "      fill: #FFFFFF;\n",
              "    }\n",
              "  </style>\n",
              "\n",
              "    <script>\n",
              "      const buttonEl =\n",
              "        document.querySelector('#df-96dacb7e-dd64-40bc-9591-954412190b2a button.colab-df-convert');\n",
              "      buttonEl.style.display =\n",
              "        google.colab.kernel.accessAllowed ? 'block' : 'none';\n",
              "\n",
              "      async function convertToInteractive(key) {\n",
              "        const element = document.querySelector('#df-96dacb7e-dd64-40bc-9591-954412190b2a');\n",
              "        const dataTable =\n",
              "          await google.colab.kernel.invokeFunction('convertToInteractive',\n",
              "                                                    [key], {});\n",
              "        if (!dataTable) return;\n",
              "\n",
              "        const docLinkHtml = 'Like what you see? Visit the ' +\n",
              "          '<a target=\"_blank\" href=https://colab.research.google.com/notebooks/data_table.ipynb>data table notebook</a>'\n",
              "          + ' to learn more about interactive tables.';\n",
              "        element.innerHTML = '';\n",
              "        dataTable['output_type'] = 'display_data';\n",
              "        await google.colab.output.renderOutput(dataTable, element);\n",
              "        const docLink = document.createElement('div');\n",
              "        docLink.innerHTML = docLinkHtml;\n",
              "        element.appendChild(docLink);\n",
              "      }\n",
              "    </script>\n",
              "  </div>\n",
              "\n",
              "\n",
              "    <div id=\"df-ae430d9f-b1fe-489e-9877-1f6a96808ed5\">\n",
              "      <button class=\"colab-df-quickchart\" onclick=\"quickchart('df-ae430d9f-b1fe-489e-9877-1f6a96808ed5')\"\n",
              "                title=\"Suggest charts\"\n",
              "                style=\"display:none;\">\n",
              "\n",
              "<svg xmlns=\"http://www.w3.org/2000/svg\" height=\"24px\"viewBox=\"0 0 24 24\"\n",
              "     width=\"24px\">\n",
              "    <g>\n",
              "        <path d=\"M19 3H5c-1.1 0-2 .9-2 2v14c0 1.1.9 2 2 2h14c1.1 0 2-.9 2-2V5c0-1.1-.9-2-2-2zM9 17H7v-7h2v7zm4 0h-2V7h2v10zm4 0h-2v-4h2v4z\"/>\n",
              "    </g>\n",
              "</svg>\n",
              "      </button>\n",
              "\n",
              "<style>\n",
              "  .colab-df-quickchart {\n",
              "      --bg-color: #E8F0FE;\n",
              "      --fill-color: #1967D2;\n",
              "      --hover-bg-color: #E2EBFA;\n",
              "      --hover-fill-color: #174EA6;\n",
              "      --disabled-fill-color: #AAA;\n",
              "      --disabled-bg-color: #DDD;\n",
              "  }\n",
              "\n",
              "  [theme=dark] .colab-df-quickchart {\n",
              "      --bg-color: #3B4455;\n",
              "      --fill-color: #D2E3FC;\n",
              "      --hover-bg-color: #434B5C;\n",
              "      --hover-fill-color: #FFFFFF;\n",
              "      --disabled-bg-color: #3B4455;\n",
              "      --disabled-fill-color: #666;\n",
              "  }\n",
              "\n",
              "  .colab-df-quickchart {\n",
              "    background-color: var(--bg-color);\n",
              "    border: none;\n",
              "    border-radius: 50%;\n",
              "    cursor: pointer;\n",
              "    display: none;\n",
              "    fill: var(--fill-color);\n",
              "    height: 32px;\n",
              "    padding: 0;\n",
              "    width: 32px;\n",
              "  }\n",
              "\n",
              "  .colab-df-quickchart:hover {\n",
              "    background-color: var(--hover-bg-color);\n",
              "    box-shadow: 0 1px 2px rgba(60, 64, 67, 0.3), 0 1px 3px 1px rgba(60, 64, 67, 0.15);\n",
              "    fill: var(--button-hover-fill-color);\n",
              "  }\n",
              "\n",
              "  .colab-df-quickchart-complete:disabled,\n",
              "  .colab-df-quickchart-complete:disabled:hover {\n",
              "    background-color: var(--disabled-bg-color);\n",
              "    fill: var(--disabled-fill-color);\n",
              "    box-shadow: none;\n",
              "  }\n",
              "\n",
              "  .colab-df-spinner {\n",
              "    border: 2px solid var(--fill-color);\n",
              "    border-color: transparent;\n",
              "    border-bottom-color: var(--fill-color);\n",
              "    animation:\n",
              "      spin 1s steps(1) infinite;\n",
              "  }\n",
              "\n",
              "  @keyframes spin {\n",
              "    0% {\n",
              "      border-color: transparent;\n",
              "      border-bottom-color: var(--fill-color);\n",
              "      border-left-color: var(--fill-color);\n",
              "    }\n",
              "    20% {\n",
              "      border-color: transparent;\n",
              "      border-left-color: var(--fill-color);\n",
              "      border-top-color: var(--fill-color);\n",
              "    }\n",
              "    30% {\n",
              "      border-color: transparent;\n",
              "      border-left-color: var(--fill-color);\n",
              "      border-top-color: var(--fill-color);\n",
              "      border-right-color: var(--fill-color);\n",
              "    }\n",
              "    40% {\n",
              "      border-color: transparent;\n",
              "      border-right-color: var(--fill-color);\n",
              "      border-top-color: var(--fill-color);\n",
              "    }\n",
              "    60% {\n",
              "      border-color: transparent;\n",
              "      border-right-color: var(--fill-color);\n",
              "    }\n",
              "    80% {\n",
              "      border-color: transparent;\n",
              "      border-right-color: var(--fill-color);\n",
              "      border-bottom-color: var(--fill-color);\n",
              "    }\n",
              "    90% {\n",
              "      border-color: transparent;\n",
              "      border-bottom-color: var(--fill-color);\n",
              "    }\n",
              "  }\n",
              "</style>\n",
              "\n",
              "      <script>\n",
              "        async function quickchart(key) {\n",
              "          const quickchartButtonEl =\n",
              "            document.querySelector('#' + key + ' button');\n",
              "          quickchartButtonEl.disabled = true;  // To prevent multiple clicks.\n",
              "          quickchartButtonEl.classList.add('colab-df-spinner');\n",
              "          try {\n",
              "            const charts = await google.colab.kernel.invokeFunction(\n",
              "                'suggestCharts', [key], {});\n",
              "          } catch (error) {\n",
              "            console.error('Error during call to suggestCharts:', error);\n",
              "          }\n",
              "          quickchartButtonEl.classList.remove('colab-df-spinner');\n",
              "          quickchartButtonEl.classList.add('colab-df-quickchart-complete');\n",
              "        }\n",
              "        (() => {\n",
              "          let quickchartButtonEl =\n",
              "            document.querySelector('#df-ae430d9f-b1fe-489e-9877-1f6a96808ed5 button');\n",
              "          quickchartButtonEl.style.display =\n",
              "            google.colab.kernel.accessAllowed ? 'block' : 'none';\n",
              "        })();\n",
              "      </script>\n",
              "    </div>\n",
              "\n",
              "    </div>\n",
              "  </div>\n"
            ],
            "application/vnd.google.colaboratory.intrinsic+json": {
              "type": "dataframe",
              "summary": "{\n  \"name\": \"data\",\n  \"rows\": 8,\n  \"fields\": [\n    {\n      \"column\": \"item_id\",\n      \"properties\": {\n        \"dtype\": \"number\",\n        \"std\": 34598545.32329579,\n        \"min\": 3694.0,\n        \"max\": 99932615.0,\n        \"num_unique_values\": 8,\n        \"samples\": [\n          48632396.78992961,\n          49288078.0,\n          3694.0\n        ],\n        \"semantic_type\": \"\",\n        \"description\": \"\"\n      }\n    },\n    {\n      \"column\": \"price\",\n      \"properties\": {\n        \"dtype\": \"number\",\n        \"std\": 3183.3636375041146,\n        \"min\": 3.0,\n        \"max\": 9585.0,\n        \"num_unique_values\": 8,\n        \"samples\": [\n          1078.208419057932,\n          544.7,\n          3694.0\n        ],\n        \"semantic_type\": \"\",\n        \"description\": \"\"\n      }\n    },\n    {\n      \"column\": \"depth\",\n      \"properties\": {\n        \"dtype\": \"number\",\n        \"std\": 768.1934948755667,\n        \"min\": 1.0,\n        \"max\": 2231.0,\n        \"num_unique_values\": 8,\n        \"samples\": [\n          54.379202151501566,\n          47.0,\n          2231.0\n        ],\n        \"semantic_type\": \"\",\n        \"description\": \"\"\n      }\n    },\n    {\n      \"column\": \"height\",\n      \"properties\": {\n        \"dtype\": \"number\",\n        \"std\": 926.3163987494954,\n        \"min\": 1.0,\n        \"max\": 2706.0,\n        \"num_unique_values\": 8,\n        \"samples\": [\n          101.679970436068,\n          83.0,\n          2706.0\n        ],\n        \"semantic_type\": \"\",\n        \"description\": \"\"\n      }\n    },\n    {\n      \"column\": \"width\",\n      \"properties\": {\n        \"dtype\": \"number\",\n        \"std\": 1061.087935579842,\n        \"min\": 1.0,\n        \"max\": 3105.0,\n        \"num_unique_values\": 8,\n        \"samples\": [\n          104.4708534621578,\n          80.0,\n          3105.0\n        ],\n        \"semantic_type\": \"\",\n        \"description\": \"\"\n      }\n    },\n    {\n      \"column\": \"topic_group\",\n      \"properties\": {\n        \"dtype\": \"number\",\n        \"std\": 497.805987692714,\n        \"min\": 0.0,\n        \"max\": 1409.0,\n        \"num_unique_values\": 6,\n        \"samples\": [\n          1409.0,\n          1.1029098651525906,\n          2.0\n        ],\n        \"semantic_type\": \"\",\n        \"description\": \"\"\n      }\n    }\n  ]\n}"
            }
          },
          "metadata": {},
          "execution_count": 458
        }
      ],
      "execution_count": 458
    },
    {
      "metadata": {
        "ExecuteTime": {
          "end_time": "2025-04-21T19:06:09.561315Z",
          "start_time": "2025-04-21T19:06:09.557242Z"
        },
        "colab": {
          "base_uri": "https://localhost:8080/"
        },
        "id": "b6675d822d32cfa8",
        "outputId": "d3c46a3b-178f-4271-a2cd-1e4feaa45ef9"
      },
      "cell_type": "code",
      "source": [
        "data.info()"
      ],
      "id": "b6675d822d32cfa8",
      "outputs": [
        {
          "output_type": "stream",
          "name": "stdout",
          "text": [
            "<class 'pandas.core.frame.DataFrame'>\n",
            "RangeIndex: 3694 entries, 0 to 3693\n",
            "Data columns (total 18 columns):\n",
            " #   Column               Non-Null Count  Dtype  \n",
            "---  ------               --------------  -----  \n",
            " 0   item_id              3694 non-null   int64  \n",
            " 1   name                 3694 non-null   object \n",
            " 2   category             3694 non-null   object \n",
            " 3   price                3694 non-null   float64\n",
            " 4   old_price            3694 non-null   object \n",
            " 5   sellable_online      3694 non-null   bool   \n",
            " 6   link                 3694 non-null   object \n",
            " 7   other_colors         3694 non-null   object \n",
            " 8   short_description    3694 non-null   object \n",
            " 9   designer             3694 non-null   object \n",
            " 10  depth                2231 non-null   float64\n",
            " 11  height               2706 non-null   float64\n",
            " 12  width                3105 non-null   float64\n",
            " 13  product_description  3694 non-null   object \n",
            " 14  current_status       3694 non-null   object \n",
            " 15  kewords              1394 non-null   object \n",
            " 16  topic_group          1409 non-null   float64\n",
            " 17  topic_desc           1409 non-null   object \n",
            "dtypes: bool(1), float64(5), int64(1), object(11)\n",
            "memory usage: 494.3+ KB\n"
          ]
        }
      ],
      "execution_count": 459
    },
    {
      "metadata": {
        "ExecuteTime": {
          "end_time": "2025-04-21T19:11:26.001319Z",
          "start_time": "2025-04-21T19:11:25.999144Z"
        },
        "id": "39dcf03665594b46"
      },
      "cell_type": "code",
      "source": [
        "data.rename(columns={'kewords': 'keywords'}, inplace=True)"
      ],
      "id": "39dcf03665594b46",
      "outputs": [],
      "execution_count": 460
    },
    {
      "cell_type": "markdown",
      "source": [
        "**Data Cleaning and Preprocessing Tasks:**"
      ],
      "metadata": {
        "id": "hziOPBxlGz6F"
      },
      "id": "hziOPBxlGz6F"
    },
    {
      "metadata": {
        "id": "1b5628c4efdf1746"
      },
      "cell_type": "markdown",
      "source": [
        "Handle Missing Values: Identify and handle missing values in columns such as depth, keywords, topic_group, and topic_desc."
      ],
      "id": "1b5628c4efdf1746"
    },
    {
      "metadata": {
        "ExecuteTime": {
          "end_time": "2025-04-21T19:11:28.186156Z",
          "start_time": "2025-04-21T19:11:28.181637Z"
        },
        "colab": {
          "base_uri": "https://localhost:8080/",
          "height": 641
        },
        "id": "7cab392eced15276",
        "outputId": "e456e15c-2eb2-4b23-ed83-31c18fd8fbb1"
      },
      "cell_type": "code",
      "source": [
        "data.isnull().sum()"
      ],
      "id": "7cab392eced15276",
      "outputs": [
        {
          "output_type": "execute_result",
          "data": {
            "text/plain": [
              "item_id                   0\n",
              "name                      0\n",
              "category                  0\n",
              "price                     0\n",
              "old_price                 0\n",
              "sellable_online           0\n",
              "link                      0\n",
              "other_colors              0\n",
              "short_description         0\n",
              "designer                  0\n",
              "depth                  1463\n",
              "height                  988\n",
              "width                   589\n",
              "product_description       0\n",
              "current_status            0\n",
              "keywords               2300\n",
              "topic_group            2285\n",
              "topic_desc             2285\n",
              "dtype: int64"
            ],
            "text/html": [
              "<div>\n",
              "<style scoped>\n",
              "    .dataframe tbody tr th:only-of-type {\n",
              "        vertical-align: middle;\n",
              "    }\n",
              "\n",
              "    .dataframe tbody tr th {\n",
              "        vertical-align: top;\n",
              "    }\n",
              "\n",
              "    .dataframe thead th {\n",
              "        text-align: right;\n",
              "    }\n",
              "</style>\n",
              "<table border=\"1\" class=\"dataframe\">\n",
              "  <thead>\n",
              "    <tr style=\"text-align: right;\">\n",
              "      <th></th>\n",
              "      <th>0</th>\n",
              "    </tr>\n",
              "  </thead>\n",
              "  <tbody>\n",
              "    <tr>\n",
              "      <th>item_id</th>\n",
              "      <td>0</td>\n",
              "    </tr>\n",
              "    <tr>\n",
              "      <th>name</th>\n",
              "      <td>0</td>\n",
              "    </tr>\n",
              "    <tr>\n",
              "      <th>category</th>\n",
              "      <td>0</td>\n",
              "    </tr>\n",
              "    <tr>\n",
              "      <th>price</th>\n",
              "      <td>0</td>\n",
              "    </tr>\n",
              "    <tr>\n",
              "      <th>old_price</th>\n",
              "      <td>0</td>\n",
              "    </tr>\n",
              "    <tr>\n",
              "      <th>sellable_online</th>\n",
              "      <td>0</td>\n",
              "    </tr>\n",
              "    <tr>\n",
              "      <th>link</th>\n",
              "      <td>0</td>\n",
              "    </tr>\n",
              "    <tr>\n",
              "      <th>other_colors</th>\n",
              "      <td>0</td>\n",
              "    </tr>\n",
              "    <tr>\n",
              "      <th>short_description</th>\n",
              "      <td>0</td>\n",
              "    </tr>\n",
              "    <tr>\n",
              "      <th>designer</th>\n",
              "      <td>0</td>\n",
              "    </tr>\n",
              "    <tr>\n",
              "      <th>depth</th>\n",
              "      <td>1463</td>\n",
              "    </tr>\n",
              "    <tr>\n",
              "      <th>height</th>\n",
              "      <td>988</td>\n",
              "    </tr>\n",
              "    <tr>\n",
              "      <th>width</th>\n",
              "      <td>589</td>\n",
              "    </tr>\n",
              "    <tr>\n",
              "      <th>product_description</th>\n",
              "      <td>0</td>\n",
              "    </tr>\n",
              "    <tr>\n",
              "      <th>current_status</th>\n",
              "      <td>0</td>\n",
              "    </tr>\n",
              "    <tr>\n",
              "      <th>keywords</th>\n",
              "      <td>2300</td>\n",
              "    </tr>\n",
              "    <tr>\n",
              "      <th>topic_group</th>\n",
              "      <td>2285</td>\n",
              "    </tr>\n",
              "    <tr>\n",
              "      <th>topic_desc</th>\n",
              "      <td>2285</td>\n",
              "    </tr>\n",
              "  </tbody>\n",
              "</table>\n",
              "</div><br><label><b>dtype:</b> int64</label>"
            ]
          },
          "metadata": {},
          "execution_count": 461
        }
      ],
      "execution_count": 461
    },
    {
      "metadata": {
        "ExecuteTime": {
          "end_time": "2025-04-21T19:11:37.805594Z",
          "start_time": "2025-04-21T19:11:37.802055Z"
        },
        "colab": {
          "base_uri": "https://localhost:8080/",
          "height": 484
        },
        "id": "3faa622484b9e453",
        "outputId": "2a82eed3-73d7-4093-a3ae-16227f95e98d"
      },
      "cell_type": "code",
      "source": [
        "data.rename(columns={'kewords': 'keywords'}, inplace=True)\n",
        "\n",
        "data['keywords'].value_counts()"
      ],
      "id": "3faa622484b9e453",
      "outputs": [
        {
          "output_type": "execute_result",
          "data": {
            "text/plain": [
              "keywords\n",
              "white keep neat lets use Find suitable use humid                         23\n",
              "fitted online stylish                                                    18\n",
              "white build wide low different create perfect clean modern easy place    16\n",
              "white icing small makes big Clean discreet blend right enhance modern    15\n",
              "light white stained need good ‚Äì sturdy wooden lightweight slide put    13\n",
              "                                                                         ..\n",
              "slatted grows extend replace want change                                  1\n",
              "bed frame w hidden several saving store want close small-space            1\n",
              "slatted white extendable ‚Äì lightening made timeless easy match          1\n",
              "white get extra organise personal Use extra customise                     1\n",
              "cm classic panelled goes Use full-length see top toe                      1\n",
              "Name: count, Length: 723, dtype: int64"
            ],
            "text/html": [
              "<div>\n",
              "<style scoped>\n",
              "    .dataframe tbody tr th:only-of-type {\n",
              "        vertical-align: middle;\n",
              "    }\n",
              "\n",
              "    .dataframe tbody tr th {\n",
              "        vertical-align: top;\n",
              "    }\n",
              "\n",
              "    .dataframe thead th {\n",
              "        text-align: right;\n",
              "    }\n",
              "</style>\n",
              "<table border=\"1\" class=\"dataframe\">\n",
              "  <thead>\n",
              "    <tr style=\"text-align: right;\">\n",
              "      <th></th>\n",
              "      <th>count</th>\n",
              "    </tr>\n",
              "    <tr>\n",
              "      <th>keywords</th>\n",
              "      <th></th>\n",
              "    </tr>\n",
              "  </thead>\n",
              "  <tbody>\n",
              "    <tr>\n",
              "      <th>white keep neat lets use Find suitable use humid</th>\n",
              "      <td>23</td>\n",
              "    </tr>\n",
              "    <tr>\n",
              "      <th>fitted online stylish</th>\n",
              "      <td>18</td>\n",
              "    </tr>\n",
              "    <tr>\n",
              "      <th>white build wide low different create perfect clean modern easy place</th>\n",
              "      <td>16</td>\n",
              "    </tr>\n",
              "    <tr>\n",
              "      <th>white icing small makes big Clean discreet blend right enhance modern</th>\n",
              "      <td>15</td>\n",
              "    </tr>\n",
              "    <tr>\n",
              "      <th>light white stained need good ‚Äì sturdy wooden lightweight slide put</th>\n",
              "      <td>13</td>\n",
              "    </tr>\n",
              "    <tr>\n",
              "      <th>...</th>\n",
              "      <td>...</td>\n",
              "    </tr>\n",
              "    <tr>\n",
              "      <th>slatted grows extend replace want change</th>\n",
              "      <td>1</td>\n",
              "    </tr>\n",
              "    <tr>\n",
              "      <th>bed frame w hidden several saving store want close small-space</th>\n",
              "      <td>1</td>\n",
              "    </tr>\n",
              "    <tr>\n",
              "      <th>slatted white extendable ‚Äì lightening made timeless easy match</th>\n",
              "      <td>1</td>\n",
              "    </tr>\n",
              "    <tr>\n",
              "      <th>white get extra organise personal Use extra customise</th>\n",
              "      <td>1</td>\n",
              "    </tr>\n",
              "    <tr>\n",
              "      <th>cm classic panelled goes Use full-length see top toe</th>\n",
              "      <td>1</td>\n",
              "    </tr>\n",
              "  </tbody>\n",
              "</table>\n",
              "<p>723 rows × 1 columns</p>\n",
              "</div><br><label><b>dtype:</b> int64</label>"
            ]
          },
          "metadata": {},
          "execution_count": 462
        }
      ],
      "execution_count": 462
    },
    {
      "metadata": {
        "ExecuteTime": {
          "end_time": "2025-04-21T19:11:42.564011Z",
          "start_time": "2025-04-21T19:11:42.560214Z"
        },
        "colab": {
          "base_uri": "https://localhost:8080/",
          "height": 484
        },
        "id": "8cec81a8f16ef8ed",
        "outputId": "7fb7e95f-1950-4e2e-f670-152aa91b4aa5"
      },
      "cell_type": "code",
      "source": [
        "data['height'].value_counts()"
      ],
      "id": "8cec81a8f16ef8ed",
      "outputs": [
        {
          "output_type": "execute_result",
          "data": {
            "text/plain": [
              "height\n",
              "74.0     189\n",
              "236.0    113\n",
              "75.0      82\n",
              "73.0      77\n",
              "83.0      73\n",
              "        ... \n",
              "113.0      1\n",
              "108.0      1\n",
              "700.0      1\n",
              "149.0      1\n",
              "208.0      1\n",
              "Name: count, Length: 193, dtype: int64"
            ],
            "text/html": [
              "<div>\n",
              "<style scoped>\n",
              "    .dataframe tbody tr th:only-of-type {\n",
              "        vertical-align: middle;\n",
              "    }\n",
              "\n",
              "    .dataframe tbody tr th {\n",
              "        vertical-align: top;\n",
              "    }\n",
              "\n",
              "    .dataframe thead th {\n",
              "        text-align: right;\n",
              "    }\n",
              "</style>\n",
              "<table border=\"1\" class=\"dataframe\">\n",
              "  <thead>\n",
              "    <tr style=\"text-align: right;\">\n",
              "      <th></th>\n",
              "      <th>count</th>\n",
              "    </tr>\n",
              "    <tr>\n",
              "      <th>height</th>\n",
              "      <th></th>\n",
              "    </tr>\n",
              "  </thead>\n",
              "  <tbody>\n",
              "    <tr>\n",
              "      <th>74.0</th>\n",
              "      <td>189</td>\n",
              "    </tr>\n",
              "    <tr>\n",
              "      <th>236.0</th>\n",
              "      <td>113</td>\n",
              "    </tr>\n",
              "    <tr>\n",
              "      <th>75.0</th>\n",
              "      <td>82</td>\n",
              "    </tr>\n",
              "    <tr>\n",
              "      <th>73.0</th>\n",
              "      <td>77</td>\n",
              "    </tr>\n",
              "    <tr>\n",
              "      <th>83.0</th>\n",
              "      <td>73</td>\n",
              "    </tr>\n",
              "    <tr>\n",
              "      <th>...</th>\n",
              "      <td>...</td>\n",
              "    </tr>\n",
              "    <tr>\n",
              "      <th>113.0</th>\n",
              "      <td>1</td>\n",
              "    </tr>\n",
              "    <tr>\n",
              "      <th>108.0</th>\n",
              "      <td>1</td>\n",
              "    </tr>\n",
              "    <tr>\n",
              "      <th>700.0</th>\n",
              "      <td>1</td>\n",
              "    </tr>\n",
              "    <tr>\n",
              "      <th>149.0</th>\n",
              "      <td>1</td>\n",
              "    </tr>\n",
              "    <tr>\n",
              "      <th>208.0</th>\n",
              "      <td>1</td>\n",
              "    </tr>\n",
              "  </tbody>\n",
              "</table>\n",
              "<p>193 rows × 1 columns</p>\n",
              "</div><br><label><b>dtype:</b> int64</label>"
            ]
          },
          "metadata": {},
          "execution_count": 463
        }
      ],
      "execution_count": 463
    },
    {
      "metadata": {
        "ExecuteTime": {
          "end_time": "2025-04-21T19:11:47.185011Z",
          "start_time": "2025-04-21T19:11:47.181340Z"
        },
        "colab": {
          "base_uri": "https://localhost:8080/",
          "height": 207
        },
        "id": "2efb8e628d70c4c4",
        "outputId": "321fa23c-d029-494f-aefd-e8506f5a32a5"
      },
      "cell_type": "code",
      "source": [
        "data['topic_desc'].value_counts()"
      ],
      "id": "2efb8e628d70c4c4",
      "outputs": [
        {
          "output_type": "execute_result",
          "data": {
            "text/plain": [
              "topic_desc\n",
              "Durability and Appearance          592\n",
              "Color and Aesthetics, Usability    447\n",
              "Style and Functionality            370\n",
              "Name: count, dtype: int64"
            ],
            "text/html": [
              "<div>\n",
              "<style scoped>\n",
              "    .dataframe tbody tr th:only-of-type {\n",
              "        vertical-align: middle;\n",
              "    }\n",
              "\n",
              "    .dataframe tbody tr th {\n",
              "        vertical-align: top;\n",
              "    }\n",
              "\n",
              "    .dataframe thead th {\n",
              "        text-align: right;\n",
              "    }\n",
              "</style>\n",
              "<table border=\"1\" class=\"dataframe\">\n",
              "  <thead>\n",
              "    <tr style=\"text-align: right;\">\n",
              "      <th></th>\n",
              "      <th>count</th>\n",
              "    </tr>\n",
              "    <tr>\n",
              "      <th>topic_desc</th>\n",
              "      <th></th>\n",
              "    </tr>\n",
              "  </thead>\n",
              "  <tbody>\n",
              "    <tr>\n",
              "      <th>Durability and Appearance</th>\n",
              "      <td>592</td>\n",
              "    </tr>\n",
              "    <tr>\n",
              "      <th>Color and Aesthetics, Usability</th>\n",
              "      <td>447</td>\n",
              "    </tr>\n",
              "    <tr>\n",
              "      <th>Style and Functionality</th>\n",
              "      <td>370</td>\n",
              "    </tr>\n",
              "  </tbody>\n",
              "</table>\n",
              "</div><br><label><b>dtype:</b> int64</label>"
            ]
          },
          "metadata": {},
          "execution_count": 464
        }
      ],
      "execution_count": 464
    },
    {
      "metadata": {
        "ExecuteTime": {
          "end_time": "2025-04-21T19:11:50.251516Z",
          "start_time": "2025-04-21T19:11:50.247787Z"
        },
        "colab": {
          "base_uri": "https://localhost:8080/",
          "height": 207
        },
        "id": "b3d537ed1a7e4828",
        "outputId": "c26a1f47-a748-4f94-c974-3d887c69e394"
      },
      "cell_type": "code",
      "source": [
        "data['topic_group'].value_counts()"
      ],
      "id": "b3d537ed1a7e4828",
      "outputs": [
        {
          "output_type": "execute_result",
          "data": {
            "text/plain": [
              "topic_group\n",
              "2.0    592\n",
              "0.0    447\n",
              "1.0    370\n",
              "Name: count, dtype: int64"
            ],
            "text/html": [
              "<div>\n",
              "<style scoped>\n",
              "    .dataframe tbody tr th:only-of-type {\n",
              "        vertical-align: middle;\n",
              "    }\n",
              "\n",
              "    .dataframe tbody tr th {\n",
              "        vertical-align: top;\n",
              "    }\n",
              "\n",
              "    .dataframe thead th {\n",
              "        text-align: right;\n",
              "    }\n",
              "</style>\n",
              "<table border=\"1\" class=\"dataframe\">\n",
              "  <thead>\n",
              "    <tr style=\"text-align: right;\">\n",
              "      <th></th>\n",
              "      <th>count</th>\n",
              "    </tr>\n",
              "    <tr>\n",
              "      <th>topic_group</th>\n",
              "      <th></th>\n",
              "    </tr>\n",
              "  </thead>\n",
              "  <tbody>\n",
              "    <tr>\n",
              "      <th>2.0</th>\n",
              "      <td>592</td>\n",
              "    </tr>\n",
              "    <tr>\n",
              "      <th>0.0</th>\n",
              "      <td>447</td>\n",
              "    </tr>\n",
              "    <tr>\n",
              "      <th>1.0</th>\n",
              "      <td>370</td>\n",
              "    </tr>\n",
              "  </tbody>\n",
              "</table>\n",
              "</div><br><label><b>dtype:</b> int64</label>"
            ]
          },
          "metadata": {},
          "execution_count": 465
        }
      ],
      "execution_count": 465
    },
    {
      "metadata": {
        "id": "5035965bc5e7262a"
      },
      "cell_type": "markdown",
      "source": [
        "Standardize Columns: Convert relevant columns to consistent data types (e.g., price and old_price).\n"
      ],
      "id": "5035965bc5e7262a"
    },
    {
      "metadata": {
        "ExecuteTime": {
          "end_time": "2025-04-21T19:11:53.127419Z",
          "start_time": "2025-04-21T19:11:53.123343Z"
        },
        "colab": {
          "base_uri": "https://localhost:8080/",
          "height": 484
        },
        "id": "584b7c2083ed9a23",
        "outputId": "c52a0fea-4feb-4b0b-ebb0-454e50bca565"
      },
      "cell_type": "code",
      "source": [
        "data['old_price'].value_counts()"
      ],
      "id": "584b7c2083ed9a23",
      "outputs": [
        {
          "output_type": "execute_result",
          "data": {
            "text/plain": [
              "old_price\n",
              "No old price    3040\n",
              "SR 995            12\n",
              "SR 1,385          11\n",
              "SR 595            10\n",
              "SR 275             8\n",
              "                ... \n",
              "SR 2,395           1\n",
              "SR 1,250           1\n",
              "SR 1,815           1\n",
              "SR 820             1\n",
              "SR 8,735           1\n",
              "Name: count, Length: 365, dtype: int64"
            ],
            "text/html": [
              "<div>\n",
              "<style scoped>\n",
              "    .dataframe tbody tr th:only-of-type {\n",
              "        vertical-align: middle;\n",
              "    }\n",
              "\n",
              "    .dataframe tbody tr th {\n",
              "        vertical-align: top;\n",
              "    }\n",
              "\n",
              "    .dataframe thead th {\n",
              "        text-align: right;\n",
              "    }\n",
              "</style>\n",
              "<table border=\"1\" class=\"dataframe\">\n",
              "  <thead>\n",
              "    <tr style=\"text-align: right;\">\n",
              "      <th></th>\n",
              "      <th>count</th>\n",
              "    </tr>\n",
              "    <tr>\n",
              "      <th>old_price</th>\n",
              "      <th></th>\n",
              "    </tr>\n",
              "  </thead>\n",
              "  <tbody>\n",
              "    <tr>\n",
              "      <th>No old price</th>\n",
              "      <td>3040</td>\n",
              "    </tr>\n",
              "    <tr>\n",
              "      <th>SR 995</th>\n",
              "      <td>12</td>\n",
              "    </tr>\n",
              "    <tr>\n",
              "      <th>SR 1,385</th>\n",
              "      <td>11</td>\n",
              "    </tr>\n",
              "    <tr>\n",
              "      <th>SR 595</th>\n",
              "      <td>10</td>\n",
              "    </tr>\n",
              "    <tr>\n",
              "      <th>SR 275</th>\n",
              "      <td>8</td>\n",
              "    </tr>\n",
              "    <tr>\n",
              "      <th>...</th>\n",
              "      <td>...</td>\n",
              "    </tr>\n",
              "    <tr>\n",
              "      <th>SR 2,395</th>\n",
              "      <td>1</td>\n",
              "    </tr>\n",
              "    <tr>\n",
              "      <th>SR 1,250</th>\n",
              "      <td>1</td>\n",
              "    </tr>\n",
              "    <tr>\n",
              "      <th>SR 1,815</th>\n",
              "      <td>1</td>\n",
              "    </tr>\n",
              "    <tr>\n",
              "      <th>SR 820</th>\n",
              "      <td>1</td>\n",
              "    </tr>\n",
              "    <tr>\n",
              "      <th>SR 8,735</th>\n",
              "      <td>1</td>\n",
              "    </tr>\n",
              "  </tbody>\n",
              "</table>\n",
              "<p>365 rows × 1 columns</p>\n",
              "</div><br><label><b>dtype:</b> int64</label>"
            ]
          },
          "metadata": {},
          "execution_count": 466
        }
      ],
      "execution_count": 466
    },
    {
      "metadata": {
        "ExecuteTime": {
          "end_time": "2025-04-21T19:11:55.177293Z",
          "start_time": "2025-04-21T19:11:55.173093Z"
        },
        "colab": {
          "base_uri": "https://localhost:8080/",
          "height": 484
        },
        "id": "1a3f497b79917647",
        "outputId": "bcd3c036-7218-424b-928e-15b93dec655d"
      },
      "cell_type": "code",
      "source": [
        "data['price'].value_counts()"
      ],
      "id": "1a3f497b79917647",
      "outputs": [
        {
          "output_type": "execute_result",
          "data": {
            "text/plain": [
              "price\n",
              "395.0     66\n",
              "195.0     54\n",
              "25.0      54\n",
              "175.0     51\n",
              "995.0     51\n",
              "          ..\n",
              "1277.0     1\n",
              "4190.0     1\n",
              "206.5      1\n",
              "2795.0     1\n",
              "3845.0     1\n",
              "Name: count, Length: 979, dtype: int64"
            ],
            "text/html": [
              "<div>\n",
              "<style scoped>\n",
              "    .dataframe tbody tr th:only-of-type {\n",
              "        vertical-align: middle;\n",
              "    }\n",
              "\n",
              "    .dataframe tbody tr th {\n",
              "        vertical-align: top;\n",
              "    }\n",
              "\n",
              "    .dataframe thead th {\n",
              "        text-align: right;\n",
              "    }\n",
              "</style>\n",
              "<table border=\"1\" class=\"dataframe\">\n",
              "  <thead>\n",
              "    <tr style=\"text-align: right;\">\n",
              "      <th></th>\n",
              "      <th>count</th>\n",
              "    </tr>\n",
              "    <tr>\n",
              "      <th>price</th>\n",
              "      <th></th>\n",
              "    </tr>\n",
              "  </thead>\n",
              "  <tbody>\n",
              "    <tr>\n",
              "      <th>395.0</th>\n",
              "      <td>66</td>\n",
              "    </tr>\n",
              "    <tr>\n",
              "      <th>195.0</th>\n",
              "      <td>54</td>\n",
              "    </tr>\n",
              "    <tr>\n",
              "      <th>25.0</th>\n",
              "      <td>54</td>\n",
              "    </tr>\n",
              "    <tr>\n",
              "      <th>175.0</th>\n",
              "      <td>51</td>\n",
              "    </tr>\n",
              "    <tr>\n",
              "      <th>995.0</th>\n",
              "      <td>51</td>\n",
              "    </tr>\n",
              "    <tr>\n",
              "      <th>...</th>\n",
              "      <td>...</td>\n",
              "    </tr>\n",
              "    <tr>\n",
              "      <th>1277.0</th>\n",
              "      <td>1</td>\n",
              "    </tr>\n",
              "    <tr>\n",
              "      <th>4190.0</th>\n",
              "      <td>1</td>\n",
              "    </tr>\n",
              "    <tr>\n",
              "      <th>206.5</th>\n",
              "      <td>1</td>\n",
              "    </tr>\n",
              "    <tr>\n",
              "      <th>2795.0</th>\n",
              "      <td>1</td>\n",
              "    </tr>\n",
              "    <tr>\n",
              "      <th>3845.0</th>\n",
              "      <td>1</td>\n",
              "    </tr>\n",
              "  </tbody>\n",
              "</table>\n",
              "<p>979 rows × 1 columns</p>\n",
              "</div><br><label><b>dtype:</b> int64</label>"
            ]
          },
          "metadata": {},
          "execution_count": 467
        }
      ],
      "execution_count": 467
    },
    {
      "cell_type": "code",
      "source": [
        "def clean_and_update_old_price(data):\n",
        "\n",
        "    data['old_price_clean'] = (\n",
        "        data['old_price']\n",
        "        .astype(str)\n",
        "        .str.strip()\n",
        "        .str.replace(\"SR\", \"\", regex=False)  # \"SR\" işarəsini silirik\n",
        "        .str.replace(\",\", \"\", regex=False)   # Vergül işarələrini silirik\n",
        "        .str.replace(r\"/.*\", \"\", regex=True)  # \"SR\"dan sonra olan hər şeyi silirik\n",
        "        .str.replace(\"No old price\", \"\", regex=False)  # \"No old price\" ifadəsini silirik\n",
        "        .str.strip()  # Boşluqları təmizləyirik\n",
        "    )\n",
        "\n",
        "    # Təmizlənmiş qiymətləri rəqəmə çeviririk\n",
        "    data['old_price_clean'] = pd.to_numeric(data['old_price_clean'], errors='coerce')\n",
        "\n",
        "    # old_price_clean NaN olduqda price dəyərini təyin edirik\n",
        "    data['old_price_clean'] = data.apply(\n",
        "        lambda row: row['price'] if pd.isna(row['old_price_clean']) else row['old_price_clean'],\n",
        "        axis=1\n",
        "    )\n",
        "\n",
        "    return data\n",
        "\n",
        "data = clean_and_update_old_price(data)\n",
        "\n",
        "print(data[['old_price', 'old_price_clean', 'price']].head(20))"
      ],
      "metadata": {
        "colab": {
          "base_uri": "https://localhost:8080/"
        },
        "id": "tPQFRdsV3Q7j",
        "outputId": "11a77108-99ec-4238-8916-0b4dc0528feb"
      },
      "id": "tPQFRdsV3Q7j",
      "execution_count": 468,
      "outputs": [
        {
          "output_type": "stream",
          "name": "stdout",
          "text": [
            "       old_price  old_price_clean   price\n",
            "0   No old price            265.0   265.0\n",
            "1   No old price             69.0    69.0\n",
            "2         SR 295            295.0   177.0\n",
            "3   No old price            345.0   345.0\n",
            "4   No old price            395.0   395.0\n",
            "5         SR 175            175.0   140.0\n",
            "6   No old price            595.0   595.0\n",
            "7         SR 995            995.0   796.0\n",
            "8   No old price            695.0   695.0\n",
            "9   No old price            595.0   595.0\n",
            "10  No old price            435.0   435.0\n",
            "11      SR 1,385           1385.0  1266.0\n",
            "12  No old price             40.0    40.0\n",
            "13  No old price            395.0   395.0\n",
            "14  No old price           1385.0  1385.0\n",
            "15      SR 2,375           2375.0  2176.0\n",
            "16  No old price            745.0   745.0\n",
            "17  No old price           1385.0  1385.0\n",
            "18      SR 1,385           1385.0  1266.0\n",
            "19      SR 1,385           1385.0  1266.0\n"
          ]
        }
      ]
    },
    {
      "metadata": {
        "ExecuteTime": {
          "end_time": "2025-04-21T19:30:04.626699Z",
          "start_time": "2025-04-21T19:30:04.465764Z"
        },
        "id": "8bc085cff8c8a638"
      },
      "cell_type": "code",
      "source": [
        "from sklearn.impute import KNNImputer\n",
        "\n",
        "data_encoded = pd.get_dummies(data, columns=['category'], drop_first=True)\n",
        "\n",
        "imputer = KNNImputer(n_neighbors=5)\n",
        "numeric_cols = data_encoded.select_dtypes(include=['float64', 'int64']).columns\n",
        "\n",
        "data_encoded[numeric_cols] = imputer.fit_transform(data_encoded[numeric_cols])\n",
        "data['depth'] = data_encoded['depth']\n",
        "data['width'] = data_encoded['width']\n",
        "data['height'] = data_encoded['height']"
      ],
      "id": "8bc085cff8c8a638",
      "outputs": [],
      "execution_count": 469
    },
    {
      "metadata": {
        "ExecuteTime": {
          "end_time": "2025-04-21T19:42:38.317550Z",
          "start_time": "2025-04-21T19:42:38.314497Z"
        },
        "colab": {
          "base_uri": "https://localhost:8080/"
        },
        "id": "af03c5483570762e",
        "outputId": "17b3216e-9949-4d22-c58b-35179310aafc"
      },
      "cell_type": "code",
      "source": [
        "data['keywords'].fillna('', inplace=True)\n",
        "data['topic_group'].fillna('', inplace=True)\n",
        "data['topic_desc'].fillna('', inplace=True)"
      ],
      "id": "af03c5483570762e",
      "outputs": [
        {
          "output_type": "stream",
          "name": "stderr",
          "text": [
            "<ipython-input-470-0c7ff2cfc4f5>:1: FutureWarning: A value is trying to be set on a copy of a DataFrame or Series through chained assignment using an inplace method.\n",
            "The behavior will change in pandas 3.0. This inplace method will never work because the intermediate object on which we are setting values always behaves as a copy.\n",
            "\n",
            "For example, when doing 'df[col].method(value, inplace=True)', try using 'df.method({col: value}, inplace=True)' or df[col] = df[col].method(value) instead, to perform the operation inplace on the original object.\n",
            "\n",
            "\n",
            "  data['keywords'].fillna('', inplace=True)\n",
            "<ipython-input-470-0c7ff2cfc4f5>:2: FutureWarning: A value is trying to be set on a copy of a DataFrame or Series through chained assignment using an inplace method.\n",
            "The behavior will change in pandas 3.0. This inplace method will never work because the intermediate object on which we are setting values always behaves as a copy.\n",
            "\n",
            "For example, when doing 'df[col].method(value, inplace=True)', try using 'df.method({col: value}, inplace=True)' or df[col] = df[col].method(value) instead, to perform the operation inplace on the original object.\n",
            "\n",
            "\n",
            "  data['topic_group'].fillna('', inplace=True)\n",
            "<ipython-input-470-0c7ff2cfc4f5>:2: FutureWarning: Setting an item of incompatible dtype is deprecated and will raise an error in a future version of pandas. Value '' has dtype incompatible with float64, please explicitly cast to a compatible dtype first.\n",
            "  data['topic_group'].fillna('', inplace=True)\n",
            "<ipython-input-470-0c7ff2cfc4f5>:3: FutureWarning: A value is trying to be set on a copy of a DataFrame or Series through chained assignment using an inplace method.\n",
            "The behavior will change in pandas 3.0. This inplace method will never work because the intermediate object on which we are setting values always behaves as a copy.\n",
            "\n",
            "For example, when doing 'df[col].method(value, inplace=True)', try using 'df.method({col: value}, inplace=True)' or df[col] = df[col].method(value) instead, to perform the operation inplace on the original object.\n",
            "\n",
            "\n",
            "  data['topic_desc'].fillna('', inplace=True)\n"
          ]
        }
      ],
      "execution_count": 470
    },
    {
      "cell_type": "code",
      "source": [
        "data = data.drop(columns=['old_price'])\n",
        "\n",
        "data.to_excel('cleaned_data.xlsx', index=False)"
      ],
      "metadata": {
        "id": "Sb-uDQ_t4Y1C"
      },
      "id": "Sb-uDQ_t4Y1C",
      "execution_count": 471,
      "outputs": []
    },
    {
      "cell_type": "code",
      "source": [
        "data = pd.read_excel('cleaned_data.xlsx')"
      ],
      "metadata": {
        "id": "Ht4EjdLUAI6J"
      },
      "id": "Ht4EjdLUAI6J",
      "execution_count": 472,
      "outputs": []
    },
    {
      "metadata": {
        "ExecuteTime": {
          "end_time": "2025-04-21T19:12:03.387665Z",
          "start_time": "2025-04-21T19:12:03.383444Z"
        },
        "colab": {
          "base_uri": "https://localhost:8080/"
        },
        "id": "17edc9d4c3026841",
        "outputId": "1636ae37-bd59-4a47-f858-05c4060b28f3"
      },
      "cell_type": "code",
      "source": [
        "print(data.isnull().sum())"
      ],
      "id": "17edc9d4c3026841",
      "outputs": [
        {
          "output_type": "stream",
          "name": "stdout",
          "text": [
            "item_id                   0\n",
            "name                      0\n",
            "category                  0\n",
            "price                     0\n",
            "sellable_online           0\n",
            "link                      0\n",
            "other_colors              0\n",
            "short_description         0\n",
            "designer                  0\n",
            "depth                     0\n",
            "height                    0\n",
            "width                     0\n",
            "product_description       0\n",
            "current_status            0\n",
            "keywords               2300\n",
            "topic_group            2285\n",
            "topic_desc             2285\n",
            "old_price_clean           0\n",
            "dtype: int64\n"
          ]
        }
      ],
      "execution_count": 473
    },
    {
      "metadata": {
        "ExecuteTime": {
          "end_time": "2025-04-21T19:12:06.158848Z",
          "start_time": "2025-04-21T19:12:06.153657Z"
        },
        "colab": {
          "base_uri": "https://localhost:8080/"
        },
        "id": "bd1e488e12c4847",
        "outputId": "c483b6b2-1959-4861-9f72-c0b1c1802099"
      },
      "cell_type": "code",
      "source": [
        "total_rows = len(data)\n",
        "\n",
        "nan_percent=(data.isnull().sum()/total_rows)*100\n",
        "nan_percent = nan_percent.round(2)\n",
        "print(nan_percent)"
      ],
      "id": "bd1e488e12c4847",
      "outputs": [
        {
          "output_type": "stream",
          "name": "stdout",
          "text": [
            "item_id                 0.00\n",
            "name                    0.00\n",
            "category                0.00\n",
            "price                   0.00\n",
            "sellable_online         0.00\n",
            "link                    0.00\n",
            "other_colors            0.00\n",
            "short_description       0.00\n",
            "designer                0.00\n",
            "depth                   0.00\n",
            "height                  0.00\n",
            "width                   0.00\n",
            "product_description     0.00\n",
            "current_status          0.00\n",
            "keywords               62.26\n",
            "topic_group            61.86\n",
            "topic_desc             61.86\n",
            "old_price_clean         0.00\n",
            "dtype: float64\n"
          ]
        }
      ],
      "execution_count": 474
    },
    {
      "metadata": {
        "ExecuteTime": {
          "end_time": "2025-04-21T19:18:12.007270Z",
          "start_time": "2025-04-21T19:18:12.002825Z"
        },
        "colab": {
          "base_uri": "https://localhost:8080/"
        },
        "id": "8d43dd29795a1782",
        "outputId": "4b9ff914-99e6-4e17-f98e-0ceb1a1b464c"
      },
      "cell_type": "code",
      "source": [
        "correlation_matrix = data.corr(numeric_only=True)\n",
        "print(correlation_matrix)"
      ],
      "id": "8d43dd29795a1782",
      "outputs": [
        {
          "output_type": "stream",
          "name": "stdout",
          "text": [
            "                  item_id     price  sellable_online     depth    height  \\\n",
            "item_id          1.000000  0.062683         0.015255  0.038175  0.077525   \n",
            "price            0.062683  1.000000         0.040226  0.581575  0.305451   \n",
            "sellable_online  0.015255  0.040226         1.000000  0.047569  0.039944   \n",
            "depth            0.038175  0.581575         0.047569  1.000000  0.019213   \n",
            "height           0.077525  0.305451         0.039944  0.019213  1.000000   \n",
            "width            0.070693  0.693741         0.048900  0.423258  0.372393   \n",
            "topic_group     -0.027098 -0.053425        -0.074468 -0.050729 -0.055894   \n",
            "old_price_clean  0.063274  0.993866         0.040125  0.583620  0.299050   \n",
            "\n",
            "                    width  topic_group  old_price_clean  \n",
            "item_id          0.070693    -0.027098         0.063274  \n",
            "price            0.693741    -0.053425         0.993866  \n",
            "sellable_online  0.048900    -0.074468         0.040125  \n",
            "depth            0.423258    -0.050729         0.583620  \n",
            "height           0.372393    -0.055894         0.299050  \n",
            "width            1.000000    -0.024912         0.697214  \n",
            "topic_group     -0.024912     1.000000        -0.043659  \n",
            "old_price_clean  0.697214    -0.043659         1.000000  \n"
          ]
        }
      ],
      "execution_count": 475
    },
    {
      "metadata": {
        "ExecuteTime": {
          "end_time": "2025-04-21T19:19:16.902671Z",
          "start_time": "2025-04-21T19:19:16.751999Z"
        },
        "colab": {
          "base_uri": "https://localhost:8080/",
          "height": 607
        },
        "id": "58208f5cbb137a42",
        "outputId": "d5bb0cb7-bd8e-472d-da61-795408d8a2db"
      },
      "cell_type": "code",
      "source": [
        "data_cleaned = data.drop(columns=['item_id'])\n",
        "\n",
        "correlation_matrix = data_cleaned.corr(numeric_only=True)\n",
        "\n",
        "plt.figure(figsize=(10, 6))\n",
        "sns.heatmap(correlation_matrix, annot=True, cmap='coolwarm', fmt=\".2f\", linewidths=0.5)\n",
        "plt.title(\"Korelyasiya Matrisi Heatmap\")\n",
        "plt.tight_layout()\n",
        "plt.show()"
      ],
      "id": "58208f5cbb137a42",
      "outputs": [
        {
          "output_type": "display_data",
          "data": {
            "text/plain": [
              "<Figure size 1000x600 with 2 Axes>"
            ],
            "image/png": "[encoded data removed]"
          },
          "metadata": {}
        }
      ],
      "execution_count": 476
    },
    {
      "metadata": {
        "ExecuteTime": {
          "end_time": "2025-04-21T19:35:30.640092Z",
          "start_time": "2025-04-21T19:35:30.637760Z"
        },
        "colab": {
          "base_uri": "https://localhost:8080/"
        },
        "id": "163ef6f839dbc1f4",
        "outputId": "11c861b4-8104-4f46-90d6-2dbbc98818a5"
      },
      "cell_type": "code",
      "source": [
        "data.columns"
      ],
      "id": "163ef6f839dbc1f4",
      "outputs": [
        {
          "output_type": "execute_result",
          "data": {
            "text/plain": [
              "Index(['item_id', 'name', 'category', 'price', 'sellable_online', 'link',\n",
              "       'other_colors', 'short_description', 'designer', 'depth', 'height',\n",
              "       'width', 'product_description', 'current_status', 'keywords',\n",
              "       'topic_group', 'topic_desc', 'old_price_clean'],\n",
              "      dtype='object')"
            ]
          },
          "metadata": {},
          "execution_count": 477
        }
      ],
      "execution_count": 477
    },
    {
      "metadata": {
        "ExecuteTime": {
          "end_time": "2025-04-21T19:38:28.258442Z",
          "start_time": "2025-04-21T19:38:28.256136Z"
        },
        "colab": {
          "base_uri": "https://localhost:8080/"
        },
        "id": "de76a360e14da474",
        "outputId": "41b2c01d-669a-4570-a4db-20f5e4bc867b"
      },
      "cell_type": "code",
      "source": [
        "data.shape"
      ],
      "id": "de76a360e14da474",
      "outputs": [
        {
          "output_type": "execute_result",
          "data": {
            "text/plain": [
              "(3694, 18)"
            ]
          },
          "metadata": {},
          "execution_count": 478
        }
      ],
      "execution_count": 478
    },
    {
      "metadata": {
        "ExecuteTime": {
          "end_time": "2025-04-21T19:39:06.864304Z",
          "start_time": "2025-04-21T19:39:06.860673Z"
        },
        "colab": {
          "base_uri": "https://localhost:8080/"
        },
        "id": "a9e6fb2a766f0fe3",
        "outputId": "e59de85f-d525-48b6-f179-c579e9a7b213"
      },
      "cell_type": "code",
      "source": [
        "print(data.isnull().sum())"
      ],
      "id": "a9e6fb2a766f0fe3",
      "outputs": [
        {
          "output_type": "stream",
          "name": "stdout",
          "text": [
            "item_id                   0\n",
            "name                      0\n",
            "category                  0\n",
            "price                     0\n",
            "sellable_online           0\n",
            "link                      0\n",
            "other_colors              0\n",
            "short_description         0\n",
            "designer                  0\n",
            "depth                     0\n",
            "height                    0\n",
            "width                     0\n",
            "product_description       0\n",
            "current_status            0\n",
            "keywords               2300\n",
            "topic_group            2285\n",
            "topic_desc             2285\n",
            "old_price_clean           0\n",
            "dtype: int64\n"
          ]
        }
      ],
      "execution_count": 479
    },
    {
      "metadata": {
        "id": "e567ae932aacf9e1"
      },
      "cell_type": "markdown",
      "source": [
        "Boolean Conversion: Ensure the sellable_online column is a proper boolean type."
      ],
      "id": "e567ae932aacf9e1"
    },
    {
      "metadata": {
        "ExecuteTime": {
          "end_time": "2025-04-21T19:46:07.966874Z",
          "start_time": "2025-04-21T19:46:07.964683Z"
        },
        "id": "bd3a50dbd6099f79"
      },
      "cell_type": "code",
      "source": [
        "data['sellable_online'] = data['sellable_online'].astype(bool)"
      ],
      "id": "bd3a50dbd6099f79",
      "outputs": [],
      "execution_count": 480
    },
    {
      "metadata": {
        "ExecuteTime": {
          "end_time": "2025-04-21T19:47:04.908006Z",
          "start_time": "2025-04-21T19:47:04.863019Z"
        },
        "colab": {
          "base_uri": "https://localhost:8080/",
          "height": 495
        },
        "id": "34c4f857357ead5f",
        "outputId": "e1ff7f7a-b3a6-42eb-9235-1c5800a22b58"
      },
      "cell_type": "code",
      "source": [
        "data['sellable_online'].value_counts()\n",
        "\n",
        "# Plot the distribution of 'yes' and 'no'\n",
        "plt.figure(figsize=(6, 4))\n",
        "sns.countplot(x='sellable_online', data=data, palette='Set2')\n",
        "plt.title('Distribution of Sellable Online (Yes/No)')\n",
        "plt.xlabel('Sellable Online')\n",
        "plt.ylabel('Count')\n",
        "plt.show()"
      ],
      "id": "34c4f857357ead5f",
      "outputs": [
        {
          "output_type": "stream",
          "name": "stderr",
          "text": [
            "<ipython-input-481-182acfaef937>:5: FutureWarning: \n",
            "\n",
            "Passing `palette` without assigning `hue` is deprecated and will be removed in v0.14.0. Assign the `x` variable to `hue` and set `legend=False` for the same effect.\n",
            "\n",
            "  sns.countplot(x='sellable_online', data=data, palette='Set2')\n"
          ]
        },
        {
          "output_type": "display_data",
          "data": {
            "text/plain": [
              "<Figure size 600x400 with 1 Axes>"
            ],
            "image/png": "[encoded data removed]"
          },
          "metadata": {}
        }
      ],
      "execution_count": 481
    },
    {
      "metadata": {
        "id": "25ad66f06b3135f9"
      },
      "cell_type": "markdown",
      "source": [
        "**Exploratory Data Analysis (EDA) Tasks:**"
      ],
      "id": "25ad66f06b3135f9"
    },
    {
      "metadata": {
        "ExecuteTime": {
          "end_time": "2025-04-21T19:50:30.342139Z",
          "start_time": "2025-04-21T19:50:30.160550Z"
        },
        "colab": {
          "base_uri": "https://localhost:8080/",
          "height": 1000
        },
        "id": "50d813f0c0695638",
        "outputId": "60de298f-50e7-46f5-f952-6169afbf9dd8"
      },
      "cell_type": "code",
      "source": [
        "plt.figure(figsize=(16, 10))\n",
        "\n",
        "plt.subplot(2, 2, 1)\n",
        "sns.histplot(data['price'], kde=True, color='skyblue', bins=30)\n",
        "plt.title('Price Distribution')\n",
        "plt.xlabel('Price')\n",
        "plt.ylabel('Frequency')\n",
        "\n",
        "plt.subplot(2, 2, 2)\n",
        "sns.histplot(data['height'], kde=True, color='lightgreen', bins=30)\n",
        "plt.title('Height Distribution')\n",
        "plt.xlabel('Height')\n",
        "plt.ylabel('Frequency')\n",
        "\n",
        "plt.subplot(2, 2, 3)\n",
        "sns.histplot(data['depth'], kde=True, color='salmon', bins=30)\n",
        "plt.title('Depth Distribution')\n",
        "plt.xlabel('Depth')\n",
        "plt.ylabel('Frequency')\n",
        "\n",
        "plt.subplot(2, 2, 4)\n",
        "sns.histplot(data['width'], kde=True, color='orange', bins=30)\n",
        "plt.title('Width Distribution')\n",
        "plt.xlabel('Width')\n",
        "plt.ylabel('Frequency')\n",
        "\n",
        "plt.tight_layout()\n",
        "plt.show()\n"
      ],
      "id": "50d813f0c0695638",
      "outputs": [
        {
          "output_type": "display_data",
          "data": {
            "text/plain": [
              "<Figure size 1600x1000 with 4 Axes>"
            ],
            "image/png": "[encoded data removed]"
          },
          "metadata": {}
        }
      ],
      "execution_count": 482
    },
    {
      "metadata": {
        "ExecuteTime": {
          "end_time": "2025-04-21T19:51:56.018454Z",
          "start_time": "2025-04-21T19:51:55.903728Z"
        },
        "colab": {
          "base_uri": "https://localhost:8080/",
          "height": 807
        },
        "id": "d1ea07fff7268ade",
        "outputId": "ce38de4a-3f64-49dd-cf60-589e8116e9b7"
      },
      "cell_type": "code",
      "source": [
        "# Box plots for price, height, depth, and width\n",
        "plt.figure(figsize=(16, 8))\n",
        "\n",
        "plt.subplot(2, 2, 1)\n",
        "sns.boxplot(x=data['price'], color='skyblue')\n",
        "plt.title('Price Boxplot')\n",
        "\n",
        "plt.subplot(2, 2, 2)\n",
        "sns.boxplot(x=data['height'], color='lightgreen')\n",
        "plt.title('Height Boxplot')\n",
        "\n",
        "plt.subplot(2, 2, 3)\n",
        "sns.boxplot(x=data['depth'], color='salmon')\n",
        "plt.title('Depth Boxplot')\n",
        "\n",
        "plt.subplot(2, 2, 4)\n",
        "sns.boxplot(x=data['width'], color='orange')\n",
        "plt.title('Width Boxplot')\n",
        "\n",
        "plt.tight_layout()\n",
        "plt.show()"
      ],
      "id": "d1ea07fff7268ade",
      "outputs": [
        {
          "output_type": "display_data",
          "data": {
            "text/plain": [
              "<Figure size 1600x800 with 4 Axes>"
            ],
            "image/png": "[encoded data removed]"
          },
          "metadata": {}
        }
      ],
      "execution_count": 483
    },
    {
      "metadata": {
        "id": "b37dc704a6229be2"
      },
      "cell_type": "markdown",
      "source": [
        "Category Insights: Find the most common product categories and their average prices."
      ],
      "id": "b37dc704a6229be2"
    },
    {
      "metadata": {
        "ExecuteTime": {
          "end_time": "2025-04-21T20:02:49.937465Z",
          "start_time": "2025-04-21T20:02:49.934161Z"
        },
        "colab": {
          "base_uri": "https://localhost:8080/"
        },
        "id": "c0e6a6f8308302d2",
        "outputId": "3ec5bd6a-e551-4096-fc57-d8d04cce53d0"
      },
      "cell_type": "code",
      "source": [
        "most_common_category = data['category'].value_counts().idxmax()\n",
        "category_counts = data['category'].value_counts()\n",
        "\n",
        "print(f\"Most common product category: {most_common_category}\")\n",
        "print(f\"Count of most common category: {category_counts[most_common_category]}\")\n",
        "\n",
        "print(\"\\nAll category counts:\")\n",
        "print(category_counts)"
      ],
      "id": "c0e6a6f8308302d2",
      "outputs": [
        {
          "output_type": "stream",
          "name": "stdout",
          "text": [
            "Most common product category: Tables & desks\n",
            "Count of most common category: 612\n",
            "\n",
            "All category counts:\n",
            "category\n",
            "Tables & desks                          612\n",
            "Bookcases & shelving units              548\n",
            "Chairs                                  481\n",
            "Sofas & armchairs                       428\n",
            "Cabinets & cupboards                    292\n",
            "Wardrobes                               236\n",
            "Outdoor furniture                       216\n",
            "Beds                                    208\n",
            "TV & media furniture                    190\n",
            "Chests of drawers & drawer units        125\n",
            "Children's furniture                    124\n",
            "Nursery furniture                        97\n",
            "Bar furniture                            47\n",
            "Trolleys                                 28\n",
            "Caf√© furniture                          26\n",
            "Sideboards, buffets & console tables     23\n",
            "Room dividers                            13\n",
            "Name: count, dtype: int64\n"
          ]
        }
      ],
      "execution_count": 484
    },
    {
      "metadata": {
        "ExecuteTime": {
          "end_time": "2025-04-21T20:04:54.832555Z",
          "start_time": "2025-04-21T20:04:54.828847Z"
        },
        "colab": {
          "base_uri": "https://localhost:8080/"
        },
        "id": "a49818593ebc2a74",
        "outputId": "dae5d503-73f5-458c-f92c-23db57daecc7"
      },
      "cell_type": "code",
      "source": [
        "category_avg_price = data.groupby('category')['price'].mean().reset_index()\n",
        "category_avg_price = category_avg_price.sort_values(by='price', ascending=False)\n",
        "print(\"\\nAverage Prices per Category:\\n\", category_avg_price)"
      ],
      "id": "a49818593ebc2a74",
      "outputs": [
        {
          "output_type": "stream",
          "name": "stdout",
          "text": [
            "\n",
            "Average Prices per Category:\n",
            "                                 category        price\n",
            "16                             Wardrobes  2162.141949\n",
            "12                     Sofas & armchairs  2004.016355\n",
            "1                                   Beds  1647.432692\n",
            "14                        Tables & desks  1129.395425\n",
            "11  Sideboards, buffets & console tables  1068.086957\n",
            "5                                 Chairs  1048.932640\n",
            "10                         Room dividers   932.000000\n",
            "9                      Outdoor furniture   859.826852\n",
            "3                   Cabinets & cupboards   789.015753\n",
            "0                          Bar furniture   679.553191\n",
            "15                              Trolleys   678.517857\n",
            "13                  TV & media furniture   659.050526\n",
            "6       Chests of drawers & drawer units   612.180000\n",
            "4                        Caf√© furniture   553.884615\n",
            "2             Bookcases & shelving units   519.416058\n",
            "8                      Nursery furniture   393.659794\n",
            "7                   Children's furniture   272.758065\n"
          ]
        }
      ],
      "execution_count": 485
    },
    {
      "cell_type": "markdown",
      "source": [
        "Online Availability: Investigate the proportion of products available for online purchase."
      ],
      "metadata": {
        "id": "8Argzso_k5XY"
      },
      "id": "8Argzso_k5XY"
    },
    {
      "metadata": {
        "colab": {
          "base_uri": "https://localhost:8080/",
          "height": 864
        },
        "id": "c2948e0392f03645",
        "outputId": "5aefa17f-e82b-4e5d-d432-aae8e43f755b"
      },
      "cell_type": "code",
      "outputs": [
        {
          "output_type": "execute_result",
          "data": {
            "text/plain": [
              "       item_id                   name       category   price  sellable_online  \\\n",
              "0     90420332               FREKVENS  Bar furniture   265.0             True   \n",
              "1     80155205                   STIG  Bar furniture    69.0             True   \n",
              "2     50420329               FREKVENS  Bar furniture   177.0             True   \n",
              "3       400550               EKEDALEN  Bar furniture   345.0             True   \n",
              "4     40426138             HENRIKSDAL  Bar furniture   395.0             True   \n",
              "...        ...                    ...            ...     ...              ...   \n",
              "3689  19385677                    PAX      Wardrobes  2505.0             True   \n",
              "3690  39329299  PAX / FORSAND/VIKEDAL      Wardrobes  1260.0             True   \n",
              "3691  79302995                ELVARLI      Wardrobes  1611.0             True   \n",
              "3692  99157902                ELVARLI      Wardrobes   750.0             True   \n",
              "3693   9158152                ELVARLI      Wardrobes  1572.0             True   \n",
              "\n",
              "                                                   link other_colors  \\\n",
              "0     https://www.ikea.com/sa/en/p/frekvens-bar-tabl...           No   \n",
              "1     https://www.ikea.com/sa/en/p/stig-bar-stool-wi...          Yes   \n",
              "2     https://www.ikea.com/sa/en/p/frekvens-bar-stoo...           No   \n",
              "3     https://www.ikea.com/sa/en/p/ekedalen-bar-stoo...           No   \n",
              "4     https://www.ikea.com/sa/en/p/henriksdal-bar-st...           No   \n",
              "...                                                 ...          ...   \n",
              "3689  https://www.ikea.com/sa/en/p/pax-wardrobe-comb...          Yes   \n",
              "3690  https://www.ikea.com/sa/en/p/pax-forsand-viked...          Yes   \n",
              "3691  https://www.ikea.com/sa/en/p/elvarli-2-section...           No   \n",
              "3692  https://www.ikea.com/sa/en/p/elvarli-1-section...           No   \n",
              "3693  https://www.ikea.com/sa/en/p/elvarli-2-section...           No   \n",
              "\n",
              "                                      short_description  \\\n",
              "0              Bar table, in/outdoor,          51x51 cm   \n",
              "1               Bar stool with backrest,          74 cm   \n",
              "2             Bar stool with backrest, in/outdoor,  ...   \n",
              "3               Bar stool with backrest,          75 cm   \n",
              "4             Bar stool with backrest frame,        ...   \n",
              "...                                                 ...   \n",
              "3689          Wardrobe combination,          150x58x...   \n",
              "3690          Wardrobe combination,          75x60x2...   \n",
              "3691             2 sections,          175x51x222-350 cm   \n",
              "3692               1 section,          92x51x222-350 cm   \n",
              "3693             2 sections,          135x51x222-350 cm   \n",
              "\n",
              "                                          designer  depth  height  width  \\\n",
              "0                             Nicholai Wiig Hansen   48.8    99.0   51.0   \n",
              "1                                    Henrik Preutz   50.0   100.0   60.0   \n",
              "2                             Nicholai Wiig Hansen   53.0   104.0   43.0   \n",
              "3                                 Ehl√©n Johansson   52.0   114.0   43.0   \n",
              "4                                    Karl Malmvall   51.0   102.0   40.0   \n",
              "...                                            ...    ...     ...    ...   \n",
              "3689  Ehl√©n Johansson/Ola Wihlborg/IKEA of Sweden   58.0   236.0  150.0   \n",
              "3690               Ehl√©n Johansson/IKEA of Sweden   60.0   201.0   75.0   \n",
              "3691                              Ehl√©n Johansson   50.0   109.2  175.0   \n",
              "3692                              Ehl√©n Johansson   50.0   151.6   91.0   \n",
              "3693                              Ehl√©n Johansson   50.0    90.8  135.0   \n",
              "\n",
              "                                    product_description  \\\n",
              "0                                     Item discontinued   \n",
              "1                                     Item discontinued   \n",
              "2                                     Item discontinued   \n",
              "3                                     Item discontinued   \n",
              "4                                     Item discontinued   \n",
              "...                                                 ...   \n",
              "3689  Shop for fitted wardrobes online at IKEA Saudi...   \n",
              "3690  Shop for fitted wardrobes online at IKEA Saudi...   \n",
              "3691  ELVARLI wardrobe combination, white, 175x51x22...   \n",
              "3692  ELVARLI wardrobe combination, white, 92x51x222...   \n",
              "3693  ELVARLI wardrobe combination, white, 135x51x22...   \n",
              "\n",
              "                     current_status  \\\n",
              "0                 Item discontinued   \n",
              "1                 Item discontinued   \n",
              "2                 Item discontinued   \n",
              "3                 Item discontinued   \n",
              "4                 Item discontinued   \n",
              "...                             ...   \n",
              "3689  Item still available for sale   \n",
              "3690  Item still available for sale   \n",
              "3691  Item still available for sale   \n",
              "3692  Item still available for sale   \n",
              "3693  Item still available for sale   \n",
              "\n",
              "                                               keywords  topic_group  \\\n",
              "0                                                   NaN          NaN   \n",
              "1                                                   NaN          NaN   \n",
              "2                                                   NaN          NaN   \n",
              "3                                                   NaN          NaN   \n",
              "4                                                   NaN          NaN   \n",
              "...                                                 ...          ...   \n",
              "3689                              fitted online stylish          1.0   \n",
              "3690                              fitted online stylish          1.0   \n",
              "3691  white 175x51x222-350 Make lovely decorative ad...          2.0   \n",
              "3692  white 92x51x222-350 Make lovely decorative adj...          2.0   \n",
              "3693  white 135x51x222-350 Make lovely decorative ad...          2.0   \n",
              "\n",
              "                     topic_desc  old_price_clean  \n",
              "0                           NaN              265  \n",
              "1                           NaN               69  \n",
              "2                           NaN              295  \n",
              "3                           NaN              345  \n",
              "4                           NaN              395  \n",
              "...                         ...              ...  \n",
              "3689    Style and Functionality             2505  \n",
              "3690    Style and Functionality             1260  \n",
              "3691  Durability and Appearance             1815  \n",
              "3692  Durability and Appearance              820  \n",
              "3693  Durability and Appearance             1755  \n",
              "\n",
              "[3694 rows x 18 columns]"
            ],
            "text/html": [
              "\n",
              "  <div id=\"df-823486a7-3c5e-4383-91aa-a50216a9c7d1\" class=\"colab-df-container\">\n",
              "    <div>\n",
              "<style scoped>\n",
              "    .dataframe tbody tr th:only-of-type {\n",
              "        vertical-align: middle;\n",
              "    }\n",
              "\n",
              "    .dataframe tbody tr th {\n",
              "        vertical-align: top;\n",
              "    }\n",
              "\n",
              "    .dataframe thead th {\n",
              "        text-align: right;\n",
              "    }\n",
              "</style>\n",
              "<table border=\"1\" class=\"dataframe\">\n",
              "  <thead>\n",
              "    <tr style=\"text-align: right;\">\n",
              "      <th></th>\n",
              "      <th>item_id</th>\n",
              "      <th>name</th>\n",
              "      <th>category</th>\n",
              "      <th>price</th>\n",
              "      <th>sellable_online</th>\n",
              "      <th>link</th>\n",
              "      <th>other_colors</th>\n",
              "      <th>short_description</th>\n",
              "      <th>designer</th>\n",
              "      <th>depth</th>\n",
              "      <th>height</th>\n",
              "      <th>width</th>\n",
              "      <th>product_description</th>\n",
              "      <th>current_status</th>\n",
              "      <th>keywords</th>\n",
              "      <th>topic_group</th>\n",
              "      <th>topic_desc</th>\n",
              "      <th>old_price_clean</th>\n",
              "    </tr>\n",
              "  </thead>\n",
              "  <tbody>\n",
              "    <tr>\n",
              "      <th>0</th>\n",
              "      <td>90420332</td>\n",
              "      <td>FREKVENS</td>\n",
              "      <td>Bar furniture</td>\n",
              "      <td>265.0</td>\n",
              "      <td>True</td>\n",
              "      <td>https://www.ikea.com/sa/en/p/frekvens-bar-tabl...</td>\n",
              "      <td>No</td>\n",
              "      <td>Bar table, in/outdoor,          51x51 cm</td>\n",
              "      <td>Nicholai Wiig Hansen</td>\n",
              "      <td>48.8</td>\n",
              "      <td>99.0</td>\n",
              "      <td>51.0</td>\n",
              "      <td>Item discontinued</td>\n",
              "      <td>Item discontinued</td>\n",
              "      <td>NaN</td>\n",
              "      <td>NaN</td>\n",
              "      <td>NaN</td>\n",
              "      <td>265</td>\n",
              "    </tr>\n",
              "    <tr>\n",
              "      <th>1</th>\n",
              "      <td>80155205</td>\n",
              "      <td>STIG</td>\n",
              "      <td>Bar furniture</td>\n",
              "      <td>69.0</td>\n",
              "      <td>True</td>\n",
              "      <td>https://www.ikea.com/sa/en/p/stig-bar-stool-wi...</td>\n",
              "      <td>Yes</td>\n",
              "      <td>Bar stool with backrest,          74 cm</td>\n",
              "      <td>Henrik Preutz</td>\n",
              "      <td>50.0</td>\n",
              "      <td>100.0</td>\n",
              "      <td>60.0</td>\n",
              "      <td>Item discontinued</td>\n",
              "      <td>Item discontinued</td>\n",
              "      <td>NaN</td>\n",
              "      <td>NaN</td>\n",
              "      <td>NaN</td>\n",
              "      <td>69</td>\n",
              "    </tr>\n",
              "    <tr>\n",
              "      <th>2</th>\n",
              "      <td>50420329</td>\n",
              "      <td>FREKVENS</td>\n",
              "      <td>Bar furniture</td>\n",
              "      <td>177.0</td>\n",
              "      <td>True</td>\n",
              "      <td>https://www.ikea.com/sa/en/p/frekvens-bar-stoo...</td>\n",
              "      <td>No</td>\n",
              "      <td>Bar stool with backrest, in/outdoor,  ...</td>\n",
              "      <td>Nicholai Wiig Hansen</td>\n",
              "      <td>53.0</td>\n",
              "      <td>104.0</td>\n",
              "      <td>43.0</td>\n",
              "      <td>Item discontinued</td>\n",
              "      <td>Item discontinued</td>\n",
              "      <td>NaN</td>\n",
              "      <td>NaN</td>\n",
              "      <td>NaN</td>\n",
              "      <td>295</td>\n",
              "    </tr>\n",
              "    <tr>\n",
              "      <th>3</th>\n",
              "      <td>400550</td>\n",
              "      <td>EKEDALEN</td>\n",
              "      <td>Bar furniture</td>\n",
              "      <td>345.0</td>\n",
              "      <td>True</td>\n",
              "      <td>https://www.ikea.com/sa/en/p/ekedalen-bar-stoo...</td>\n",
              "      <td>No</td>\n",
              "      <td>Bar stool with backrest,          75 cm</td>\n",
              "      <td>Ehl√©n Johansson</td>\n",
              "      <td>52.0</td>\n",
              "      <td>114.0</td>\n",
              "      <td>43.0</td>\n",
              "      <td>Item discontinued</td>\n",
              "      <td>Item discontinued</td>\n",
              "      <td>NaN</td>\n",
              "      <td>NaN</td>\n",
              "      <td>NaN</td>\n",
              "      <td>345</td>\n",
              "    </tr>\n",
              "    <tr>\n",
              "      <th>4</th>\n",
              "      <td>40426138</td>\n",
              "      <td>HENRIKSDAL</td>\n",
              "      <td>Bar furniture</td>\n",
              "      <td>395.0</td>\n",
              "      <td>True</td>\n",
              "      <td>https://www.ikea.com/sa/en/p/henriksdal-bar-st...</td>\n",
              "      <td>No</td>\n",
              "      <td>Bar stool with backrest frame,        ...</td>\n",
              "      <td>Karl Malmvall</td>\n",
              "      <td>51.0</td>\n",
              "      <td>102.0</td>\n",
              "      <td>40.0</td>\n",
              "      <td>Item discontinued</td>\n",
              "      <td>Item discontinued</td>\n",
              "      <td>NaN</td>\n",
              "      <td>NaN</td>\n",
              "      <td>NaN</td>\n",
              "      <td>395</td>\n",
              "    </tr>\n",
              "    <tr>\n",
              "      <th>...</th>\n",
              "      <td>...</td>\n",
              "      <td>...</td>\n",
              "      <td>...</td>\n",
              "      <td>...</td>\n",
              "      <td>...</td>\n",
              "      <td>...</td>\n",
              "      <td>...</td>\n",
              "      <td>...</td>\n",
              "      <td>...</td>\n",
              "      <td>...</td>\n",
              "      <td>...</td>\n",
              "      <td>...</td>\n",
              "      <td>...</td>\n",
              "      <td>...</td>\n",
              "      <td>...</td>\n",
              "      <td>...</td>\n",
              "      <td>...</td>\n",
              "      <td>...</td>\n",
              "    </tr>\n",
              "    <tr>\n",
              "      <th>3689</th>\n",
              "      <td>19385677</td>\n",
              "      <td>PAX</td>\n",
              "      <td>Wardrobes</td>\n",
              "      <td>2505.0</td>\n",
              "      <td>True</td>\n",
              "      <td>https://www.ikea.com/sa/en/p/pax-wardrobe-comb...</td>\n",
              "      <td>Yes</td>\n",
              "      <td>Wardrobe combination,          150x58x...</td>\n",
              "      <td>Ehl√©n Johansson/Ola Wihlborg/IKEA of Sweden</td>\n",
              "      <td>58.0</td>\n",
              "      <td>236.0</td>\n",
              "      <td>150.0</td>\n",
              "      <td>Shop for fitted wardrobes online at IKEA Saudi...</td>\n",
              "      <td>Item still available for sale</td>\n",
              "      <td>fitted online stylish</td>\n",
              "      <td>1.0</td>\n",
              "      <td>Style and Functionality</td>\n",
              "      <td>2505</td>\n",
              "    </tr>\n",
              "    <tr>\n",
              "      <th>3690</th>\n",
              "      <td>39329299</td>\n",
              "      <td>PAX / FORSAND/VIKEDAL</td>\n",
              "      <td>Wardrobes</td>\n",
              "      <td>1260.0</td>\n",
              "      <td>True</td>\n",
              "      <td>https://www.ikea.com/sa/en/p/pax-forsand-viked...</td>\n",
              "      <td>Yes</td>\n",
              "      <td>Wardrobe combination,          75x60x2...</td>\n",
              "      <td>Ehl√©n Johansson/IKEA of Sweden</td>\n",
              "      <td>60.0</td>\n",
              "      <td>201.0</td>\n",
              "      <td>75.0</td>\n",
              "      <td>Shop for fitted wardrobes online at IKEA Saudi...</td>\n",
              "      <td>Item still available for sale</td>\n",
              "      <td>fitted online stylish</td>\n",
              "      <td>1.0</td>\n",
              "      <td>Style and Functionality</td>\n",
              "      <td>1260</td>\n",
              "    </tr>\n",
              "    <tr>\n",
              "      <th>3691</th>\n",
              "      <td>79302995</td>\n",
              "      <td>ELVARLI</td>\n",
              "      <td>Wardrobes</td>\n",
              "      <td>1611.0</td>\n",
              "      <td>True</td>\n",
              "      <td>https://www.ikea.com/sa/en/p/elvarli-2-section...</td>\n",
              "      <td>No</td>\n",
              "      <td>2 sections,          175x51x222-350 cm</td>\n",
              "      <td>Ehl√©n Johansson</td>\n",
              "      <td>50.0</td>\n",
              "      <td>109.2</td>\n",
              "      <td>175.0</td>\n",
              "      <td>ELVARLI wardrobe combination, white, 175x51x22...</td>\n",
              "      <td>Item still available for sale</td>\n",
              "      <td>white 175x51x222-350 Make lovely decorative ad...</td>\n",
              "      <td>2.0</td>\n",
              "      <td>Durability and Appearance</td>\n",
              "      <td>1815</td>\n",
              "    </tr>\n",
              "    <tr>\n",
              "      <th>3692</th>\n",
              "      <td>99157902</td>\n",
              "      <td>ELVARLI</td>\n",
              "      <td>Wardrobes</td>\n",
              "      <td>750.0</td>\n",
              "      <td>True</td>\n",
              "      <td>https://www.ikea.com/sa/en/p/elvarli-1-section...</td>\n",
              "      <td>No</td>\n",
              "      <td>1 section,          92x51x222-350 cm</td>\n",
              "      <td>Ehl√©n Johansson</td>\n",
              "      <td>50.0</td>\n",
              "      <td>151.6</td>\n",
              "      <td>91.0</td>\n",
              "      <td>ELVARLI wardrobe combination, white, 92x51x222...</td>\n",
              "      <td>Item still available for sale</td>\n",
              "      <td>white 92x51x222-350 Make lovely decorative adj...</td>\n",
              "      <td>2.0</td>\n",
              "      <td>Durability and Appearance</td>\n",
              "      <td>820</td>\n",
              "    </tr>\n",
              "    <tr>\n",
              "      <th>3693</th>\n",
              "      <td>9158152</td>\n",
              "      <td>ELVARLI</td>\n",
              "      <td>Wardrobes</td>\n",
              "      <td>1572.0</td>\n",
              "      <td>True</td>\n",
              "      <td>https://www.ikea.com/sa/en/p/elvarli-2-section...</td>\n",
              "      <td>No</td>\n",
              "      <td>2 sections,          135x51x222-350 cm</td>\n",
              "      <td>Ehl√©n Johansson</td>\n",
              "      <td>50.0</td>\n",
              "      <td>90.8</td>\n",
              "      <td>135.0</td>\n",
              "      <td>ELVARLI wardrobe combination, white, 135x51x22...</td>\n",
              "      <td>Item still available for sale</td>\n",
              "      <td>white 135x51x222-350 Make lovely decorative ad...</td>\n",
              "      <td>2.0</td>\n",
              "      <td>Durability and Appearance</td>\n",
              "      <td>1755</td>\n",
              "    </tr>\n",
              "  </tbody>\n",
              "</table>\n",
              "<p>3694 rows × 18 columns</p>\n",
              "</div>\n",
              "    <div class=\"colab-df-buttons\">\n",
              "\n",
              "  <div class=\"colab-df-container\">\n",
              "    <button class=\"colab-df-convert\" onclick=\"convertToInteractive('df-823486a7-3c5e-4383-91aa-a50216a9c7d1')\"\n",
              "            title=\"Convert this dataframe to an interactive table.\"\n",
              "            style=\"display:none;\">\n",
              "\n",
              "  <svg xmlns=\"http://www.w3.org/2000/svg\" height=\"24px\" viewBox=\"0 -960 960 960\">\n",
              "    <path d=\"M120-120v-720h720v720H120Zm60-500h600v-160H180v160Zm220 220h160v-160H400v160Zm0 220h160v-160H400v160ZM180-400h160v-160H180v160Zm440 0h160v-160H620v160ZM180-180h160v-160H180v160Zm440 0h160v-160H620v160Z\"/>\n",
              "  </svg>\n",
              "    </button>\n",
              "\n",
              "  <style>\n",
              "    .colab-df-container {\n",
              "      display:flex;\n",
              "      gap: 12px;\n",
              "    }\n",
              "\n",
              "    .colab-df-convert {\n",
              "      background-color: #E8F0FE;\n",
              "      border: none;\n",
              "      border-radius: 50%;\n",
              "      cursor: pointer;\n",
              "      display: none;\n",
              "      fill: #1967D2;\n",
              "      height: 32px;\n",
              "      padding: 0 0 0 0;\n",
              "      width: 32px;\n",
              "    }\n",
              "\n",
              "    .colab-df-convert:hover {\n",
              "      background-color: #E2EBFA;\n",
              "      box-shadow: 0px 1px 2px rgba(60, 64, 67, 0.3), 0px 1px 3px 1px rgba(60, 64, 67, 0.15);\n",
              "      fill: #174EA6;\n",
              "    }\n",
              "\n",
              "    .colab-df-buttons div {\n",
              "      margin-bottom: 4px;\n",
              "    }\n",
              "\n",
              "    [theme=dark] .colab-df-convert {\n",
              "      background-color: #3B4455;\n",
              "      fill: #D2E3FC;\n",
              "    }\n",
              "\n",
              "    [theme=dark] .colab-df-convert:hover {\n",
              "      background-color: #434B5C;\n",
              "      box-shadow: 0px 1px 3px 1px rgba(0, 0, 0, 0.15);\n",
              "      filter: drop-shadow(0px 1px 2px rgba(0, 0, 0, 0.3));\n",
              "      fill: #FFFFFF;\n",
              "    }\n",
              "  </style>\n",
              "\n",
              "    <script>\n",
              "      const buttonEl =\n",
              "        document.querySelector('#df-823486a7-3c5e-4383-91aa-a50216a9c7d1 button.colab-df-convert');\n",
              "      buttonEl.style.display =\n",
              "        google.colab.kernel.accessAllowed ? 'block' : 'none';\n",
              "\n",
              "      async function convertToInteractive(key) {\n",
              "        const element = document.querySelector('#df-823486a7-3c5e-4383-91aa-a50216a9c7d1');\n",
              "        const dataTable =\n",
              "          await google.colab.kernel.invokeFunction('convertToInteractive',\n",
              "                                                    [key], {});\n",
              "        if (!dataTable) return;\n",
              "\n",
              "        const docLinkHtml = 'Like what you see? Visit the ' +\n",
              "          '<a target=\"_blank\" href=https://colab.research.google.com/notebooks/data_table.ipynb>data table notebook</a>'\n",
              "          + ' to learn more about interactive tables.';\n",
              "        element.innerHTML = '';\n",
              "        dataTable['output_type'] = 'display_data';\n",
              "        await google.colab.output.renderOutput(dataTable, element);\n",
              "        const docLink = document.createElement('div');\n",
              "        docLink.innerHTML = docLinkHtml;\n",
              "        element.appendChild(docLink);\n",
              "      }\n",
              "    </script>\n",
              "  </div>\n",
              "\n",
              "\n",
              "    <div id=\"df-b7158604-bff9-4c1d-ab10-fa49f83f2e82\">\n",
              "      <button class=\"colab-df-quickchart\" onclick=\"quickchart('df-b7158604-bff9-4c1d-ab10-fa49f83f2e82')\"\n",
              "                title=\"Suggest charts\"\n",
              "                style=\"display:none;\">\n",
              "\n",
              "<svg xmlns=\"http://www.w3.org/2000/svg\" height=\"24px\"viewBox=\"0 0 24 24\"\n",
              "     width=\"24px\">\n",
              "    <g>\n",
              "        <path d=\"M19 3H5c-1.1 0-2 .9-2 2v14c0 1.1.9 2 2 2h14c1.1 0 2-.9 2-2V5c0-1.1-.9-2-2-2zM9 17H7v-7h2v7zm4 0h-2V7h2v10zm4 0h-2v-4h2v4z\"/>\n",
              "    </g>\n",
              "</svg>\n",
              "      </button>\n",
              "\n",
              "<style>\n",
              "  .colab-df-quickchart {\n",
              "      --bg-color: #E8F0FE;\n",
              "      --fill-color: #1967D2;\n",
              "      --hover-bg-color: #E2EBFA;\n",
              "      --hover-fill-color: #174EA6;\n",
              "      --disabled-fill-color: #AAA;\n",
              "      --disabled-bg-color: #DDD;\n",
              "  }\n",
              "\n",
              "  [theme=dark] .colab-df-quickchart {\n",
              "      --bg-color: #3B4455;\n",
              "      --fill-color: #D2E3FC;\n",
              "      --hover-bg-color: #434B5C;\n",
              "      --hover-fill-color: #FFFFFF;\n",
              "      --disabled-bg-color: #3B4455;\n",
              "      --disabled-fill-color: #666;\n",
              "  }\n",
              "\n",
              "  .colab-df-quickchart {\n",
              "    background-color: var(--bg-color);\n",
              "    border: none;\n",
              "    border-radius: 50%;\n",
              "    cursor: pointer;\n",
              "    display: none;\n",
              "    fill: var(--fill-color);\n",
              "    height: 32px;\n",
              "    padding: 0;\n",
              "    width: 32px;\n",
              "  }\n",
              "\n",
              "  .colab-df-quickchart:hover {\n",
              "    background-color: var(--hover-bg-color);\n",
              "    box-shadow: 0 1px 2px rgba(60, 64, 67, 0.3), 0 1px 3px 1px rgba(60, 64, 67, 0.15);\n",
              "    fill: var(--button-hover-fill-color);\n",
              "  }\n",
              "\n",
              "  .colab-df-quickchart-complete:disabled,\n",
              "  .colab-df-quickchart-complete:disabled:hover {\n",
              "    background-color: var(--disabled-bg-color);\n",
              "    fill: var(--disabled-fill-color);\n",
              "    box-shadow: none;\n",
              "  }\n",
              "\n",
              "  .colab-df-spinner {\n",
              "    border: 2px solid var(--fill-color);\n",
              "    border-color: transparent;\n",
              "    border-bottom-color: var(--fill-color);\n",
              "    animation:\n",
              "      spin 1s steps(1) infinite;\n",
              "  }\n",
              "\n",
              "  @keyframes spin {\n",
              "    0% {\n",
              "      border-color: transparent;\n",
              "      border-bottom-color: var(--fill-color);\n",
              "      border-left-color: var(--fill-color);\n",
              "    }\n",
              "    20% {\n",
              "      border-color: transparent;\n",
              "      border-left-color: var(--fill-color);\n",
              "      border-top-color: var(--fill-color);\n",
              "    }\n",
              "    30% {\n",
              "      border-color: transparent;\n",
              "      border-left-color: var(--fill-color);\n",
              "      border-top-color: var(--fill-color);\n",
              "      border-right-color: var(--fill-color);\n",
              "    }\n",
              "    40% {\n",
              "      border-color: transparent;\n",
              "      border-right-color: var(--fill-color);\n",
              "      border-top-color: var(--fill-color);\n",
              "    }\n",
              "    60% {\n",
              "      border-color: transparent;\n",
              "      border-right-color: var(--fill-color);\n",
              "    }\n",
              "    80% {\n",
              "      border-color: transparent;\n",
              "      border-right-color: var(--fill-color);\n",
              "      border-bottom-color: var(--fill-color);\n",
              "    }\n",
              "    90% {\n",
              "      border-color: transparent;\n",
              "      border-bottom-color: var(--fill-color);\n",
              "    }\n",
              "  }\n",
              "</style>\n",
              "\n",
              "      <script>\n",
              "        async function quickchart(key) {\n",
              "          const quickchartButtonEl =\n",
              "            document.querySelector('#' + key + ' button');\n",
              "          quickchartButtonEl.disabled = true;  // To prevent multiple clicks.\n",
              "          quickchartButtonEl.classList.add('colab-df-spinner');\n",
              "          try {\n",
              "            const charts = await google.colab.kernel.invokeFunction(\n",
              "                'suggestCharts', [key], {});\n",
              "          } catch (error) {\n",
              "            console.error('Error during call to suggestCharts:', error);\n",
              "          }\n",
              "          quickchartButtonEl.classList.remove('colab-df-spinner');\n",
              "          quickchartButtonEl.classList.add('colab-df-quickchart-complete');\n",
              "        }\n",
              "        (() => {\n",
              "          let quickchartButtonEl =\n",
              "            document.querySelector('#df-b7158604-bff9-4c1d-ab10-fa49f83f2e82 button');\n",
              "          quickchartButtonEl.style.display =\n",
              "            google.colab.kernel.accessAllowed ? 'block' : 'none';\n",
              "        })();\n",
              "      </script>\n",
              "    </div>\n",
              "\n",
              "  <div id=\"id_2be2f17f-1030-4f3b-a230-4860c6e32ba9\">\n",
              "    <style>\n",
              "      .colab-df-generate {\n",
              "        background-color: #E8F0FE;\n",
              "        border: none;\n",
              "        border-radius: 50%;\n",
              "        cursor: pointer;\n",
              "        display: none;\n",
              "        fill: #1967D2;\n",
              "        height: 32px;\n",
              "        padding: 0 0 0 0;\n",
              "        width: 32px;\n",
              "      }\n",
              "\n",
              "      .colab-df-generate:hover {\n",
              "        background-color: #E2EBFA;\n",
              "        box-shadow: 0px 1px 2px rgba(60, 64, 67, 0.3), 0px 1px 3px 1px rgba(60, 64, 67, 0.15);\n",
              "        fill: #174EA6;\n",
              "      }\n",
              "\n",
              "      [theme=dark] .colab-df-generate {\n",
              "        background-color: #3B4455;\n",
              "        fill: #D2E3FC;\n",
              "      }\n",
              "\n",
              "      [theme=dark] .colab-df-generate:hover {\n",
              "        background-color: #434B5C;\n",
              "        box-shadow: 0px 1px 3px 1px rgba(0, 0, 0, 0.15);\n",
              "        filter: drop-shadow(0px 1px 2px rgba(0, 0, 0, 0.3));\n",
              "        fill: #FFFFFF;\n",
              "      }\n",
              "    </style>\n",
              "    <button class=\"colab-df-generate\" onclick=\"generateWithVariable('data')\"\n",
              "            title=\"Generate code using this dataframe.\"\n",
              "            style=\"display:none;\">\n",
              "\n",
              "  <svg xmlns=\"http://www.w3.org/2000/svg\" height=\"24px\"viewBox=\"0 0 24 24\"\n",
              "       width=\"24px\">\n",
              "    <path d=\"M7,19H8.4L18.45,9,17,7.55,7,17.6ZM5,21V16.75L18.45,3.32a2,2,0,0,1,2.83,0l1.4,1.43a1.91,1.91,0,0,1,.58,1.4,1.91,1.91,0,0,1-.58,1.4L9.25,21ZM18.45,9,17,7.55Zm-12,3A5.31,5.31,0,0,0,4.9,8.1,5.31,5.31,0,0,0,1,6.5,5.31,5.31,0,0,0,4.9,4.9,5.31,5.31,0,0,0,6.5,1,5.31,5.31,0,0,0,8.1,4.9,5.31,5.31,0,0,0,12,6.5,5.46,5.46,0,0,0,6.5,12Z\"/>\n",
              "  </svg>\n",
              "    </button>\n",
              "    <script>\n",
              "      (() => {\n",
              "      const buttonEl =\n",
              "        document.querySelector('#id_2be2f17f-1030-4f3b-a230-4860c6e32ba9 button.colab-df-generate');\n",
              "      buttonEl.style.display =\n",
              "        google.colab.kernel.accessAllowed ? 'block' : 'none';\n",
              "\n",
              "      buttonEl.onclick = () => {\n",
              "        google.colab.notebook.generateWithVariable('data');\n",
              "      }\n",
              "      })();\n",
              "    </script>\n",
              "  </div>\n",
              "\n",
              "    </div>\n",
              "  </div>\n"
            ],
            "application/vnd.google.colaboratory.intrinsic+json": {
              "type": "dataframe",
              "variable_name": "data",
              "summary": "{\n  \"name\": \"data\",\n  \"rows\": 3694,\n  \"fields\": [\n    {\n      \"column\": \"item_id\",\n      \"properties\": {\n        \"dtype\": \"number\",\n        \"std\": 28887094,\n        \"min\": 58487,\n        \"max\": 99932615,\n        \"num_unique_values\": 2962,\n        \"samples\": [\n          79248588,\n          59214240,\n          19011777\n        ],\n        \"semantic_type\": \"\",\n        \"description\": \"\"\n      }\n    },\n    {\n      \"column\": \"name\",\n      \"properties\": {\n        \"dtype\": \"category\",\n        \"num_unique_values\": 607,\n        \"samples\": [\n          \"STOCKHOLM\",\n          \"KUDDARNA\",\n          \"ALGOT\"\n        ],\n        \"semantic_type\": \"\",\n        \"description\": \"\"\n      }\n    },\n    {\n      \"column\": \"category\",\n      \"properties\": {\n        \"dtype\": \"category\",\n        \"num_unique_values\": 17,\n        \"samples\": [\n          \"Bar furniture\",\n          \"Beds\",\n          \"Chairs\"\n        ],\n        \"semantic_type\": \"\",\n        \"description\": \"\"\n      }\n    },\n    {\n      \"column\": \"price\",\n      \"properties\": {\n        \"dtype\": \"number\",\n        \"std\": 1374.6524941516225,\n        \"min\": 3.0,\n        \"max\": 9585.0,\n        \"num_unique_values\": 979,\n        \"samples\": [\n          575.0,\n          2616.4,\n          775.0\n        ],\n        \"semantic_type\": \"\",\n        \"description\": \"\"\n      }\n    },\n    {\n      \"column\": \"sellable_online\",\n      \"properties\": {\n        \"dtype\": \"boolean\",\n        \"num_unique_values\": 2,\n        \"samples\": [\n          false,\n          true\n        ],\n        \"semantic_type\": \"\",\n        \"description\": \"\"\n      }\n    },\n    {\n      \"column\": \"link\",\n      \"properties\": {\n        \"dtype\": \"string\",\n        \"num_unique_values\": 2962,\n        \"samples\": [\n          \"https://www.ikea.com/sa/en/p/platsa-wardrobe-white-fonnes-white-s79248588/\",\n          \"https://www.ikea.com/sa/en/p/linnmon-olov-table-geometric-beige-silver-colour-s59214240/\"\n        ],\n        \"semantic_type\": \"\",\n        \"description\": \"\"\n      }\n    },\n    {\n      \"column\": \"other_colors\",\n      \"properties\": {\n        \"dtype\": \"category\",\n        \"num_unique_values\": 2,\n        \"samples\": [\n          \"Yes\",\n          \"No\"\n        ],\n        \"semantic_type\": \"\",\n        \"description\": \"\"\n      }\n    },\n    {\n      \"column\": \"short_description\",\n      \"properties\": {\n        \"dtype\": \"category\",\n        \"num_unique_values\": 1706,\n        \"samples\": [\n          \"        Children's chair\",\n          \"        Frame/mesh baskets/clothes rails,          148x51x207 cm\"\n        ],\n        \"semantic_type\": \"\",\n        \"description\": \"\"\n      }\n    },\n    {\n      \"column\": \"designer\",\n      \"properties\": {\n        \"dtype\": \"category\",\n        \"num_unique_values\": 381,\n        \"samples\": [\n          \"Jomi Evers\",\n          \"Ola Wihlborg/Ehl\\u221a\\u00a9n Johansson\"\n        ],\n        \"semantic_type\": \"\",\n        \"description\": \"\"\n      }\n    },\n    {\n      \"column\": \"depth\",\n      \"properties\": {\n        \"dtype\": \"number\",\n        \"std\": 25.44116556449237,\n        \"min\": 1.0,\n        \"max\": 257.0,\n        \"num_unique_values\": 335,\n        \"samples\": [\n          59.4,\n          22.0\n        ],\n        \"semantic_type\": \"\",\n        \"description\": \"\"\n      }\n    },\n    {\n      \"column\": \"height\",\n      \"properties\": {\n        \"dtype\": \"number\",\n        \"std\": 56.38318312448228,\n        \"min\": 1.0,\n        \"max\": 700.0,\n        \"num_unique_values\": 495,\n        \"samples\": [\n          75.6,\n          190.0\n        ],\n        \"semantic_type\": \"\",\n        \"description\": \"\"\n      }\n    },\n    {\n      \"column\": \"width\",\n      \"properties\": {\n        \"dtype\": \"number\",\n        \"std\": 67.51333193467055,\n        \"min\": 1.0,\n        \"max\": 420.0,\n        \"num_unique_values\": 491,\n        \"samples\": [\n          106.0,\n          46.0\n        ],\n        \"semantic_type\": \"\",\n        \"description\": \"\"\n      }\n    },\n    {\n      \"column\": \"product_description\",\n      \"properties\": {\n        \"dtype\": \"category\",\n        \"num_unique_values\": 960,\n        \"samples\": [\n          \"LISABO coffee table, ash veneer, 118x50 cm We\\u201a\\u00c4\\u00f4re proud of our LISABO series, awarded with the prestigious, international Red Dot Award, for its design. The products are durable, sturdy and easy to assemble, yet look light and hand-crafted. Easy to assemble as each leg only has one fitting.\",\n          \"JUSTINA chair pad, grey, 42/35x40x4 cm Simple and stylish, but above all - comfy. The thick, soft foam filling will make even the most restless feel relaxed at the table. Several colours to choose from \\u201a\\u00c4\\u00ec pick your favourite. The thick foam filling provides great comfort and long-lasting support.\"\n        ],\n        \"semantic_type\": \"\",\n        \"description\": \"\"\n      }\n    },\n    {\n      \"column\": \"current_status\",\n      \"properties\": {\n        \"dtype\": \"category\",\n        \"num_unique_values\": 2,\n        \"samples\": [\n          \"Item still available for sale\",\n          \"Item discontinued\"\n        ],\n        \"semantic_type\": \"\",\n        \"description\": \"\"\n      }\n    },\n    {\n      \"column\": \"keywords\",\n      \"properties\": {\n        \"dtype\": \"category\",\n        \"num_unique_values\": 723,\n        \"samples\": [\n          \"rattan white/Laila natural experienced makes rounded detailed natural develop unique\",\n          \"outdoor maintenance-free patio stylish functional allows pass\"\n        ],\n        \"semantic_type\": \"\",\n        \"description\": \"\"\n      }\n    },\n    {\n      \"column\": \"topic_group\",\n      \"properties\": {\n        \"dtype\": \"number\",\n        \"std\": 0.8528353735618281,\n        \"min\": 0.0,\n        \"max\": 2.0,\n        \"num_unique_values\": 3,\n        \"samples\": [\n          2.0,\n          1.0\n        ],\n        \"semantic_type\": \"\",\n        \"description\": \"\"\n      }\n    },\n    {\n      \"column\": \"topic_desc\",\n      \"properties\": {\n        \"dtype\": \"category\",\n        \"num_unique_values\": 3,\n        \"samples\": [\n          \"Durability and Appearance\",\n          \"Style and Functionality\"\n        ],\n        \"semantic_type\": \"\",\n        \"description\": \"\"\n      }\n    },\n    {\n      \"column\": \"old_price_clean\",\n      \"properties\": {\n        \"dtype\": \"number\",\n        \"std\": 1443,\n        \"min\": 3,\n        \"max\": 9985,\n        \"num_unique_values\": 846,\n        \"samples\": [\n          1285,\n          340\n        ],\n        \"semantic_type\": \"\",\n        \"description\": \"\"\n      }\n    }\n  ]\n}"
            }
          },
          "metadata": {},
          "execution_count": 486
        }
      ],
      "execution_count": 486,
      "source": [
        "data"
      ],
      "id": "c2948e0392f03645"
    },
    {
      "metadata": {
        "colab": {
          "base_uri": "https://localhost:8080/"
        },
        "id": "20044e50ea47bcfa",
        "outputId": "354eb5fc-491a-4979-9d12-f933076cf6a1"
      },
      "cell_type": "code",
      "outputs": [
        {
          "output_type": "stream",
          "name": "stdout",
          "text": [
            "Proportion of products available for online purcharse:0.99\n"
          ]
        }
      ],
      "execution_count": 487,
      "source": [
        "online_products=data[data['sellable_online']==True]\n",
        "total_products=len(data)\n",
        "\n",
        "proportion_online=len(online_products)/total_products\n",
        "print(f\"Proportion of products available for online purcharse:{proportion_online:.2f}\")"
      ],
      "id": "20044e50ea47bcfa"
    },
    {
      "cell_type": "code",
      "source": [
        "print(data['sellable_online'].value_counts())"
      ],
      "metadata": {
        "colab": {
          "base_uri": "https://localhost:8080/"
        },
        "id": "_0iy0FfqoWP-",
        "outputId": "280361d2-262e-4efb-f2db-8b2cd5e25f27"
      },
      "id": "_0iy0FfqoWP-",
      "execution_count": 488,
      "outputs": [
        {
          "output_type": "stream",
          "name": "stdout",
          "text": [
            "sellable_online\n",
            "True     3666\n",
            "False      28\n",
            "Name: count, dtype: int64\n"
          ]
        }
      ]
    },
    {
      "metadata": {
        "colab": {
          "base_uri": "https://localhost:8080/"
        },
        "id": "907ae9b2595b7b7d",
        "outputId": "9e47e16a-7ad2-42c5-e2ea-27d8435b3df3"
      },
      "cell_type": "code",
      "outputs": [
        {
          "output_type": "execute_result",
          "data": {
            "text/plain": [
              "3694"
            ]
          },
          "metadata": {},
          "execution_count": 489
        }
      ],
      "execution_count": 489,
      "source": [
        "total_products"
      ],
      "id": "907ae9b2595b7b7d"
    },
    {
      "metadata": {
        "colab": {
          "base_uri": "https://localhost:8080/"
        },
        "id": "51fffcaaf4900b42",
        "outputId": "1820d05d-8503-4b07-fe69-08a0106bd82a"
      },
      "cell_type": "code",
      "outputs": [
        {
          "output_type": "execute_result",
          "data": {
            "text/plain": [
              "3666"
            ]
          },
          "metadata": {},
          "execution_count": 490
        }
      ],
      "execution_count": 490,
      "source": [
        "len(online_products)"
      ],
      "id": "51fffcaaf4900b42"
    },
    {
      "metadata": {
        "colab": {
          "base_uri": "https://localhost:8080/"
        },
        "id": "317e7b64431622a2",
        "outputId": "8b57fd37-15de-4790-e13c-a1d8aa72dc79"
      },
      "cell_type": "code",
      "outputs": [
        {
          "output_type": "execute_result",
          "data": {
            "text/plain": [
              "np.int64(3666)"
            ]
          },
          "metadata": {},
          "execution_count": 491
        }
      ],
      "execution_count": 491,
      "source": [
        "(data['sellable_online']==True).sum()"
      ],
      "id": "317e7b64431622a2"
    },
    {
      "cell_type": "markdown",
      "source": [
        "Price Change Analysis: Determine how many products have a recorded change between price and old_price."
      ],
      "metadata": {
        "id": "xKR5jxOpEmaJ"
      },
      "id": "xKR5jxOpEmaJ"
    },
    {
      "metadata": {
        "colab": {
          "base_uri": "https://localhost:8080/"
        },
        "id": "6d9dc9f153aef09d",
        "outputId": "6732da9a-ae39-4452-c265-4609a9fa9e47"
      },
      "cell_type": "code",
      "outputs": [
        {
          "output_type": "stream",
          "name": "stdout",
          "text": [
            "Number of products with a price change:654\n"
          ]
        }
      ],
      "execution_count": 492,
      "source": [
        "price_changed=data[data['price']!=data['old_price_clean']]\n",
        "number_changed_products=len(price_changed)\n",
        "\n",
        "print(f'Number of products with a price change:{number_changed_products}')"
      ],
      "id": "6d9dc9f153aef09d"
    },
    {
      "metadata": {
        "colab": {
          "base_uri": "https://localhost:8080/"
        },
        "id": "3d9bfd09ef57b9f8",
        "outputId": "e968219d-6349-42ff-e18c-b27555ec394f"
      },
      "cell_type": "code",
      "outputs": [
        {
          "output_type": "stream",
          "name": "stdout",
          "text": [
            "Bərabər qiymətə sahib məhsul sayı: 3040\n"
          ]
        }
      ],
      "execution_count": 493,
      "source": [
        "equal_prices_count = (data['price'] == data['old_price_clean']).sum()\n",
        "print(f\"Bərabər qiymətə sahib məhsul sayı: {equal_prices_count}\")"
      ],
      "id": "3d9bfd09ef57b9f8"
    },
    {
      "metadata": {
        "colab": {
          "base_uri": "https://localhost:8080/"
        },
        "id": "357a8ca3b0c933e9",
        "outputId": "feea1309-fc8e-424a-8be5-1214734c724b"
      },
      "cell_type": "code",
      "outputs": [
        {
          "output_type": "stream",
          "name": "stdout",
          "text": [
            "Bərabər qiymətə sahib məhsulların nisbəti: 82.30%\n"
          ]
        }
      ],
      "execution_count": 494,
      "source": [
        "total_products = len(data)\n",
        "equal_prices_count = (data['price'] == data['old_price_clean']).sum()\n",
        "equal_prices_ratio = equal_prices_count / total_products\n",
        "\n",
        "print(f\"Bərabər qiymətə sahib məhsulların nisbəti: {equal_prices_ratio:.2%}\")"
      ],
      "id": "357a8ca3b0c933e9"
    },
    {
      "cell_type": "code",
      "source": [
        "data.head()"
      ],
      "metadata": {
        "colab": {
          "base_uri": "https://localhost:8080/",
          "height": 343
        },
        "id": "vpESkmz8EZXg",
        "outputId": "d8625bd2-3fd4-4df5-f8bc-d19b04eb5db2"
      },
      "id": "vpESkmz8EZXg",
      "execution_count": 495,
      "outputs": [
        {
          "output_type": "execute_result",
          "data": {
            "text/plain": [
              "    item_id        name       category  price  sellable_online  \\\n",
              "0  90420332    FREKVENS  Bar furniture  265.0             True   \n",
              "1  80155205        STIG  Bar furniture   69.0             True   \n",
              "2  50420329    FREKVENS  Bar furniture  177.0             True   \n",
              "3    400550    EKEDALEN  Bar furniture  345.0             True   \n",
              "4  40426138  HENRIKSDAL  Bar furniture  395.0             True   \n",
              "\n",
              "                                                link other_colors  \\\n",
              "0  https://www.ikea.com/sa/en/p/frekvens-bar-tabl...           No   \n",
              "1  https://www.ikea.com/sa/en/p/stig-bar-stool-wi...          Yes   \n",
              "2  https://www.ikea.com/sa/en/p/frekvens-bar-stoo...           No   \n",
              "3  https://www.ikea.com/sa/en/p/ekedalen-bar-stoo...           No   \n",
              "4  https://www.ikea.com/sa/en/p/henriksdal-bar-st...           No   \n",
              "\n",
              "                                   short_description              designer  \\\n",
              "0           Bar table, in/outdoor,          51x51 cm  Nicholai Wiig Hansen   \n",
              "1            Bar stool with backrest,          74 cm         Henrik Preutz   \n",
              "2          Bar stool with backrest, in/outdoor,  ...  Nicholai Wiig Hansen   \n",
              "3            Bar stool with backrest,          75 cm      Ehl√©n Johansson   \n",
              "4          Bar stool with backrest frame,        ...         Karl Malmvall   \n",
              "\n",
              "   depth  height  width product_description     current_status keywords  \\\n",
              "0   48.8    99.0   51.0   Item discontinued  Item discontinued      NaN   \n",
              "1   50.0   100.0   60.0   Item discontinued  Item discontinued      NaN   \n",
              "2   53.0   104.0   43.0   Item discontinued  Item discontinued      NaN   \n",
              "3   52.0   114.0   43.0   Item discontinued  Item discontinued      NaN   \n",
              "4   51.0   102.0   40.0   Item discontinued  Item discontinued      NaN   \n",
              "\n",
              "   topic_group topic_desc  old_price_clean  \n",
              "0          NaN        NaN              265  \n",
              "1          NaN        NaN               69  \n",
              "2          NaN        NaN              295  \n",
              "3          NaN        NaN              345  \n",
              "4          NaN        NaN              395  "
            ],
            "text/html": [
              "\n",
              "  <div id=\"df-fd97bf75-9c8e-4925-afea-b975f03d1ca5\" class=\"colab-df-container\">\n",
              "    <div>\n",
              "<style scoped>\n",
              "    .dataframe tbody tr th:only-of-type {\n",
              "        vertical-align: middle;\n",
              "    }\n",
              "\n",
              "    .dataframe tbody tr th {\n",
              "        vertical-align: top;\n",
              "    }\n",
              "\n",
              "    .dataframe thead th {\n",
              "        text-align: right;\n",
              "    }\n",
              "</style>\n",
              "<table border=\"1\" class=\"dataframe\">\n",
              "  <thead>\n",
              "    <tr style=\"text-align: right;\">\n",
              "      <th></th>\n",
              "      <th>item_id</th>\n",
              "      <th>name</th>\n",
              "      <th>category</th>\n",
              "      <th>price</th>\n",
              "      <th>sellable_online</th>\n",
              "      <th>link</th>\n",
              "      <th>other_colors</th>\n",
              "      <th>short_description</th>\n",
              "      <th>designer</th>\n",
              "      <th>depth</th>\n",
              "      <th>height</th>\n",
              "      <th>width</th>\n",
              "      <th>product_description</th>\n",
              "      <th>current_status</th>\n",
              "      <th>keywords</th>\n",
              "      <th>topic_group</th>\n",
              "      <th>topic_desc</th>\n",
              "      <th>old_price_clean</th>\n",
              "    </tr>\n",
              "  </thead>\n",
              "  <tbody>\n",
              "    <tr>\n",
              "      <th>0</th>\n",
              "      <td>90420332</td>\n",
              "      <td>FREKVENS</td>\n",
              "      <td>Bar furniture</td>\n",
              "      <td>265.0</td>\n",
              "      <td>True</td>\n",
              "      <td>https://www.ikea.com/sa/en/p/frekvens-bar-tabl...</td>\n",
              "      <td>No</td>\n",
              "      <td>Bar table, in/outdoor,          51x51 cm</td>\n",
              "      <td>Nicholai Wiig Hansen</td>\n",
              "      <td>48.8</td>\n",
              "      <td>99.0</td>\n",
              "      <td>51.0</td>\n",
              "      <td>Item discontinued</td>\n",
              "      <td>Item discontinued</td>\n",
              "      <td>NaN</td>\n",
              "      <td>NaN</td>\n",
              "      <td>NaN</td>\n",
              "      <td>265</td>\n",
              "    </tr>\n",
              "    <tr>\n",
              "      <th>1</th>\n",
              "      <td>80155205</td>\n",
              "      <td>STIG</td>\n",
              "      <td>Bar furniture</td>\n",
              "      <td>69.0</td>\n",
              "      <td>True</td>\n",
              "      <td>https://www.ikea.com/sa/en/p/stig-bar-stool-wi...</td>\n",
              "      <td>Yes</td>\n",
              "      <td>Bar stool with backrest,          74 cm</td>\n",
              "      <td>Henrik Preutz</td>\n",
              "      <td>50.0</td>\n",
              "      <td>100.0</td>\n",
              "      <td>60.0</td>\n",
              "      <td>Item discontinued</td>\n",
              "      <td>Item discontinued</td>\n",
              "      <td>NaN</td>\n",
              "      <td>NaN</td>\n",
              "      <td>NaN</td>\n",
              "      <td>69</td>\n",
              "    </tr>\n",
              "    <tr>\n",
              "      <th>2</th>\n",
              "      <td>50420329</td>\n",
              "      <td>FREKVENS</td>\n",
              "      <td>Bar furniture</td>\n",
              "      <td>177.0</td>\n",
              "      <td>True</td>\n",
              "      <td>https://www.ikea.com/sa/en/p/frekvens-bar-stoo...</td>\n",
              "      <td>No</td>\n",
              "      <td>Bar stool with backrest, in/outdoor,  ...</td>\n",
              "      <td>Nicholai Wiig Hansen</td>\n",
              "      <td>53.0</td>\n",
              "      <td>104.0</td>\n",
              "      <td>43.0</td>\n",
              "      <td>Item discontinued</td>\n",
              "      <td>Item discontinued</td>\n",
              "      <td>NaN</td>\n",
              "      <td>NaN</td>\n",
              "      <td>NaN</td>\n",
              "      <td>295</td>\n",
              "    </tr>\n",
              "    <tr>\n",
              "      <th>3</th>\n",
              "      <td>400550</td>\n",
              "      <td>EKEDALEN</td>\n",
              "      <td>Bar furniture</td>\n",
              "      <td>345.0</td>\n",
              "      <td>True</td>\n",
              "      <td>https://www.ikea.com/sa/en/p/ekedalen-bar-stoo...</td>\n",
              "      <td>No</td>\n",
              "      <td>Bar stool with backrest,          75 cm</td>\n",
              "      <td>Ehl√©n Johansson</td>\n",
              "      <td>52.0</td>\n",
              "      <td>114.0</td>\n",
              "      <td>43.0</td>\n",
              "      <td>Item discontinued</td>\n",
              "      <td>Item discontinued</td>\n",
              "      <td>NaN</td>\n",
              "      <td>NaN</td>\n",
              "      <td>NaN</td>\n",
              "      <td>345</td>\n",
              "    </tr>\n",
              "    <tr>\n",
              "      <th>4</th>\n",
              "      <td>40426138</td>\n",
              "      <td>HENRIKSDAL</td>\n",
              "      <td>Bar furniture</td>\n",
              "      <td>395.0</td>\n",
              "      <td>True</td>\n",
              "      <td>https://www.ikea.com/sa/en/p/henriksdal-bar-st...</td>\n",
              "      <td>No</td>\n",
              "      <td>Bar stool with backrest frame,        ...</td>\n",
              "      <td>Karl Malmvall</td>\n",
              "      <td>51.0</td>\n",
              "      <td>102.0</td>\n",
              "      <td>40.0</td>\n",
              "      <td>Item discontinued</td>\n",
              "      <td>Item discontinued</td>\n",
              "      <td>NaN</td>\n",
              "      <td>NaN</td>\n",
              "      <td>NaN</td>\n",
              "      <td>395</td>\n",
              "    </tr>\n",
              "  </tbody>\n",
              "</table>\n",
              "</div>\n",
              "    <div class=\"colab-df-buttons\">\n",
              "\n",
              "  <div class=\"colab-df-container\">\n",
              "    <button class=\"colab-df-convert\" onclick=\"convertToInteractive('df-fd97bf75-9c8e-4925-afea-b975f03d1ca5')\"\n",
              "            title=\"Convert this dataframe to an interactive table.\"\n",
              "            style=\"display:none;\">\n",
              "\n",
              "  <svg xmlns=\"http://www.w3.org/2000/svg\" height=\"24px\" viewBox=\"0 -960 960 960\">\n",
              "    <path d=\"M120-120v-720h720v720H120Zm60-500h600v-160H180v160Zm220 220h160v-160H400v160Zm0 220h160v-160H400v160ZM180-400h160v-160H180v160Zm440 0h160v-160H620v160ZM180-180h160v-160H180v160Zm440 0h160v-160H620v160Z\"/>\n",
              "  </svg>\n",
              "    </button>\n",
              "\n",
              "  <style>\n",
              "    .colab-df-container {\n",
              "      display:flex;\n",
              "      gap: 12px;\n",
              "    }\n",
              "\n",
              "    .colab-df-convert {\n",
              "      background-color: #E8F0FE;\n",
              "      border: none;\n",
              "      border-radius: 50%;\n",
              "      cursor: pointer;\n",
              "      display: none;\n",
              "      fill: #1967D2;\n",
              "      height: 32px;\n",
              "      padding: 0 0 0 0;\n",
              "      width: 32px;\n",
              "    }\n",
              "\n",
              "    .colab-df-convert:hover {\n",
              "      background-color: #E2EBFA;\n",
              "      box-shadow: 0px 1px 2px rgba(60, 64, 67, 0.3), 0px 1px 3px 1px rgba(60, 64, 67, 0.15);\n",
              "      fill: #174EA6;\n",
              "    }\n",
              "\n",
              "    .colab-df-buttons div {\n",
              "      margin-bottom: 4px;\n",
              "    }\n",
              "\n",
              "    [theme=dark] .colab-df-convert {\n",
              "      background-color: #3B4455;\n",
              "      fill: #D2E3FC;\n",
              "    }\n",
              "\n",
              "    [theme=dark] .colab-df-convert:hover {\n",
              "      background-color: #434B5C;\n",
              "      box-shadow: 0px 1px 3px 1px rgba(0, 0, 0, 0.15);\n",
              "      filter: drop-shadow(0px 1px 2px rgba(0, 0, 0, 0.3));\n",
              "      fill: #FFFFFF;\n",
              "    }\n",
              "  </style>\n",
              "\n",
              "    <script>\n",
              "      const buttonEl =\n",
              "        document.querySelector('#df-fd97bf75-9c8e-4925-afea-b975f03d1ca5 button.colab-df-convert');\n",
              "      buttonEl.style.display =\n",
              "        google.colab.kernel.accessAllowed ? 'block' : 'none';\n",
              "\n",
              "      async function convertToInteractive(key) {\n",
              "        const element = document.querySelector('#df-fd97bf75-9c8e-4925-afea-b975f03d1ca5');\n",
              "        const dataTable =\n",
              "          await google.colab.kernel.invokeFunction('convertToInteractive',\n",
              "                                                    [key], {});\n",
              "        if (!dataTable) return;\n",
              "\n",
              "        const docLinkHtml = 'Like what you see? Visit the ' +\n",
              "          '<a target=\"_blank\" href=https://colab.research.google.com/notebooks/data_table.ipynb>data table notebook</a>'\n",
              "          + ' to learn more about interactive tables.';\n",
              "        element.innerHTML = '';\n",
              "        dataTable['output_type'] = 'display_data';\n",
              "        await google.colab.output.renderOutput(dataTable, element);\n",
              "        const docLink = document.createElement('div');\n",
              "        docLink.innerHTML = docLinkHtml;\n",
              "        element.appendChild(docLink);\n",
              "      }\n",
              "    </script>\n",
              "  </div>\n",
              "\n",
              "\n",
              "    <div id=\"df-5dd3a10b-9d74-45fd-b195-b9a67581ecc7\">\n",
              "      <button class=\"colab-df-quickchart\" onclick=\"quickchart('df-5dd3a10b-9d74-45fd-b195-b9a67581ecc7')\"\n",
              "                title=\"Suggest charts\"\n",
              "                style=\"display:none;\">\n",
              "\n",
              "<svg xmlns=\"http://www.w3.org/2000/svg\" height=\"24px\"viewBox=\"0 0 24 24\"\n",
              "     width=\"24px\">\n",
              "    <g>\n",
              "        <path d=\"M19 3H5c-1.1 0-2 .9-2 2v14c0 1.1.9 2 2 2h14c1.1 0 2-.9 2-2V5c0-1.1-.9-2-2-2zM9 17H7v-7h2v7zm4 0h-2V7h2v10zm4 0h-2v-4h2v4z\"/>\n",
              "    </g>\n",
              "</svg>\n",
              "      </button>\n",
              "\n",
              "<style>\n",
              "  .colab-df-quickchart {\n",
              "      --bg-color: #E8F0FE;\n",
              "      --fill-color: #1967D2;\n",
              "      --hover-bg-color: #E2EBFA;\n",
              "      --hover-fill-color: #174EA6;\n",
              "      --disabled-fill-color: #AAA;\n",
              "      --disabled-bg-color: #DDD;\n",
              "  }\n",
              "\n",
              "  [theme=dark] .colab-df-quickchart {\n",
              "      --bg-color: #3B4455;\n",
              "      --fill-color: #D2E3FC;\n",
              "      --hover-bg-color: #434B5C;\n",
              "      --hover-fill-color: #FFFFFF;\n",
              "      --disabled-bg-color: #3B4455;\n",
              "      --disabled-fill-color: #666;\n",
              "  }\n",
              "\n",
              "  .colab-df-quickchart {\n",
              "    background-color: var(--bg-color);\n",
              "    border: none;\n",
              "    border-radius: 50%;\n",
              "    cursor: pointer;\n",
              "    display: none;\n",
              "    fill: var(--fill-color);\n",
              "    height: 32px;\n",
              "    padding: 0;\n",
              "    width: 32px;\n",
              "  }\n",
              "\n",
              "  .colab-df-quickchart:hover {\n",
              "    background-color: var(--hover-bg-color);\n",
              "    box-shadow: 0 1px 2px rgba(60, 64, 67, 0.3), 0 1px 3px 1px rgba(60, 64, 67, 0.15);\n",
              "    fill: var(--button-hover-fill-color);\n",
              "  }\n",
              "\n",
              "  .colab-df-quickchart-complete:disabled,\n",
              "  .colab-df-quickchart-complete:disabled:hover {\n",
              "    background-color: var(--disabled-bg-color);\n",
              "    fill: var(--disabled-fill-color);\n",
              "    box-shadow: none;\n",
              "  }\n",
              "\n",
              "  .colab-df-spinner {\n",
              "    border: 2px solid var(--fill-color);\n",
              "    border-color: transparent;\n",
              "    border-bottom-color: var(--fill-color);\n",
              "    animation:\n",
              "      spin 1s steps(1) infinite;\n",
              "  }\n",
              "\n",
              "  @keyframes spin {\n",
              "    0% {\n",
              "      border-color: transparent;\n",
              "      border-bottom-color: var(--fill-color);\n",
              "      border-left-color: var(--fill-color);\n",
              "    }\n",
              "    20% {\n",
              "      border-color: transparent;\n",
              "      border-left-color: var(--fill-color);\n",
              "      border-top-color: var(--fill-color);\n",
              "    }\n",
              "    30% {\n",
              "      border-color: transparent;\n",
              "      border-left-color: var(--fill-color);\n",
              "      border-top-color: var(--fill-color);\n",
              "      border-right-color: var(--fill-color);\n",
              "    }\n",
              "    40% {\n",
              "      border-color: transparent;\n",
              "      border-right-color: var(--fill-color);\n",
              "      border-top-color: var(--fill-color);\n",
              "    }\n",
              "    60% {\n",
              "      border-color: transparent;\n",
              "      border-right-color: var(--fill-color);\n",
              "    }\n",
              "    80% {\n",
              "      border-color: transparent;\n",
              "      border-right-color: var(--fill-color);\n",
              "      border-bottom-color: var(--fill-color);\n",
              "    }\n",
              "    90% {\n",
              "      border-color: transparent;\n",
              "      border-bottom-color: var(--fill-color);\n",
              "    }\n",
              "  }\n",
              "</style>\n",
              "\n",
              "      <script>\n",
              "        async function quickchart(key) {\n",
              "          const quickchartButtonEl =\n",
              "            document.querySelector('#' + key + ' button');\n",
              "          quickchartButtonEl.disabled = true;  // To prevent multiple clicks.\n",
              "          quickchartButtonEl.classList.add('colab-df-spinner');\n",
              "          try {\n",
              "            const charts = await google.colab.kernel.invokeFunction(\n",
              "                'suggestCharts', [key], {});\n",
              "          } catch (error) {\n",
              "            console.error('Error during call to suggestCharts:', error);\n",
              "          }\n",
              "          quickchartButtonEl.classList.remove('colab-df-spinner');\n",
              "          quickchartButtonEl.classList.add('colab-df-quickchart-complete');\n",
              "        }\n",
              "        (() => {\n",
              "          let quickchartButtonEl =\n",
              "            document.querySelector('#df-5dd3a10b-9d74-45fd-b195-b9a67581ecc7 button');\n",
              "          quickchartButtonEl.style.display =\n",
              "            google.colab.kernel.accessAllowed ? 'block' : 'none';\n",
              "        })();\n",
              "      </script>\n",
              "    </div>\n",
              "\n",
              "    </div>\n",
              "  </div>\n"
            ],
            "application/vnd.google.colaboratory.intrinsic+json": {
              "type": "dataframe",
              "variable_name": "data",
              "summary": "{\n  \"name\": \"data\",\n  \"rows\": 3694,\n  \"fields\": [\n    {\n      \"column\": \"item_id\",\n      \"properties\": {\n        \"dtype\": \"number\",\n        \"std\": 28887094,\n        \"min\": 58487,\n        \"max\": 99932615,\n        \"num_unique_values\": 2962,\n        \"samples\": [\n          79248588,\n          59214240,\n          19011777\n        ],\n        \"semantic_type\": \"\",\n        \"description\": \"\"\n      }\n    },\n    {\n      \"column\": \"name\",\n      \"properties\": {\n        \"dtype\": \"category\",\n        \"num_unique_values\": 607,\n        \"samples\": [\n          \"STOCKHOLM\",\n          \"KUDDARNA\",\n          \"ALGOT\"\n        ],\n        \"semantic_type\": \"\",\n        \"description\": \"\"\n      }\n    },\n    {\n      \"column\": \"category\",\n      \"properties\": {\n        \"dtype\": \"category\",\n        \"num_unique_values\": 17,\n        \"samples\": [\n          \"Bar furniture\",\n          \"Beds\",\n          \"Chairs\"\n        ],\n        \"semantic_type\": \"\",\n        \"description\": \"\"\n      }\n    },\n    {\n      \"column\": \"price\",\n      \"properties\": {\n        \"dtype\": \"number\",\n        \"std\": 1374.6524941516225,\n        \"min\": 3.0,\n        \"max\": 9585.0,\n        \"num_unique_values\": 979,\n        \"samples\": [\n          575.0,\n          2616.4,\n          775.0\n        ],\n        \"semantic_type\": \"\",\n        \"description\": \"\"\n      }\n    },\n    {\n      \"column\": \"sellable_online\",\n      \"properties\": {\n        \"dtype\": \"boolean\",\n        \"num_unique_values\": 2,\n        \"samples\": [\n          false,\n          true\n        ],\n        \"semantic_type\": \"\",\n        \"description\": \"\"\n      }\n    },\n    {\n      \"column\": \"link\",\n      \"properties\": {\n        \"dtype\": \"string\",\n        \"num_unique_values\": 2962,\n        \"samples\": [\n          \"https://www.ikea.com/sa/en/p/platsa-wardrobe-white-fonnes-white-s79248588/\",\n          \"https://www.ikea.com/sa/en/p/linnmon-olov-table-geometric-beige-silver-colour-s59214240/\"\n        ],\n        \"semantic_type\": \"\",\n        \"description\": \"\"\n      }\n    },\n    {\n      \"column\": \"other_colors\",\n      \"properties\": {\n        \"dtype\": \"category\",\n        \"num_unique_values\": 2,\n        \"samples\": [\n          \"Yes\",\n          \"No\"\n        ],\n        \"semantic_type\": \"\",\n        \"description\": \"\"\n      }\n    },\n    {\n      \"column\": \"short_description\",\n      \"properties\": {\n        \"dtype\": \"category\",\n        \"num_unique_values\": 1706,\n        \"samples\": [\n          \"        Children's chair\",\n          \"        Frame/mesh baskets/clothes rails,          148x51x207 cm\"\n        ],\n        \"semantic_type\": \"\",\n        \"description\": \"\"\n      }\n    },\n    {\n      \"column\": \"designer\",\n      \"properties\": {\n        \"dtype\": \"category\",\n        \"num_unique_values\": 381,\n        \"samples\": [\n          \"Jomi Evers\",\n          \"Ola Wihlborg/Ehl\\u221a\\u00a9n Johansson\"\n        ],\n        \"semantic_type\": \"\",\n        \"description\": \"\"\n      }\n    },\n    {\n      \"column\": \"depth\",\n      \"properties\": {\n        \"dtype\": \"number\",\n        \"std\": 25.44116556449237,\n        \"min\": 1.0,\n        \"max\": 257.0,\n        \"num_unique_values\": 335,\n        \"samples\": [\n          59.4,\n          22.0\n        ],\n        \"semantic_type\": \"\",\n        \"description\": \"\"\n      }\n    },\n    {\n      \"column\": \"height\",\n      \"properties\": {\n        \"dtype\": \"number\",\n        \"std\": 56.38318312448228,\n        \"min\": 1.0,\n        \"max\": 700.0,\n        \"num_unique_values\": 495,\n        \"samples\": [\n          75.6,\n          190.0\n        ],\n        \"semantic_type\": \"\",\n        \"description\": \"\"\n      }\n    },\n    {\n      \"column\": \"width\",\n      \"properties\": {\n        \"dtype\": \"number\",\n        \"std\": 67.51333193467055,\n        \"min\": 1.0,\n        \"max\": 420.0,\n        \"num_unique_values\": 491,\n        \"samples\": [\n          106.0,\n          46.0\n        ],\n        \"semantic_type\": \"\",\n        \"description\": \"\"\n      }\n    },\n    {\n      \"column\": \"product_description\",\n      \"properties\": {\n        \"dtype\": \"category\",\n        \"num_unique_values\": 960,\n        \"samples\": [\n          \"LISABO coffee table, ash veneer, 118x50 cm We\\u201a\\u00c4\\u00f4re proud of our LISABO series, awarded with the prestigious, international Red Dot Award, for its design. The products are durable, sturdy and easy to assemble, yet look light and hand-crafted. Easy to assemble as each leg only has one fitting.\",\n          \"JUSTINA chair pad, grey, 42/35x40x4 cm Simple and stylish, but above all - comfy. The thick, soft foam filling will make even the most restless feel relaxed at the table. Several colours to choose from \\u201a\\u00c4\\u00ec pick your favourite. The thick foam filling provides great comfort and long-lasting support.\"\n        ],\n        \"semantic_type\": \"\",\n        \"description\": \"\"\n      }\n    },\n    {\n      \"column\": \"current_status\",\n      \"properties\": {\n        \"dtype\": \"category\",\n        \"num_unique_values\": 2,\n        \"samples\": [\n          \"Item still available for sale\",\n          \"Item discontinued\"\n        ],\n        \"semantic_type\": \"\",\n        \"description\": \"\"\n      }\n    },\n    {\n      \"column\": \"keywords\",\n      \"properties\": {\n        \"dtype\": \"category\",\n        \"num_unique_values\": 723,\n        \"samples\": [\n          \"rattan white/Laila natural experienced makes rounded detailed natural develop unique\",\n          \"outdoor maintenance-free patio stylish functional allows pass\"\n        ],\n        \"semantic_type\": \"\",\n        \"description\": \"\"\n      }\n    },\n    {\n      \"column\": \"topic_group\",\n      \"properties\": {\n        \"dtype\": \"number\",\n        \"std\": 0.8528353735618281,\n        \"min\": 0.0,\n        \"max\": 2.0,\n        \"num_unique_values\": 3,\n        \"samples\": [\n          2.0,\n          1.0\n        ],\n        \"semantic_type\": \"\",\n        \"description\": \"\"\n      }\n    },\n    {\n      \"column\": \"topic_desc\",\n      \"properties\": {\n        \"dtype\": \"category\",\n        \"num_unique_values\": 3,\n        \"samples\": [\n          \"Durability and Appearance\",\n          \"Style and Functionality\"\n        ],\n        \"semantic_type\": \"\",\n        \"description\": \"\"\n      }\n    },\n    {\n      \"column\": \"old_price_clean\",\n      \"properties\": {\n        \"dtype\": \"number\",\n        \"std\": 1443,\n        \"min\": 3,\n        \"max\": 9985,\n        \"num_unique_values\": 846,\n        \"samples\": [\n          1285,\n          340\n        ],\n        \"semantic_type\": \"\",\n        \"description\": \"\"\n      }\n    }\n  ]\n}"
            }
          },
          "metadata": {},
          "execution_count": 495
        }
      ]
    },
    {
      "cell_type": "markdown",
      "source": [
        "**Feature Engineering Tasks:**"
      ],
      "metadata": {
        "id": "1cxEOKsbGnYx"
      },
      "id": "1cxEOKsbGnYx"
    },
    {
      "cell_type": "markdown",
      "source": [
        "Price Difference Feature: Create a new feature representing the difference\n",
        "\n",
        "between price and old_price (where applicable)."
      ],
      "metadata": {
        "id": "wHq7zPthHbN5"
      },
      "id": "wHq7zPthHbN5"
    },
    {
      "cell_type": "code",
      "source": [
        "data['old_price_clean'] = data.apply(\n",
        "    lambda row: row['price'] if pd.isna(row['old_price_clean']) else row['old_price_clean'],\n",
        "    axis=1\n",
        ")\n",
        "\n",
        "data['price_difference'] = data['old_price_clean'] - data['price']\n",
        "\n",
        "print(data[['price', 'old_price_clean', 'price_difference']].head())\n"
      ],
      "metadata": {
        "colab": {
          "base_uri": "https://localhost:8080/"
        },
        "id": "M1yDOsJ4EsZx",
        "outputId": "0453d2a9-c7fe-4680-e082-785c88a2ae30"
      },
      "id": "M1yDOsJ4EsZx",
      "execution_count": 496,
      "outputs": [
        {
          "output_type": "stream",
          "name": "stdout",
          "text": [
            "   price  old_price_clean  price_difference\n",
            "0  265.0              265               0.0\n",
            "1   69.0               69               0.0\n",
            "2  177.0              295             118.0\n",
            "3  345.0              345               0.0\n",
            "4  395.0              395               0.0\n"
          ]
        }
      ]
    },
    {
      "cell_type": "code",
      "source": [
        "data['price_difference'].value_counts()"
      ],
      "metadata": {
        "colab": {
          "base_uri": "https://localhost:8080/",
          "height": 484
        },
        "id": "qzGvHxZab0uW",
        "outputId": "f69604e0-c6c9-402b-c379-9e472fe64359"
      },
      "id": "qzGvHxZab0uW",
      "execution_count": 497,
      "outputs": [
        {
          "output_type": "execute_result",
          "data": {
            "text/plain": [
              "price_difference\n",
              "0.0      3040\n",
              "199.0      17\n",
              "119.0      16\n",
              "70.0       13\n",
              "180.0      12\n",
              "         ... \n",
              "161.0       1\n",
              "280.0       1\n",
              "51.0        1\n",
              "183.0       1\n",
              "279.5       1\n",
              "Name: count, Length: 311, dtype: int64"
            ],
            "text/html": [
              "<div>\n",
              "<style scoped>\n",
              "    .dataframe tbody tr th:only-of-type {\n",
              "        vertical-align: middle;\n",
              "    }\n",
              "\n",
              "    .dataframe tbody tr th {\n",
              "        vertical-align: top;\n",
              "    }\n",
              "\n",
              "    .dataframe thead th {\n",
              "        text-align: right;\n",
              "    }\n",
              "</style>\n",
              "<table border=\"1\" class=\"dataframe\">\n",
              "  <thead>\n",
              "    <tr style=\"text-align: right;\">\n",
              "      <th></th>\n",
              "      <th>count</th>\n",
              "    </tr>\n",
              "    <tr>\n",
              "      <th>price_difference</th>\n",
              "      <th></th>\n",
              "    </tr>\n",
              "  </thead>\n",
              "  <tbody>\n",
              "    <tr>\n",
              "      <th>0.0</th>\n",
              "      <td>3040</td>\n",
              "    </tr>\n",
              "    <tr>\n",
              "      <th>199.0</th>\n",
              "      <td>17</td>\n",
              "    </tr>\n",
              "    <tr>\n",
              "      <th>119.0</th>\n",
              "      <td>16</td>\n",
              "    </tr>\n",
              "    <tr>\n",
              "      <th>70.0</th>\n",
              "      <td>13</td>\n",
              "    </tr>\n",
              "    <tr>\n",
              "      <th>180.0</th>\n",
              "      <td>12</td>\n",
              "    </tr>\n",
              "    <tr>\n",
              "      <th>...</th>\n",
              "      <td>...</td>\n",
              "    </tr>\n",
              "    <tr>\n",
              "      <th>161.0</th>\n",
              "      <td>1</td>\n",
              "    </tr>\n",
              "    <tr>\n",
              "      <th>280.0</th>\n",
              "      <td>1</td>\n",
              "    </tr>\n",
              "    <tr>\n",
              "      <th>51.0</th>\n",
              "      <td>1</td>\n",
              "    </tr>\n",
              "    <tr>\n",
              "      <th>183.0</th>\n",
              "      <td>1</td>\n",
              "    </tr>\n",
              "    <tr>\n",
              "      <th>279.5</th>\n",
              "      <td>1</td>\n",
              "    </tr>\n",
              "  </tbody>\n",
              "</table>\n",
              "<p>311 rows × 1 columns</p>\n",
              "</div><br><label><b>dtype:</b> int64</label>"
            ]
          },
          "metadata": {},
          "execution_count": 497
        }
      ]
    },
    {
      "cell_type": "markdown",
      "source": [
        "**Dimension Ratios: Create features like depth/width or height/depth for deeper analysis**."
      ],
      "metadata": {
        "id": "-VkhuT-ff2F7"
      },
      "id": "-VkhuT-ff2F7"
    },
    {
      "cell_type": "code",
      "source": [
        "# creating features\n",
        "data['depth_width_ratio'] = data['depth'] / data['width']\n",
        "data['height_depth_ratio'] = data['height'] / data['depth']\n",
        "data['height_width_ratio'] = data['height'] / data['width']\n",
        "\n",
        "data.replace([np.inf, -np.inf], np.nan, inplace=True)\n",
        "\n",
        "print(data[['depth', 'width', 'height', 'depth_width_ratio', 'height_depth_ratio', 'height_width_ratio']].head())\n"
      ],
      "metadata": {
        "colab": {
          "base_uri": "https://localhost:8080/"
        },
        "id": "slyBLFRBgMME",
        "outputId": "11a4a374-4cef-4fba-fb37-db7351de9887"
      },
      "id": "slyBLFRBgMME",
      "execution_count": 498,
      "outputs": [
        {
          "output_type": "stream",
          "name": "stdout",
          "text": [
            "   depth  width  height  depth_width_ratio  height_depth_ratio  \\\n",
            "0   48.8   51.0    99.0           0.956863            2.028689   \n",
            "1   50.0   60.0   100.0           0.833333            2.000000   \n",
            "2   53.0   43.0   104.0           1.232558            1.962264   \n",
            "3   52.0   43.0   114.0           1.209302            2.192308   \n",
            "4   51.0   40.0   102.0           1.275000            2.000000   \n",
            "\n",
            "   height_width_ratio  \n",
            "0            1.941176  \n",
            "1            1.666667  \n",
            "2            2.418605  \n",
            "3            2.651163  \n",
            "4            2.550000  \n"
          ]
        }
      ]
    },
    {
      "cell_type": "markdown",
      "source": [
        "**Color Availability: Convert the other_colors column into a numerical feature (e.g., one-hot encoding for \"Yes\"/\"No\").**"
      ],
      "metadata": {
        "id": "qkzZU3a8gZYH"
      },
      "id": "qkzZU3a8gZYH"
    },
    {
      "cell_type": "code",
      "source": [
        "data['other_colors'].value_counts()"
      ],
      "metadata": {
        "colab": {
          "base_uri": "https://localhost:8080/",
          "height": 176
        },
        "id": "lX8jLuOWgM_t",
        "outputId": "26d13d5c-38a9-4ca5-bb04-017104efacca"
      },
      "id": "lX8jLuOWgM_t",
      "execution_count": 499,
      "outputs": [
        {
          "output_type": "execute_result",
          "data": {
            "text/plain": [
              "other_colors\n",
              "No     2182\n",
              "Yes    1512\n",
              "Name: count, dtype: int64"
            ],
            "text/html": [
              "<div>\n",
              "<style scoped>\n",
              "    .dataframe tbody tr th:only-of-type {\n",
              "        vertical-align: middle;\n",
              "    }\n",
              "\n",
              "    .dataframe tbody tr th {\n",
              "        vertical-align: top;\n",
              "    }\n",
              "\n",
              "    .dataframe thead th {\n",
              "        text-align: right;\n",
              "    }\n",
              "</style>\n",
              "<table border=\"1\" class=\"dataframe\">\n",
              "  <thead>\n",
              "    <tr style=\"text-align: right;\">\n",
              "      <th></th>\n",
              "      <th>count</th>\n",
              "    </tr>\n",
              "    <tr>\n",
              "      <th>other_colors</th>\n",
              "      <th></th>\n",
              "    </tr>\n",
              "  </thead>\n",
              "  <tbody>\n",
              "    <tr>\n",
              "      <th>No</th>\n",
              "      <td>2182</td>\n",
              "    </tr>\n",
              "    <tr>\n",
              "      <th>Yes</th>\n",
              "      <td>1512</td>\n",
              "    </tr>\n",
              "  </tbody>\n",
              "</table>\n",
              "</div><br><label><b>dtype:</b> int64</label>"
            ]
          },
          "metadata": {},
          "execution_count": 499
        }
      ]
    },
    {
      "cell_type": "markdown",
      "source": [
        "*One Hot Encoding (OHE)*"
      ],
      "metadata": {
        "id": "7fiztuDlg4ws"
      },
      "id": "7fiztuDlg4ws"
    },
    {
      "cell_type": "code",
      "source": [
        "data"
      ],
      "metadata": {
        "colab": {
          "base_uri": "https://localhost:8080/",
          "height": 864
        },
        "id": "Pv378Wky1sjt",
        "outputId": "ea0d69df-4d54-467f-93fe-86d5dd7903e9"
      },
      "id": "Pv378Wky1sjt",
      "execution_count": 500,
      "outputs": [
        {
          "output_type": "execute_result",
          "data": {
            "text/plain": [
              "       item_id                   name       category   price  sellable_online  \\\n",
              "0     90420332               FREKVENS  Bar furniture   265.0             True   \n",
              "1     80155205                   STIG  Bar furniture    69.0             True   \n",
              "2     50420329               FREKVENS  Bar furniture   177.0             True   \n",
              "3       400550               EKEDALEN  Bar furniture   345.0             True   \n",
              "4     40426138             HENRIKSDAL  Bar furniture   395.0             True   \n",
              "...        ...                    ...            ...     ...              ...   \n",
              "3689  19385677                    PAX      Wardrobes  2505.0             True   \n",
              "3690  39329299  PAX / FORSAND/VIKEDAL      Wardrobes  1260.0             True   \n",
              "3691  79302995                ELVARLI      Wardrobes  1611.0             True   \n",
              "3692  99157902                ELVARLI      Wardrobes   750.0             True   \n",
              "3693   9158152                ELVARLI      Wardrobes  1572.0             True   \n",
              "\n",
              "                                                   link other_colors  \\\n",
              "0     https://www.ikea.com/sa/en/p/frekvens-bar-tabl...           No   \n",
              "1     https://www.ikea.com/sa/en/p/stig-bar-stool-wi...          Yes   \n",
              "2     https://www.ikea.com/sa/en/p/frekvens-bar-stoo...           No   \n",
              "3     https://www.ikea.com/sa/en/p/ekedalen-bar-stoo...           No   \n",
              "4     https://www.ikea.com/sa/en/p/henriksdal-bar-st...           No   \n",
              "...                                                 ...          ...   \n",
              "3689  https://www.ikea.com/sa/en/p/pax-wardrobe-comb...          Yes   \n",
              "3690  https://www.ikea.com/sa/en/p/pax-forsand-viked...          Yes   \n",
              "3691  https://www.ikea.com/sa/en/p/elvarli-2-section...           No   \n",
              "3692  https://www.ikea.com/sa/en/p/elvarli-1-section...           No   \n",
              "3693  https://www.ikea.com/sa/en/p/elvarli-2-section...           No   \n",
              "\n",
              "                                      short_description  \\\n",
              "0              Bar table, in/outdoor,          51x51 cm   \n",
              "1               Bar stool with backrest,          74 cm   \n",
              "2             Bar stool with backrest, in/outdoor,  ...   \n",
              "3               Bar stool with backrest,          75 cm   \n",
              "4             Bar stool with backrest frame,        ...   \n",
              "...                                                 ...   \n",
              "3689          Wardrobe combination,          150x58x...   \n",
              "3690          Wardrobe combination,          75x60x2...   \n",
              "3691             2 sections,          175x51x222-350 cm   \n",
              "3692               1 section,          92x51x222-350 cm   \n",
              "3693             2 sections,          135x51x222-350 cm   \n",
              "\n",
              "                                          designer  depth  ...  \\\n",
              "0                             Nicholai Wiig Hansen   48.8  ...   \n",
              "1                                    Henrik Preutz   50.0  ...   \n",
              "2                             Nicholai Wiig Hansen   53.0  ...   \n",
              "3                                 Ehl√©n Johansson   52.0  ...   \n",
              "4                                    Karl Malmvall   51.0  ...   \n",
              "...                                            ...    ...  ...   \n",
              "3689  Ehl√©n Johansson/Ola Wihlborg/IKEA of Sweden   58.0  ...   \n",
              "3690               Ehl√©n Johansson/IKEA of Sweden   60.0  ...   \n",
              "3691                              Ehl√©n Johansson   50.0  ...   \n",
              "3692                              Ehl√©n Johansson   50.0  ...   \n",
              "3693                              Ehl√©n Johansson   50.0  ...   \n",
              "\n",
              "                                    product_description  \\\n",
              "0                                     Item discontinued   \n",
              "1                                     Item discontinued   \n",
              "2                                     Item discontinued   \n",
              "3                                     Item discontinued   \n",
              "4                                     Item discontinued   \n",
              "...                                                 ...   \n",
              "3689  Shop for fitted wardrobes online at IKEA Saudi...   \n",
              "3690  Shop for fitted wardrobes online at IKEA Saudi...   \n",
              "3691  ELVARLI wardrobe combination, white, 175x51x22...   \n",
              "3692  ELVARLI wardrobe combination, white, 92x51x222...   \n",
              "3693  ELVARLI wardrobe combination, white, 135x51x22...   \n",
              "\n",
              "                     current_status  \\\n",
              "0                 Item discontinued   \n",
              "1                 Item discontinued   \n",
              "2                 Item discontinued   \n",
              "3                 Item discontinued   \n",
              "4                 Item discontinued   \n",
              "...                             ...   \n",
              "3689  Item still available for sale   \n",
              "3690  Item still available for sale   \n",
              "3691  Item still available for sale   \n",
              "3692  Item still available for sale   \n",
              "3693  Item still available for sale   \n",
              "\n",
              "                                               keywords topic_group  \\\n",
              "0                                                   NaN         NaN   \n",
              "1                                                   NaN         NaN   \n",
              "2                                                   NaN         NaN   \n",
              "3                                                   NaN         NaN   \n",
              "4                                                   NaN         NaN   \n",
              "...                                                 ...         ...   \n",
              "3689                              fitted online stylish         1.0   \n",
              "3690                              fitted online stylish         1.0   \n",
              "3691  white 175x51x222-350 Make lovely decorative ad...         2.0   \n",
              "3692  white 92x51x222-350 Make lovely decorative adj...         2.0   \n",
              "3693  white 135x51x222-350 Make lovely decorative ad...         2.0   \n",
              "\n",
              "                     topic_desc  old_price_clean price_difference  \\\n",
              "0                           NaN              265              0.0   \n",
              "1                           NaN               69              0.0   \n",
              "2                           NaN              295            118.0   \n",
              "3                           NaN              345              0.0   \n",
              "4                           NaN              395              0.0   \n",
              "...                         ...              ...              ...   \n",
              "3689    Style and Functionality             2505              0.0   \n",
              "3690    Style and Functionality             1260              0.0   \n",
              "3691  Durability and Appearance             1815            204.0   \n",
              "3692  Durability and Appearance              820             70.0   \n",
              "3693  Durability and Appearance             1755            183.0   \n",
              "\n",
              "      depth_width_ratio  height_depth_ratio  height_width_ratio  \n",
              "0              0.956863            2.028689            1.941176  \n",
              "1              0.833333            2.000000            1.666667  \n",
              "2              1.232558            1.962264            2.418605  \n",
              "3              1.209302            2.192308            2.651163  \n",
              "4              1.275000            2.000000            2.550000  \n",
              "...                 ...                 ...                 ...  \n",
              "3689           0.386667            4.068966            1.573333  \n",
              "3690           0.800000            3.350000            2.680000  \n",
              "3691           0.285714            2.184000            0.624000  \n",
              "3692           0.549451            3.032000            1.665934  \n",
              "3693           0.370370            1.816000            0.672593  \n",
              "\n",
              "[3694 rows x 22 columns]"
            ],
            "text/html": [
              "\n",
              "  <div id=\"df-8e70c894-9569-47b8-b976-3b4208b496bd\" class=\"colab-df-container\">\n",
              "    <div>\n",
              "<style scoped>\n",
              "    .dataframe tbody tr th:only-of-type {\n",
              "        vertical-align: middle;\n",
              "    }\n",
              "\n",
              "    .dataframe tbody tr th {\n",
              "        vertical-align: top;\n",
              "    }\n",
              "\n",
              "    .dataframe thead th {\n",
              "        text-align: right;\n",
              "    }\n",
              "</style>\n",
              "<table border=\"1\" class=\"dataframe\">\n",
              "  <thead>\n",
              "    <tr style=\"text-align: right;\">\n",
              "      <th></th>\n",
              "      <th>item_id</th>\n",
              "      <th>name</th>\n",
              "      <th>category</th>\n",
              "      <th>price</th>\n",
              "      <th>sellable_online</th>\n",
              "      <th>link</th>\n",
              "      <th>other_colors</th>\n",
              "      <th>short_description</th>\n",
              "      <th>designer</th>\n",
              "      <th>depth</th>\n",
              "      <th>...</th>\n",
              "      <th>product_description</th>\n",
              "      <th>current_status</th>\n",
              "      <th>keywords</th>\n",
              "      <th>topic_group</th>\n",
              "      <th>topic_desc</th>\n",
              "      <th>old_price_clean</th>\n",
              "      <th>price_difference</th>\n",
              "      <th>depth_width_ratio</th>\n",
              "      <th>height_depth_ratio</th>\n",
              "      <th>height_width_ratio</th>\n",
              "    </tr>\n",
              "  </thead>\n",
              "  <tbody>\n",
              "    <tr>\n",
              "      <th>0</th>\n",
              "      <td>90420332</td>\n",
              "      <td>FREKVENS</td>\n",
              "      <td>Bar furniture</td>\n",
              "      <td>265.0</td>\n",
              "      <td>True</td>\n",
              "      <td>https://www.ikea.com/sa/en/p/frekvens-bar-tabl...</td>\n",
              "      <td>No</td>\n",
              "      <td>Bar table, in/outdoor,          51x51 cm</td>\n",
              "      <td>Nicholai Wiig Hansen</td>\n",
              "      <td>48.8</td>\n",
              "      <td>...</td>\n",
              "      <td>Item discontinued</td>\n",
              "      <td>Item discontinued</td>\n",
              "      <td>NaN</td>\n",
              "      <td>NaN</td>\n",
              "      <td>NaN</td>\n",
              "      <td>265</td>\n",
              "      <td>0.0</td>\n",
              "      <td>0.956863</td>\n",
              "      <td>2.028689</td>\n",
              "      <td>1.941176</td>\n",
              "    </tr>\n",
              "    <tr>\n",
              "      <th>1</th>\n",
              "      <td>80155205</td>\n",
              "      <td>STIG</td>\n",
              "      <td>Bar furniture</td>\n",
              "      <td>69.0</td>\n",
              "      <td>True</td>\n",
              "      <td>https://www.ikea.com/sa/en/p/stig-bar-stool-wi...</td>\n",
              "      <td>Yes</td>\n",
              "      <td>Bar stool with backrest,          74 cm</td>\n",
              "      <td>Henrik Preutz</td>\n",
              "      <td>50.0</td>\n",
              "      <td>...</td>\n",
              "      <td>Item discontinued</td>\n",
              "      <td>Item discontinued</td>\n",
              "      <td>NaN</td>\n",
              "      <td>NaN</td>\n",
              "      <td>NaN</td>\n",
              "      <td>69</td>\n",
              "      <td>0.0</td>\n",
              "      <td>0.833333</td>\n",
              "      <td>2.000000</td>\n",
              "      <td>1.666667</td>\n",
              "    </tr>\n",
              "    <tr>\n",
              "      <th>2</th>\n",
              "      <td>50420329</td>\n",
              "      <td>FREKVENS</td>\n",
              "      <td>Bar furniture</td>\n",
              "      <td>177.0</td>\n",
              "      <td>True</td>\n",
              "      <td>https://www.ikea.com/sa/en/p/frekvens-bar-stoo...</td>\n",
              "      <td>No</td>\n",
              "      <td>Bar stool with backrest, in/outdoor,  ...</td>\n",
              "      <td>Nicholai Wiig Hansen</td>\n",
              "      <td>53.0</td>\n",
              "      <td>...</td>\n",
              "      <td>Item discontinued</td>\n",
              "      <td>Item discontinued</td>\n",
              "      <td>NaN</td>\n",
              "      <td>NaN</td>\n",
              "      <td>NaN</td>\n",
              "      <td>295</td>\n",
              "      <td>118.0</td>\n",
              "      <td>1.232558</td>\n",
              "      <td>1.962264</td>\n",
              "      <td>2.418605</td>\n",
              "    </tr>\n",
              "    <tr>\n",
              "      <th>3</th>\n",
              "      <td>400550</td>\n",
              "      <td>EKEDALEN</td>\n",
              "      <td>Bar furniture</td>\n",
              "      <td>345.0</td>\n",
              "      <td>True</td>\n",
              "      <td>https://www.ikea.com/sa/en/p/ekedalen-bar-stoo...</td>\n",
              "      <td>No</td>\n",
              "      <td>Bar stool with backrest,          75 cm</td>\n",
              "      <td>Ehl√©n Johansson</td>\n",
              "      <td>52.0</td>\n",
              "      <td>...</td>\n",
              "      <td>Item discontinued</td>\n",
              "      <td>Item discontinued</td>\n",
              "      <td>NaN</td>\n",
              "      <td>NaN</td>\n",
              "      <td>NaN</td>\n",
              "      <td>345</td>\n",
              "      <td>0.0</td>\n",
              "      <td>1.209302</td>\n",
              "      <td>2.192308</td>\n",
              "      <td>2.651163</td>\n",
              "    </tr>\n",
              "    <tr>\n",
              "      <th>4</th>\n",
              "      <td>40426138</td>\n",
              "      <td>HENRIKSDAL</td>\n",
              "      <td>Bar furniture</td>\n",
              "      <td>395.0</td>\n",
              "      <td>True</td>\n",
              "      <td>https://www.ikea.com/sa/en/p/henriksdal-bar-st...</td>\n",
              "      <td>No</td>\n",
              "      <td>Bar stool with backrest frame,        ...</td>\n",
              "      <td>Karl Malmvall</td>\n",
              "      <td>51.0</td>\n",
              "      <td>...</td>\n",
              "      <td>Item discontinued</td>\n",
              "      <td>Item discontinued</td>\n",
              "      <td>NaN</td>\n",
              "      <td>NaN</td>\n",
              "      <td>NaN</td>\n",
              "      <td>395</td>\n",
              "      <td>0.0</td>\n",
              "      <td>1.275000</td>\n",
              "      <td>2.000000</td>\n",
              "      <td>2.550000</td>\n",
              "    </tr>\n",
              "    <tr>\n",
              "      <th>...</th>\n",
              "      <td>...</td>\n",
              "      <td>...</td>\n",
              "      <td>...</td>\n",
              "      <td>...</td>\n",
              "      <td>...</td>\n",
              "      <td>...</td>\n",
              "      <td>...</td>\n",
              "      <td>...</td>\n",
              "      <td>...</td>\n",
              "      <td>...</td>\n",
              "      <td>...</td>\n",
              "      <td>...</td>\n",
              "      <td>...</td>\n",
              "      <td>...</td>\n",
              "      <td>...</td>\n",
              "      <td>...</td>\n",
              "      <td>...</td>\n",
              "      <td>...</td>\n",
              "      <td>...</td>\n",
              "      <td>...</td>\n",
              "      <td>...</td>\n",
              "    </tr>\n",
              "    <tr>\n",
              "      <th>3689</th>\n",
              "      <td>19385677</td>\n",
              "      <td>PAX</td>\n",
              "      <td>Wardrobes</td>\n",
              "      <td>2505.0</td>\n",
              "      <td>True</td>\n",
              "      <td>https://www.ikea.com/sa/en/p/pax-wardrobe-comb...</td>\n",
              "      <td>Yes</td>\n",
              "      <td>Wardrobe combination,          150x58x...</td>\n",
              "      <td>Ehl√©n Johansson/Ola Wihlborg/IKEA of Sweden</td>\n",
              "      <td>58.0</td>\n",
              "      <td>...</td>\n",
              "      <td>Shop for fitted wardrobes online at IKEA Saudi...</td>\n",
              "      <td>Item still available for sale</td>\n",
              "      <td>fitted online stylish</td>\n",
              "      <td>1.0</td>\n",
              "      <td>Style and Functionality</td>\n",
              "      <td>2505</td>\n",
              "      <td>0.0</td>\n",
              "      <td>0.386667</td>\n",
              "      <td>4.068966</td>\n",
              "      <td>1.573333</td>\n",
              "    </tr>\n",
              "    <tr>\n",
              "      <th>3690</th>\n",
              "      <td>39329299</td>\n",
              "      <td>PAX / FORSAND/VIKEDAL</td>\n",
              "      <td>Wardrobes</td>\n",
              "      <td>1260.0</td>\n",
              "      <td>True</td>\n",
              "      <td>https://www.ikea.com/sa/en/p/pax-forsand-viked...</td>\n",
              "      <td>Yes</td>\n",
              "      <td>Wardrobe combination,          75x60x2...</td>\n",
              "      <td>Ehl√©n Johansson/IKEA of Sweden</td>\n",
              "      <td>60.0</td>\n",
              "      <td>...</td>\n",
              "      <td>Shop for fitted wardrobes online at IKEA Saudi...</td>\n",
              "      <td>Item still available for sale</td>\n",
              "      <td>fitted online stylish</td>\n",
              "      <td>1.0</td>\n",
              "      <td>Style and Functionality</td>\n",
              "      <td>1260</td>\n",
              "      <td>0.0</td>\n",
              "      <td>0.800000</td>\n",
              "      <td>3.350000</td>\n",
              "      <td>2.680000</td>\n",
              "    </tr>\n",
              "    <tr>\n",
              "      <th>3691</th>\n",
              "      <td>79302995</td>\n",
              "      <td>ELVARLI</td>\n",
              "      <td>Wardrobes</td>\n",
              "      <td>1611.0</td>\n",
              "      <td>True</td>\n",
              "      <td>https://www.ikea.com/sa/en/p/elvarli-2-section...</td>\n",
              "      <td>No</td>\n",
              "      <td>2 sections,          175x51x222-350 cm</td>\n",
              "      <td>Ehl√©n Johansson</td>\n",
              "      <td>50.0</td>\n",
              "      <td>...</td>\n",
              "      <td>ELVARLI wardrobe combination, white, 175x51x22...</td>\n",
              "      <td>Item still available for sale</td>\n",
              "      <td>white 175x51x222-350 Make lovely decorative ad...</td>\n",
              "      <td>2.0</td>\n",
              "      <td>Durability and Appearance</td>\n",
              "      <td>1815</td>\n",
              "      <td>204.0</td>\n",
              "      <td>0.285714</td>\n",
              "      <td>2.184000</td>\n",
              "      <td>0.624000</td>\n",
              "    </tr>\n",
              "    <tr>\n",
              "      <th>3692</th>\n",
              "      <td>99157902</td>\n",
              "      <td>ELVARLI</td>\n",
              "      <td>Wardrobes</td>\n",
              "      <td>750.0</td>\n",
              "      <td>True</td>\n",
              "      <td>https://www.ikea.com/sa/en/p/elvarli-1-section...</td>\n",
              "      <td>No</td>\n",
              "      <td>1 section,          92x51x222-350 cm</td>\n",
              "      <td>Ehl√©n Johansson</td>\n",
              "      <td>50.0</td>\n",
              "      <td>...</td>\n",
              "      <td>ELVARLI wardrobe combination, white, 92x51x222...</td>\n",
              "      <td>Item still available for sale</td>\n",
              "      <td>white 92x51x222-350 Make lovely decorative adj...</td>\n",
              "      <td>2.0</td>\n",
              "      <td>Durability and Appearance</td>\n",
              "      <td>820</td>\n",
              "      <td>70.0</td>\n",
              "      <td>0.549451</td>\n",
              "      <td>3.032000</td>\n",
              "      <td>1.665934</td>\n",
              "    </tr>\n",
              "    <tr>\n",
              "      <th>3693</th>\n",
              "      <td>9158152</td>\n",
              "      <td>ELVARLI</td>\n",
              "      <td>Wardrobes</td>\n",
              "      <td>1572.0</td>\n",
              "      <td>True</td>\n",
              "      <td>https://www.ikea.com/sa/en/p/elvarli-2-section...</td>\n",
              "      <td>No</td>\n",
              "      <td>2 sections,          135x51x222-350 cm</td>\n",
              "      <td>Ehl√©n Johansson</td>\n",
              "      <td>50.0</td>\n",
              "      <td>...</td>\n",
              "      <td>ELVARLI wardrobe combination, white, 135x51x22...</td>\n",
              "      <td>Item still available for sale</td>\n",
              "      <td>white 135x51x222-350 Make lovely decorative ad...</td>\n",
              "      <td>2.0</td>\n",
              "      <td>Durability and Appearance</td>\n",
              "      <td>1755</td>\n",
              "      <td>183.0</td>\n",
              "      <td>0.370370</td>\n",
              "      <td>1.816000</td>\n",
              "      <td>0.672593</td>\n",
              "    </tr>\n",
              "  </tbody>\n",
              "</table>\n",
              "<p>3694 rows × 22 columns</p>\n",
              "</div>\n",
              "    <div class=\"colab-df-buttons\">\n",
              "\n",
              "  <div class=\"colab-df-container\">\n",
              "    <button class=\"colab-df-convert\" onclick=\"convertToInteractive('df-8e70c894-9569-47b8-b976-3b4208b496bd')\"\n",
              "            title=\"Convert this dataframe to an interactive table.\"\n",
              "            style=\"display:none;\">\n",
              "\n",
              "  <svg xmlns=\"http://www.w3.org/2000/svg\" height=\"24px\" viewBox=\"0 -960 960 960\">\n",
              "    <path d=\"M120-120v-720h720v720H120Zm60-500h600v-160H180v160Zm220 220h160v-160H400v160Zm0 220h160v-160H400v160ZM180-400h160v-160H180v160Zm440 0h160v-160H620v160ZM180-180h160v-160H180v160Zm440 0h160v-160H620v160Z\"/>\n",
              "  </svg>\n",
              "    </button>\n",
              "\n",
              "  <style>\n",
              "    .colab-df-container {\n",
              "      display:flex;\n",
              "      gap: 12px;\n",
              "    }\n",
              "\n",
              "    .colab-df-convert {\n",
              "      background-color: #E8F0FE;\n",
              "      border: none;\n",
              "      border-radius: 50%;\n",
              "      cursor: pointer;\n",
              "      display: none;\n",
              "      fill: #1967D2;\n",
              "      height: 32px;\n",
              "      padding: 0 0 0 0;\n",
              "      width: 32px;\n",
              "    }\n",
              "\n",
              "    .colab-df-convert:hover {\n",
              "      background-color: #E2EBFA;\n",
              "      box-shadow: 0px 1px 2px rgba(60, 64, 67, 0.3), 0px 1px 3px 1px rgba(60, 64, 67, 0.15);\n",
              "      fill: #174EA6;\n",
              "    }\n",
              "\n",
              "    .colab-df-buttons div {\n",
              "      margin-bottom: 4px;\n",
              "    }\n",
              "\n",
              "    [theme=dark] .colab-df-convert {\n",
              "      background-color: #3B4455;\n",
              "      fill: #D2E3FC;\n",
              "    }\n",
              "\n",
              "    [theme=dark] .colab-df-convert:hover {\n",
              "      background-color: #434B5C;\n",
              "      box-shadow: 0px 1px 3px 1px rgba(0, 0, 0, 0.15);\n",
              "      filter: drop-shadow(0px 1px 2px rgba(0, 0, 0, 0.3));\n",
              "      fill: #FFFFFF;\n",
              "    }\n",
              "  </style>\n",
              "\n",
              "    <script>\n",
              "      const buttonEl =\n",
              "        document.querySelector('#df-8e70c894-9569-47b8-b976-3b4208b496bd button.colab-df-convert');\n",
              "      buttonEl.style.display =\n",
              "        google.colab.kernel.accessAllowed ? 'block' : 'none';\n",
              "\n",
              "      async function convertToInteractive(key) {\n",
              "        const element = document.querySelector('#df-8e70c894-9569-47b8-b976-3b4208b496bd');\n",
              "        const dataTable =\n",
              "          await google.colab.kernel.invokeFunction('convertToInteractive',\n",
              "                                                    [key], {});\n",
              "        if (!dataTable) return;\n",
              "\n",
              "        const docLinkHtml = 'Like what you see? Visit the ' +\n",
              "          '<a target=\"_blank\" href=https://colab.research.google.com/notebooks/data_table.ipynb>data table notebook</a>'\n",
              "          + ' to learn more about interactive tables.';\n",
              "        element.innerHTML = '';\n",
              "        dataTable['output_type'] = 'display_data';\n",
              "        await google.colab.output.renderOutput(dataTable, element);\n",
              "        const docLink = document.createElement('div');\n",
              "        docLink.innerHTML = docLinkHtml;\n",
              "        element.appendChild(docLink);\n",
              "      }\n",
              "    </script>\n",
              "  </div>\n",
              "\n",
              "\n",
              "    <div id=\"df-3a2d88a2-41e4-490f-b37d-99d88a9f2963\">\n",
              "      <button class=\"colab-df-quickchart\" onclick=\"quickchart('df-3a2d88a2-41e4-490f-b37d-99d88a9f2963')\"\n",
              "                title=\"Suggest charts\"\n",
              "                style=\"display:none;\">\n",
              "\n",
              "<svg xmlns=\"http://www.w3.org/2000/svg\" height=\"24px\"viewBox=\"0 0 24 24\"\n",
              "     width=\"24px\">\n",
              "    <g>\n",
              "        <path d=\"M19 3H5c-1.1 0-2 .9-2 2v14c0 1.1.9 2 2 2h14c1.1 0 2-.9 2-2V5c0-1.1-.9-2-2-2zM9 17H7v-7h2v7zm4 0h-2V7h2v10zm4 0h-2v-4h2v4z\"/>\n",
              "    </g>\n",
              "</svg>\n",
              "      </button>\n",
              "\n",
              "<style>\n",
              "  .colab-df-quickchart {\n",
              "      --bg-color: #E8F0FE;\n",
              "      --fill-color: #1967D2;\n",
              "      --hover-bg-color: #E2EBFA;\n",
              "      --hover-fill-color: #174EA6;\n",
              "      --disabled-fill-color: #AAA;\n",
              "      --disabled-bg-color: #DDD;\n",
              "  }\n",
              "\n",
              "  [theme=dark] .colab-df-quickchart {\n",
              "      --bg-color: #3B4455;\n",
              "      --fill-color: #D2E3FC;\n",
              "      --hover-bg-color: #434B5C;\n",
              "      --hover-fill-color: #FFFFFF;\n",
              "      --disabled-bg-color: #3B4455;\n",
              "      --disabled-fill-color: #666;\n",
              "  }\n",
              "\n",
              "  .colab-df-quickchart {\n",
              "    background-color: var(--bg-color);\n",
              "    border: none;\n",
              "    border-radius: 50%;\n",
              "    cursor: pointer;\n",
              "    display: none;\n",
              "    fill: var(--fill-color);\n",
              "    height: 32px;\n",
              "    padding: 0;\n",
              "    width: 32px;\n",
              "  }\n",
              "\n",
              "  .colab-df-quickchart:hover {\n",
              "    background-color: var(--hover-bg-color);\n",
              "    box-shadow: 0 1px 2px rgba(60, 64, 67, 0.3), 0 1px 3px 1px rgba(60, 64, 67, 0.15);\n",
              "    fill: var(--button-hover-fill-color);\n",
              "  }\n",
              "\n",
              "  .colab-df-quickchart-complete:disabled,\n",
              "  .colab-df-quickchart-complete:disabled:hover {\n",
              "    background-color: var(--disabled-bg-color);\n",
              "    fill: var(--disabled-fill-color);\n",
              "    box-shadow: none;\n",
              "  }\n",
              "\n",
              "  .colab-df-spinner {\n",
              "    border: 2px solid var(--fill-color);\n",
              "    border-color: transparent;\n",
              "    border-bottom-color: var(--fill-color);\n",
              "    animation:\n",
              "      spin 1s steps(1) infinite;\n",
              "  }\n",
              "\n",
              "  @keyframes spin {\n",
              "    0% {\n",
              "      border-color: transparent;\n",
              "      border-bottom-color: var(--fill-color);\n",
              "      border-left-color: var(--fill-color);\n",
              "    }\n",
              "    20% {\n",
              "      border-color: transparent;\n",
              "      border-left-color: var(--fill-color);\n",
              "      border-top-color: var(--fill-color);\n",
              "    }\n",
              "    30% {\n",
              "      border-color: transparent;\n",
              "      border-left-color: var(--fill-color);\n",
              "      border-top-color: var(--fill-color);\n",
              "      border-right-color: var(--fill-color);\n",
              "    }\n",
              "    40% {\n",
              "      border-color: transparent;\n",
              "      border-right-color: var(--fill-color);\n",
              "      border-top-color: var(--fill-color);\n",
              "    }\n",
              "    60% {\n",
              "      border-color: transparent;\n",
              "      border-right-color: var(--fill-color);\n",
              "    }\n",
              "    80% {\n",
              "      border-color: transparent;\n",
              "      border-right-color: var(--fill-color);\n",
              "      border-bottom-color: var(--fill-color);\n",
              "    }\n",
              "    90% {\n",
              "      border-color: transparent;\n",
              "      border-bottom-color: var(--fill-color);\n",
              "    }\n",
              "  }\n",
              "</style>\n",
              "\n",
              "      <script>\n",
              "        async function quickchart(key) {\n",
              "          const quickchartButtonEl =\n",
              "            document.querySelector('#' + key + ' button');\n",
              "          quickchartButtonEl.disabled = true;  // To prevent multiple clicks.\n",
              "          quickchartButtonEl.classList.add('colab-df-spinner');\n",
              "          try {\n",
              "            const charts = await google.colab.kernel.invokeFunction(\n",
              "                'suggestCharts', [key], {});\n",
              "          } catch (error) {\n",
              "            console.error('Error during call to suggestCharts:', error);\n",
              "          }\n",
              "          quickchartButtonEl.classList.remove('colab-df-spinner');\n",
              "          quickchartButtonEl.classList.add('colab-df-quickchart-complete');\n",
              "        }\n",
              "        (() => {\n",
              "          let quickchartButtonEl =\n",
              "            document.querySelector('#df-3a2d88a2-41e4-490f-b37d-99d88a9f2963 button');\n",
              "          quickchartButtonEl.style.display =\n",
              "            google.colab.kernel.accessAllowed ? 'block' : 'none';\n",
              "        })();\n",
              "      </script>\n",
              "    </div>\n",
              "\n",
              "  <div id=\"id_3d9cdf7c-e26a-46ff-b15f-49629d308c2b\">\n",
              "    <style>\n",
              "      .colab-df-generate {\n",
              "        background-color: #E8F0FE;\n",
              "        border: none;\n",
              "        border-radius: 50%;\n",
              "        cursor: pointer;\n",
              "        display: none;\n",
              "        fill: #1967D2;\n",
              "        height: 32px;\n",
              "        padding: 0 0 0 0;\n",
              "        width: 32px;\n",
              "      }\n",
              "\n",
              "      .colab-df-generate:hover {\n",
              "        background-color: #E2EBFA;\n",
              "        box-shadow: 0px 1px 2px rgba(60, 64, 67, 0.3), 0px 1px 3px 1px rgba(60, 64, 67, 0.15);\n",
              "        fill: #174EA6;\n",
              "      }\n",
              "\n",
              "      [theme=dark] .colab-df-generate {\n",
              "        background-color: #3B4455;\n",
              "        fill: #D2E3FC;\n",
              "      }\n",
              "\n",
              "      [theme=dark] .colab-df-generate:hover {\n",
              "        background-color: #434B5C;\n",
              "        box-shadow: 0px 1px 3px 1px rgba(0, 0, 0, 0.15);\n",
              "        filter: drop-shadow(0px 1px 2px rgba(0, 0, 0, 0.3));\n",
              "        fill: #FFFFFF;\n",
              "      }\n",
              "    </style>\n",
              "    <button class=\"colab-df-generate\" onclick=\"generateWithVariable('data')\"\n",
              "            title=\"Generate code using this dataframe.\"\n",
              "            style=\"display:none;\">\n",
              "\n",
              "  <svg xmlns=\"http://www.w3.org/2000/svg\" height=\"24px\"viewBox=\"0 0 24 24\"\n",
              "       width=\"24px\">\n",
              "    <path d=\"M7,19H8.4L18.45,9,17,7.55,7,17.6ZM5,21V16.75L18.45,3.32a2,2,0,0,1,2.83,0l1.4,1.43a1.91,1.91,0,0,1,.58,1.4,1.91,1.91,0,0,1-.58,1.4L9.25,21ZM18.45,9,17,7.55Zm-12,3A5.31,5.31,0,0,0,4.9,8.1,5.31,5.31,0,0,0,1,6.5,5.31,5.31,0,0,0,4.9,4.9,5.31,5.31,0,0,0,6.5,1,5.31,5.31,0,0,0,8.1,4.9,5.31,5.31,0,0,0,12,6.5,5.46,5.46,0,0,0,6.5,12Z\"/>\n",
              "  </svg>\n",
              "    </button>\n",
              "    <script>\n",
              "      (() => {\n",
              "      const buttonEl =\n",
              "        document.querySelector('#id_3d9cdf7c-e26a-46ff-b15f-49629d308c2b button.colab-df-generate');\n",
              "      buttonEl.style.display =\n",
              "        google.colab.kernel.accessAllowed ? 'block' : 'none';\n",
              "\n",
              "      buttonEl.onclick = () => {\n",
              "        google.colab.notebook.generateWithVariable('data');\n",
              "      }\n",
              "      })();\n",
              "    </script>\n",
              "  </div>\n",
              "\n",
              "    </div>\n",
              "  </div>\n"
            ],
            "application/vnd.google.colaboratory.intrinsic+json": {
              "type": "dataframe",
              "variable_name": "data"
            }
          },
          "metadata": {},
          "execution_count": 500
        }
      ]
    },
    {
      "cell_type": "code",
      "source": [
        "color_encoded =pd.get_dummies(data['other_colors'], prefix='color',drop_first=True)\n",
        "data = pd.concat([data, color_encoded], axis=1)"
      ],
      "metadata": {
        "id": "-ESBJAvigM7C"
      },
      "id": "-ESBJAvigM7C",
      "execution_count": 501,
      "outputs": []
    },
    {
      "cell_type": "markdown",
      "source": [
        "Keyword Extraction: Process the keywords column to extract useful terms for potential text analysis."
      ],
      "metadata": {
        "id": "b4j5-3UZi3u9"
      },
      "id": "b4j5-3UZi3u9"
    },
    {
      "cell_type": "code",
      "source": [
        "\n",
        "data['keywords'] = data['keywords'].fillna('')\n",
        "\n",
        "data['keywords_clean'] = data['keywords'].apply(\n",
        "    lambda x: ' '.join([word for word in str(x).split() if word not in ENGLISH_STOP_WORDS and word.strip() != ''])\n",
        ")\n",
        "\n",
        "data['keyword_count'] = data['keywords_clean'].apply(lambda x: len(x.split()))\n",
        "\n",
        "\n",
        "print(data[['keywords_clean', 'keyword_count']].head())\n"
      ],
      "metadata": {
        "colab": {
          "base_uri": "https://localhost:8080/"
        },
        "id": "fyHyLhiPxLtI",
        "outputId": "be7116a8-be49-42d5-f3cb-e85e0c00d0d3"
      },
      "id": "fyHyLhiPxLtI",
      "execution_count": 502,
      "outputs": [
        {
          "output_type": "stream",
          "name": "stdout",
          "text": [
            "  keywords_clean  keyword_count\n",
            "0                             0\n",
            "1                             0\n",
            "2                             0\n",
            "3                             0\n",
            "4                             0\n"
          ]
        }
      ]
    },
    {
      "cell_type": "code",
      "source": [
        "from nltk.stem import PorterStemmer\n",
        "\n",
        "stemmer = PorterStemmer()\n",
        "\n",
        "# Kök formaya salma\n",
        "data['keywords_clean'] = data['keywords_clean'].apply(\n",
        "    lambda x: ' '.join([stemmer.stem(word) for word in x.split()])\n",
        ")"
      ],
      "metadata": {
        "id": "1UHF19RGuARi"
      },
      "id": "1UHF19RGuARi",
      "execution_count": 503,
      "outputs": []
    },
    {
      "cell_type": "code",
      "source": [
        "from sklearn.feature_extraction.text import TfidfVectorizer\n",
        "\n",
        "vectorizer = TfidfVectorizer(max_features=10)  # the best 10 important words\n",
        "tfidf_matrix = vectorizer.fit_transform(data['keywords_clean'])\n",
        "\n",
        "# adding to dataframe\n",
        "tfidf_df = pd.DataFrame(tfidf_matrix.toarray(), columns=vectorizer.get_feature_names_out())\n",
        "\n",
        "data = pd.concat([data.reset_index(drop=True), tfidf_df], axis=1)"
      ],
      "metadata": {
        "id": "zUmYNZ8nuiy9"
      },
      "id": "zUmYNZ8nuiy9",
      "execution_count": 504,
      "outputs": []
    },
    {
      "cell_type": "code",
      "source": [
        "data['keyword_count'] = data['keywords_clean'].apply(lambda x: len(x.split()))"
      ],
      "metadata": {
        "id": "HyrsPJxkuiv7"
      },
      "id": "HyrsPJxkuiv7",
      "execution_count": 505,
      "outputs": []
    },
    {
      "cell_type": "code",
      "source": [
        "print(data[['keywords_clean', 'keyword_count']].head())"
      ],
      "metadata": {
        "colab": {
          "base_uri": "https://localhost:8080/"
        },
        "id": "yIIExpRpuijM",
        "outputId": "ad202904-4c42-4cfc-8963-7e64366b44c0"
      },
      "id": "yIIExpRpuijM",
      "execution_count": 506,
      "outputs": [
        {
          "output_type": "stream",
          "name": "stdout",
          "text": [
            "  keywords_clean  keyword_count\n",
            "0                             0\n",
            "1                             0\n",
            "2                             0\n",
            "3                             0\n",
            "4                             0\n"
          ]
        }
      ]
    },
    {
      "cell_type": "code",
      "source": [
        "data['keywords_clean'].value_counts()"
      ],
      "metadata": {
        "colab": {
          "base_uri": "https://localhost:8080/",
          "height": 484
        },
        "id": "7kCurUhiyTZv",
        "outputId": "d10985a4-b451-45db-d5ed-9265d9cdd14b"
      },
      "id": "7kCurUhiyTZv",
      "execution_count": 507,
      "outputs": [
        {
          "output_type": "execute_result",
          "data": {
            "text/plain": [
              "keywords_clean\n",
              "                                                                          2300\n",
              "white neat let use find suitabl use humid                                   23\n",
              "fit onlin stylish                                                           18\n",
              "white build wide low differ creat perfect clean modern easi place           16\n",
              "white ice small make big clean discreet blend right enhanc modern           15\n",
              "                                                                          ... \n",
              "white extra organis person use extra customis                                1\n",
              "cm classic panel goe use full-length toe                                     1\n",
              "white need smart inner fold ‚äì hang long                                    1\n",
              "white inspir work develop season need bring roll bring bring roll pack       1\n",
              "right need                                                                   1\n",
              "Name: count, Length: 721, dtype: int64"
            ],
            "text/html": [
              "<div>\n",
              "<style scoped>\n",
              "    .dataframe tbody tr th:only-of-type {\n",
              "        vertical-align: middle;\n",
              "    }\n",
              "\n",
              "    .dataframe tbody tr th {\n",
              "        vertical-align: top;\n",
              "    }\n",
              "\n",
              "    .dataframe thead th {\n",
              "        text-align: right;\n",
              "    }\n",
              "</style>\n",
              "<table border=\"1\" class=\"dataframe\">\n",
              "  <thead>\n",
              "    <tr style=\"text-align: right;\">\n",
              "      <th></th>\n",
              "      <th>count</th>\n",
              "    </tr>\n",
              "    <tr>\n",
              "      <th>keywords_clean</th>\n",
              "      <th></th>\n",
              "    </tr>\n",
              "  </thead>\n",
              "  <tbody>\n",
              "    <tr>\n",
              "      <th></th>\n",
              "      <td>2300</td>\n",
              "    </tr>\n",
              "    <tr>\n",
              "      <th>white neat let use find suitabl use humid</th>\n",
              "      <td>23</td>\n",
              "    </tr>\n",
              "    <tr>\n",
              "      <th>fit onlin stylish</th>\n",
              "      <td>18</td>\n",
              "    </tr>\n",
              "    <tr>\n",
              "      <th>white build wide low differ creat perfect clean modern easi place</th>\n",
              "      <td>16</td>\n",
              "    </tr>\n",
              "    <tr>\n",
              "      <th>white ice small make big clean discreet blend right enhanc modern</th>\n",
              "      <td>15</td>\n",
              "    </tr>\n",
              "    <tr>\n",
              "      <th>...</th>\n",
              "      <td>...</td>\n",
              "    </tr>\n",
              "    <tr>\n",
              "      <th>white extra organis person use extra customis</th>\n",
              "      <td>1</td>\n",
              "    </tr>\n",
              "    <tr>\n",
              "      <th>cm classic panel goe use full-length toe</th>\n",
              "      <td>1</td>\n",
              "    </tr>\n",
              "    <tr>\n",
              "      <th>white need smart inner fold ‚äì hang long</th>\n",
              "      <td>1</td>\n",
              "    </tr>\n",
              "    <tr>\n",
              "      <th>white inspir work develop season need bring roll bring bring roll pack</th>\n",
              "      <td>1</td>\n",
              "    </tr>\n",
              "    <tr>\n",
              "      <th>right need</th>\n",
              "      <td>1</td>\n",
              "    </tr>\n",
              "  </tbody>\n",
              "</table>\n",
              "<p>721 rows × 1 columns</p>\n",
              "</div><br><label><b>dtype:</b> int64</label>"
            ]
          },
          "metadata": {},
          "execution_count": 507
        }
      ]
    },
    {
      "cell_type": "code",
      "source": [
        "data['keyword_count'].value_counts()"
      ],
      "metadata": {
        "colab": {
          "base_uri": "https://localhost:8080/",
          "height": 672
        },
        "id": "t6MfYv1Vuigb",
        "outputId": "00b2d064-02f3-4593-96de-61926dec7c35"
      },
      "id": "t6MfYv1Vuigb",
      "execution_count": 508,
      "outputs": [
        {
          "output_type": "execute_result",
          "data": {
            "text/plain": [
              "keyword_count\n",
              "0     2300\n",
              "8      194\n",
              "10     182\n",
              "7      176\n",
              "11     167\n",
              "9      156\n",
              "6      115\n",
              "12      94\n",
              "4       80\n",
              "3       61\n",
              "5       55\n",
              "13      43\n",
              "14      24\n",
              "15      20\n",
              "2        9\n",
              "1        9\n",
              "16       5\n",
              "17       4\n",
              "Name: count, dtype: int64"
            ],
            "text/html": [
              "<div>\n",
              "<style scoped>\n",
              "    .dataframe tbody tr th:only-of-type {\n",
              "        vertical-align: middle;\n",
              "    }\n",
              "\n",
              "    .dataframe tbody tr th {\n",
              "        vertical-align: top;\n",
              "    }\n",
              "\n",
              "    .dataframe thead th {\n",
              "        text-align: right;\n",
              "    }\n",
              "</style>\n",
              "<table border=\"1\" class=\"dataframe\">\n",
              "  <thead>\n",
              "    <tr style=\"text-align: right;\">\n",
              "      <th></th>\n",
              "      <th>count</th>\n",
              "    </tr>\n",
              "    <tr>\n",
              "      <th>keyword_count</th>\n",
              "      <th></th>\n",
              "    </tr>\n",
              "  </thead>\n",
              "  <tbody>\n",
              "    <tr>\n",
              "      <th>0</th>\n",
              "      <td>2300</td>\n",
              "    </tr>\n",
              "    <tr>\n",
              "      <th>8</th>\n",
              "      <td>194</td>\n",
              "    </tr>\n",
              "    <tr>\n",
              "      <th>10</th>\n",
              "      <td>182</td>\n",
              "    </tr>\n",
              "    <tr>\n",
              "      <th>7</th>\n",
              "      <td>176</td>\n",
              "    </tr>\n",
              "    <tr>\n",
              "      <th>11</th>\n",
              "      <td>167</td>\n",
              "    </tr>\n",
              "    <tr>\n",
              "      <th>9</th>\n",
              "      <td>156</td>\n",
              "    </tr>\n",
              "    <tr>\n",
              "      <th>6</th>\n",
              "      <td>115</td>\n",
              "    </tr>\n",
              "    <tr>\n",
              "      <th>12</th>\n",
              "      <td>94</td>\n",
              "    </tr>\n",
              "    <tr>\n",
              "      <th>4</th>\n",
              "      <td>80</td>\n",
              "    </tr>\n",
              "    <tr>\n",
              "      <th>3</th>\n",
              "      <td>61</td>\n",
              "    </tr>\n",
              "    <tr>\n",
              "      <th>5</th>\n",
              "      <td>55</td>\n",
              "    </tr>\n",
              "    <tr>\n",
              "      <th>13</th>\n",
              "      <td>43</td>\n",
              "    </tr>\n",
              "    <tr>\n",
              "      <th>14</th>\n",
              "      <td>24</td>\n",
              "    </tr>\n",
              "    <tr>\n",
              "      <th>15</th>\n",
              "      <td>20</td>\n",
              "    </tr>\n",
              "    <tr>\n",
              "      <th>2</th>\n",
              "      <td>9</td>\n",
              "    </tr>\n",
              "    <tr>\n",
              "      <th>1</th>\n",
              "      <td>9</td>\n",
              "    </tr>\n",
              "    <tr>\n",
              "      <th>16</th>\n",
              "      <td>5</td>\n",
              "    </tr>\n",
              "    <tr>\n",
              "      <th>17</th>\n",
              "      <td>4</td>\n",
              "    </tr>\n",
              "  </tbody>\n",
              "</table>\n",
              "</div><br><label><b>dtype:</b> int64</label>"
            ]
          },
          "metadata": {},
          "execution_count": 508
        }
      ]
    },
    {
      "cell_type": "code",
      "source": [
        "from collections import Counter\n",
        "\n",
        "all_keywords = ' '.join(data['keywords_clean']).split()\n",
        "\n",
        "keyword_counts = Counter(all_keywords)\n",
        "\n",
        "# most common words\n",
        "print(keyword_counts.most_common(10))"
      ],
      "metadata": {
        "colab": {
          "base_uri": "https://localhost:8080/"
        },
        "id": "LXpYMOjguid2",
        "outputId": "ba8e7e53-1e71-4158-c662-ed4d4b5800d0"
      },
      "id": "LXpYMOjguid2",
      "execution_count": 509,
      "outputs": [
        {
          "output_type": "stream",
          "name": "stdout",
          "text": [
            "[('white', 583), ('make', 311), ('easi', 274), ('clean', 184), ('use', 171), ('‚äì', 144), ('need', 142), ('small', 138), ('modern', 137), ('creat', 135)]\n"
          ]
        }
      ]
    },
    {
      "cell_type": "code",
      "source": [
        "data['keywords_clean'] = data['keywords_clean'].str.replace(r'[^a-zA-Z0-9\\s]', '', regex=True)"
      ],
      "metadata": {
        "id": "XrTFEyPCuiau"
      },
      "id": "XrTFEyPCuiau",
      "execution_count": 510,
      "outputs": []
    },
    {
      "cell_type": "code",
      "source": [
        "stop_words = ['white', 'make', 'clean', 'easi', 'small', 'modern', 'need', 'use', 'build']\n",
        "data['keywords_clean'] = data['keywords_clean'].apply(\n",
        "    lambda x: ' '.join([word for word in x.split() if word not in stop_words])\n",
        ")\n"
      ],
      "metadata": {
        "id": "u9tfXvKpuiXn"
      },
      "id": "u9tfXvKpuiXn",
      "execution_count": 511,
      "outputs": []
    },
    {
      "cell_type": "markdown",
      "source": [
        "Machine Learning Model Preparation:\n",
        "\n",
        "Feature Selection: Select relevant columns that could be predictive of the current_status (e.g., price, dimensions, category)."
      ],
      "metadata": {
        "id": "mv4o27Z10niK"
      },
      "id": "mv4o27Z10niK"
    },
    {
      "cell_type": "code",
      "source": [
        "numerical_features = ['price', 'depth', 'height', 'width', 'depth_width_ratio', 'height_depth_ratio', 'height_width_ratio']\n",
        "categorical_features = ['category', 'designer', 'other_colors', 'current_status']"
      ],
      "metadata": {
        "id": "BJBBVpXy0KDY"
      },
      "id": "BJBBVpXy0KDY",
      "execution_count": 512,
      "outputs": []
    },
    {
      "cell_type": "code",
      "source": [
        "from sklearn.preprocessing import LabelEncoder\n",
        "label_encoder = LabelEncoder()\n",
        "\n",
        "data['category'] = label_encoder.fit_transform(data['category'])\n",
        "data['designer'] = label_encoder.fit_transform(data['designer'])\n",
        "data['other_colors'] = label_encoder.fit_transform(data['other_colors'])\n"
      ],
      "metadata": {
        "id": "6aj86uKt0Kcw"
      },
      "id": "6aj86uKt0Kcw",
      "execution_count": 513,
      "outputs": []
    },
    {
      "cell_type": "code",
      "source": [
        "correlation_matrix = data[numerical_features].corr()\n",
        "\n",
        "plt.figure(figsize=(10, 6))\n",
        "sns.heatmap(correlation_matrix, annot=True, cmap='coolwarm', fmt=\".2f\", linewidths=0.5)\n",
        "plt.title(\"Korelyasiya Matrisi Heatmap\")\n",
        "plt.tight_layout()\n",
        "plt.show()"
      ],
      "metadata": {
        "colab": {
          "base_uri": "https://localhost:8080/",
          "height": 607
        },
        "id": "w9MQRp5h0KgI",
        "outputId": "babcb2a5-1133-44a8-80e8-7b90b683cf26"
      },
      "id": "w9MQRp5h0KgI",
      "execution_count": 514,
      "outputs": [
        {
          "output_type": "display_data",
          "data": {
            "text/plain": [
              "<Figure size 1000x600 with 2 Axes>"
            ],
            "image/png": "[encoded data removed]"
          },
          "metadata": {}
        }
      ]
    },
    {
      "cell_type": "markdown",
      "source": [
        "**Text Features: Use NLP techniques to vectorize short_description and product_description for input into models.**"
      ],
      "metadata": {
        "id": "X0Bf3PVKg3Of"
      },
      "id": "X0Bf3PVKg3Of"
    },
    {
      "cell_type": "code",
      "source": [
        "from sklearn.feature_extraction.text import CountVectorizer\n",
        "\n",
        "vectorizer = CountVectorizer(stop_words='english')\n",
        "\n",
        "data['combined_description'] = data['short_description'] + \" \" + data['product_description']\n",
        "\n",
        "X_bow = vectorizer.fit_transform(data['combined_description'])\n",
        "\n",
        "print(X_bow.toarray())"
      ],
      "metadata": {
        "colab": {
          "base_uri": "https://localhost:8080/"
        },
        "id": "6wfMZv2HRVP2",
        "outputId": "bedd5e33-d4c2-4d1f-bfe8-433d9ce15ac3"
      },
      "id": "6wfMZv2HRVP2",
      "execution_count": 515,
      "outputs": [
        {
          "output_type": "stream",
          "name": "stdout",
          "text": [
            "[[0 0 0 ... 0 0 0]\n",
            " [0 0 0 ... 0 0 0]\n",
            " [0 0 0 ... 0 0 0]\n",
            " ...\n",
            " [0 0 0 ... 0 0 0]\n",
            " [0 0 0 ... 0 0 0]\n",
            " [0 0 0 ... 0 0 0]]\n"
          ]
        }
      ]
    },
    {
      "cell_type": "code",
      "source": [
        "print(X_bow.nnz)  # Non-zero elements count\n",
        "print(X_bow.shape)  # Matrix dimensions (rows, columns)"
      ],
      "metadata": {
        "colab": {
          "base_uri": "https://localhost:8080/"
        },
        "id": "YSRcYBCcjXcx",
        "outputId": "b0832016-9e9f-41cf-c024-9166d18b8284"
      },
      "id": "YSRcYBCcjXcx",
      "execution_count": 516,
      "outputs": [
        {
          "output_type": "stream",
          "name": "stdout",
          "text": [
            "45919\n",
            "(3694, 3246)\n"
          ]
        }
      ]
    },
    {
      "cell_type": "code",
      "source": [
        "dense_matrix = X_bow.toarray()\n",
        "print(dense_matrix)"
      ],
      "metadata": {
        "colab": {
          "base_uri": "https://localhost:8080/"
        },
        "id": "DijyqjowjfYI",
        "outputId": "4ce2ff4f-62d9-49ba-b3cf-5117deea213f"
      },
      "id": "DijyqjowjfYI",
      "execution_count": 517,
      "outputs": [
        {
          "output_type": "stream",
          "name": "stdout",
          "text": [
            "[[0 0 0 ... 0 0 0]\n",
            " [0 0 0 ... 0 0 0]\n",
            " [0 0 0 ... 0 0 0]\n",
            " ...\n",
            " [0 0 0 ... 0 0 0]\n",
            " [0 0 0 ... 0 0 0]\n",
            " [0 0 0 ... 0 0 0]]\n"
          ]
        }
      ]
    },
    {
      "cell_type": "code",
      "source": [
        "from sklearn.decomposition import PCA\n",
        "\n",
        "pca = PCA(n_components=2)\n",
        "reduced = pca.fit_transform(X_bow.toarray())\n",
        "plt.scatter(reduced[:, 0], reduced[:, 1])\n",
        "plt.title('PCA of the Bag of Words Matrix')\n",
        "plt.show()\n"
      ],
      "metadata": {
        "colab": {
          "base_uri": "https://localhost:8080/",
          "height": 452
        },
        "id": "7CtczBXMjiBh",
        "outputId": "09897c36-a85f-492e-cb91-e4850b25037b"
      },
      "id": "7CtczBXMjiBh",
      "execution_count": 518,
      "outputs": [
        {
          "output_type": "display_data",
          "data": {
            "text/plain": [
              "<Figure size 640x480 with 1 Axes>"
            ],
            "image/png": "[encoded data removed]"
          },
          "metadata": {}
        }
      ]
    },
    {
      "cell_type": "code",
      "source": [
        "from sklearn.feature_extraction.text import CountVectorizer\n",
        "from wordcloud import WordCloud\n",
        "import re\n",
        "\n",
        "measurement_units = {'cm', 'm', 'kg', 'g', 'mm', 'inch', 'ft', 'lbs', 'cm²', 'm²', 'km'}\n",
        "\n",
        "vectorizer = CountVectorizer(stop_words='english')\n",
        "\n",
        "X = vectorizer.fit_transform(df['short_description'])\n",
        "\n",
        "term_frequencies = X.sum(axis=0).A1\n",
        "\n",
        "terms = vectorizer.get_feature_names_out()\n",
        "term_frequency_dict = dict(zip(terms, term_frequencies))\n",
        "\n",
        "term_frequency_dict = {term: freq for term, freq in term_frequency_dict.items() if not re.search(r'\\d', term) and term not in measurement_units}\n",
        "\n",
        "wordcloud = WordCloud(width=800, height=400).generate_from_frequencies(term_frequency_dict)\n",
        "\n",
        "plt.imshow(wordcloud, interpolation='bilinear')\n",
        "plt.axis('off')\n",
        "plt.show()"
      ],
      "metadata": {
        "colab": {
          "base_uri": "https://localhost:8080/",
          "height": 285
        },
        "id": "0nJmTMcqjnWx",
        "outputId": "afbf5a4e-7459-46db-9100-4243012fc9e7"
      },
      "id": "0nJmTMcqjnWx",
      "execution_count": 519,
      "outputs": [
        {
          "output_type": "display_data",
          "data": {
            "text/plain": [
              "<Figure size 640x480 with 1 Axes>"
            ],
            "image/png": "[encoded data removed]"
          },
          "metadata": {}
        }
      ]
    },
    {
      "cell_type": "code",
      "source": [
        "from sklearn.decomposition import LatentDirichletAllocation\n",
        "from sklearn.feature_extraction.text import CountVectorizer\n",
        "\n",
        "vectorizer = CountVectorizer(stop_words='english')\n",
        "\n",
        "X = vectorizer.fit_transform(df['short_description'])\n",
        "\n",
        "lda = LatentDirichletAllocation(n_components=5, random_state=42)\n",
        "\n",
        "\n",
        "lda.fit(X)\n",
        "\n",
        "terms = vectorizer.get_feature_names_out()\n",
        "for idx, topic in enumerate(lda.components_):\n",
        "    print(f\"Topic #{idx}:\")\n",
        "    print(\" \".join([terms[i] for i in topic.argsort()[:-11:-1]]))\n"
      ],
      "metadata": {
        "id": "s5v3HGlQljaF"
      },
      "id": "s5v3HGlQljaF",
      "execution_count": null,
      "outputs": []
    },
    {
      "cell_type": "code",
      "source": [
        "from sklearn.decomposition import PCA\n",
        "\n",
        "pca = PCA(n_components=2)\n",
        "reduced_data = pca.fit_transform(X.toarray())\n",
        "\n",
        "\n",
        "plt.scatter(reduced_data[:, 0], reduced_data[:, 1], c='blue', alpha=0.5)\n",
        "plt.title(\"PCA of Product Descriptions\")\n",
        "plt.xlabel(\"Principal Component 1\")\n",
        "plt.ylabel(\"Principal Component 2\")\n",
        "plt.show()"
      ],
      "metadata": {
        "id": "d2UwVa0BmdmX"
      },
      "id": "d2UwVa0BmdmX",
      "execution_count": null,
      "outputs": []
    },
    {
      "cell_type": "code",
      "source": [
        "from sklearn.model_selection import train_test_split\n",
        "from sklearn.naive_bayes import MultinomialNB\n",
        "from sklearn.metrics import accuracy_score\n",
        "\n",
        "X_train, X_test, y_train, y_test = train_test_split(data['short_description'], data['category'], test_size=0.3, random_state=42)\n",
        "\n",
        "vectorizer = CountVectorizer(stop_words='english')\n",
        "X_train_vec = vectorizer.fit_transform(X_train)\n",
        "X_test_vec = vectorizer.transform(X_test)\n",
        "\n",
        "\n",
        "classifier = MultinomialNB()\n",
        "classifier.fit(X_train_vec, y_train)\n",
        "\n",
        "y_pred = classifier.predict(X_test_vec)\n",
        "print(f\"Accuracy: {accuracy_score(y_test, y_pred)}\")\n"
      ],
      "metadata": {
        "id": "A1xZLg1nmlP_"
      },
      "id": "A1xZLg1nmlP_",
      "execution_count": null,
      "outputs": []
    },
    {
      "cell_type": "code",
      "source": [
        "data"
      ],
      "metadata": {
        "id": "t8hpyffUohw6"
      },
      "id": "t8hpyffUohw6",
      "execution_count": null,
      "outputs": []
    },
    {
      "cell_type": "markdown",
      "source": [
        "**Model Building and Evaluation:**"
      ],
      "metadata": {
        "id": "nJSnAfttldTq"
      },
      "id": "nJSnAfttldTq"
    },
    {
      "cell_type": "markdown",
      "source": [
        "XGBOOST model"
      ],
      "metadata": {
        "id": "JMMDHGcKLdcL"
      },
      "id": "JMMDHGcKLdcL"
    },
    {
      "cell_type": "code",
      "source": [
        "# Check the shape and some statistics of the training and testing sets\n",
        "print(f\"Training set (X_train) shape: {X_train.shape}\")\n",
        "print(f\"Test set (X_test) shape: {X_test.shape}\")\n",
        "print(f\"Training labels (y_train) shape: {y_train.shape}\")\n",
        "print(f\"Test labels (y_test) shape: {y_test.shape}\")\n",
        "\n",
        "# Preview the first few rows of training data\n",
        "print(\"\\nFirst few rows of X_train:\")\n",
        "print(X_train.head())\n",
        "\n",
        "# Check label distribution in the training and test labels\n",
        "print(\"\\nLabel distribution in training set (y_train):\")\n",
        "print(y_train.value_counts())\n",
        "\n",
        "print(\"\\nLabel distribution in test set (y_test):\")\n",
        "print(y_test.value_counts())\n"
      ],
      "metadata": {
        "id": "X02Kq7fqLcwj"
      },
      "id": "X02Kq7fqLcwj",
      "execution_count": null,
      "outputs": []
    },
    {
      "cell_type": "code",
      "source": [
        "from sklearn.model_selection import train_test_split\n",
        "from sklearn.preprocessing import StandardScaler, OneHotEncoder\n",
        "from sklearn.compose import ColumnTransformer\n",
        "from sklearn.pipeline import Pipeline\n",
        "from sklearn.impute import SimpleImputer\n",
        "from xgboost import XGBClassifier\n",
        "from sklearn.model_selection import GridSearchCV\n",
        "\n",
        "# Feature lists\n",
        "numerical_features = ['price', 'depth', 'height', 'width', 'depth_width_ratio', 'height_depth_ratio', 'height_width_ratio']\n",
        "categorical_features = ['category', 'designer', 'other_colors', 'current_status']\n",
        "\n",
        "# Split data into X and y\n",
        "X = data[numerical_features + categorical_features]\n",
        "y = data['sellable_online']\n",
        "\n",
        "# Train/test split\n",
        "X_train, X_test, y_train, y_test = train_test_split(X, y, test_size=0.2, random_state=42)\n",
        "\n",
        "# Numerical transformer\n",
        "numeric_transformer = Pipeline(steps=[\n",
        "    ('imputer', SimpleImputer(strategy='mean')),\n",
        "    ('scaler', StandardScaler())\n",
        "])\n",
        "\n",
        "# Categorical transformer\n",
        "categorical_transformer = Pipeline(steps=[\n",
        "    ('imputer', SimpleImputer(strategy='most_frequent')),\n",
        "    ('onehot', OneHotEncoder(handle_unknown='ignore'))\n",
        "])\n",
        "\n",
        "# Combine both into a preprocessor\n",
        "preprocessor = ColumnTransformer(\n",
        "    transformers=[\n",
        "        ('num', numeric_transformer, numerical_features),\n",
        "        ('cat', categorical_transformer, categorical_features)\n",
        "    ]\n",
        ")\n",
        "\n",
        "# Define the model\n",
        "XGB = XGBClassifier(use_label_encoder=False, eval_metric='logloss')\n",
        "\n",
        "# Create a pipeline with preprocessing and the model\n",
        "pipeline = Pipeline(steps=[\n",
        "    ('preprocessor', preprocessor),\n",
        "    ('classifier', XGB)\n",
        "])\n",
        "\n",
        "# Define the parameter grid for GridSearchCV\n",
        "param_grid = {\n",
        "    'classifier__max_depth': [3, 5, 7],\n",
        "    'classifier__learning_rate': [0.01, 0.1, 0.2],\n",
        "    'classifier__n_estimators': [50, 100, 200]\n",
        "}\n",
        "\n",
        "# Perform GridSearchCV for hyperparameter tuning\n",
        "grid_search = GridSearchCV(estimator=pipeline, param_grid=param_grid, cv=3, n_jobs=-1, verbose=2, scoring='accuracy')\n",
        "\n",
        "# Fit the grid search to the data\n",
        "grid_search.fit(X_train, y_train)\n",
        "\n",
        "# Best parameters found\n",
        "print(\"Best parameters:\", grid_search.best_params_)\n",
        "\n",
        "# Best model's accuracy on the test set\n",
        "best_model = grid_search.best_estimator_\n",
        "accuracy = best_model.score(X_test, y_test)\n",
        "print(\"Test set accuracy:\", accuracy)\n"
      ],
      "metadata": {
        "id": "qBlQx4k06Ux-"
      },
      "id": "qBlQx4k06Ux-",
      "execution_count": null,
      "outputs": []
    },
    {
      "cell_type": "markdown",
      "source": [
        "Feature Importance"
      ],
      "metadata": {
        "id": "u5g3h1DcJCOp"
      },
      "id": "u5g3h1DcJCOp"
    },
    {
      "cell_type": "code",
      "source": [
        "importance_df = pd.DataFrame({\n",
        "    'Feature': model_features,\n",
        "    'Importance': RF.feature_importances_[:len(model_features)]\n",
        "})\n",
        "\n",
        "# Ascending sort\n",
        "importance_df_sorted = importance_df.sort_values(by='Importance', ascending=True)\n",
        "\n",
        "plt.figure(figsize=(10, 5))\n",
        "plt.barh(importance_df_sorted['Feature'], importance_df_sorted['Importance'])\n",
        "plt.xlabel(\"Əhəmiyyət\")\n",
        "plt.title(\"Modeldə xüsusiyyətlərin təsiri (artma sırası ilə)\")\n",
        "plt.tight_layout()\n",
        "plt.show()\n"
      ],
      "metadata": {
        "id": "BhCsr4YFIoT6"
      },
      "id": "BhCsr4YFIoT6",
      "execution_count": null,
      "outputs": []
    },
    {
      "cell_type": "markdown",
      "source": [
        "**Advanced Insights and Visualization:**"
      ],
      "metadata": {
        "id": "2Hie4EOp4WPO"
      },
      "id": "2Hie4EOp4WPO"
    },
    {
      "cell_type": "markdown",
      "source": [
        "Price Trends:"
      ],
      "metadata": {
        "id": "crvvp2rl453x"
      },
      "id": "crvvp2rl453x"
    },
    {
      "cell_type": "code",
      "source": [
        "print(filtered_data.shape)"
      ],
      "metadata": {
        "id": "YlFCrTTp8Coh"
      },
      "id": "YlFCrTTp8Coh",
      "execution_count": null,
      "outputs": []
    },
    {
      "cell_type": "code",
      "source": [
        "plt.figure(figsize=(10, 6))\n",
        "sns.boxplot(data=data, x='current_status', y='price', palette='coolwarm')\n",
        "plt.title('Price Distribution by Current Status')\n",
        "plt.xlabel('Current Status')\n",
        "plt.ylabel('Price')\n",
        "plt.xticks(rotation=45)\n",
        "plt.grid(True)\n",
        "plt.tight_layout()\n",
        "plt.show()\n"
      ],
      "metadata": {
        "id": "MUGWrui6IoYd"
      },
      "id": "MUGWrui6IoYd",
      "execution_count": null,
      "outputs": []
    },
    {
      "cell_type": "code",
      "source": [
        "print(data['current_status'].value_counts())\n",
        "print(data[data['old_price'].notnull()].shape)\n"
      ],
      "metadata": {
        "id": "U-keH7Ch8TzI"
      },
      "id": "U-keH7Ch8TzI",
      "execution_count": null,
      "outputs": []
    },
    {
      "cell_type": "code",
      "source": [
        "np.random.seed(42)\n",
        "\n",
        "# Create dummy data\n",
        "n = 150\n",
        "old_price = np.random.randint(50, 500, n)\n",
        "price = old_price + np.random.randint(-100, 100, n)  # simulate price changes\n",
        "current_status = np.random.choice(['Available', 'Discontinued', 'Out of Stock'], size=n)\n",
        "\n",
        "# Create DataFrame\n",
        "dummy_data = pd.DataFrame({\n",
        "    'old_price': old_price,\n",
        "    'price': price,\n",
        "    'current_status': current_status\n",
        "})\n",
        "\n",
        "# Plot\n",
        "plt.figure(figsize=(10,6))\n",
        "sns.scatterplot(data=dummy_data, x='old_price', y='price', hue='current_status', palette='coolwarm', alpha=0.7)\n",
        "\n",
        "plt.plot([dummy_data['old_price'].min(), dummy_data['old_price'].max()],\n",
        "         [dummy_data['old_price'].min(), dummy_data['old_price'].max()],\n",
        "         'gray', linestyle='--', label='No Change Line (price = old_price)')\n",
        "\n",
        "plt.title('Price vs. Old Price: Dummy Data Test')\n",
        "plt.xlabel('Old Price')\n",
        "plt.ylabel('Price')\n",
        "plt.legend()\n",
        "plt.grid(True)\n",
        "plt.tight_layout()\n",
        "plt.show()\n"
      ],
      "metadata": {
        "id": "K-Paf4SzIofL"
      },
      "id": "K-Paf4SzIofL",
      "execution_count": null,
      "outputs": []
    },
    {
      "cell_type": "code",
      "source": [],
      "metadata": {
        "id": "IYlkoOsPIoiT"
      },
      "id": "IYlkoOsPIoiT",
      "execution_count": null,
      "outputs": []
    },
    {
      "cell_type": "code",
      "source": [],
      "metadata": {
        "id": "P7BBAI7oIolB"
      },
      "id": "P7BBAI7oIolB",
      "execution_count": null,
      "outputs": []
    },
    {
      "cell_type": "code",
      "source": [],
      "metadata": {
        "id": "dxZmhNH6IooU"
      },
      "id": "dxZmhNH6IooU",
      "execution_count": null,
      "outputs": []
    },
    {
      "cell_type": "code",
      "source": [],
      "metadata": {
        "id": "oH2ZIi3nIorg"
      },
      "id": "oH2ZIi3nIorg",
      "execution_count": null,
      "outputs": []
    },
    {
      "cell_type": "code",
      "source": [],
      "metadata": {
        "id": "YFjcvAj_Ioum"
      },
      "id": "YFjcvAj_Ioum",
      "execution_count": null,
      "outputs": []
    },
    {
      "cell_type": "code",
      "source": [],
      "metadata": {
        "id": "OoD6m6GyIox2"
      },
      "id": "OoD6m6GyIox2",
      "execution_count": null,
      "outputs": []
    },
    {
      "source": [
        "# Task\n",
        "Data Cleaning and Preprocessing Tasks:\n",
        "1.\tHandle Missing Values: Identify and handle missing values in columns such as depth, keywords, topic_group, and topic_desc.\n",
        "2.\tStandardize Columns: Convert relevant columns to consistent data types (e.g., price and old_price).\n",
        "3.\tPrice Processing: Clean and standardize the old_price column, which has non-numeric values (e.g., \"No old price\").\n",
        "4.\tBoolean Conversion: Ensure the sellable_online column is a proper boolean type.\n",
        "Exploratory Data Analysis (EDA) Tasks:\n",
        "1.\tDistribution Analysis: Analyze the distribution of price, height, depth, and width.\n",
        "2.\tCategory Insights: Find the most common product categories and their average prices.\n",
        "3.\tDesigner Analysis: Identify the most prolific designers and the average price of products they designed.\n",
        "4.\tOnline Availability: Investigate the proportion of products available for online purchase.\n",
        "5.\tPrice Change Analysis: Determine how many products have a recorded change between price and old_price.\n",
        "Feature Engineering Tasks:\n",
        "1.\tPrice Difference Feature: Create a new feature representing the difference between price and old_price (where applicable).\n",
        "2.\tDimension Ratios: Create features like depth/width or height/depth for deeper analysis.\n",
        "3.\tColor Availability: Convert the other_colors column into a numerical feature (e.g., one-hot encoding for \"Yes\"/\"No\").\n",
        "4.\tKeyword Extraction: Process the keywords column to extract useful terms for potential text analysis.\n",
        "Machine Learning Model Preparation:\n",
        "1.\tFeature Selection: Select relevant columns that could be predictive of the current_status (e.g., price, dimensions, category).\n",
        "2.\tText Features: Use NLP techniques to vectorize short_description and product_description for input into models.\n",
        "3.\tLabel Encoding: Encode categorical columns like category and designer for model input.\n",
        "Model Building and Evaluation:\n",
        "1.\tClassification Task: Build a classification model to predict the current_status (e.g., \"in stock\", \"out of stock\").\n",
        "\n",
        "\n",
        "Here is all the data you need:\n",
        "\"cleaned_data.xlsx\""
      ],
      "cell_type": "markdown",
      "metadata": {
        "id": "TqwtpNATr3V1"
      },
      "id": "TqwtpNATr3V1"
    },
    {
      "source": [
        "## Data loading\n",
        "\n",
        "### Subtask:\n",
        "Load the data from the \"cleaned_data.xlsx\" file into a pandas DataFrame.\n"
      ],
      "cell_type": "markdown",
      "metadata": {
        "id": "utvzFeZAr3lx"
      },
      "id": "utvzFeZAr3lx"
    },
    {
      "source": [
        "**Reasoning**:\n",
        "Load the data from the \"cleaned_data.xlsx\" file into a pandas DataFrame and display some basic information.\n",
        "\n"
      ],
      "cell_type": "markdown",
      "metadata": {
        "id": "RuCIV4-sr31k"
      },
      "id": "RuCIV4-sr31k"
    },
    {
      "source": [
        "import pandas as pd\n",
        "\n",
        "try:\n",
        "    df = pd.read_excel('cleaned_data.xlsx')\n",
        "    print(f\"Shape of the DataFrame: {df.shape}\")\n",
        "    print(f\"Column Names: {df.columns.tolist()}\")\n",
        "    display(df.head())\n",
        "    display(df.info())\n",
        "except FileNotFoundError:\n",
        "    print(\"Error: 'cleaned_data.xlsx' not found. Please ensure the file exists in the current directory.\")\n",
        "except Exception as e:\n",
        "    print(f\"An error occurred: {e}\")"
      ],
      "cell_type": "code",
      "metadata": {
        "id": "aEv4QlIrr4FR"
      },
      "id": "aEv4QlIrr4FR",
      "execution_count": null,
      "outputs": []
    },
    {
      "source": [
        "## Data cleaning\n",
        "\n",
        "### Subtask:\n",
        "Clean the data by handling missing values and standardizing data types in specific columns.\n"
      ],
      "cell_type": "markdown",
      "metadata": {
        "id": "ytE5xohyr9WN"
      },
      "id": "ytE5xohyr9WN"
    },
    {
      "source": [
        "**Reasoning**:\n",
        "Handle missing values and standardize data types for specified columns, then verify the changes.\n",
        "\n"
      ],
      "cell_type": "markdown",
      "metadata": {
        "id": "TJlZJ1hXr-NQ"
      },
      "id": "TJlZJ1hXr-NQ"
    },
    {
      "source": [
        "# Missing Value Imputation/Removal\n",
        "# 'depth': Impute with the median depth\n",
        "median_depth = df['depth'].median()\n",
        "df['depth'].fillna(median_depth, inplace=True)\n",
        "\n",
        "# 'keywords', 'topic_group', 'topic_desc': Fill missing values with empty strings\n",
        "for col in ['keywords', 'topic_group', 'topic_desc']:\n",
        "    df[col].fillna('', inplace=True)\n",
        "\n",
        "# Data Type Standardization\n",
        "# 'price' and 'old_price_clean': Convert to numeric, handling non-numeric entries\n",
        "for col in ['price', 'old_price_clean']:\n",
        "    df[col] = pd.to_numeric(df[col], errors='coerce')\n",
        "\n",
        "# Boolean Conversion: 'sellable_online'\n",
        "df['sellable_online'] = df['sellable_online'].astype(bool)\n",
        "\n",
        "# Verify Cleaning\n",
        "print(df.info())\n",
        "print(df.isnull().sum())"
      ],
      "cell_type": "code",
      "metadata": {
        "id": "Va2dg7Cwr-c_"
      },
      "id": "Va2dg7Cwr-c_",
      "execution_count": null,
      "outputs": []
    },
    {
      "source": [
        "**Reasoning**:\n",
        "Fix the warnings and errors from the previous code block, and re-run the verification steps.\n",
        "\n"
      ],
      "cell_type": "markdown",
      "metadata": {
        "id": "GZbnY2rvsASR"
      },
      "id": "GZbnY2rvsASR"
    },
    {
      "source": [
        "# Missing Value Imputation/Removal\n",
        "# 'depth': Impute with the median depth\n",
        "median_depth = df['depth'].median()\n",
        "df['depth'] = df['depth'].fillna(median_depth)\n",
        "\n",
        "# 'keywords', 'topic_group', 'topic_desc': Fill missing values with empty strings\n",
        "for col in ['keywords', 'topic_group', 'topic_desc']:\n",
        "    df[col] = df[col].fillna('')\n",
        "\n",
        "# Data Type Standardization\n",
        "# 'price' and 'old_price_clean': Convert to numeric, handling non-numeric entries\n",
        "for col in ['price', 'old_price_clean']:\n",
        "    df[col] = pd.to_numeric(df[col], errors='coerce')\n",
        "\n",
        "# Boolean Conversion: 'sellable_online'\n",
        "df['sellable_online'] = df['sellable_online'].astype(bool)\n",
        "\n",
        "# Verify Cleaning\n",
        "print(df.info())\n",
        "print(df.isnull().sum())"
      ],
      "cell_type": "code",
      "metadata": {
        "id": "Sdyuyd__sAiE"
      },
      "id": "Sdyuyd__sAiE",
      "execution_count": null,
      "outputs": []
    },
    {
      "source": [
        "## Data exploration\n",
        "\n",
        "### Subtask:\n",
        "Explore the data to gain insights into the distributions of key variables, product categories, designers, and online availability.\n"
      ],
      "cell_type": "markdown",
      "metadata": {
        "id": "gc8Xo_RIsDn2"
      },
      "id": "gc8Xo_RIsDn2"
    },
    {
      "source": [
        "**Reasoning**:\n",
        "Analyze the distributions of 'price', 'height', 'depth', and 'width', identify the most frequent product categories and their average prices, determine the most prolific designers and their average prices, calculate the proportion of products available online, and analyze price changes between 'price' and 'old_price_clean'.  Visualize the findings with appropriate plots.\n",
        "\n"
      ],
      "cell_type": "markdown",
      "metadata": {
        "id": "SX8zuUUXsFDd"
      },
      "id": "SX8zuUUXsFDd"
    },
    {
      "source": [
        "import matplotlib.pyplot as plt\n",
        "import seaborn as sns\n",
        "\n",
        "# Distribution Analysis\n",
        "fig, axes = plt.subplots(2, 2, figsize=(15, 10))\n",
        "for i, col in enumerate(['price', 'height', 'depth', 'width']):\n",
        "    row = i // 2\n",
        "    col_idx = i % 2\n",
        "    sns.histplot(df[col], kde=True, ax=axes[row, col_idx])\n",
        "    axes[row, col_idx].set_title(f'Distribution of {col}')\n",
        "plt.tight_layout()\n",
        "plt.show()\n",
        "\n",
        "# Descriptive statistics\n",
        "print(df[['price', 'height', 'depth', 'width']].describe())\n",
        "\n",
        "# Category Insights\n",
        "category_counts = df['category'].value_counts()\n",
        "category_avg_prices = df.groupby('category')['price'].mean()\n",
        "top_categories = category_counts.nlargest(10)\n",
        "top_categories_avg_price = category_avg_prices[top_categories.index]\n",
        "plt.figure(figsize=(12, 6))\n",
        "sns.barplot(x=top_categories_avg_price.index, y=top_categories_avg_price.values)\n",
        "plt.xticks(rotation=45, ha='right')\n",
        "plt.title('Average Price by Top 10 Product Categories')\n",
        "plt.xlabel('Product Category')\n",
        "plt.ylabel('Average Price')\n",
        "plt.tight_layout()\n",
        "plt.show()\n",
        "\n",
        "# Designer Analysis\n",
        "designer_counts = df['designer'].value_counts()\n",
        "designer_avg_prices = df.groupby('designer')['price'].mean()\n",
        "top_designers = designer_counts.nlargest(10)\n",
        "top_designers_avg_price = designer_avg_prices[top_designers.index]\n",
        "plt.figure(figsize=(12, 6))\n",
        "sns.barplot(x=top_designers_avg_price.index, y=top_designers_avg_price.values)\n",
        "plt.xticks(rotation=45, ha='right')\n",
        "plt.title('Average Price by Top 10 Designers')\n",
        "plt.xlabel('Designer')\n",
        "plt.ylabel('Average Price')\n",
        "plt.tight_layout()\n",
        "plt.show()\n",
        "\n",
        "# Online Availability\n",
        "online_proportion = df['sellable_online'].mean()\n",
        "print(f\"Proportion of products available online: {online_proportion:.2%}\")\n",
        "\n",
        "plt.figure(figsize=(6, 6))\n",
        "plt.pie([online_proportion, 1 - online_proportion], labels=['Sellable Online', 'Not Sellable Online'], autopct='%1.1f%%', startangle=90)\n",
        "plt.title('Online Availability of Products')\n",
        "plt.show()\n",
        "\n",
        "# Price Change Analysis\n",
        "price_change_count = len(df[df['price'] != df['old_price_clean']])\n",
        "price_change_percentage = price_change_count / len(df) * 100\n",
        "print(f\"Number of products with a price change: {price_change_count}\")\n",
        "print(f\"Percentage of products with a price change: {price_change_percentage:.2f}%\")\n",
        "\n",
        "plt.figure(figsize=(6, 6))\n",
        "plt.bar(['Price Change', 'No Price Change'], [price_change_count, len(df) - price_change_count])\n",
        "plt.title('Price Change Analysis')\n",
        "plt.ylabel('Number of Products')\n",
        "plt.show()"
      ],
      "cell_type": "code",
      "metadata": {
        "id": "EZz2-RpVsFXQ"
      },
      "id": "EZz2-RpVsFXQ",
      "execution_count": null,
      "outputs": []
    },
    {
      "source": [
        "## Feature engineering\n",
        "\n",
        "### Subtask:\n",
        "Engineer new features from existing data to enhance model performance.\n"
      ],
      "cell_type": "markdown",
      "metadata": {
        "id": "3emsFQl3sKHV"
      },
      "id": "3emsFQl3sKHV"
    },
    {
      "source": [
        "**Reasoning**:\n",
        "Create the new features 'price_diff', 'depth_width_ratio', 'height_depth_ratio', 'other_colors_numeric', and 'keyword_count' as instructed. Handle potential errors during calculations like division by zero.\n",
        "\n"
      ],
      "cell_type": "markdown",
      "metadata": {
        "id": "_LEHf6-FsLVx"
      },
      "id": "_LEHf6-FsLVx"
    },
    {
      "source": [
        "# Price Difference Feature\n",
        "df['price_diff'] = df['price'] - df['old_price_clean']\n",
        "df['price_diff'] = df['price_diff'].fillna(0)  # Fill NaN with 0\n",
        "\n",
        "# Dimension Ratios\n",
        "# Handle potential ZeroDivisionError\n",
        "df['depth_width_ratio'] = df['depth'] / df['width'].replace(0, 0.0001)\n",
        "df['height_depth_ratio'] = df['height'] / df['depth'].replace(0, 0.0001)\n",
        "\n",
        "# Color Availability\n",
        "df['other_colors_numeric'] = df['other_colors'].map({'Yes': 1, 'No': 0})\n",
        "\n",
        "# Keyword Extraction\n",
        "df['keyword_count'] = df['keywords'].str.split(',').str.len().fillna(0).astype(int)\n",
        "\n",
        "display(df.head())\n",
        "display(df.info())"
      ],
      "cell_type": "code",
      "metadata": {
        "id": "T4CYUOUUsLtc"
      },
      "id": "T4CYUOUUsLtc",
      "execution_count": null,
      "outputs": []
    },
    {
      "source": [
        "## Data preparation\n",
        "\n",
        "### Subtask:\n",
        "Prepare the data for model training by selecting relevant features, vectorizing text data, and encoding categorical variables.\n"
      ],
      "cell_type": "markdown",
      "metadata": {
        "id": "9UOUXmt4sPsC"
      },
      "id": "9UOUXmt4sPsC"
    },
    {
      "source": [
        "**Reasoning**:\n",
        "Select relevant features, vectorize text data using TF-IDF, label encode the 'category' column, and concatenate all features into a single DataFrame.\n",
        "\n"
      ],
      "cell_type": "markdown",
      "metadata": {
        "id": "XBDIFOnKsQ9M"
      },
      "id": "XBDIFOnKsQ9M"
    },
    {
      "source": [
        "from sklearn.feature_extraction.text import TfidfVectorizer\n",
        "from sklearn.preprocessing import LabelEncoder\n",
        "import pandas as pd\n",
        "import numpy as np\n",
        "\n",
        "# 1. Feature Selection\n",
        "selected_features = ['price', 'depth', 'height', 'width', 'price_diff', 'depth_width_ratio',\n",
        "                     'height_depth_ratio', 'other_colors_numeric', 'keyword_count',\n",
        "                     'sellable_online', 'category', 'current_status']\n",
        "df_selected_features = df[selected_features].copy()\n",
        "\n",
        "\n",
        "# 2. Text Vectorization\n",
        "vectorizer_short = TfidfVectorizer()\n",
        "vectorizer_prod = TfidfVectorizer()\n",
        "\n",
        "short_desc_vec = vectorizer_short.fit_transform(df_selected_features['short_description'])\n",
        "prod_desc_vec = vectorizer_prod.fit_transform(df_selected_features['product_description'])\n",
        "\n",
        "\n",
        "# 3. Label Encoding\n",
        "label_encoder = LabelEncoder()\n",
        "df_selected_features['category'] = label_encoder.fit_transform(df_selected_features['category'])\n",
        "\n",
        "\n",
        "# 4. Concatenation\n",
        "# Convert sparse matrices to DataFrames\n",
        "short_desc_df = pd.DataFrame(short_desc_vec.toarray(), columns=[f\"short_desc_{i}\" for i in range(short_desc_vec.shape[1])])\n",
        "prod_desc_df = pd.DataFrame(prod_desc_vec.toarray(), columns=[f\"prod_desc_{i}\" for i in range(prod_desc_vec.shape[1])])\n",
        "\n",
        "# Concatenate all features\n",
        "df_prepared = pd.concat([df_selected_features.drop(columns=['short_description', 'product_description']),\n",
        "                         short_desc_df, prod_desc_df], axis=1)\n",
        "\n",
        "display(df_prepared.head())\n",
        "display(df_prepared.info())"
      ],
      "cell_type": "code",
      "metadata": {
        "id": "p_ujzomQsRU6"
      },
      "id": "p_ujzomQsRU6",
      "execution_count": null,
      "outputs": []
    },
    {
      "source": [
        "**Reasoning**:\n",
        "The previous code failed due to a KeyError because 'short_description' was not found in `df_selected_features`.  I need to correct this by ensuring 'short_description' and 'product_description' are included in the feature selection step *before* attempting to vectorize them.\n",
        "\n"
      ],
      "cell_type": "markdown",
      "metadata": {
        "id": "y7RhIIl4sTWH"
      },
      "id": "y7RhIIl4sTWH"
    },
    {
      "source": [
        "from sklearn.feature_extraction.text import TfidfVectorizer\n",
        "from sklearn.preprocessing import LabelEncoder\n",
        "import pandas as pd\n",
        "import numpy as np\n",
        "\n",
        "# 1. Feature Selection (Corrected)\n",
        "selected_features = ['price', 'depth', 'height', 'width', 'price_diff', 'depth_width_ratio',\n",
        "                     'height_depth_ratio', 'other_colors_numeric', 'keyword_count',\n",
        "                     'sellable_online', 'category', 'current_status', 'short_description', 'product_description']\n",
        "df_selected_features = df[selected_features].copy()\n",
        "\n",
        "\n",
        "# 2. Text Vectorization\n",
        "vectorizer_short = TfidfVectorizer()\n",
        "vectorizer_prod = TfidfVectorizer()\n",
        "\n",
        "short_desc_vec = vectorizer_short.fit_transform(df_selected_features['short_description'])\n",
        "prod_desc_vec = vectorizer_prod.fit_transform(df_selected_features['product_description'])\n",
        "\n",
        "\n",
        "# 3. Label Encoding\n",
        "label_encoder = LabelEncoder()\n",
        "df_selected_features['category'] = label_encoder.fit_transform(df_selected_features['category'])\n",
        "\n",
        "\n",
        "# 4. Concatenation\n",
        "# Convert sparse matrices to DataFrames\n",
        "short_desc_df = pd.DataFrame(short_desc_vec.toarray(), columns=[f\"short_desc_{i}\" for i in range(short_desc_vec.shape[1])])\n",
        "prod_desc_df = pd.DataFrame(prod_desc_vec.toarray(), columns=[f\"prod_desc_{i}\" for i in range(prod_desc_vec.shape[1])])\n",
        "\n",
        "# Concatenate all features\n",
        "df_prepared = pd.concat([df_selected_features.drop(columns=['short_description', 'product_description']),\n",
        "                         short_desc_df, prod_desc_df], axis=1)\n",
        "\n",
        "display(df_prepared.head())\n",
        "display(df_prepared.info())"
      ],
      "cell_type": "code",
      "metadata": {
        "id": "uli3ZiYWsTxD"
      },
      "id": "uli3ZiYWsTxD",
      "execution_count": null,
      "outputs": []
    },
    {
      "source": [
        "## Data splitting\n",
        "\n",
        "### Subtask:\n",
        "Split the prepared data into training, validation, and testing sets.\n"
      ],
      "cell_type": "markdown",
      "metadata": {
        "id": "hdiiokHmsXUO"
      },
      "id": "hdiiokHmsXUO"
    },
    {
      "source": [
        "**Reasoning**:\n",
        "Split the prepared data into training, validation, and testing sets as instructed, ensuring stratification and reproducibility.\n",
        "\n"
      ],
      "cell_type": "markdown",
      "metadata": {
        "id": "-eO8x7v6sYl4"
      },
      "id": "-eO8x7v6sYl4"
    },
    {
      "source": [
        "from sklearn.model_selection import train_test_split\n",
        "\n",
        "# Separate features (X) and target variable (y)\n",
        "X = df_prepared.drop('current_status', axis=1)\n",
        "y = df_prepared['current_status']\n",
        "\n",
        "# Split data into temporary training and combined validation/testing sets\n",
        "X_temp, X_test, y_temp, y_test = train_test_split(X, y, test_size=0.2, random_state=42, stratify=y)\n",
        "\n",
        "# Split the combined validation/testing set into separate validation and testing sets\n",
        "X_train, X_val, y_train, y_val = train_test_split(X_temp, y_temp, test_size=0.5, random_state=42, stratify=y_temp)\n",
        "\n",
        "print(f\"X_train shape: {X_train.shape}, y_train shape: {y_train.shape}\")\n",
        "print(f\"X_val shape: {X_val.shape}, y_val shape: {y_val.shape}\")\n",
        "print(f\"X_test shape: {X_test.shape}, y_test shape: {y_test.shape}\")"
      ],
      "cell_type": "code",
      "metadata": {
        "id": "KbiWa0s2sY5a"
      },
      "id": "KbiWa0s2sY5a",
      "execution_count": null,
      "outputs": []
    },
    {
      "source": [
        "## Model training\n",
        "\n",
        "### Subtask:\n",
        "Train a RandomForestClassifier model to predict the 'current_status' using the prepared datasets.\n"
      ],
      "cell_type": "markdown",
      "metadata": {
        "id": "UDeUlnT_scZT"
      },
      "id": "UDeUlnT_scZT"
    },
    {
      "source": [
        "**Reasoning**:\n",
        "Train a RandomForestClassifier model, make predictions on the validation set, and evaluate the model's performance.\n",
        "\n"
      ],
      "cell_type": "markdown",
      "metadata": {
        "id": "vkESyqs4sdnL"
      },
      "id": "vkESyqs4sdnL"
    },
    {
      "source": [
        "from sklearn.ensemble import RandomForestClassifier\n",
        "from sklearn.metrics import accuracy_score, precision_score, recall_score, f1_score, confusion_matrix\n",
        "import numpy as np\n",
        "\n",
        "# Instantiate the classifier\n",
        "rf_classifier = RandomForestClassifier(random_state=42)\n",
        "\n",
        "# Train the model\n",
        "rf_classifier.fit(X_train, y_train)\n",
        "\n",
        "# Make predictions on the validation set\n",
        "y_pred = rf_classifier.predict(X_val)\n",
        "\n",
        "# Evaluate the model\n",
        "accuracy = accuracy_score(y_val, y_pred)\n",
        "precision = precision_score(y_val, y_pred, average='weighted', zero_division=0)\n",
        "recall = recall_score(y_val, y_pred, average='weighted', zero_division=0)\n",
        "f1 = f1_score(y_val, y_pred, average='weighted', zero_division=0)\n",
        "conf_matrix = confusion_matrix(y_val, y_pred)\n",
        "\n",
        "print(f\"Accuracy: {accuracy}\")\n",
        "print(f\"Precision: {precision}\")\n",
        "print(f\"Recall: {recall}\")\n",
        "print(f\"F1-score: {f1}\")\n",
        "print(f\"Confusion Matrix:\\n{conf_matrix}\")\n",
        "\n",
        "# Store the trained model (example using pickle, adjust as needed)\n",
        "import pickle\n",
        "filename = 'random_forest_model.sav'\n",
        "pickle.dump(rf_classifier, open(filename, 'wb'))"
      ],
      "cell_type": "code",
      "metadata": {
        "id": "klj4wttYseBb"
      },
      "id": "klj4wttYseBb",
      "execution_count": null,
      "outputs": []
    },
    {
      "source": [
        "## Model evaluation\n",
        "\n",
        "### Subtask:\n",
        "Evaluate the trained RandomForestClassifier model on the held-out test set.\n"
      ],
      "cell_type": "markdown",
      "metadata": {
        "id": "ZYSANEj2sifk"
      },
      "id": "ZYSANEj2sifk"
    },
    {
      "source": [
        "**Reasoning**:\n",
        "Load the saved model and evaluate its performance on the test set using the specified metrics.\n",
        "\n"
      ],
      "cell_type": "markdown",
      "metadata": {
        "id": "IqRb-94OslLt"
      },
      "id": "IqRb-94OslLt"
    },
    {
      "source": [
        "import pickle\n",
        "from sklearn.metrics import accuracy_score, precision_score, recall_score, f1_score, confusion_matrix\n",
        "\n",
        "# Load the saved model\n",
        "try:\n",
        "    filename = 'random_forest_model.sav'\n",
        "    loaded_model = pickle.load(open(filename, 'rb'))\n",
        "except FileNotFoundError:\n",
        "    print(f\"Error: File '{filename}' not found.  Cannot load the model.\")\n",
        "    # Handle the error appropriately (e.g., exit, raise an exception)\n",
        "    # In this case, I will set the status to failure and finish the task\n",
        "    # You should replace this with more appropriate error handling for your application\n",
        "    # For example, you might want to retrain the model or use a default model.\n",
        "    print(\"Finishing task with failure status due to model file not found.\")\n",
        "\n",
        "    # Finish the task with failure status\n",
        "    # finish_task\n",
        "    # ```json\n",
        "    # {\n",
        "    #   \"status\": \"failure\",\n",
        "    #   \"dataframes\": [\"df\", \"df_selected_features\", \"df_prepared\", \"X_train\", \"X_val\", \"X_test\", \"y_train\", \"y_val\", \"y_test\"]\n",
        "    # }\n",
        "    # ```\n",
        "    # exit()\n",
        "except Exception as e:\n",
        "    print(f\"An error occurred while loading the model: {e}\")\n",
        "    # Handle the error appropriately\n",
        "    print(\"Finishing task with failure status due to model loading error.\")\n",
        "\n",
        "    # finish_task\n",
        "    # ```json\n",
        "    # {\n",
        "    #   \"status\": \"failure\",\n",
        "    #   \"dataframes\": [\"df\", \"df_selected_features\", \"df_prepared\", \"X_train\", \"X_val\", \"X_test\", \"y_train\", \"y_val\", \"y_test\"]\n",
        "    # }\n",
        "    # ```\n",
        "    # exit()\n",
        "\n",
        "\n",
        "# Predict on the test set\n",
        "y_pred = loaded_model.predict(X_test)\n",
        "\n",
        "# Evaluate the model\n",
        "accuracy = accuracy_score(y_test, y_pred)\n",
        "precision = precision_score(y_test, y_pred, average='weighted', zero_division=0)\n",
        "recall = recall_score(y_test, y_pred, average='weighted', zero_division=0)\n",
        "f1 = f1_score(y_test, y_pred, average='weighted', zero_division=0)\n",
        "conf_matrix = confusion_matrix(y_test, y_pred)\n",
        "\n",
        "print(f\"Accuracy: {accuracy}\")\n",
        "print(f\"Precision: {precision}\")\n",
        "print(f\"Recall: {recall}\")\n",
        "print(f\"F1-score: {f1}\")\n",
        "print(f\"Confusion Matrix:\\n{conf_matrix}\")"
      ],
      "cell_type": "code",
      "metadata": {
        "id": "UMzMsYOgslls"
      },
      "id": "UMzMsYOgslls",
      "execution_count": null,
      "outputs": []
    },
    {
      "source": [
        "## Summary:\n",
        "\n",
        "### 1. Q&A\n",
        "\n",
        "* **What is the proportion of products available for online purchase?** 99.24% of products are available for online purchase.\n",
        "* **How many products have a recorded price change?** 17.70% (654 products) of the products showed a difference between the 'price' and 'old_price_clean' columns.\n",
        "* **What is the performance of the trained RandomForestClassifier model on the test set?** The model achieved perfect scores across all evaluation metrics (accuracy, precision, recall, F1-score = 1.0), suggesting potential overfitting.\n",
        "\n",
        "\n",
        "### 2. Data Analysis Key Findings\n",
        "\n",
        "* **Online Availability:** A high proportion (99.24%) of products are sellable online.\n",
        "* **Price Change Analysis:** A significant portion (17.70%, 654 products) exhibit a difference between current and old prices.\n",
        "* **Model Performance (Test Set):**  The RandomForestClassifier achieved perfect scores on the test set (accuracy, precision, recall, F1-score = 1.0), raising concerns about potential overfitting.\n",
        "* **Data Preparation:** The final prepared DataFrame (`df_prepared`) contains 4151 columns after feature engineering and text vectorization, ready for model input.\n",
        "\n",
        "\n",
        "### 3. Insights or Next Steps\n",
        "\n",
        "* **Investigate Overfitting:** The perfect scores on the test set are highly suspicious and likely indicate overfitting. Explore techniques like hyperparameter tuning, cross-validation, or using a simpler model to improve generalization.  Analyze feature importance to identify potentially problematic features.\n",
        "* **Further EDA:** Although some EDA was performed, a deeper dive into the data could reveal additional insights. Analyze the relationship between features and the target variable, explore potential outliers, and investigate the distribution of the target variable in more detail.\n"
      ],
      "cell_type": "markdown",
      "metadata": {
        "id": "rxM5SS_vsqyq"
      },
      "id": "rxM5SS_vsqyq"
    }
  ],
  "metadata": {
    "kernelspec": {
      "display_name": "Python 3",
      "language": "python",
      "name": "python3"
    },
    "language_info": {
      "codemirror_mode": {
        "name": "ipython",
        "version": 2
      },
      "file_extension": ".py",
      "mimetype": "text/x-python",
      "name": "python",
      "nbconvert_exporter": "python",
      "pygments_lexer": "ipython2",
      "version": "2.7.6"
    },
    "colab": {
      "provenance": []
    }
  },
  "nbformat": 4,
  "nbformat_minor": 5
}