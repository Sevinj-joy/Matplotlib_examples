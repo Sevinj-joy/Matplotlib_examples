{
  "cells": [
    {
      "cell_type": "code",
      "source": [
        "import pandas as pd\n",
        "import numpy as np\n",
        "import matplotlib.pyplot as plt\n",
        "import seaborn as sns"
      ],
      "metadata": {
        "id": "jjfM2LhrK1B2"
      },
      "id": "jjfM2LhrK1B2",
      "execution_count": null,
      "outputs": []
    },
    {
      "metadata": {
        "ExecuteTime": {
          "end_time": "2025-04-21T19:06:09.462620Z",
          "start_time": "2025-04-21T19:06:09.447302Z"
        },
        "colab": {
          "base_uri": "https://localhost:8080/",
          "height": 348
        },
        "id": "94537cde8d92559c",
        "outputId": "d6f4035c-0d24-4345-cc1a-83feb8509fac"
      },
      "cell_type": "code",
      "source": [
        "data=pd.read_csv('ikea2.csv')\n",
        "data.head()"
      ],
      "id": "94537cde8d92559c",
      "outputs": [
        {
          "output_type": "execute_result",
          "data": {
            "text/plain": [
              "    item_id        name       category  price     old_price  sellable_online  \\\n",
              "0  90420332    FREKVENS  Bar furniture  265.0  No old price             True   \n",
              "1  80155205        STIG  Bar furniture   69.0  No old price             True   \n",
              "2  50420329    FREKVENS  Bar furniture  177.0        SR 295             True   \n",
              "3    400550    EKEDALEN  Bar furniture  345.0  No old price             True   \n",
              "4  40426138  HENRIKSDAL  Bar furniture  395.0  No old price             True   \n",
              "\n",
              "                                                link other_colors  \\\n",
              "0  https://www.ikea.com/sa/en/p/frekvens-bar-tabl...           No   \n",
              "1  https://www.ikea.com/sa/en/p/stig-bar-stool-wi...          Yes   \n",
              "2  https://www.ikea.com/sa/en/p/frekvens-bar-stoo...           No   \n",
              "3  https://www.ikea.com/sa/en/p/ekedalen-bar-stoo...           No   \n",
              "4  https://www.ikea.com/sa/en/p/henriksdal-bar-st...           No   \n",
              "\n",
              "                                   short_description              designer  \\\n",
              "0           Bar table, in/outdoor,          51x51 cm  Nicholai Wiig Hansen   \n",
              "1            Bar stool with backrest,          74 cm         Henrik Preutz   \n",
              "2          Bar stool with backrest, in/outdoor,  ...  Nicholai Wiig Hansen   \n",
              "3            Bar stool with backrest,          75 cm      Ehl√©n Johansson   \n",
              "4          Bar stool with backrest frame,        ...         Karl Malmvall   \n",
              "\n",
              "   depth  height  width product_description     current_status kewords  \\\n",
              "0    NaN    99.0   51.0   Item discontinued  Item discontinued     NaN   \n",
              "1   50.0   100.0   60.0   Item discontinued  Item discontinued     NaN   \n",
              "2   53.0   104.0   43.0   Item discontinued  Item discontinued     NaN   \n",
              "3   52.0   114.0   43.0   Item discontinued  Item discontinued     NaN   \n",
              "4   51.0   102.0   40.0   Item discontinued  Item discontinued     NaN   \n",
              "\n",
              "   topic_group topic_desc  \n",
              "0          NaN        NaN  \n",
              "1          NaN        NaN  \n",
              "2          NaN        NaN  \n",
              "3          NaN        NaN  \n",
              "4          NaN        NaN  "
            ],
            "text/html": [
              "\n",
              "  <div id=\"df-8a63ccff-9f95-4622-b47e-c4d0ffaebab4\" class=\"colab-df-container\">\n",
              "    <div>\n",
              "<style scoped>\n",
              "    .dataframe tbody tr th:only-of-type {\n",
              "        vertical-align: middle;\n",
              "    }\n",
              "\n",
              "    .dataframe tbody tr th {\n",
              "        vertical-align: top;\n",
              "    }\n",
              "\n",
              "    .dataframe thead th {\n",
              "        text-align: right;\n",
              "    }\n",
              "</style>\n",
              "<table border=\"1\" class=\"dataframe\">\n",
              "  <thead>\n",
              "    <tr style=\"text-align: right;\">\n",
              "      <th></th>\n",
              "      <th>item_id</th>\n",
              "      <th>name</th>\n",
              "      <th>category</th>\n",
              "      <th>price</th>\n",
              "      <th>old_price</th>\n",
              "      <th>sellable_online</th>\n",
              "      <th>link</th>\n",
              "      <th>other_colors</th>\n",
              "      <th>short_description</th>\n",
              "      <th>designer</th>\n",
              "      <th>depth</th>\n",
              "      <th>height</th>\n",
              "      <th>width</th>\n",
              "      <th>product_description</th>\n",
              "      <th>current_status</th>\n",
              "      <th>kewords</th>\n",
              "      <th>topic_group</th>\n",
              "      <th>topic_desc</th>\n",
              "    </tr>\n",
              "  </thead>\n",
              "  <tbody>\n",
              "    <tr>\n",
              "      <th>0</th>\n",
              "      <td>90420332</td>\n",
              "      <td>FREKVENS</td>\n",
              "      <td>Bar furniture</td>\n",
              "      <td>265.0</td>\n",
              "      <td>No old price</td>\n",
              "      <td>True</td>\n",
              "      <td>https://www.ikea.com/sa/en/p/frekvens-bar-tabl...</td>\n",
              "      <td>No</td>\n",
              "      <td>Bar table, in/outdoor,          51x51 cm</td>\n",
              "      <td>Nicholai Wiig Hansen</td>\n",
              "      <td>NaN</td>\n",
              "      <td>99.0</td>\n",
              "      <td>51.0</td>\n",
              "      <td>Item discontinued</td>\n",
              "      <td>Item discontinued</td>\n",
              "      <td>NaN</td>\n",
              "      <td>NaN</td>\n",
              "      <td>NaN</td>\n",
              "    </tr>\n",
              "    <tr>\n",
              "      <th>1</th>\n",
              "      <td>80155205</td>\n",
              "      <td>STIG</td>\n",
              "      <td>Bar furniture</td>\n",
              "      <td>69.0</td>\n",
              "      <td>No old price</td>\n",
              "      <td>True</td>\n",
              "      <td>https://www.ikea.com/sa/en/p/stig-bar-stool-wi...</td>\n",
              "      <td>Yes</td>\n",
              "      <td>Bar stool with backrest,          74 cm</td>\n",
              "      <td>Henrik Preutz</td>\n",
              "      <td>50.0</td>\n",
              "      <td>100.0</td>\n",
              "      <td>60.0</td>\n",
              "      <td>Item discontinued</td>\n",
              "      <td>Item discontinued</td>\n",
              "      <td>NaN</td>\n",
              "      <td>NaN</td>\n",
              "      <td>NaN</td>\n",
              "    </tr>\n",
              "    <tr>\n",
              "      <th>2</th>\n",
              "      <td>50420329</td>\n",
              "      <td>FREKVENS</td>\n",
              "      <td>Bar furniture</td>\n",
              "      <td>177.0</td>\n",
              "      <td>SR 295</td>\n",
              "      <td>True</td>\n",
              "      <td>https://www.ikea.com/sa/en/p/frekvens-bar-stoo...</td>\n",
              "      <td>No</td>\n",
              "      <td>Bar stool with backrest, in/outdoor,  ...</td>\n",
              "      <td>Nicholai Wiig Hansen</td>\n",
              "      <td>53.0</td>\n",
              "      <td>104.0</td>\n",
              "      <td>43.0</td>\n",
              "      <td>Item discontinued</td>\n",
              "      <td>Item discontinued</td>\n",
              "      <td>NaN</td>\n",
              "      <td>NaN</td>\n",
              "      <td>NaN</td>\n",
              "    </tr>\n",
              "    <tr>\n",
              "      <th>3</th>\n",
              "      <td>400550</td>\n",
              "      <td>EKEDALEN</td>\n",
              "      <td>Bar furniture</td>\n",
              "      <td>345.0</td>\n",
              "      <td>No old price</td>\n",
              "      <td>True</td>\n",
              "      <td>https://www.ikea.com/sa/en/p/ekedalen-bar-stoo...</td>\n",
              "      <td>No</td>\n",
              "      <td>Bar stool with backrest,          75 cm</td>\n",
              "      <td>Ehl√©n Johansson</td>\n",
              "      <td>52.0</td>\n",
              "      <td>114.0</td>\n",
              "      <td>43.0</td>\n",
              "      <td>Item discontinued</td>\n",
              "      <td>Item discontinued</td>\n",
              "      <td>NaN</td>\n",
              "      <td>NaN</td>\n",
              "      <td>NaN</td>\n",
              "    </tr>\n",
              "    <tr>\n",
              "      <th>4</th>\n",
              "      <td>40426138</td>\n",
              "      <td>HENRIKSDAL</td>\n",
              "      <td>Bar furniture</td>\n",
              "      <td>395.0</td>\n",
              "      <td>No old price</td>\n",
              "      <td>True</td>\n",
              "      <td>https://www.ikea.com/sa/en/p/henriksdal-bar-st...</td>\n",
              "      <td>No</td>\n",
              "      <td>Bar stool with backrest frame,        ...</td>\n",
              "      <td>Karl Malmvall</td>\n",
              "      <td>51.0</td>\n",
              "      <td>102.0</td>\n",
              "      <td>40.0</td>\n",
              "      <td>Item discontinued</td>\n",
              "      <td>Item discontinued</td>\n",
              "      <td>NaN</td>\n",
              "      <td>NaN</td>\n",
              "      <td>NaN</td>\n",
              "    </tr>\n",
              "  </tbody>\n",
              "</table>\n",
              "</div>\n",
              "    <div class=\"colab-df-buttons\">\n",
              "\n",
              "  <div class=\"colab-df-container\">\n",
              "    <button class=\"colab-df-convert\" onclick=\"convertToInteractive('df-8a63ccff-9f95-4622-b47e-c4d0ffaebab4')\"\n",
              "            title=\"Convert this dataframe to an interactive table.\"\n",
              "            style=\"display:none;\">\n",
              "\n",
              "  <svg xmlns=\"http://www.w3.org/2000/svg\" height=\"24px\" viewBox=\"0 -960 960 960\">\n",
              "    <path d=\"M120-120v-720h720v720H120Zm60-500h600v-160H180v160Zm220 220h160v-160H400v160Zm0 220h160v-160H400v160ZM180-400h160v-160H180v160Zm440 0h160v-160H620v160ZM180-180h160v-160H180v160Zm440 0h160v-160H620v160Z\"/>\n",
              "  </svg>\n",
              "    </button>\n",
              "\n",
              "  <style>\n",
              "    .colab-df-container {\n",
              "      display:flex;\n",
              "      gap: 12px;\n",
              "    }\n",
              "\n",
              "    .colab-df-convert {\n",
              "      background-color: #E8F0FE;\n",
              "      border: none;\n",
              "      border-radius: 50%;\n",
              "      cursor: pointer;\n",
              "      display: none;\n",
              "      fill: #1967D2;\n",
              "      height: 32px;\n",
              "      padding: 0 0 0 0;\n",
              "      width: 32px;\n",
              "    }\n",
              "\n",
              "    .colab-df-convert:hover {\n",
              "      background-color: #E2EBFA;\n",
              "      box-shadow: 0px 1px 2px rgba(60, 64, 67, 0.3), 0px 1px 3px 1px rgba(60, 64, 67, 0.15);\n",
              "      fill: #174EA6;\n",
              "    }\n",
              "\n",
              "    .colab-df-buttons div {\n",
              "      margin-bottom: 4px;\n",
              "    }\n",
              "\n",
              "    [theme=dark] .colab-df-convert {\n",
              "      background-color: #3B4455;\n",
              "      fill: #D2E3FC;\n",
              "    }\n",
              "\n",
              "    [theme=dark] .colab-df-convert:hover {\n",
              "      background-color: #434B5C;\n",
              "      box-shadow: 0px 1px 3px 1px rgba(0, 0, 0, 0.15);\n",
              "      filter: drop-shadow(0px 1px 2px rgba(0, 0, 0, 0.3));\n",
              "      fill: #FFFFFF;\n",
              "    }\n",
              "  </style>\n",
              "\n",
              "    <script>\n",
              "      const buttonEl =\n",
              "        document.querySelector('#df-8a63ccff-9f95-4622-b47e-c4d0ffaebab4 button.colab-df-convert');\n",
              "      buttonEl.style.display =\n",
              "        google.colab.kernel.accessAllowed ? 'block' : 'none';\n",
              "\n",
              "      async function convertToInteractive(key) {\n",
              "        const element = document.querySelector('#df-8a63ccff-9f95-4622-b47e-c4d0ffaebab4');\n",
              "        const dataTable =\n",
              "          await google.colab.kernel.invokeFunction('convertToInteractive',\n",
              "                                                    [key], {});\n",
              "        if (!dataTable) return;\n",
              "\n",
              "        const docLinkHtml = 'Like what you see? Visit the ' +\n",
              "          '<a target=\"_blank\" href=https://colab.research.google.com/notebooks/data_table.ipynb>data table notebook</a>'\n",
              "          + ' to learn more about interactive tables.';\n",
              "        element.innerHTML = '';\n",
              "        dataTable['output_type'] = 'display_data';\n",
              "        await google.colab.output.renderOutput(dataTable, element);\n",
              "        const docLink = document.createElement('div');\n",
              "        docLink.innerHTML = docLinkHtml;\n",
              "        element.appendChild(docLink);\n",
              "      }\n",
              "    </script>\n",
              "  </div>\n",
              "\n",
              "\n",
              "    <div id=\"df-7e226b9e-045d-40be-b5e1-5637322f5d59\">\n",
              "      <button class=\"colab-df-quickchart\" onclick=\"quickchart('df-7e226b9e-045d-40be-b5e1-5637322f5d59')\"\n",
              "                title=\"Suggest charts\"\n",
              "                style=\"display:none;\">\n",
              "\n",
              "<svg xmlns=\"http://www.w3.org/2000/svg\" height=\"24px\"viewBox=\"0 0 24 24\"\n",
              "     width=\"24px\">\n",
              "    <g>\n",
              "        <path d=\"M19 3H5c-1.1 0-2 .9-2 2v14c0 1.1.9 2 2 2h14c1.1 0 2-.9 2-2V5c0-1.1-.9-2-2-2zM9 17H7v-7h2v7zm4 0h-2V7h2v10zm4 0h-2v-4h2v4z\"/>\n",
              "    </g>\n",
              "</svg>\n",
              "      </button>\n",
              "\n",
              "<style>\n",
              "  .colab-df-quickchart {\n",
              "      --bg-color: #E8F0FE;\n",
              "      --fill-color: #1967D2;\n",
              "      --hover-bg-color: #E2EBFA;\n",
              "      --hover-fill-color: #174EA6;\n",
              "      --disabled-fill-color: #AAA;\n",
              "      --disabled-bg-color: #DDD;\n",
              "  }\n",
              "\n",
              "  [theme=dark] .colab-df-quickchart {\n",
              "      --bg-color: #3B4455;\n",
              "      --fill-color: #D2E3FC;\n",
              "      --hover-bg-color: #434B5C;\n",
              "      --hover-fill-color: #FFFFFF;\n",
              "      --disabled-bg-color: #3B4455;\n",
              "      --disabled-fill-color: #666;\n",
              "  }\n",
              "\n",
              "  .colab-df-quickchart {\n",
              "    background-color: var(--bg-color);\n",
              "    border: none;\n",
              "    border-radius: 50%;\n",
              "    cursor: pointer;\n",
              "    display: none;\n",
              "    fill: var(--fill-color);\n",
              "    height: 32px;\n",
              "    padding: 0;\n",
              "    width: 32px;\n",
              "  }\n",
              "\n",
              "  .colab-df-quickchart:hover {\n",
              "    background-color: var(--hover-bg-color);\n",
              "    box-shadow: 0 1px 2px rgba(60, 64, 67, 0.3), 0 1px 3px 1px rgba(60, 64, 67, 0.15);\n",
              "    fill: var(--button-hover-fill-color);\n",
              "  }\n",
              "\n",
              "  .colab-df-quickchart-complete:disabled,\n",
              "  .colab-df-quickchart-complete:disabled:hover {\n",
              "    background-color: var(--disabled-bg-color);\n",
              "    fill: var(--disabled-fill-color);\n",
              "    box-shadow: none;\n",
              "  }\n",
              "\n",
              "  .colab-df-spinner {\n",
              "    border: 2px solid var(--fill-color);\n",
              "    border-color: transparent;\n",
              "    border-bottom-color: var(--fill-color);\n",
              "    animation:\n",
              "      spin 1s steps(1) infinite;\n",
              "  }\n",
              "\n",
              "  @keyframes spin {\n",
              "    0% {\n",
              "      border-color: transparent;\n",
              "      border-bottom-color: var(--fill-color);\n",
              "      border-left-color: var(--fill-color);\n",
              "    }\n",
              "    20% {\n",
              "      border-color: transparent;\n",
              "      border-left-color: var(--fill-color);\n",
              "      border-top-color: var(--fill-color);\n",
              "    }\n",
              "    30% {\n",
              "      border-color: transparent;\n",
              "      border-left-color: var(--fill-color);\n",
              "      border-top-color: var(--fill-color);\n",
              "      border-right-color: var(--fill-color);\n",
              "    }\n",
              "    40% {\n",
              "      border-color: transparent;\n",
              "      border-right-color: var(--fill-color);\n",
              "      border-top-color: var(--fill-color);\n",
              "    }\n",
              "    60% {\n",
              "      border-color: transparent;\n",
              "      border-right-color: var(--fill-color);\n",
              "    }\n",
              "    80% {\n",
              "      border-color: transparent;\n",
              "      border-right-color: var(--fill-color);\n",
              "      border-bottom-color: var(--fill-color);\n",
              "    }\n",
              "    90% {\n",
              "      border-color: transparent;\n",
              "      border-bottom-color: var(--fill-color);\n",
              "    }\n",
              "  }\n",
              "</style>\n",
              "\n",
              "      <script>\n",
              "        async function quickchart(key) {\n",
              "          const quickchartButtonEl =\n",
              "            document.querySelector('#' + key + ' button');\n",
              "          quickchartButtonEl.disabled = true;  // To prevent multiple clicks.\n",
              "          quickchartButtonEl.classList.add('colab-df-spinner');\n",
              "          try {\n",
              "            const charts = await google.colab.kernel.invokeFunction(\n",
              "                'suggestCharts', [key], {});\n",
              "          } catch (error) {\n",
              "            console.error('Error during call to suggestCharts:', error);\n",
              "          }\n",
              "          quickchartButtonEl.classList.remove('colab-df-spinner');\n",
              "          quickchartButtonEl.classList.add('colab-df-quickchart-complete');\n",
              "        }\n",
              "        (() => {\n",
              "          let quickchartButtonEl =\n",
              "            document.querySelector('#df-7e226b9e-045d-40be-b5e1-5637322f5d59 button');\n",
              "          quickchartButtonEl.style.display =\n",
              "            google.colab.kernel.accessAllowed ? 'block' : 'none';\n",
              "        })();\n",
              "      </script>\n",
              "    </div>\n",
              "\n",
              "    </div>\n",
              "  </div>\n"
            ],
            "application/vnd.google.colaboratory.intrinsic+json": {
              "type": "dataframe",
              "variable_name": "data",
              "summary": "{\n  \"name\": \"data\",\n  \"rows\": 3694,\n  \"fields\": [\n    {\n      \"column\": \"item_id\",\n      \"properties\": {\n        \"dtype\": \"number\",\n        \"std\": 28887094,\n        \"min\": 58487,\n        \"max\": 99932615,\n        \"num_unique_values\": 2962,\n        \"samples\": [\n          79248588,\n          59214240,\n          19011777\n        ],\n        \"semantic_type\": \"\",\n        \"description\": \"\"\n      }\n    },\n    {\n      \"column\": \"name\",\n      \"properties\": {\n        \"dtype\": \"category\",\n        \"num_unique_values\": 607,\n        \"samples\": [\n          \"STOCKHOLM\",\n          \"KUDDARNA\",\n          \"ALGOT\"\n        ],\n        \"semantic_type\": \"\",\n        \"description\": \"\"\n      }\n    },\n    {\n      \"column\": \"category\",\n      \"properties\": {\n        \"dtype\": \"category\",\n        \"num_unique_values\": 17,\n        \"samples\": [\n          \"Bar furniture\",\n          \"Beds\",\n          \"Chairs\"\n        ],\n        \"semantic_type\": \"\",\n        \"description\": \"\"\n      }\n    },\n    {\n      \"column\": \"price\",\n      \"properties\": {\n        \"dtype\": \"number\",\n        \"std\": 1374.6524941516225,\n        \"min\": 3.0,\n        \"max\": 9585.0,\n        \"num_unique_values\": 979,\n        \"samples\": [\n          575.0,\n          2616.4,\n          775.0\n        ],\n        \"semantic_type\": \"\",\n        \"description\": \"\"\n      }\n    },\n    {\n      \"column\": \"old_price\",\n      \"properties\": {\n        \"dtype\": \"category\",\n        \"num_unique_values\": 365,\n        \"samples\": [\n          \"SR 625\",\n          \"SR 375\",\n          \"SR 9,745\"\n        ],\n        \"semantic_type\": \"\",\n        \"description\": \"\"\n      }\n    },\n    {\n      \"column\": \"sellable_online\",\n      \"properties\": {\n        \"dtype\": \"boolean\",\n        \"num_unique_values\": 2,\n        \"samples\": [\n          false,\n          true\n        ],\n        \"semantic_type\": \"\",\n        \"description\": \"\"\n      }\n    },\n    {\n      \"column\": \"link\",\n      \"properties\": {\n        \"dtype\": \"string\",\n        \"num_unique_values\": 2962,\n        \"samples\": [\n          \"https://www.ikea.com/sa/en/p/platsa-wardrobe-white-fonnes-white-s79248588/\",\n          \"https://www.ikea.com/sa/en/p/linnmon-olov-table-geometric-beige-silver-colour-s59214240/\"\n        ],\n        \"semantic_type\": \"\",\n        \"description\": \"\"\n      }\n    },\n    {\n      \"column\": \"other_colors\",\n      \"properties\": {\n        \"dtype\": \"category\",\n        \"num_unique_values\": 2,\n        \"samples\": [\n          \"Yes\",\n          \"No\"\n        ],\n        \"semantic_type\": \"\",\n        \"description\": \"\"\n      }\n    },\n    {\n      \"column\": \"short_description\",\n      \"properties\": {\n        \"dtype\": \"category\",\n        \"num_unique_values\": 1706,\n        \"samples\": [\n          \"        Children's chair\",\n          \"        Frame/mesh baskets/clothes rails,          148x51x207 cm\"\n        ],\n        \"semantic_type\": \"\",\n        \"description\": \"\"\n      }\n    },\n    {\n      \"column\": \"designer\",\n      \"properties\": {\n        \"dtype\": \"category\",\n        \"num_unique_values\": 381,\n        \"samples\": [\n          \"Jomi Evers\",\n          \"Ola Wihlborg/Ehl\\u221a\\u00a9n Johansson\"\n        ],\n        \"semantic_type\": \"\",\n        \"description\": \"\"\n      }\n    },\n    {\n      \"column\": \"depth\",\n      \"properties\": {\n        \"dtype\": \"number\",\n        \"std\": 29.958350722592506,\n        \"min\": 1.0,\n        \"max\": 257.0,\n        \"num_unique_values\": 114,\n        \"samples\": [\n          82.0,\n          36.0\n        ],\n        \"semantic_type\": \"\",\n        \"description\": \"\"\n      }\n    },\n    {\n      \"column\": \"height\",\n      \"properties\": {\n        \"dtype\": \"number\",\n        \"std\": 61.09758520961708,\n        \"min\": 1.0,\n        \"max\": 700.0,\n        \"num_unique_values\": 193,\n        \"samples\": [\n          147.0,\n          139.0\n        ],\n        \"semantic_type\": \"\",\n        \"description\": \"\"\n      }\n    },\n    {\n      \"column\": \"width\",\n      \"properties\": {\n        \"dtype\": \"number\",\n        \"std\": 71.13377120612036,\n        \"min\": 1.0,\n        \"max\": 420.0,\n        \"num_unique_values\": 263,\n        \"samples\": [\n          234.0,\n          139.0\n        ],\n        \"semantic_type\": \"\",\n        \"description\": \"\"\n      }\n    },\n    {\n      \"column\": \"product_description\",\n      \"properties\": {\n        \"dtype\": \"category\",\n        \"num_unique_values\": 960,\n        \"samples\": [\n          \"LISABO coffee table, ash veneer, 118x50 cm We\\u201a\\u00c4\\u00f4re proud of our LISABO series, awarded with the prestigious, international Red Dot Award, for its design. The products are durable, sturdy and easy to assemble, yet look light and hand-crafted. Easy to assemble as each leg only has one fitting.\",\n          \"JUSTINA chair pad, grey, 42/35x40x4 cm Simple and stylish, but above all - comfy. The thick, soft foam filling will make even the most restless feel relaxed at the table. Several colours to choose from \\u201a\\u00c4\\u00ec pick your favourite. The thick foam filling provides great comfort and long-lasting support.\"\n        ],\n        \"semantic_type\": \"\",\n        \"description\": \"\"\n      }\n    },\n    {\n      \"column\": \"current_status\",\n      \"properties\": {\n        \"dtype\": \"category\",\n        \"num_unique_values\": 2,\n        \"samples\": [\n          \"Item still available for sale\",\n          \"Item discontinued\"\n        ],\n        \"semantic_type\": \"\",\n        \"description\": \"\"\n      }\n    },\n    {\n      \"column\": \"kewords\",\n      \"properties\": {\n        \"dtype\": \"category\",\n        \"num_unique_values\": 723,\n        \"samples\": [\n          \"rattan white/Laila natural experienced makes rounded detailed natural develop unique\",\n          \"outdoor maintenance-free patio stylish functional allows pass\"\n        ],\n        \"semantic_type\": \"\",\n        \"description\": \"\"\n      }\n    },\n    {\n      \"column\": \"topic_group\",\n      \"properties\": {\n        \"dtype\": \"number\",\n        \"std\": 0.8528353735618281,\n        \"min\": 0.0,\n        \"max\": 2.0,\n        \"num_unique_values\": 3,\n        \"samples\": [\n          2.0,\n          1.0\n        ],\n        \"semantic_type\": \"\",\n        \"description\": \"\"\n      }\n    },\n    {\n      \"column\": \"topic_desc\",\n      \"properties\": {\n        \"dtype\": \"category\",\n        \"num_unique_values\": 3,\n        \"samples\": [\n          \"Durability and Appearance\",\n          \"Style and Functionality\"\n        ],\n        \"semantic_type\": \"\",\n        \"description\": \"\"\n      }\n    }\n  ]\n}"
            }
          },
          "metadata": {},
          "execution_count": 2
        }
      ],
      "execution_count": null
    },
    {
      "metadata": {
        "ExecuteTime": {
          "end_time": "2025-04-21T19:06:09.490917Z",
          "start_time": "2025-04-21T19:06:09.489017Z"
        },
        "colab": {
          "base_uri": "https://localhost:8080/"
        },
        "id": "2de6ae0e3c8e897b",
        "outputId": "9c403c91-5614-4840-a3b5-3202e7405a06"
      },
      "cell_type": "code",
      "source": [
        "data.shape"
      ],
      "id": "2de6ae0e3c8e897b",
      "outputs": [
        {
          "output_type": "execute_result",
          "data": {
            "text/plain": [
              "(3694, 18)"
            ]
          },
          "metadata": {},
          "execution_count": 3
        }
      ],
      "execution_count": null
    },
    {
      "metadata": {
        "ExecuteTime": {
          "end_time": "2025-04-21T19:06:09.517166Z",
          "start_time": "2025-04-21T19:06:09.510693Z"
        },
        "colab": {
          "base_uri": "https://localhost:8080/",
          "height": 300
        },
        "id": "c7db72f78ac644ff",
        "outputId": "aaf9c998-58e0-4b49-b6aa-7b698874a522"
      },
      "cell_type": "code",
      "source": [
        "data.describe()"
      ],
      "id": "c7db72f78ac644ff",
      "outputs": [
        {
          "output_type": "execute_result",
          "data": {
            "text/plain": [
              "            item_id        price        depth       height        width  \\\n",
              "count  3.694000e+03  3694.000000  2231.000000  2706.000000  3105.000000   \n",
              "mean   4.863240e+07  1078.208419    54.379202   101.679970   104.470853   \n",
              "std    2.888709e+07  1374.652494    29.958351    61.097585    71.133771   \n",
              "min    5.848700e+04     3.000000     1.000000     1.000000     1.000000   \n",
              "25%    2.039057e+07   180.900000    38.000000    67.000000    60.000000   \n",
              "50%    4.928808e+07   544.700000    47.000000    83.000000    80.000000   \n",
              "75%    7.040357e+07  1429.500000    60.000000   124.000000   140.000000   \n",
              "max    9.993262e+07  9585.000000   257.000000   700.000000   420.000000   \n",
              "\n",
              "       topic_group  \n",
              "count  1409.000000  \n",
              "mean      1.102910  \n",
              "std       0.852835  \n",
              "min       0.000000  \n",
              "25%       0.000000  \n",
              "50%       1.000000  \n",
              "75%       2.000000  \n",
              "max       2.000000  "
            ],
            "text/html": [
              "\n",
              "  <div id=\"df-092ce28d-dfe5-4512-9da6-83580bb04cff\" class=\"colab-df-container\">\n",
              "    <div>\n",
              "<style scoped>\n",
              "    .dataframe tbody tr th:only-of-type {\n",
              "        vertical-align: middle;\n",
              "    }\n",
              "\n",
              "    .dataframe tbody tr th {\n",
              "        vertical-align: top;\n",
              "    }\n",
              "\n",
              "    .dataframe thead th {\n",
              "        text-align: right;\n",
              "    }\n",
              "</style>\n",
              "<table border=\"1\" class=\"dataframe\">\n",
              "  <thead>\n",
              "    <tr style=\"text-align: right;\">\n",
              "      <th></th>\n",
              "      <th>item_id</th>\n",
              "      <th>price</th>\n",
              "      <th>depth</th>\n",
              "      <th>height</th>\n",
              "      <th>width</th>\n",
              "      <th>topic_group</th>\n",
              "    </tr>\n",
              "  </thead>\n",
              "  <tbody>\n",
              "    <tr>\n",
              "      <th>count</th>\n",
              "      <td>3.694000e+03</td>\n",
              "      <td>3694.000000</td>\n",
              "      <td>2231.000000</td>\n",
              "      <td>2706.000000</td>\n",
              "      <td>3105.000000</td>\n",
              "      <td>1409.000000</td>\n",
              "    </tr>\n",
              "    <tr>\n",
              "      <th>mean</th>\n",
              "      <td>4.863240e+07</td>\n",
              "      <td>1078.208419</td>\n",
              "      <td>54.379202</td>\n",
              "      <td>101.679970</td>\n",
              "      <td>104.470853</td>\n",
              "      <td>1.102910</td>\n",
              "    </tr>\n",
              "    <tr>\n",
              "      <th>std</th>\n",
              "      <td>2.888709e+07</td>\n",
              "      <td>1374.652494</td>\n",
              "      <td>29.958351</td>\n",
              "      <td>61.097585</td>\n",
              "      <td>71.133771</td>\n",
              "      <td>0.852835</td>\n",
              "    </tr>\n",
              "    <tr>\n",
              "      <th>min</th>\n",
              "      <td>5.848700e+04</td>\n",
              "      <td>3.000000</td>\n",
              "      <td>1.000000</td>\n",
              "      <td>1.000000</td>\n",
              "      <td>1.000000</td>\n",
              "      <td>0.000000</td>\n",
              "    </tr>\n",
              "    <tr>\n",
              "      <th>25%</th>\n",
              "      <td>2.039057e+07</td>\n",
              "      <td>180.900000</td>\n",
              "      <td>38.000000</td>\n",
              "      <td>67.000000</td>\n",
              "      <td>60.000000</td>\n",
              "      <td>0.000000</td>\n",
              "    </tr>\n",
              "    <tr>\n",
              "      <th>50%</th>\n",
              "      <td>4.928808e+07</td>\n",
              "      <td>544.700000</td>\n",
              "      <td>47.000000</td>\n",
              "      <td>83.000000</td>\n",
              "      <td>80.000000</td>\n",
              "      <td>1.000000</td>\n",
              "    </tr>\n",
              "    <tr>\n",
              "      <th>75%</th>\n",
              "      <td>7.040357e+07</td>\n",
              "      <td>1429.500000</td>\n",
              "      <td>60.000000</td>\n",
              "      <td>124.000000</td>\n",
              "      <td>140.000000</td>\n",
              "      <td>2.000000</td>\n",
              "    </tr>\n",
              "    <tr>\n",
              "      <th>max</th>\n",
              "      <td>9.993262e+07</td>\n",
              "      <td>9585.000000</td>\n",
              "      <td>257.000000</td>\n",
              "      <td>700.000000</td>\n",
              "      <td>420.000000</td>\n",
              "      <td>2.000000</td>\n",
              "    </tr>\n",
              "  </tbody>\n",
              "</table>\n",
              "</div>\n",
              "    <div class=\"colab-df-buttons\">\n",
              "\n",
              "  <div class=\"colab-df-container\">\n",
              "    <button class=\"colab-df-convert\" onclick=\"convertToInteractive('df-092ce28d-dfe5-4512-9da6-83580bb04cff')\"\n",
              "            title=\"Convert this dataframe to an interactive table.\"\n",
              "            style=\"display:none;\">\n",
              "\n",
              "  <svg xmlns=\"http://www.w3.org/2000/svg\" height=\"24px\" viewBox=\"0 -960 960 960\">\n",
              "    <path d=\"M120-120v-720h720v720H120Zm60-500h600v-160H180v160Zm220 220h160v-160H400v160Zm0 220h160v-160H400v160ZM180-400h160v-160H180v160Zm440 0h160v-160H620v160ZM180-180h160v-160H180v160Zm440 0h160v-160H620v160Z\"/>\n",
              "  </svg>\n",
              "    </button>\n",
              "\n",
              "  <style>\n",
              "    .colab-df-container {\n",
              "      display:flex;\n",
              "      gap: 12px;\n",
              "    }\n",
              "\n",
              "    .colab-df-convert {\n",
              "      background-color: #E8F0FE;\n",
              "      border: none;\n",
              "      border-radius: 50%;\n",
              "      cursor: pointer;\n",
              "      display: none;\n",
              "      fill: #1967D2;\n",
              "      height: 32px;\n",
              "      padding: 0 0 0 0;\n",
              "      width: 32px;\n",
              "    }\n",
              "\n",
              "    .colab-df-convert:hover {\n",
              "      background-color: #E2EBFA;\n",
              "      box-shadow: 0px 1px 2px rgba(60, 64, 67, 0.3), 0px 1px 3px 1px rgba(60, 64, 67, 0.15);\n",
              "      fill: #174EA6;\n",
              "    }\n",
              "\n",
              "    .colab-df-buttons div {\n",
              "      margin-bottom: 4px;\n",
              "    }\n",
              "\n",
              "    [theme=dark] .colab-df-convert {\n",
              "      background-color: #3B4455;\n",
              "      fill: #D2E3FC;\n",
              "    }\n",
              "\n",
              "    [theme=dark] .colab-df-convert:hover {\n",
              "      background-color: #434B5C;\n",
              "      box-shadow: 0px 1px 3px 1px rgba(0, 0, 0, 0.15);\n",
              "      filter: drop-shadow(0px 1px 2px rgba(0, 0, 0, 0.3));\n",
              "      fill: #FFFFFF;\n",
              "    }\n",
              "  </style>\n",
              "\n",
              "    <script>\n",
              "      const buttonEl =\n",
              "        document.querySelector('#df-092ce28d-dfe5-4512-9da6-83580bb04cff button.colab-df-convert');\n",
              "      buttonEl.style.display =\n",
              "        google.colab.kernel.accessAllowed ? 'block' : 'none';\n",
              "\n",
              "      async function convertToInteractive(key) {\n",
              "        const element = document.querySelector('#df-092ce28d-dfe5-4512-9da6-83580bb04cff');\n",
              "        const dataTable =\n",
              "          await google.colab.kernel.invokeFunction('convertToInteractive',\n",
              "                                                    [key], {});\n",
              "        if (!dataTable) return;\n",
              "\n",
              "        const docLinkHtml = 'Like what you see? Visit the ' +\n",
              "          '<a target=\"_blank\" href=https://colab.research.google.com/notebooks/data_table.ipynb>data table notebook</a>'\n",
              "          + ' to learn more about interactive tables.';\n",
              "        element.innerHTML = '';\n",
              "        dataTable['output_type'] = 'display_data';\n",
              "        await google.colab.output.renderOutput(dataTable, element);\n",
              "        const docLink = document.createElement('div');\n",
              "        docLink.innerHTML = docLinkHtml;\n",
              "        element.appendChild(docLink);\n",
              "      }\n",
              "    </script>\n",
              "  </div>\n",
              "\n",
              "\n",
              "    <div id=\"df-7e0395f1-34ea-46df-a345-5e0c1cf8dfe0\">\n",
              "      <button class=\"colab-df-quickchart\" onclick=\"quickchart('df-7e0395f1-34ea-46df-a345-5e0c1cf8dfe0')\"\n",
              "                title=\"Suggest charts\"\n",
              "                style=\"display:none;\">\n",
              "\n",
              "<svg xmlns=\"http://www.w3.org/2000/svg\" height=\"24px\"viewBox=\"0 0 24 24\"\n",
              "     width=\"24px\">\n",
              "    <g>\n",
              "        <path d=\"M19 3H5c-1.1 0-2 .9-2 2v14c0 1.1.9 2 2 2h14c1.1 0 2-.9 2-2V5c0-1.1-.9-2-2-2zM9 17H7v-7h2v7zm4 0h-2V7h2v10zm4 0h-2v-4h2v4z\"/>\n",
              "    </g>\n",
              "</svg>\n",
              "      </button>\n",
              "\n",
              "<style>\n",
              "  .colab-df-quickchart {\n",
              "      --bg-color: #E8F0FE;\n",
              "      --fill-color: #1967D2;\n",
              "      --hover-bg-color: #E2EBFA;\n",
              "      --hover-fill-color: #174EA6;\n",
              "      --disabled-fill-color: #AAA;\n",
              "      --disabled-bg-color: #DDD;\n",
              "  }\n",
              "\n",
              "  [theme=dark] .colab-df-quickchart {\n",
              "      --bg-color: #3B4455;\n",
              "      --fill-color: #D2E3FC;\n",
              "      --hover-bg-color: #434B5C;\n",
              "      --hover-fill-color: #FFFFFF;\n",
              "      --disabled-bg-color: #3B4455;\n",
              "      --disabled-fill-color: #666;\n",
              "  }\n",
              "\n",
              "  .colab-df-quickchart {\n",
              "    background-color: var(--bg-color);\n",
              "    border: none;\n",
              "    border-radius: 50%;\n",
              "    cursor: pointer;\n",
              "    display: none;\n",
              "    fill: var(--fill-color);\n",
              "    height: 32px;\n",
              "    padding: 0;\n",
              "    width: 32px;\n",
              "  }\n",
              "\n",
              "  .colab-df-quickchart:hover {\n",
              "    background-color: var(--hover-bg-color);\n",
              "    box-shadow: 0 1px 2px rgba(60, 64, 67, 0.3), 0 1px 3px 1px rgba(60, 64, 67, 0.15);\n",
              "    fill: var(--button-hover-fill-color);\n",
              "  }\n",
              "\n",
              "  .colab-df-quickchart-complete:disabled,\n",
              "  .colab-df-quickchart-complete:disabled:hover {\n",
              "    background-color: var(--disabled-bg-color);\n",
              "    fill: var(--disabled-fill-color);\n",
              "    box-shadow: none;\n",
              "  }\n",
              "\n",
              "  .colab-df-spinner {\n",
              "    border: 2px solid var(--fill-color);\n",
              "    border-color: transparent;\n",
              "    border-bottom-color: var(--fill-color);\n",
              "    animation:\n",
              "      spin 1s steps(1) infinite;\n",
              "  }\n",
              "\n",
              "  @keyframes spin {\n",
              "    0% {\n",
              "      border-color: transparent;\n",
              "      border-bottom-color: var(--fill-color);\n",
              "      border-left-color: var(--fill-color);\n",
              "    }\n",
              "    20% {\n",
              "      border-color: transparent;\n",
              "      border-left-color: var(--fill-color);\n",
              "      border-top-color: var(--fill-color);\n",
              "    }\n",
              "    30% {\n",
              "      border-color: transparent;\n",
              "      border-left-color: var(--fill-color);\n",
              "      border-top-color: var(--fill-color);\n",
              "      border-right-color: var(--fill-color);\n",
              "    }\n",
              "    40% {\n",
              "      border-color: transparent;\n",
              "      border-right-color: var(--fill-color);\n",
              "      border-top-color: var(--fill-color);\n",
              "    }\n",
              "    60% {\n",
              "      border-color: transparent;\n",
              "      border-right-color: var(--fill-color);\n",
              "    }\n",
              "    80% {\n",
              "      border-color: transparent;\n",
              "      border-right-color: var(--fill-color);\n",
              "      border-bottom-color: var(--fill-color);\n",
              "    }\n",
              "    90% {\n",
              "      border-color: transparent;\n",
              "      border-bottom-color: var(--fill-color);\n",
              "    }\n",
              "  }\n",
              "</style>\n",
              "\n",
              "      <script>\n",
              "        async function quickchart(key) {\n",
              "          const quickchartButtonEl =\n",
              "            document.querySelector('#' + key + ' button');\n",
              "          quickchartButtonEl.disabled = true;  // To prevent multiple clicks.\n",
              "          quickchartButtonEl.classList.add('colab-df-spinner');\n",
              "          try {\n",
              "            const charts = await google.colab.kernel.invokeFunction(\n",
              "                'suggestCharts', [key], {});\n",
              "          } catch (error) {\n",
              "            console.error('Error during call to suggestCharts:', error);\n",
              "          }\n",
              "          quickchartButtonEl.classList.remove('colab-df-spinner');\n",
              "          quickchartButtonEl.classList.add('colab-df-quickchart-complete');\n",
              "        }\n",
              "        (() => {\n",
              "          let quickchartButtonEl =\n",
              "            document.querySelector('#df-7e0395f1-34ea-46df-a345-5e0c1cf8dfe0 button');\n",
              "          quickchartButtonEl.style.display =\n",
              "            google.colab.kernel.accessAllowed ? 'block' : 'none';\n",
              "        })();\n",
              "      </script>\n",
              "    </div>\n",
              "\n",
              "    </div>\n",
              "  </div>\n"
            ],
            "application/vnd.google.colaboratory.intrinsic+json": {
              "type": "dataframe",
              "summary": "{\n  \"name\": \"data\",\n  \"rows\": 8,\n  \"fields\": [\n    {\n      \"column\": \"item_id\",\n      \"properties\": {\n        \"dtype\": \"number\",\n        \"std\": 34598545.32329579,\n        \"min\": 3694.0,\n        \"max\": 99932615.0,\n        \"num_unique_values\": 8,\n        \"samples\": [\n          48632396.78992961,\n          49288078.0,\n          3694.0\n        ],\n        \"semantic_type\": \"\",\n        \"description\": \"\"\n      }\n    },\n    {\n      \"column\": \"price\",\n      \"properties\": {\n        \"dtype\": \"number\",\n        \"std\": 3183.3636375041146,\n        \"min\": 3.0,\n        \"max\": 9585.0,\n        \"num_unique_values\": 8,\n        \"samples\": [\n          1078.208419057932,\n          544.7,\n          3694.0\n        ],\n        \"semantic_type\": \"\",\n        \"description\": \"\"\n      }\n    },\n    {\n      \"column\": \"depth\",\n      \"properties\": {\n        \"dtype\": \"number\",\n        \"std\": 768.1934948755667,\n        \"min\": 1.0,\n        \"max\": 2231.0,\n        \"num_unique_values\": 8,\n        \"samples\": [\n          54.379202151501566,\n          47.0,\n          2231.0\n        ],\n        \"semantic_type\": \"\",\n        \"description\": \"\"\n      }\n    },\n    {\n      \"column\": \"height\",\n      \"properties\": {\n        \"dtype\": \"number\",\n        \"std\": 926.3163987494954,\n        \"min\": 1.0,\n        \"max\": 2706.0,\n        \"num_unique_values\": 8,\n        \"samples\": [\n          101.679970436068,\n          83.0,\n          2706.0\n        ],\n        \"semantic_type\": \"\",\n        \"description\": \"\"\n      }\n    },\n    {\n      \"column\": \"width\",\n      \"properties\": {\n        \"dtype\": \"number\",\n        \"std\": 1061.087935579842,\n        \"min\": 1.0,\n        \"max\": 3105.0,\n        \"num_unique_values\": 8,\n        \"samples\": [\n          104.4708534621578,\n          80.0,\n          3105.0\n        ],\n        \"semantic_type\": \"\",\n        \"description\": \"\"\n      }\n    },\n    {\n      \"column\": \"topic_group\",\n      \"properties\": {\n        \"dtype\": \"number\",\n        \"std\": 497.805987692714,\n        \"min\": 0.0,\n        \"max\": 1409.0,\n        \"num_unique_values\": 6,\n        \"samples\": [\n          1409.0,\n          1.1029098651525906,\n          2.0\n        ],\n        \"semantic_type\": \"\",\n        \"description\": \"\"\n      }\n    }\n  ]\n}"
            }
          },
          "metadata": {},
          "execution_count": 4
        }
      ],
      "execution_count": null
    },
    {
      "metadata": {
        "ExecuteTime": {
          "end_time": "2025-04-21T19:06:09.561315Z",
          "start_time": "2025-04-21T19:06:09.557242Z"
        },
        "colab": {
          "base_uri": "https://localhost:8080/"
        },
        "id": "b6675d822d32cfa8",
        "outputId": "1382517c-6d84-46de-a7de-60a208e89ce0"
      },
      "cell_type": "code",
      "source": [
        "data.info()"
      ],
      "id": "b6675d822d32cfa8",
      "outputs": [
        {
          "output_type": "stream",
          "name": "stdout",
          "text": [
            "<class 'pandas.core.frame.DataFrame'>\n",
            "RangeIndex: 3694 entries, 0 to 3693\n",
            "Data columns (total 18 columns):\n",
            " #   Column               Non-Null Count  Dtype  \n",
            "---  ------               --------------  -----  \n",
            " 0   item_id              3694 non-null   int64  \n",
            " 1   name                 3694 non-null   object \n",
            " 2   category             3694 non-null   object \n",
            " 3   price                3694 non-null   float64\n",
            " 4   old_price            3694 non-null   object \n",
            " 5   sellable_online      3694 non-null   bool   \n",
            " 6   link                 3694 non-null   object \n",
            " 7   other_colors         3694 non-null   object \n",
            " 8   short_description    3694 non-null   object \n",
            " 9   designer             3694 non-null   object \n",
            " 10  depth                2231 non-null   float64\n",
            " 11  height               2706 non-null   float64\n",
            " 12  width                3105 non-null   float64\n",
            " 13  product_description  3694 non-null   object \n",
            " 14  current_status       3694 non-null   object \n",
            " 15  kewords              1394 non-null   object \n",
            " 16  topic_group          1409 non-null   float64\n",
            " 17  topic_desc           1409 non-null   object \n",
            "dtypes: bool(1), float64(5), int64(1), object(11)\n",
            "memory usage: 494.3+ KB\n"
          ]
        }
      ],
      "execution_count": null
    },
    {
      "metadata": {
        "ExecuteTime": {
          "end_time": "2025-04-21T19:11:26.001319Z",
          "start_time": "2025-04-21T19:11:25.999144Z"
        },
        "id": "39dcf03665594b46"
      },
      "cell_type": "code",
      "source": [
        "data.rename(columns={'kewords': 'keywords'}, inplace=True)"
      ],
      "id": "39dcf03665594b46",
      "outputs": [],
      "execution_count": null
    },
    {
      "cell_type": "markdown",
      "source": [
        "**Data Cleaning and Preprocessing Tasks:**"
      ],
      "metadata": {
        "id": "hziOPBxlGz6F"
      },
      "id": "hziOPBxlGz6F"
    },
    {
      "metadata": {
        "id": "1b5628c4efdf1746"
      },
      "cell_type": "markdown",
      "source": [
        "Handle Missing Values: Identify and handle missing values in columns such as depth, keywords, topic_group, and topic_desc."
      ],
      "id": "1b5628c4efdf1746"
    },
    {
      "metadata": {
        "ExecuteTime": {
          "end_time": "2025-04-21T19:11:28.186156Z",
          "start_time": "2025-04-21T19:11:28.181637Z"
        },
        "colab": {
          "base_uri": "https://localhost:8080/",
          "height": 649
        },
        "id": "7cab392eced15276",
        "outputId": "958febf1-4cfc-4e95-ab2a-f02f24089097"
      },
      "cell_type": "code",
      "source": [
        "data.isnull().sum()"
      ],
      "id": "7cab392eced15276",
      "outputs": [
        {
          "output_type": "execute_result",
          "data": {
            "text/plain": [
              "item_id                   0\n",
              "name                      0\n",
              "category                  0\n",
              "price                     0\n",
              "old_price                 0\n",
              "sellable_online           0\n",
              "link                      0\n",
              "other_colors              0\n",
              "short_description         0\n",
              "designer                  0\n",
              "depth                  1463\n",
              "height                  988\n",
              "width                   589\n",
              "product_description       0\n",
              "current_status            0\n",
              "keywords               2300\n",
              "topic_group            2285\n",
              "topic_desc             2285\n",
              "dtype: int64"
            ],
            "text/html": [
              "<div>\n",
              "<style scoped>\n",
              "    .dataframe tbody tr th:only-of-type {\n",
              "        vertical-align: middle;\n",
              "    }\n",
              "\n",
              "    .dataframe tbody tr th {\n",
              "        vertical-align: top;\n",
              "    }\n",
              "\n",
              "    .dataframe thead th {\n",
              "        text-align: right;\n",
              "    }\n",
              "</style>\n",
              "<table border=\"1\" class=\"dataframe\">\n",
              "  <thead>\n",
              "    <tr style=\"text-align: right;\">\n",
              "      <th></th>\n",
              "      <th>0</th>\n",
              "    </tr>\n",
              "  </thead>\n",
              "  <tbody>\n",
              "    <tr>\n",
              "      <th>item_id</th>\n",
              "      <td>0</td>\n",
              "    </tr>\n",
              "    <tr>\n",
              "      <th>name</th>\n",
              "      <td>0</td>\n",
              "    </tr>\n",
              "    <tr>\n",
              "      <th>category</th>\n",
              "      <td>0</td>\n",
              "    </tr>\n",
              "    <tr>\n",
              "      <th>price</th>\n",
              "      <td>0</td>\n",
              "    </tr>\n",
              "    <tr>\n",
              "      <th>old_price</th>\n",
              "      <td>0</td>\n",
              "    </tr>\n",
              "    <tr>\n",
              "      <th>sellable_online</th>\n",
              "      <td>0</td>\n",
              "    </tr>\n",
              "    <tr>\n",
              "      <th>link</th>\n",
              "      <td>0</td>\n",
              "    </tr>\n",
              "    <tr>\n",
              "      <th>other_colors</th>\n",
              "      <td>0</td>\n",
              "    </tr>\n",
              "    <tr>\n",
              "      <th>short_description</th>\n",
              "      <td>0</td>\n",
              "    </tr>\n",
              "    <tr>\n",
              "      <th>designer</th>\n",
              "      <td>0</td>\n",
              "    </tr>\n",
              "    <tr>\n",
              "      <th>depth</th>\n",
              "      <td>1463</td>\n",
              "    </tr>\n",
              "    <tr>\n",
              "      <th>height</th>\n",
              "      <td>988</td>\n",
              "    </tr>\n",
              "    <tr>\n",
              "      <th>width</th>\n",
              "      <td>589</td>\n",
              "    </tr>\n",
              "    <tr>\n",
              "      <th>product_description</th>\n",
              "      <td>0</td>\n",
              "    </tr>\n",
              "    <tr>\n",
              "      <th>current_status</th>\n",
              "      <td>0</td>\n",
              "    </tr>\n",
              "    <tr>\n",
              "      <th>keywords</th>\n",
              "      <td>2300</td>\n",
              "    </tr>\n",
              "    <tr>\n",
              "      <th>topic_group</th>\n",
              "      <td>2285</td>\n",
              "    </tr>\n",
              "    <tr>\n",
              "      <th>topic_desc</th>\n",
              "      <td>2285</td>\n",
              "    </tr>\n",
              "  </tbody>\n",
              "</table>\n",
              "</div><br><label><b>dtype:</b> int64</label>"
            ]
          },
          "metadata": {},
          "execution_count": 7
        }
      ],
      "execution_count": null
    },
    {
      "metadata": {
        "ExecuteTime": {
          "end_time": "2025-04-21T19:11:37.805594Z",
          "start_time": "2025-04-21T19:11:37.802055Z"
        },
        "colab": {
          "base_uri": "https://localhost:8080/",
          "height": 490
        },
        "id": "3faa622484b9e453",
        "outputId": "bd0977c0-1a41-4974-cbef-897bcb69e928"
      },
      "cell_type": "code",
      "source": [
        "data['keywords'].value_counts()"
      ],
      "id": "3faa622484b9e453",
      "outputs": [
        {
          "output_type": "execute_result",
          "data": {
            "text/plain": [
              "keywords\n",
              "white keep neat lets use Find suitable use humid                         23\n",
              "fitted online stylish                                                    18\n",
              "white build wide low different create perfect clean modern easy place    16\n",
              "white icing small makes big Clean discreet blend right enhance modern    15\n",
              "light white stained need good ‚Äì sturdy wooden lightweight slide put    13\n",
              "                                                                         ..\n",
              "slatted grows extend replace want change                                  1\n",
              "bed frame w hidden several saving store want close small-space            1\n",
              "slatted white extendable ‚Äì lightening made timeless easy match          1\n",
              "white get extra organise personal Use extra customise                     1\n",
              "cm classic panelled goes Use full-length see top toe                      1\n",
              "Name: count, Length: 723, dtype: int64"
            ],
            "text/html": [
              "<div>\n",
              "<style scoped>\n",
              "    .dataframe tbody tr th:only-of-type {\n",
              "        vertical-align: middle;\n",
              "    }\n",
              "\n",
              "    .dataframe tbody tr th {\n",
              "        vertical-align: top;\n",
              "    }\n",
              "\n",
              "    .dataframe thead th {\n",
              "        text-align: right;\n",
              "    }\n",
              "</style>\n",
              "<table border=\"1\" class=\"dataframe\">\n",
              "  <thead>\n",
              "    <tr style=\"text-align: right;\">\n",
              "      <th></th>\n",
              "      <th>count</th>\n",
              "    </tr>\n",
              "    <tr>\n",
              "      <th>keywords</th>\n",
              "      <th></th>\n",
              "    </tr>\n",
              "  </thead>\n",
              "  <tbody>\n",
              "    <tr>\n",
              "      <th>white keep neat lets use Find suitable use humid</th>\n",
              "      <td>23</td>\n",
              "    </tr>\n",
              "    <tr>\n",
              "      <th>fitted online stylish</th>\n",
              "      <td>18</td>\n",
              "    </tr>\n",
              "    <tr>\n",
              "      <th>white build wide low different create perfect clean modern easy place</th>\n",
              "      <td>16</td>\n",
              "    </tr>\n",
              "    <tr>\n",
              "      <th>white icing small makes big Clean discreet blend right enhance modern</th>\n",
              "      <td>15</td>\n",
              "    </tr>\n",
              "    <tr>\n",
              "      <th>light white stained need good ‚Äì sturdy wooden lightweight slide put</th>\n",
              "      <td>13</td>\n",
              "    </tr>\n",
              "    <tr>\n",
              "      <th>...</th>\n",
              "      <td>...</td>\n",
              "    </tr>\n",
              "    <tr>\n",
              "      <th>slatted grows extend replace want change</th>\n",
              "      <td>1</td>\n",
              "    </tr>\n",
              "    <tr>\n",
              "      <th>bed frame w hidden several saving store want close small-space</th>\n",
              "      <td>1</td>\n",
              "    </tr>\n",
              "    <tr>\n",
              "      <th>slatted white extendable ‚Äì lightening made timeless easy match</th>\n",
              "      <td>1</td>\n",
              "    </tr>\n",
              "    <tr>\n",
              "      <th>white get extra organise personal Use extra customise</th>\n",
              "      <td>1</td>\n",
              "    </tr>\n",
              "    <tr>\n",
              "      <th>cm classic panelled goes Use full-length see top toe</th>\n",
              "      <td>1</td>\n",
              "    </tr>\n",
              "  </tbody>\n",
              "</table>\n",
              "<p>723 rows × 1 columns</p>\n",
              "</div><br><label><b>dtype:</b> int64</label>"
            ]
          },
          "metadata": {},
          "execution_count": 8
        }
      ],
      "execution_count": null
    },
    {
      "metadata": {
        "ExecuteTime": {
          "end_time": "2025-04-21T19:11:42.564011Z",
          "start_time": "2025-04-21T19:11:42.560214Z"
        },
        "colab": {
          "base_uri": "https://localhost:8080/",
          "height": 490
        },
        "id": "8cec81a8f16ef8ed",
        "outputId": "91542887-b5a5-42bf-fdc7-f4fb1024ac73"
      },
      "cell_type": "code",
      "source": [
        "data['height'].value_counts()"
      ],
      "id": "8cec81a8f16ef8ed",
      "outputs": [
        {
          "output_type": "execute_result",
          "data": {
            "text/plain": [
              "height\n",
              "74.0     189\n",
              "236.0    113\n",
              "75.0      82\n",
              "73.0      77\n",
              "83.0      73\n",
              "        ... \n",
              "113.0      1\n",
              "108.0      1\n",
              "700.0      1\n",
              "149.0      1\n",
              "208.0      1\n",
              "Name: count, Length: 193, dtype: int64"
            ],
            "text/html": [
              "<div>\n",
              "<style scoped>\n",
              "    .dataframe tbody tr th:only-of-type {\n",
              "        vertical-align: middle;\n",
              "    }\n",
              "\n",
              "    .dataframe tbody tr th {\n",
              "        vertical-align: top;\n",
              "    }\n",
              "\n",
              "    .dataframe thead th {\n",
              "        text-align: right;\n",
              "    }\n",
              "</style>\n",
              "<table border=\"1\" class=\"dataframe\">\n",
              "  <thead>\n",
              "    <tr style=\"text-align: right;\">\n",
              "      <th></th>\n",
              "      <th>count</th>\n",
              "    </tr>\n",
              "    <tr>\n",
              "      <th>height</th>\n",
              "      <th></th>\n",
              "    </tr>\n",
              "  </thead>\n",
              "  <tbody>\n",
              "    <tr>\n",
              "      <th>74.0</th>\n",
              "      <td>189</td>\n",
              "    </tr>\n",
              "    <tr>\n",
              "      <th>236.0</th>\n",
              "      <td>113</td>\n",
              "    </tr>\n",
              "    <tr>\n",
              "      <th>75.0</th>\n",
              "      <td>82</td>\n",
              "    </tr>\n",
              "    <tr>\n",
              "      <th>73.0</th>\n",
              "      <td>77</td>\n",
              "    </tr>\n",
              "    <tr>\n",
              "      <th>83.0</th>\n",
              "      <td>73</td>\n",
              "    </tr>\n",
              "    <tr>\n",
              "      <th>...</th>\n",
              "      <td>...</td>\n",
              "    </tr>\n",
              "    <tr>\n",
              "      <th>113.0</th>\n",
              "      <td>1</td>\n",
              "    </tr>\n",
              "    <tr>\n",
              "      <th>108.0</th>\n",
              "      <td>1</td>\n",
              "    </tr>\n",
              "    <tr>\n",
              "      <th>700.0</th>\n",
              "      <td>1</td>\n",
              "    </tr>\n",
              "    <tr>\n",
              "      <th>149.0</th>\n",
              "      <td>1</td>\n",
              "    </tr>\n",
              "    <tr>\n",
              "      <th>208.0</th>\n",
              "      <td>1</td>\n",
              "    </tr>\n",
              "  </tbody>\n",
              "</table>\n",
              "<p>193 rows × 1 columns</p>\n",
              "</div><br><label><b>dtype:</b> int64</label>"
            ]
          },
          "metadata": {},
          "execution_count": 9
        }
      ],
      "execution_count": null
    },
    {
      "metadata": {
        "ExecuteTime": {
          "end_time": "2025-04-21T19:11:47.185011Z",
          "start_time": "2025-04-21T19:11:47.181340Z"
        },
        "colab": {
          "base_uri": "https://localhost:8080/",
          "height": 210
        },
        "id": "2efb8e628d70c4c4",
        "outputId": "48726208-13f3-41b7-c2c7-eaf5f9156e1b"
      },
      "cell_type": "code",
      "source": [
        "data['topic_desc'].value_counts()"
      ],
      "id": "2efb8e628d70c4c4",
      "outputs": [
        {
          "output_type": "execute_result",
          "data": {
            "text/plain": [
              "topic_desc\n",
              "Durability and Appearance          592\n",
              "Color and Aesthetics, Usability    447\n",
              "Style and Functionality            370\n",
              "Name: count, dtype: int64"
            ],
            "text/html": [
              "<div>\n",
              "<style scoped>\n",
              "    .dataframe tbody tr th:only-of-type {\n",
              "        vertical-align: middle;\n",
              "    }\n",
              "\n",
              "    .dataframe tbody tr th {\n",
              "        vertical-align: top;\n",
              "    }\n",
              "\n",
              "    .dataframe thead th {\n",
              "        text-align: right;\n",
              "    }\n",
              "</style>\n",
              "<table border=\"1\" class=\"dataframe\">\n",
              "  <thead>\n",
              "    <tr style=\"text-align: right;\">\n",
              "      <th></th>\n",
              "      <th>count</th>\n",
              "    </tr>\n",
              "    <tr>\n",
              "      <th>topic_desc</th>\n",
              "      <th></th>\n",
              "    </tr>\n",
              "  </thead>\n",
              "  <tbody>\n",
              "    <tr>\n",
              "      <th>Durability and Appearance</th>\n",
              "      <td>592</td>\n",
              "    </tr>\n",
              "    <tr>\n",
              "      <th>Color and Aesthetics, Usability</th>\n",
              "      <td>447</td>\n",
              "    </tr>\n",
              "    <tr>\n",
              "      <th>Style and Functionality</th>\n",
              "      <td>370</td>\n",
              "    </tr>\n",
              "  </tbody>\n",
              "</table>\n",
              "</div><br><label><b>dtype:</b> int64</label>"
            ]
          },
          "metadata": {},
          "execution_count": 10
        }
      ],
      "execution_count": null
    },
    {
      "metadata": {
        "ExecuteTime": {
          "end_time": "2025-04-21T19:11:50.251516Z",
          "start_time": "2025-04-21T19:11:50.247787Z"
        },
        "colab": {
          "base_uri": "https://localhost:8080/",
          "height": 210
        },
        "id": "b3d537ed1a7e4828",
        "outputId": "2b07956d-254b-4ab2-f61a-f60685196e3f"
      },
      "cell_type": "code",
      "source": [
        "data['topic_group'].value_counts()"
      ],
      "id": "b3d537ed1a7e4828",
      "outputs": [
        {
          "output_type": "execute_result",
          "data": {
            "text/plain": [
              "topic_group\n",
              "2.0    592\n",
              "0.0    447\n",
              "1.0    370\n",
              "Name: count, dtype: int64"
            ],
            "text/html": [
              "<div>\n",
              "<style scoped>\n",
              "    .dataframe tbody tr th:only-of-type {\n",
              "        vertical-align: middle;\n",
              "    }\n",
              "\n",
              "    .dataframe tbody tr th {\n",
              "        vertical-align: top;\n",
              "    }\n",
              "\n",
              "    .dataframe thead th {\n",
              "        text-align: right;\n",
              "    }\n",
              "</style>\n",
              "<table border=\"1\" class=\"dataframe\">\n",
              "  <thead>\n",
              "    <tr style=\"text-align: right;\">\n",
              "      <th></th>\n",
              "      <th>count</th>\n",
              "    </tr>\n",
              "    <tr>\n",
              "      <th>topic_group</th>\n",
              "      <th></th>\n",
              "    </tr>\n",
              "  </thead>\n",
              "  <tbody>\n",
              "    <tr>\n",
              "      <th>2.0</th>\n",
              "      <td>592</td>\n",
              "    </tr>\n",
              "    <tr>\n",
              "      <th>0.0</th>\n",
              "      <td>447</td>\n",
              "    </tr>\n",
              "    <tr>\n",
              "      <th>1.0</th>\n",
              "      <td>370</td>\n",
              "    </tr>\n",
              "  </tbody>\n",
              "</table>\n",
              "</div><br><label><b>dtype:</b> int64</label>"
            ]
          },
          "metadata": {},
          "execution_count": 11
        }
      ],
      "execution_count": null
    },
    {
      "metadata": {
        "id": "5035965bc5e7262a"
      },
      "cell_type": "markdown",
      "source": [
        "Standardize Columns: Convert relevant columns to consistent data types (e.g., price and old_price).\n"
      ],
      "id": "5035965bc5e7262a"
    },
    {
      "metadata": {
        "ExecuteTime": {
          "end_time": "2025-04-21T19:11:53.127419Z",
          "start_time": "2025-04-21T19:11:53.123343Z"
        },
        "colab": {
          "base_uri": "https://localhost:8080/",
          "height": 490
        },
        "id": "584b7c2083ed9a23",
        "outputId": "ca98baa0-9ec7-416b-ee8c-c2ae1fb2e830"
      },
      "cell_type": "code",
      "source": [
        "data['old_price'].value_counts()"
      ],
      "id": "584b7c2083ed9a23",
      "outputs": [
        {
          "output_type": "execute_result",
          "data": {
            "text/plain": [
              "old_price\n",
              "No old price    3040\n",
              "SR 995            12\n",
              "SR 1,385          11\n",
              "SR 595            10\n",
              "SR 275             8\n",
              "                ... \n",
              "SR 2,395           1\n",
              "SR 1,250           1\n",
              "SR 1,815           1\n",
              "SR 820             1\n",
              "SR 8,735           1\n",
              "Name: count, Length: 365, dtype: int64"
            ],
            "text/html": [
              "<div>\n",
              "<style scoped>\n",
              "    .dataframe tbody tr th:only-of-type {\n",
              "        vertical-align: middle;\n",
              "    }\n",
              "\n",
              "    .dataframe tbody tr th {\n",
              "        vertical-align: top;\n",
              "    }\n",
              "\n",
              "    .dataframe thead th {\n",
              "        text-align: right;\n",
              "    }\n",
              "</style>\n",
              "<table border=\"1\" class=\"dataframe\">\n",
              "  <thead>\n",
              "    <tr style=\"text-align: right;\">\n",
              "      <th></th>\n",
              "      <th>count</th>\n",
              "    </tr>\n",
              "    <tr>\n",
              "      <th>old_price</th>\n",
              "      <th></th>\n",
              "    </tr>\n",
              "  </thead>\n",
              "  <tbody>\n",
              "    <tr>\n",
              "      <th>No old price</th>\n",
              "      <td>3040</td>\n",
              "    </tr>\n",
              "    <tr>\n",
              "      <th>SR 995</th>\n",
              "      <td>12</td>\n",
              "    </tr>\n",
              "    <tr>\n",
              "      <th>SR 1,385</th>\n",
              "      <td>11</td>\n",
              "    </tr>\n",
              "    <tr>\n",
              "      <th>SR 595</th>\n",
              "      <td>10</td>\n",
              "    </tr>\n",
              "    <tr>\n",
              "      <th>SR 275</th>\n",
              "      <td>8</td>\n",
              "    </tr>\n",
              "    <tr>\n",
              "      <th>...</th>\n",
              "      <td>...</td>\n",
              "    </tr>\n",
              "    <tr>\n",
              "      <th>SR 2,395</th>\n",
              "      <td>1</td>\n",
              "    </tr>\n",
              "    <tr>\n",
              "      <th>SR 1,250</th>\n",
              "      <td>1</td>\n",
              "    </tr>\n",
              "    <tr>\n",
              "      <th>SR 1,815</th>\n",
              "      <td>1</td>\n",
              "    </tr>\n",
              "    <tr>\n",
              "      <th>SR 820</th>\n",
              "      <td>1</td>\n",
              "    </tr>\n",
              "    <tr>\n",
              "      <th>SR 8,735</th>\n",
              "      <td>1</td>\n",
              "    </tr>\n",
              "  </tbody>\n",
              "</table>\n",
              "<p>365 rows × 1 columns</p>\n",
              "</div><br><label><b>dtype:</b> int64</label>"
            ]
          },
          "metadata": {},
          "execution_count": 12
        }
      ],
      "execution_count": null
    },
    {
      "metadata": {
        "ExecuteTime": {
          "end_time": "2025-04-21T19:11:55.177293Z",
          "start_time": "2025-04-21T19:11:55.173093Z"
        },
        "colab": {
          "base_uri": "https://localhost:8080/",
          "height": 490
        },
        "id": "1a3f497b79917647",
        "outputId": "7071c06a-2452-4a00-e692-2f3a5c1b08d1"
      },
      "cell_type": "code",
      "source": [
        "data['price'].value_counts()"
      ],
      "id": "1a3f497b79917647",
      "outputs": [
        {
          "output_type": "execute_result",
          "data": {
            "text/plain": [
              "price\n",
              "395.0     66\n",
              "195.0     54\n",
              "25.0      54\n",
              "175.0     51\n",
              "995.0     51\n",
              "          ..\n",
              "1277.0     1\n",
              "4190.0     1\n",
              "206.5      1\n",
              "2795.0     1\n",
              "3845.0     1\n",
              "Name: count, Length: 979, dtype: int64"
            ],
            "text/html": [
              "<div>\n",
              "<style scoped>\n",
              "    .dataframe tbody tr th:only-of-type {\n",
              "        vertical-align: middle;\n",
              "    }\n",
              "\n",
              "    .dataframe tbody tr th {\n",
              "        vertical-align: top;\n",
              "    }\n",
              "\n",
              "    .dataframe thead th {\n",
              "        text-align: right;\n",
              "    }\n",
              "</style>\n",
              "<table border=\"1\" class=\"dataframe\">\n",
              "  <thead>\n",
              "    <tr style=\"text-align: right;\">\n",
              "      <th></th>\n",
              "      <th>count</th>\n",
              "    </tr>\n",
              "    <tr>\n",
              "      <th>price</th>\n",
              "      <th></th>\n",
              "    </tr>\n",
              "  </thead>\n",
              "  <tbody>\n",
              "    <tr>\n",
              "      <th>395.0</th>\n",
              "      <td>66</td>\n",
              "    </tr>\n",
              "    <tr>\n",
              "      <th>195.0</th>\n",
              "      <td>54</td>\n",
              "    </tr>\n",
              "    <tr>\n",
              "      <th>25.0</th>\n",
              "      <td>54</td>\n",
              "    </tr>\n",
              "    <tr>\n",
              "      <th>175.0</th>\n",
              "      <td>51</td>\n",
              "    </tr>\n",
              "    <tr>\n",
              "      <th>995.0</th>\n",
              "      <td>51</td>\n",
              "    </tr>\n",
              "    <tr>\n",
              "      <th>...</th>\n",
              "      <td>...</td>\n",
              "    </tr>\n",
              "    <tr>\n",
              "      <th>1277.0</th>\n",
              "      <td>1</td>\n",
              "    </tr>\n",
              "    <tr>\n",
              "      <th>4190.0</th>\n",
              "      <td>1</td>\n",
              "    </tr>\n",
              "    <tr>\n",
              "      <th>206.5</th>\n",
              "      <td>1</td>\n",
              "    </tr>\n",
              "    <tr>\n",
              "      <th>2795.0</th>\n",
              "      <td>1</td>\n",
              "    </tr>\n",
              "    <tr>\n",
              "      <th>3845.0</th>\n",
              "      <td>1</td>\n",
              "    </tr>\n",
              "  </tbody>\n",
              "</table>\n",
              "<p>979 rows × 1 columns</p>\n",
              "</div><br><label><b>dtype:</b> int64</label>"
            ]
          },
          "metadata": {},
          "execution_count": 13
        }
      ],
      "execution_count": null
    },
    {
      "cell_type": "code",
      "source": [
        "def clean_and_update_old_price(data):\n",
        "\n",
        "    data['old_price_clean'] = (\n",
        "        data['old_price']\n",
        "        .astype(str)\n",
        "        .str.strip()\n",
        "        .str.replace(\"SR\", \"\", regex=False)\n",
        "        .str.replace(\",\", \"\", regex=False)\n",
        "        .str.replace(r\"/.*\", \"\", regex=True)\n",
        "        .str.replace(\"No old price\", \"\", regex=False)\n",
        "        .str.strip()\n",
        "    )\n",
        "\n",
        "    data['old_price_clean'] = pd.to_numeric(data['old_price_clean'], errors='coerce')\n",
        "\n",
        "    data['old_price_clean'] = data.apply(\n",
        "        lambda row: row['price'] if pd.isna(row['old_price_clean']) else row['old_price_clean'],\n",
        "        axis=1\n",
        "    )\n",
        "\n",
        "    return data\n",
        "\n",
        "data = clean_and_update_old_price(data)\n",
        "\n",
        "print(data[['old_price', 'old_price_clean', 'price']].head(20))"
      ],
      "metadata": {
        "colab": {
          "base_uri": "https://localhost:8080/"
        },
        "id": "tPQFRdsV3Q7j",
        "outputId": "7ce5448a-ea0e-495f-ac16-25303fefcc59"
      },
      "id": "tPQFRdsV3Q7j",
      "execution_count": null,
      "outputs": [
        {
          "output_type": "stream",
          "name": "stdout",
          "text": [
            "       old_price  old_price_clean   price\n",
            "0   No old price            265.0   265.0\n",
            "1   No old price             69.0    69.0\n",
            "2         SR 295            295.0   177.0\n",
            "3   No old price            345.0   345.0\n",
            "4   No old price            395.0   395.0\n",
            "5         SR 175            175.0   140.0\n",
            "6   No old price            595.0   595.0\n",
            "7         SR 995            995.0   796.0\n",
            "8   No old price            695.0   695.0\n",
            "9   No old price            595.0   595.0\n",
            "10  No old price            435.0   435.0\n",
            "11      SR 1,385           1385.0  1266.0\n",
            "12  No old price             40.0    40.0\n",
            "13  No old price            395.0   395.0\n",
            "14  No old price           1385.0  1385.0\n",
            "15      SR 2,375           2375.0  2176.0\n",
            "16  No old price            745.0   745.0\n",
            "17  No old price           1385.0  1385.0\n",
            "18      SR 1,385           1385.0  1266.0\n",
            "19      SR 1,385           1385.0  1266.0\n"
          ]
        }
      ]
    },
    {
      "metadata": {
        "ExecuteTime": {
          "end_time": "2025-04-21T19:30:04.626699Z",
          "start_time": "2025-04-21T19:30:04.465764Z"
        },
        "id": "8bc085cff8c8a638"
      },
      "cell_type": "code",
      "source": [
        "from sklearn.impute import KNNImputer\n",
        "\n",
        "data_encoded = pd.get_dummies(data, columns=['category'], drop_first=True)\n",
        "\n",
        "imputer = KNNImputer(n_neighbors=5)\n",
        "numeric_cols = data_encoded.select_dtypes(include=['float64', 'int64']).columns\n",
        "\n",
        "data_encoded[numeric_cols] = imputer.fit_transform(data_encoded[numeric_cols])\n",
        "data['depth'] = data_encoded['depth']\n",
        "data['width'] = data_encoded['width']\n",
        "data['height'] = data_encoded['height']"
      ],
      "id": "8bc085cff8c8a638",
      "outputs": [],
      "execution_count": null
    },
    {
      "cell_type": "code",
      "source": [
        "data = data.drop(columns=['old_price'])\n",
        "\n",
        "data.to_excel('cleaned_data.xlsx', index=False)"
      ],
      "metadata": {
        "id": "Sb-uDQ_t4Y1C"
      },
      "id": "Sb-uDQ_t4Y1C",
      "execution_count": null,
      "outputs": []
    },
    {
      "metadata": {
        "ExecuteTime": {
          "end_time": "2025-04-21T19:42:38.317550Z",
          "start_time": "2025-04-21T19:42:38.314497Z"
        },
        "colab": {
          "base_uri": "https://localhost:8080/"
        },
        "id": "af03c5483570762e",
        "outputId": "4fc23bdb-44a0-42b6-9e14-651808f04897"
      },
      "cell_type": "code",
      "source": [
        "data['keywords'].fillna('', inplace=True)\n",
        "data['topic_group'].fillna('', inplace=True)\n",
        "data['topic_desc'].fillna('', inplace=True)"
      ],
      "id": "af03c5483570762e",
      "outputs": [
        {
          "output_type": "stream",
          "name": "stderr",
          "text": [
            "<ipython-input-17-0c7ff2cfc4f5>:1: FutureWarning: A value is trying to be set on a copy of a DataFrame or Series through chained assignment using an inplace method.\n",
            "The behavior will change in pandas 3.0. This inplace method will never work because the intermediate object on which we are setting values always behaves as a copy.\n",
            "\n",
            "For example, when doing 'df[col].method(value, inplace=True)', try using 'df.method({col: value}, inplace=True)' or df[col] = df[col].method(value) instead, to perform the operation inplace on the original object.\n",
            "\n",
            "\n",
            "  data['keywords'].fillna('', inplace=True)\n",
            "<ipython-input-17-0c7ff2cfc4f5>:2: FutureWarning: A value is trying to be set on a copy of a DataFrame or Series through chained assignment using an inplace method.\n",
            "The behavior will change in pandas 3.0. This inplace method will never work because the intermediate object on which we are setting values always behaves as a copy.\n",
            "\n",
            "For example, when doing 'df[col].method(value, inplace=True)', try using 'df.method({col: value}, inplace=True)' or df[col] = df[col].method(value) instead, to perform the operation inplace on the original object.\n",
            "\n",
            "\n",
            "  data['topic_group'].fillna('', inplace=True)\n",
            "<ipython-input-17-0c7ff2cfc4f5>:2: FutureWarning: Setting an item of incompatible dtype is deprecated and will raise an error in a future version of pandas. Value '' has dtype incompatible with float64, please explicitly cast to a compatible dtype first.\n",
            "  data['topic_group'].fillna('', inplace=True)\n",
            "<ipython-input-17-0c7ff2cfc4f5>:3: FutureWarning: A value is trying to be set on a copy of a DataFrame or Series through chained assignment using an inplace method.\n",
            "The behavior will change in pandas 3.0. This inplace method will never work because the intermediate object on which we are setting values always behaves as a copy.\n",
            "\n",
            "For example, when doing 'df[col].method(value, inplace=True)', try using 'df.method({col: value}, inplace=True)' or df[col] = df[col].method(value) instead, to perform the operation inplace on the original object.\n",
            "\n",
            "\n",
            "  data['topic_desc'].fillna('', inplace=True)\n"
          ]
        }
      ],
      "execution_count": null
    },
    {
      "metadata": {
        "ExecuteTime": {
          "end_time": "2025-04-21T19:12:03.387665Z",
          "start_time": "2025-04-21T19:12:03.383444Z"
        },
        "colab": {
          "base_uri": "https://localhost:8080/"
        },
        "id": "17edc9d4c3026841",
        "outputId": "04592ec9-7c08-421b-ebba-e46710cc1010"
      },
      "cell_type": "code",
      "source": [
        "print(data.isnull().sum())"
      ],
      "id": "17edc9d4c3026841",
      "outputs": [
        {
          "output_type": "stream",
          "name": "stdout",
          "text": [
            "item_id                0\n",
            "name                   0\n",
            "category               0\n",
            "price                  0\n",
            "sellable_online        0\n",
            "link                   0\n",
            "other_colors           0\n",
            "short_description      0\n",
            "designer               0\n",
            "depth                  0\n",
            "height                 0\n",
            "width                  0\n",
            "product_description    0\n",
            "current_status         0\n",
            "keywords               0\n",
            "topic_group            0\n",
            "topic_desc             0\n",
            "old_price_clean        0\n",
            "dtype: int64\n"
          ]
        }
      ],
      "execution_count": null
    },
    {
      "metadata": {
        "ExecuteTime": {
          "end_time": "2025-04-21T19:12:06.158848Z",
          "start_time": "2025-04-21T19:12:06.153657Z"
        },
        "colab": {
          "base_uri": "https://localhost:8080/"
        },
        "id": "bd1e488e12c4847",
        "outputId": "ac26666d-13fb-41e6-b243-6ac86d6acf74"
      },
      "cell_type": "code",
      "source": [
        "total_rows = len(data)\n",
        "\n",
        "nan_percent=(data.isnull().sum()/total_rows)*100\n",
        "nan_percent = nan_percent.round(2)\n",
        "print(nan_percent)"
      ],
      "id": "bd1e488e12c4847",
      "outputs": [
        {
          "output_type": "stream",
          "name": "stdout",
          "text": [
            "item_id                0.0\n",
            "name                   0.0\n",
            "category               0.0\n",
            "price                  0.0\n",
            "sellable_online        0.0\n",
            "link                   0.0\n",
            "other_colors           0.0\n",
            "short_description      0.0\n",
            "designer               0.0\n",
            "depth                  0.0\n",
            "height                 0.0\n",
            "width                  0.0\n",
            "product_description    0.0\n",
            "current_status         0.0\n",
            "keywords               0.0\n",
            "topic_group            0.0\n",
            "topic_desc             0.0\n",
            "old_price_clean        0.0\n",
            "dtype: float64\n"
          ]
        }
      ],
      "execution_count": null
    },
    {
      "metadata": {
        "ExecuteTime": {
          "end_time": "2025-04-21T19:18:12.007270Z",
          "start_time": "2025-04-21T19:18:12.002825Z"
        },
        "colab": {
          "base_uri": "https://localhost:8080/"
        },
        "id": "8d43dd29795a1782",
        "outputId": "29218559-1234-4be1-cd05-13f5fae50767"
      },
      "cell_type": "code",
      "source": [
        "correlation_matrix = data.corr(numeric_only=True)\n",
        "print(correlation_matrix)"
      ],
      "id": "8d43dd29795a1782",
      "outputs": [
        {
          "output_type": "stream",
          "name": "stdout",
          "text": [
            "                  item_id     price  sellable_online     depth    height  \\\n",
            "item_id          1.000000  0.062683         0.015255  0.038175  0.077525   \n",
            "price            0.062683  1.000000         0.040226  0.581575  0.305451   \n",
            "sellable_online  0.015255  0.040226         1.000000  0.047569  0.039944   \n",
            "depth            0.038175  0.581575         0.047569  1.000000  0.019213   \n",
            "height           0.077525  0.305451         0.039944  0.019213  1.000000   \n",
            "width            0.070693  0.693741         0.048900  0.423258  0.372393   \n",
            "old_price_clean  0.063274  0.993866         0.040125  0.583620  0.299050   \n",
            "\n",
            "                    width  old_price_clean  \n",
            "item_id          0.070693         0.063274  \n",
            "price            0.693741         0.993866  \n",
            "sellable_online  0.048900         0.040125  \n",
            "depth            0.423258         0.583620  \n",
            "height           0.372393         0.299050  \n",
            "width            1.000000         0.697214  \n",
            "old_price_clean  0.697214         1.000000  \n"
          ]
        }
      ],
      "execution_count": null
    },
    {
      "metadata": {
        "ExecuteTime": {
          "end_time": "2025-04-21T19:19:16.902671Z",
          "start_time": "2025-04-21T19:19:16.751999Z"
        },
        "colab": {
          "base_uri": "https://localhost:8080/",
          "height": 607
        },
        "id": "58208f5cbb137a42",
        "outputId": "f7fa6e57-af1a-483d-ba59-9bbd0f7dbedb"
      },
      "cell_type": "code",
      "source": [
        "data_cleaned = data.drop(columns=['item_id'])\n",
        "\n",
        "correlation_matrix = data_cleaned.corr(numeric_only=True)\n",
        "\n",
        "plt.figure(figsize=(10, 6))\n",
        "sns.heatmap(correlation_matrix, annot=True, cmap='coolwarm', fmt=\".2f\", linewidths=0.5)\n",
        "plt.title(\"Korelyasiya Matrisi Heatmap\")\n",
        "plt.tight_layout()\n",
        "plt.show()\n"
      ],
      "id": "58208f5cbb137a42",
      "outputs": [
        {
          "output_type": "display_data",
          "data": {
            "text/plain": [
              "<Figure size 1000x600 with 2 Axes>"
            ],
            "image/png": "[encoded data removed]"
          },
          "metadata": {}
        }
      ],
      "execution_count": null
    },
    {
      "metadata": {
        "ExecuteTime": {
          "end_time": "2025-04-21T19:38:28.258442Z",
          "start_time": "2025-04-21T19:38:28.256136Z"
        },
        "colab": {
          "base_uri": "https://localhost:8080/"
        },
        "id": "de76a360e14da474",
        "outputId": "1ec11723-2fa9-4f66-9fd4-b839948ed6fb"
      },
      "cell_type": "code",
      "source": [
        "data.shape"
      ],
      "id": "de76a360e14da474",
      "outputs": [
        {
          "output_type": "execute_result",
          "data": {
            "text/plain": [
              "(3694, 18)"
            ]
          },
          "metadata": {},
          "execution_count": 22
        }
      ],
      "execution_count": null
    },
    {
      "metadata": {
        "ExecuteTime": {
          "end_time": "2025-04-21T19:39:06.864304Z",
          "start_time": "2025-04-21T19:39:06.860673Z"
        },
        "colab": {
          "base_uri": "https://localhost:8080/"
        },
        "id": "a9e6fb2a766f0fe3",
        "outputId": "f37afa4b-0836-4192-e4f7-79e6c79c4532"
      },
      "cell_type": "code",
      "source": [
        "print(data.isnull().sum())"
      ],
      "id": "a9e6fb2a766f0fe3",
      "outputs": [
        {
          "output_type": "stream",
          "name": "stdout",
          "text": [
            "item_id                0\n",
            "name                   0\n",
            "category               0\n",
            "price                  0\n",
            "sellable_online        0\n",
            "link                   0\n",
            "other_colors           0\n",
            "short_description      0\n",
            "designer               0\n",
            "depth                  0\n",
            "height                 0\n",
            "width                  0\n",
            "product_description    0\n",
            "current_status         0\n",
            "keywords               0\n",
            "topic_group            0\n",
            "topic_desc             0\n",
            "old_price_clean        0\n",
            "dtype: int64\n"
          ]
        }
      ],
      "execution_count": null
    },
    {
      "metadata": {
        "id": "e567ae932aacf9e1"
      },
      "cell_type": "markdown",
      "source": [
        "Boolean Conversion: Ensure the sellable_online column is a proper boolean type."
      ],
      "id": "e567ae932aacf9e1"
    },
    {
      "metadata": {
        "ExecuteTime": {
          "end_time": "2025-04-21T19:46:07.966874Z",
          "start_time": "2025-04-21T19:46:07.964683Z"
        },
        "id": "bd3a50dbd6099f79"
      },
      "cell_type": "code",
      "source": [
        "data['sellable_online'] = data['sellable_online'].astype(bool)"
      ],
      "id": "bd3a50dbd6099f79",
      "outputs": [],
      "execution_count": null
    },
    {
      "metadata": {
        "ExecuteTime": {
          "end_time": "2025-04-21T19:47:04.908006Z",
          "start_time": "2025-04-21T19:47:04.863019Z"
        },
        "colab": {
          "base_uri": "https://localhost:8080/",
          "height": 497
        },
        "id": "34c4f857357ead5f",
        "outputId": "d35c911c-0853-4ca6-c907-5516a9ffd6f9"
      },
      "cell_type": "code",
      "source": [
        "data['sellable_online'].value_counts()\n",
        "\n",
        "# Plot the distribution of 'yes' and 'no'\n",
        "plt.figure(figsize=(6, 4))\n",
        "sns.countplot(x='sellable_online', data=data, palette='Set2')\n",
        "plt.title('Distribution of Sellable Online (Yes/No)')\n",
        "plt.xlabel('Sellable Online')\n",
        "plt.ylabel('Count')\n",
        "plt.show()"
      ],
      "id": "34c4f857357ead5f",
      "outputs": [
        {
          "output_type": "stream",
          "name": "stderr",
          "text": [
            "<ipython-input-25-182acfaef937>:5: FutureWarning: \n",
            "\n",
            "Passing `palette` without assigning `hue` is deprecated and will be removed in v0.14.0. Assign the `x` variable to `hue` and set `legend=False` for the same effect.\n",
            "\n",
            "  sns.countplot(x='sellable_online', data=data, palette='Set2')\n"
          ]
        },
        {
          "output_type": "display_data",
          "data": {
            "text/plain": [
              "<Figure size 600x400 with 1 Axes>"
            ],
            "image/png": "[encoded data removed]"
          },
          "metadata": {}
        }
      ],
      "execution_count": null
    },
    {
      "metadata": {
        "id": "25ad66f06b3135f9"
      },
      "cell_type": "markdown",
      "source": [
        "**Exploratory Data Analysis (EDA) Tasks:**"
      ],
      "id": "25ad66f06b3135f9"
    },
    {
      "metadata": {
        "ExecuteTime": {
          "end_time": "2025-04-21T19:50:30.342139Z",
          "start_time": "2025-04-21T19:50:30.160550Z"
        },
        "colab": {
          "base_uri": "https://localhost:8080/",
          "height": 948
        },
        "id": "50d813f0c0695638",
        "outputId": "52ff5d9b-f3d2-42e8-af61-c3f0aaf4fac1"
      },
      "cell_type": "code",
      "source": [
        "plt.figure(figsize=(16, 10))\n",
        "\n",
        "plt.subplot(2, 2, 1)\n",
        "sns.histplot(data['price'], kde=True, color='skyblue', bins=30)\n",
        "plt.title('Price Distribution')\n",
        "plt.xlabel('Price')\n",
        "plt.ylabel('Frequency')\n",
        "\n",
        "plt.subplot(2, 2, 2)\n",
        "sns.histplot(data['height'], kde=True, color='lightgreen', bins=30)\n",
        "plt.title('Height Distribution')\n",
        "plt.xlabel('Height')\n",
        "plt.ylabel('Frequency')\n",
        "\n",
        "plt.subplot(2, 2, 3)\n",
        "sns.histplot(data['depth'], kde=True, color='salmon', bins=30)\n",
        "plt.title('Depth Distribution')\n",
        "plt.xlabel('Depth')\n",
        "plt.ylabel('Frequency')\n",
        "\n",
        "plt.subplot(2, 2, 4)\n",
        "sns.histplot(data['width'], kde=True, color='orange', bins=30)\n",
        "plt.title('Width Distribution')\n",
        "plt.xlabel('Width')\n",
        "plt.ylabel('Frequency')\n",
        "\n",
        "plt.tight_layout()\n",
        "plt.show()\n"
      ],
      "id": "50d813f0c0695638",
      "outputs": [
        {
          "output_type": "display_data",
          "data": {
            "text/plain": [
              "<Figure size 1600x1000 with 4 Axes>"
            ],
            "image/png": "[encoded data removed]"
          },
          "metadata": {}
        }
      ],
      "execution_count": null
    },
    {
      "metadata": {
        "ExecuteTime": {
          "end_time": "2025-04-21T19:51:56.018454Z",
          "start_time": "2025-04-21T19:51:55.903728Z"
        },
        "colab": {
          "base_uri": "https://localhost:8080/",
          "height": 760
        },
        "id": "d1ea07fff7268ade",
        "outputId": "e5592dae-695f-466f-b28b-81460475ab87"
      },
      "cell_type": "code",
      "source": [
        "# Box plots for price, height, depth, and width\n",
        "plt.figure(figsize=(16, 8))\n",
        "\n",
        "plt.subplot(2, 2, 1)\n",
        "sns.boxplot(x=data['price'], color='skyblue')\n",
        "plt.title('Price Boxplot')\n",
        "\n",
        "plt.subplot(2, 2, 2)\n",
        "sns.boxplot(x=data['height'], color='lightgreen')\n",
        "plt.title('Height Boxplot')\n",
        "\n",
        "plt.subplot(2, 2, 3)\n",
        "sns.boxplot(x=data['depth'], color='salmon')\n",
        "plt.title('Depth Boxplot')\n",
        "\n",
        "plt.subplot(2, 2, 4)\n",
        "sns.boxplot(x=data['width'], color='orange')\n",
        "plt.title('Width Boxplot')\n",
        "\n",
        "plt.tight_layout()\n",
        "plt.show()"
      ],
      "id": "d1ea07fff7268ade",
      "outputs": [
        {
          "output_type": "display_data",
          "data": {
            "text/plain": [
              "<Figure size 1600x800 with 4 Axes>"
            ],
            "image/png": "[encoded data removed]"
          },
          "metadata": {}
        }
      ],
      "execution_count": null
    },
    {
      "metadata": {
        "id": "b37dc704a6229be2"
      },
      "cell_type": "markdown",
      "source": [
        "Category Insights: Find the most common product categories and their average prices."
      ],
      "id": "b37dc704a6229be2"
    },
    {
      "metadata": {
        "ExecuteTime": {
          "end_time": "2025-04-21T20:02:49.937465Z",
          "start_time": "2025-04-21T20:02:49.934161Z"
        },
        "colab": {
          "base_uri": "https://localhost:8080/"
        },
        "id": "c0e6a6f8308302d2",
        "outputId": "62ec1c16-6cfb-44d0-841f-3866b93ea4d2"
      },
      "cell_type": "code",
      "source": [
        "most_common_category = data['category'].value_counts().idxmax()\n",
        "category_counts = data['category'].value_counts()\n",
        "\n",
        "print(f\"Most common product category: {most_common_category}\")\n",
        "print(f\"Count of most common category: {category_counts[most_common_category]}\")\n",
        "\n",
        "print(\"\\nAll category counts:\")\n",
        "print(category_counts)"
      ],
      "id": "c0e6a6f8308302d2",
      "outputs": [
        {
          "output_type": "stream",
          "name": "stdout",
          "text": [
            "Most common product category: Tables & desks\n",
            "Count of most common category: 612\n",
            "\n",
            "All category counts:\n",
            "category\n",
            "Tables & desks                          612\n",
            "Bookcases & shelving units              548\n",
            "Chairs                                  481\n",
            "Sofas & armchairs                       428\n",
            "Cabinets & cupboards                    292\n",
            "Wardrobes                               236\n",
            "Outdoor furniture                       216\n",
            "Beds                                    208\n",
            "TV & media furniture                    190\n",
            "Chests of drawers & drawer units        125\n",
            "Children's furniture                    124\n",
            "Nursery furniture                        97\n",
            "Bar furniture                            47\n",
            "Trolleys                                 28\n",
            "Caf√© furniture                          26\n",
            "Sideboards, buffets & console tables     23\n",
            "Room dividers                            13\n",
            "Name: count, dtype: int64\n"
          ]
        }
      ],
      "execution_count": null
    },
    {
      "cell_type": "code",
      "source": [
        "print(\"\\nAll category counts:\")\n",
        "print(category_counts)\n",
        "\n",
        "plt.figure(figsize=(10, 6))\n",
        "category_counts.plot(kind='bar', color='skyblue')\n",
        "plt.title('Product Category Counts')\n",
        "plt.xlabel('Category')\n",
        "plt.ylabel('Count')\n",
        "plt.xticks(rotation=45, ha='right')\n",
        "plt.tight_layout()\n",
        "plt.show()"
      ],
      "metadata": {
        "colab": {
          "base_uri": "https://localhost:8080/",
          "height": 972
        },
        "id": "yNVrn5uOkeRL",
        "outputId": "18d8909b-b46a-451d-f3fe-8ac5be271f97"
      },
      "id": "yNVrn5uOkeRL",
      "execution_count": null,
      "outputs": [
        {
          "output_type": "stream",
          "name": "stdout",
          "text": [
            "\n",
            "All category counts:\n",
            "category\n",
            "Tables & desks                          612\n",
            "Bookcases & shelving units              548\n",
            "Chairs                                  481\n",
            "Sofas & armchairs                       428\n",
            "Cabinets & cupboards                    292\n",
            "Wardrobes                               236\n",
            "Outdoor furniture                       216\n",
            "Beds                                    208\n",
            "TV & media furniture                    190\n",
            "Chests of drawers & drawer units        125\n",
            "Children's furniture                    124\n",
            "Nursery furniture                        97\n",
            "Bar furniture                            47\n",
            "Trolleys                                 28\n",
            "Caf√© furniture                          26\n",
            "Sideboards, buffets & console tables     23\n",
            "Room dividers                            13\n",
            "Name: count, dtype: int64\n"
          ]
        },
        {
          "output_type": "display_data",
          "data": {
            "text/plain": [
              "<Figure size 1000x600 with 1 Axes>"
            ],
            "image/png": "[encoded data removed]"
          },
          "metadata": {}
        }
      ]
    },
    {
      "metadata": {
        "ExecuteTime": {
          "end_time": "2025-04-21T20:04:54.832555Z",
          "start_time": "2025-04-21T20:04:54.828847Z"
        },
        "colab": {
          "base_uri": "https://localhost:8080/"
        },
        "id": "a49818593ebc2a74",
        "outputId": "7fb5b0a2-172c-461a-bbe4-0b6ac59db8aa"
      },
      "cell_type": "code",
      "source": [
        "category_avg_price = data.groupby('category')['price'].mean().reset_index()\n",
        "category_avg_price = category_avg_price.sort_values(by='price', ascending=False)\n",
        "print(\"\\nAverage Prices per Category:\\n\", category_avg_price)"
      ],
      "id": "a49818593ebc2a74",
      "outputs": [
        {
          "output_type": "stream",
          "name": "stdout",
          "text": [
            "\n",
            "Average Prices per Category:\n",
            "                                 category        price\n",
            "16                             Wardrobes  2162.141949\n",
            "12                     Sofas & armchairs  2004.016355\n",
            "1                                   Beds  1647.432692\n",
            "14                        Tables & desks  1129.395425\n",
            "11  Sideboards, buffets & console tables  1068.086957\n",
            "5                                 Chairs  1048.932640\n",
            "10                         Room dividers   932.000000\n",
            "9                      Outdoor furniture   859.826852\n",
            "3                   Cabinets & cupboards   789.015753\n",
            "0                          Bar furniture   679.553191\n",
            "15                              Trolleys   678.517857\n",
            "13                  TV & media furniture   659.050526\n",
            "6       Chests of drawers & drawer units   612.180000\n",
            "4                        Caf√© furniture   553.884615\n",
            "2             Bookcases & shelving units   519.416058\n",
            "8                      Nursery furniture   393.659794\n",
            "7                   Children's furniture   272.758065\n"
          ]
        }
      ],
      "execution_count": null
    },
    {
      "cell_type": "markdown",
      "source": [
        "Online Availability: Investigate the proportion of products available for online purchase."
      ],
      "metadata": {
        "id": "8Argzso_k5XY"
      },
      "id": "8Argzso_k5XY"
    },
    {
      "metadata": {
        "colab": {
          "base_uri": "https://localhost:8080/",
          "height": 895
        },
        "id": "c2948e0392f03645",
        "outputId": "aa898ea2-b906-430f-ab0c-2cd54a1c2d21"
      },
      "cell_type": "code",
      "outputs": [
        {
          "output_type": "execute_result",
          "data": {
            "text/plain": [
              "       item_id                   name       category   price  sellable_online  \\\n",
              "0     90420332               FREKVENS  Bar furniture   265.0             True   \n",
              "1     80155205                   STIG  Bar furniture    69.0             True   \n",
              "2     50420329               FREKVENS  Bar furniture   177.0             True   \n",
              "3       400550               EKEDALEN  Bar furniture   345.0             True   \n",
              "4     40426138             HENRIKSDAL  Bar furniture   395.0             True   \n",
              "...        ...                    ...            ...     ...              ...   \n",
              "3689  19385677                    PAX      Wardrobes  2505.0             True   \n",
              "3690  39329299  PAX / FORSAND/VIKEDAL      Wardrobes  1260.0             True   \n",
              "3691  79302995                ELVARLI      Wardrobes  1611.0             True   \n",
              "3692  99157902                ELVARLI      Wardrobes   750.0             True   \n",
              "3693   9158152                ELVARLI      Wardrobes  1572.0             True   \n",
              "\n",
              "                                                   link other_colors  \\\n",
              "0     https://www.ikea.com/sa/en/p/frekvens-bar-tabl...           No   \n",
              "1     https://www.ikea.com/sa/en/p/stig-bar-stool-wi...          Yes   \n",
              "2     https://www.ikea.com/sa/en/p/frekvens-bar-stoo...           No   \n",
              "3     https://www.ikea.com/sa/en/p/ekedalen-bar-stoo...           No   \n",
              "4     https://www.ikea.com/sa/en/p/henriksdal-bar-st...           No   \n",
              "...                                                 ...          ...   \n",
              "3689  https://www.ikea.com/sa/en/p/pax-wardrobe-comb...          Yes   \n",
              "3690  https://www.ikea.com/sa/en/p/pax-forsand-viked...          Yes   \n",
              "3691  https://www.ikea.com/sa/en/p/elvarli-2-section...           No   \n",
              "3692  https://www.ikea.com/sa/en/p/elvarli-1-section...           No   \n",
              "3693  https://www.ikea.com/sa/en/p/elvarli-2-section...           No   \n",
              "\n",
              "                                      short_description  \\\n",
              "0              Bar table, in/outdoor,          51x51 cm   \n",
              "1               Bar stool with backrest,          74 cm   \n",
              "2             Bar stool with backrest, in/outdoor,  ...   \n",
              "3               Bar stool with backrest,          75 cm   \n",
              "4             Bar stool with backrest frame,        ...   \n",
              "...                                                 ...   \n",
              "3689          Wardrobe combination,          150x58x...   \n",
              "3690          Wardrobe combination,          75x60x2...   \n",
              "3691             2 sections,          175x51x222-350 cm   \n",
              "3692               1 section,          92x51x222-350 cm   \n",
              "3693             2 sections,          135x51x222-350 cm   \n",
              "\n",
              "                                          designer  depth  height  width  \\\n",
              "0                             Nicholai Wiig Hansen   48.8    99.0   51.0   \n",
              "1                                    Henrik Preutz   50.0   100.0   60.0   \n",
              "2                             Nicholai Wiig Hansen   53.0   104.0   43.0   \n",
              "3                                 Ehl√©n Johansson   52.0   114.0   43.0   \n",
              "4                                    Karl Malmvall   51.0   102.0   40.0   \n",
              "...                                            ...    ...     ...    ...   \n",
              "3689  Ehl√©n Johansson/Ola Wihlborg/IKEA of Sweden   58.0   236.0  150.0   \n",
              "3690               Ehl√©n Johansson/IKEA of Sweden   60.0   201.0   75.0   \n",
              "3691                              Ehl√©n Johansson   50.0   109.2  175.0   \n",
              "3692                              Ehl√©n Johansson   50.0   151.6   91.0   \n",
              "3693                              Ehl√©n Johansson   50.0    90.8  135.0   \n",
              "\n",
              "                                    product_description  \\\n",
              "0                                     Item discontinued   \n",
              "1                                     Item discontinued   \n",
              "2                                     Item discontinued   \n",
              "3                                     Item discontinued   \n",
              "4                                     Item discontinued   \n",
              "...                                                 ...   \n",
              "3689  Shop for fitted wardrobes online at IKEA Saudi...   \n",
              "3690  Shop for fitted wardrobes online at IKEA Saudi...   \n",
              "3691  ELVARLI wardrobe combination, white, 175x51x22...   \n",
              "3692  ELVARLI wardrobe combination, white, 92x51x222...   \n",
              "3693  ELVARLI wardrobe combination, white, 135x51x22...   \n",
              "\n",
              "                     current_status  \\\n",
              "0                 Item discontinued   \n",
              "1                 Item discontinued   \n",
              "2                 Item discontinued   \n",
              "3                 Item discontinued   \n",
              "4                 Item discontinued   \n",
              "...                             ...   \n",
              "3689  Item still available for sale   \n",
              "3690  Item still available for sale   \n",
              "3691  Item still available for sale   \n",
              "3692  Item still available for sale   \n",
              "3693  Item still available for sale   \n",
              "\n",
              "                                               keywords topic_group  \\\n",
              "0                                                                     \n",
              "1                                                                     \n",
              "2                                                                     \n",
              "3                                                                     \n",
              "4                                                                     \n",
              "...                                                 ...         ...   \n",
              "3689                              fitted online stylish         1.0   \n",
              "3690                              fitted online stylish         1.0   \n",
              "3691  white 175x51x222-350 Make lovely decorative ad...         2.0   \n",
              "3692  white 92x51x222-350 Make lovely decorative adj...         2.0   \n",
              "3693  white 135x51x222-350 Make lovely decorative ad...         2.0   \n",
              "\n",
              "                     topic_desc  old_price_clean  \n",
              "0                                          265.0  \n",
              "1                                           69.0  \n",
              "2                                          295.0  \n",
              "3                                          345.0  \n",
              "4                                          395.0  \n",
              "...                         ...              ...  \n",
              "3689    Style and Functionality           2505.0  \n",
              "3690    Style and Functionality           1260.0  \n",
              "3691  Durability and Appearance           1815.0  \n",
              "3692  Durability and Appearance            820.0  \n",
              "3693  Durability and Appearance           1755.0  \n",
              "\n",
              "[3694 rows x 18 columns]"
            ],
            "text/html": [
              "\n",
              "  <div id=\"df-c20374a8-7883-4c51-9577-cd3193e292f9\" class=\"colab-df-container\">\n",
              "    <div>\n",
              "<style scoped>\n",
              "    .dataframe tbody tr th:only-of-type {\n",
              "        vertical-align: middle;\n",
              "    }\n",
              "\n",
              "    .dataframe tbody tr th {\n",
              "        vertical-align: top;\n",
              "    }\n",
              "\n",
              "    .dataframe thead th {\n",
              "        text-align: right;\n",
              "    }\n",
              "</style>\n",
              "<table border=\"1\" class=\"dataframe\">\n",
              "  <thead>\n",
              "    <tr style=\"text-align: right;\">\n",
              "      <th></th>\n",
              "      <th>item_id</th>\n",
              "      <th>name</th>\n",
              "      <th>category</th>\n",
              "      <th>price</th>\n",
              "      <th>sellable_online</th>\n",
              "      <th>link</th>\n",
              "      <th>other_colors</th>\n",
              "      <th>short_description</th>\n",
              "      <th>designer</th>\n",
              "      <th>depth</th>\n",
              "      <th>height</th>\n",
              "      <th>width</th>\n",
              "      <th>product_description</th>\n",
              "      <th>current_status</th>\n",
              "      <th>keywords</th>\n",
              "      <th>topic_group</th>\n",
              "      <th>topic_desc</th>\n",
              "      <th>old_price_clean</th>\n",
              "    </tr>\n",
              "  </thead>\n",
              "  <tbody>\n",
              "    <tr>\n",
              "      <th>0</th>\n",
              "      <td>90420332</td>\n",
              "      <td>FREKVENS</td>\n",
              "      <td>Bar furniture</td>\n",
              "      <td>265.0</td>\n",
              "      <td>True</td>\n",
              "      <td>https://www.ikea.com/sa/en/p/frekvens-bar-tabl...</td>\n",
              "      <td>No</td>\n",
              "      <td>Bar table, in/outdoor,          51x51 cm</td>\n",
              "      <td>Nicholai Wiig Hansen</td>\n",
              "      <td>48.8</td>\n",
              "      <td>99.0</td>\n",
              "      <td>51.0</td>\n",
              "      <td>Item discontinued</td>\n",
              "      <td>Item discontinued</td>\n",
              "      <td></td>\n",
              "      <td></td>\n",
              "      <td></td>\n",
              "      <td>265.0</td>\n",
              "    </tr>\n",
              "    <tr>\n",
              "      <th>1</th>\n",
              "      <td>80155205</td>\n",
              "      <td>STIG</td>\n",
              "      <td>Bar furniture</td>\n",
              "      <td>69.0</td>\n",
              "      <td>True</td>\n",
              "      <td>https://www.ikea.com/sa/en/p/stig-bar-stool-wi...</td>\n",
              "      <td>Yes</td>\n",
              "      <td>Bar stool with backrest,          74 cm</td>\n",
              "      <td>Henrik Preutz</td>\n",
              "      <td>50.0</td>\n",
              "      <td>100.0</td>\n",
              "      <td>60.0</td>\n",
              "      <td>Item discontinued</td>\n",
              "      <td>Item discontinued</td>\n",
              "      <td></td>\n",
              "      <td></td>\n",
              "      <td></td>\n",
              "      <td>69.0</td>\n",
              "    </tr>\n",
              "    <tr>\n",
              "      <th>2</th>\n",
              "      <td>50420329</td>\n",
              "      <td>FREKVENS</td>\n",
              "      <td>Bar furniture</td>\n",
              "      <td>177.0</td>\n",
              "      <td>True</td>\n",
              "      <td>https://www.ikea.com/sa/en/p/frekvens-bar-stoo...</td>\n",
              "      <td>No</td>\n",
              "      <td>Bar stool with backrest, in/outdoor,  ...</td>\n",
              "      <td>Nicholai Wiig Hansen</td>\n",
              "      <td>53.0</td>\n",
              "      <td>104.0</td>\n",
              "      <td>43.0</td>\n",
              "      <td>Item discontinued</td>\n",
              "      <td>Item discontinued</td>\n",
              "      <td></td>\n",
              "      <td></td>\n",
              "      <td></td>\n",
              "      <td>295.0</td>\n",
              "    </tr>\n",
              "    <tr>\n",
              "      <th>3</th>\n",
              "      <td>400550</td>\n",
              "      <td>EKEDALEN</td>\n",
              "      <td>Bar furniture</td>\n",
              "      <td>345.0</td>\n",
              "      <td>True</td>\n",
              "      <td>https://www.ikea.com/sa/en/p/ekedalen-bar-stoo...</td>\n",
              "      <td>No</td>\n",
              "      <td>Bar stool with backrest,          75 cm</td>\n",
              "      <td>Ehl√©n Johansson</td>\n",
              "      <td>52.0</td>\n",
              "      <td>114.0</td>\n",
              "      <td>43.0</td>\n",
              "      <td>Item discontinued</td>\n",
              "      <td>Item discontinued</td>\n",
              "      <td></td>\n",
              "      <td></td>\n",
              "      <td></td>\n",
              "      <td>345.0</td>\n",
              "    </tr>\n",
              "    <tr>\n",
              "      <th>4</th>\n",
              "      <td>40426138</td>\n",
              "      <td>HENRIKSDAL</td>\n",
              "      <td>Bar furniture</td>\n",
              "      <td>395.0</td>\n",
              "      <td>True</td>\n",
              "      <td>https://www.ikea.com/sa/en/p/henriksdal-bar-st...</td>\n",
              "      <td>No</td>\n",
              "      <td>Bar stool with backrest frame,        ...</td>\n",
              "      <td>Karl Malmvall</td>\n",
              "      <td>51.0</td>\n",
              "      <td>102.0</td>\n",
              "      <td>40.0</td>\n",
              "      <td>Item discontinued</td>\n",
              "      <td>Item discontinued</td>\n",
              "      <td></td>\n",
              "      <td></td>\n",
              "      <td></td>\n",
              "      <td>395.0</td>\n",
              "    </tr>\n",
              "    <tr>\n",
              "      <th>...</th>\n",
              "      <td>...</td>\n",
              "      <td>...</td>\n",
              "      <td>...</td>\n",
              "      <td>...</td>\n",
              "      <td>...</td>\n",
              "      <td>...</td>\n",
              "      <td>...</td>\n",
              "      <td>...</td>\n",
              "      <td>...</td>\n",
              "      <td>...</td>\n",
              "      <td>...</td>\n",
              "      <td>...</td>\n",
              "      <td>...</td>\n",
              "      <td>...</td>\n",
              "      <td>...</td>\n",
              "      <td>...</td>\n",
              "      <td>...</td>\n",
              "      <td>...</td>\n",
              "    </tr>\n",
              "    <tr>\n",
              "      <th>3689</th>\n",
              "      <td>19385677</td>\n",
              "      <td>PAX</td>\n",
              "      <td>Wardrobes</td>\n",
              "      <td>2505.0</td>\n",
              "      <td>True</td>\n",
              "      <td>https://www.ikea.com/sa/en/p/pax-wardrobe-comb...</td>\n",
              "      <td>Yes</td>\n",
              "      <td>Wardrobe combination,          150x58x...</td>\n",
              "      <td>Ehl√©n Johansson/Ola Wihlborg/IKEA of Sweden</td>\n",
              "      <td>58.0</td>\n",
              "      <td>236.0</td>\n",
              "      <td>150.0</td>\n",
              "      <td>Shop for fitted wardrobes online at IKEA Saudi...</td>\n",
              "      <td>Item still available for sale</td>\n",
              "      <td>fitted online stylish</td>\n",
              "      <td>1.0</td>\n",
              "      <td>Style and Functionality</td>\n",
              "      <td>2505.0</td>\n",
              "    </tr>\n",
              "    <tr>\n",
              "      <th>3690</th>\n",
              "      <td>39329299</td>\n",
              "      <td>PAX / FORSAND/VIKEDAL</td>\n",
              "      <td>Wardrobes</td>\n",
              "      <td>1260.0</td>\n",
              "      <td>True</td>\n",
              "      <td>https://www.ikea.com/sa/en/p/pax-forsand-viked...</td>\n",
              "      <td>Yes</td>\n",
              "      <td>Wardrobe combination,          75x60x2...</td>\n",
              "      <td>Ehl√©n Johansson/IKEA of Sweden</td>\n",
              "      <td>60.0</td>\n",
              "      <td>201.0</td>\n",
              "      <td>75.0</td>\n",
              "      <td>Shop for fitted wardrobes online at IKEA Saudi...</td>\n",
              "      <td>Item still available for sale</td>\n",
              "      <td>fitted online stylish</td>\n",
              "      <td>1.0</td>\n",
              "      <td>Style and Functionality</td>\n",
              "      <td>1260.0</td>\n",
              "    </tr>\n",
              "    <tr>\n",
              "      <th>3691</th>\n",
              "      <td>79302995</td>\n",
              "      <td>ELVARLI</td>\n",
              "      <td>Wardrobes</td>\n",
              "      <td>1611.0</td>\n",
              "      <td>True</td>\n",
              "      <td>https://www.ikea.com/sa/en/p/elvarli-2-section...</td>\n",
              "      <td>No</td>\n",
              "      <td>2 sections,          175x51x222-350 cm</td>\n",
              "      <td>Ehl√©n Johansson</td>\n",
              "      <td>50.0</td>\n",
              "      <td>109.2</td>\n",
              "      <td>175.0</td>\n",
              "      <td>ELVARLI wardrobe combination, white, 175x51x22...</td>\n",
              "      <td>Item still available for sale</td>\n",
              "      <td>white 175x51x222-350 Make lovely decorative ad...</td>\n",
              "      <td>2.0</td>\n",
              "      <td>Durability and Appearance</td>\n",
              "      <td>1815.0</td>\n",
              "    </tr>\n",
              "    <tr>\n",
              "      <th>3692</th>\n",
              "      <td>99157902</td>\n",
              "      <td>ELVARLI</td>\n",
              "      <td>Wardrobes</td>\n",
              "      <td>750.0</td>\n",
              "      <td>True</td>\n",
              "      <td>https://www.ikea.com/sa/en/p/elvarli-1-section...</td>\n",
              "      <td>No</td>\n",
              "      <td>1 section,          92x51x222-350 cm</td>\n",
              "      <td>Ehl√©n Johansson</td>\n",
              "      <td>50.0</td>\n",
              "      <td>151.6</td>\n",
              "      <td>91.0</td>\n",
              "      <td>ELVARLI wardrobe combination, white, 92x51x222...</td>\n",
              "      <td>Item still available for sale</td>\n",
              "      <td>white 92x51x222-350 Make lovely decorative adj...</td>\n",
              "      <td>2.0</td>\n",
              "      <td>Durability and Appearance</td>\n",
              "      <td>820.0</td>\n",
              "    </tr>\n",
              "    <tr>\n",
              "      <th>3693</th>\n",
              "      <td>9158152</td>\n",
              "      <td>ELVARLI</td>\n",
              "      <td>Wardrobes</td>\n",
              "      <td>1572.0</td>\n",
              "      <td>True</td>\n",
              "      <td>https://www.ikea.com/sa/en/p/elvarli-2-section...</td>\n",
              "      <td>No</td>\n",
              "      <td>2 sections,          135x51x222-350 cm</td>\n",
              "      <td>Ehl√©n Johansson</td>\n",
              "      <td>50.0</td>\n",
              "      <td>90.8</td>\n",
              "      <td>135.0</td>\n",
              "      <td>ELVARLI wardrobe combination, white, 135x51x22...</td>\n",
              "      <td>Item still available for sale</td>\n",
              "      <td>white 135x51x222-350 Make lovely decorative ad...</td>\n",
              "      <td>2.0</td>\n",
              "      <td>Durability and Appearance</td>\n",
              "      <td>1755.0</td>\n",
              "    </tr>\n",
              "  </tbody>\n",
              "</table>\n",
              "<p>3694 rows × 18 columns</p>\n",
              "</div>\n",
              "    <div class=\"colab-df-buttons\">\n",
              "\n",
              "  <div class=\"colab-df-container\">\n",
              "    <button class=\"colab-df-convert\" onclick=\"convertToInteractive('df-c20374a8-7883-4c51-9577-cd3193e292f9')\"\n",
              "            title=\"Convert this dataframe to an interactive table.\"\n",
              "            style=\"display:none;\">\n",
              "\n",
              "  <svg xmlns=\"http://www.w3.org/2000/svg\" height=\"24px\" viewBox=\"0 -960 960 960\">\n",
              "    <path d=\"M120-120v-720h720v720H120Zm60-500h600v-160H180v160Zm220 220h160v-160H400v160Zm0 220h160v-160H400v160ZM180-400h160v-160H180v160Zm440 0h160v-160H620v160ZM180-180h160v-160H180v160Zm440 0h160v-160H620v160Z\"/>\n",
              "  </svg>\n",
              "    </button>\n",
              "\n",
              "  <style>\n",
              "    .colab-df-container {\n",
              "      display:flex;\n",
              "      gap: 12px;\n",
              "    }\n",
              "\n",
              "    .colab-df-convert {\n",
              "      background-color: #E8F0FE;\n",
              "      border: none;\n",
              "      border-radius: 50%;\n",
              "      cursor: pointer;\n",
              "      display: none;\n",
              "      fill: #1967D2;\n",
              "      height: 32px;\n",
              "      padding: 0 0 0 0;\n",
              "      width: 32px;\n",
              "    }\n",
              "\n",
              "    .colab-df-convert:hover {\n",
              "      background-color: #E2EBFA;\n",
              "      box-shadow: 0px 1px 2px rgba(60, 64, 67, 0.3), 0px 1px 3px 1px rgba(60, 64, 67, 0.15);\n",
              "      fill: #174EA6;\n",
              "    }\n",
              "\n",
              "    .colab-df-buttons div {\n",
              "      margin-bottom: 4px;\n",
              "    }\n",
              "\n",
              "    [theme=dark] .colab-df-convert {\n",
              "      background-color: #3B4455;\n",
              "      fill: #D2E3FC;\n",
              "    }\n",
              "\n",
              "    [theme=dark] .colab-df-convert:hover {\n",
              "      background-color: #434B5C;\n",
              "      box-shadow: 0px 1px 3px 1px rgba(0, 0, 0, 0.15);\n",
              "      filter: drop-shadow(0px 1px 2px rgba(0, 0, 0, 0.3));\n",
              "      fill: #FFFFFF;\n",
              "    }\n",
              "  </style>\n",
              "\n",
              "    <script>\n",
              "      const buttonEl =\n",
              "        document.querySelector('#df-c20374a8-7883-4c51-9577-cd3193e292f9 button.colab-df-convert');\n",
              "      buttonEl.style.display =\n",
              "        google.colab.kernel.accessAllowed ? 'block' : 'none';\n",
              "\n",
              "      async function convertToInteractive(key) {\n",
              "        const element = document.querySelector('#df-c20374a8-7883-4c51-9577-cd3193e292f9');\n",
              "        const dataTable =\n",
              "          await google.colab.kernel.invokeFunction('convertToInteractive',\n",
              "                                                    [key], {});\n",
              "        if (!dataTable) return;\n",
              "\n",
              "        const docLinkHtml = 'Like what you see? Visit the ' +\n",
              "          '<a target=\"_blank\" href=https://colab.research.google.com/notebooks/data_table.ipynb>data table notebook</a>'\n",
              "          + ' to learn more about interactive tables.';\n",
              "        element.innerHTML = '';\n",
              "        dataTable['output_type'] = 'display_data';\n",
              "        await google.colab.output.renderOutput(dataTable, element);\n",
              "        const docLink = document.createElement('div');\n",
              "        docLink.innerHTML = docLinkHtml;\n",
              "        element.appendChild(docLink);\n",
              "      }\n",
              "    </script>\n",
              "  </div>\n",
              "\n",
              "\n",
              "    <div id=\"df-3365076d-f25a-454d-88e3-e8adb39395e7\">\n",
              "      <button class=\"colab-df-quickchart\" onclick=\"quickchart('df-3365076d-f25a-454d-88e3-e8adb39395e7')\"\n",
              "                title=\"Suggest charts\"\n",
              "                style=\"display:none;\">\n",
              "\n",
              "<svg xmlns=\"http://www.w3.org/2000/svg\" height=\"24px\"viewBox=\"0 0 24 24\"\n",
              "     width=\"24px\">\n",
              "    <g>\n",
              "        <path d=\"M19 3H5c-1.1 0-2 .9-2 2v14c0 1.1.9 2 2 2h14c1.1 0 2-.9 2-2V5c0-1.1-.9-2-2-2zM9 17H7v-7h2v7zm4 0h-2V7h2v10zm4 0h-2v-4h2v4z\"/>\n",
              "    </g>\n",
              "</svg>\n",
              "      </button>\n",
              "\n",
              "<style>\n",
              "  .colab-df-quickchart {\n",
              "      --bg-color: #E8F0FE;\n",
              "      --fill-color: #1967D2;\n",
              "      --hover-bg-color: #E2EBFA;\n",
              "      --hover-fill-color: #174EA6;\n",
              "      --disabled-fill-color: #AAA;\n",
              "      --disabled-bg-color: #DDD;\n",
              "  }\n",
              "\n",
              "  [theme=dark] .colab-df-quickchart {\n",
              "      --bg-color: #3B4455;\n",
              "      --fill-color: #D2E3FC;\n",
              "      --hover-bg-color: #434B5C;\n",
              "      --hover-fill-color: #FFFFFF;\n",
              "      --disabled-bg-color: #3B4455;\n",
              "      --disabled-fill-color: #666;\n",
              "  }\n",
              "\n",
              "  .colab-df-quickchart {\n",
              "    background-color: var(--bg-color);\n",
              "    border: none;\n",
              "    border-radius: 50%;\n",
              "    cursor: pointer;\n",
              "    display: none;\n",
              "    fill: var(--fill-color);\n",
              "    height: 32px;\n",
              "    padding: 0;\n",
              "    width: 32px;\n",
              "  }\n",
              "\n",
              "  .colab-df-quickchart:hover {\n",
              "    background-color: var(--hover-bg-color);\n",
              "    box-shadow: 0 1px 2px rgba(60, 64, 67, 0.3), 0 1px 3px 1px rgba(60, 64, 67, 0.15);\n",
              "    fill: var(--button-hover-fill-color);\n",
              "  }\n",
              "\n",
              "  .colab-df-quickchart-complete:disabled,\n",
              "  .colab-df-quickchart-complete:disabled:hover {\n",
              "    background-color: var(--disabled-bg-color);\n",
              "    fill: var(--disabled-fill-color);\n",
              "    box-shadow: none;\n",
              "  }\n",
              "\n",
              "  .colab-df-spinner {\n",
              "    border: 2px solid var(--fill-color);\n",
              "    border-color: transparent;\n",
              "    border-bottom-color: var(--fill-color);\n",
              "    animation:\n",
              "      spin 1s steps(1) infinite;\n",
              "  }\n",
              "\n",
              "  @keyframes spin {\n",
              "    0% {\n",
              "      border-color: transparent;\n",
              "      border-bottom-color: var(--fill-color);\n",
              "      border-left-color: var(--fill-color);\n",
              "    }\n",
              "    20% {\n",
              "      border-color: transparent;\n",
              "      border-left-color: var(--fill-color);\n",
              "      border-top-color: var(--fill-color);\n",
              "    }\n",
              "    30% {\n",
              "      border-color: transparent;\n",
              "      border-left-color: var(--fill-color);\n",
              "      border-top-color: var(--fill-color);\n",
              "      border-right-color: var(--fill-color);\n",
              "    }\n",
              "    40% {\n",
              "      border-color: transparent;\n",
              "      border-right-color: var(--fill-color);\n",
              "      border-top-color: var(--fill-color);\n",
              "    }\n",
              "    60% {\n",
              "      border-color: transparent;\n",
              "      border-right-color: var(--fill-color);\n",
              "    }\n",
              "    80% {\n",
              "      border-color: transparent;\n",
              "      border-right-color: var(--fill-color);\n",
              "      border-bottom-color: var(--fill-color);\n",
              "    }\n",
              "    90% {\n",
              "      border-color: transparent;\n",
              "      border-bottom-color: var(--fill-color);\n",
              "    }\n",
              "  }\n",
              "</style>\n",
              "\n",
              "      <script>\n",
              "        async function quickchart(key) {\n",
              "          const quickchartButtonEl =\n",
              "            document.querySelector('#' + key + ' button');\n",
              "          quickchartButtonEl.disabled = true;  // To prevent multiple clicks.\n",
              "          quickchartButtonEl.classList.add('colab-df-spinner');\n",
              "          try {\n",
              "            const charts = await google.colab.kernel.invokeFunction(\n",
              "                'suggestCharts', [key], {});\n",
              "          } catch (error) {\n",
              "            console.error('Error during call to suggestCharts:', error);\n",
              "          }\n",
              "          quickchartButtonEl.classList.remove('colab-df-spinner');\n",
              "          quickchartButtonEl.classList.add('colab-df-quickchart-complete');\n",
              "        }\n",
              "        (() => {\n",
              "          let quickchartButtonEl =\n",
              "            document.querySelector('#df-3365076d-f25a-454d-88e3-e8adb39395e7 button');\n",
              "          quickchartButtonEl.style.display =\n",
              "            google.colab.kernel.accessAllowed ? 'block' : 'none';\n",
              "        })();\n",
              "      </script>\n",
              "    </div>\n",
              "\n",
              "  <div id=\"id_86ba5853-4811-4472-9a48-926659cb026b\">\n",
              "    <style>\n",
              "      .colab-df-generate {\n",
              "        background-color: #E8F0FE;\n",
              "        border: none;\n",
              "        border-radius: 50%;\n",
              "        cursor: pointer;\n",
              "        display: none;\n",
              "        fill: #1967D2;\n",
              "        height: 32px;\n",
              "        padding: 0 0 0 0;\n",
              "        width: 32px;\n",
              "      }\n",
              "\n",
              "      .colab-df-generate:hover {\n",
              "        background-color: #E2EBFA;\n",
              "        box-shadow: 0px 1px 2px rgba(60, 64, 67, 0.3), 0px 1px 3px 1px rgba(60, 64, 67, 0.15);\n",
              "        fill: #174EA6;\n",
              "      }\n",
              "\n",
              "      [theme=dark] .colab-df-generate {\n",
              "        background-color: #3B4455;\n",
              "        fill: #D2E3FC;\n",
              "      }\n",
              "\n",
              "      [theme=dark] .colab-df-generate:hover {\n",
              "        background-color: #434B5C;\n",
              "        box-shadow: 0px 1px 3px 1px rgba(0, 0, 0, 0.15);\n",
              "        filter: drop-shadow(0px 1px 2px rgba(0, 0, 0, 0.3));\n",
              "        fill: #FFFFFF;\n",
              "      }\n",
              "    </style>\n",
              "    <button class=\"colab-df-generate\" onclick=\"generateWithVariable('data')\"\n",
              "            title=\"Generate code using this dataframe.\"\n",
              "            style=\"display:none;\">\n",
              "\n",
              "  <svg xmlns=\"http://www.w3.org/2000/svg\" height=\"24px\"viewBox=\"0 0 24 24\"\n",
              "       width=\"24px\">\n",
              "    <path d=\"M7,19H8.4L18.45,9,17,7.55,7,17.6ZM5,21V16.75L18.45,3.32a2,2,0,0,1,2.83,0l1.4,1.43a1.91,1.91,0,0,1,.58,1.4,1.91,1.91,0,0,1-.58,1.4L9.25,21ZM18.45,9,17,7.55Zm-12,3A5.31,5.31,0,0,0,4.9,8.1,5.31,5.31,0,0,0,1,6.5,5.31,5.31,0,0,0,4.9,4.9,5.31,5.31,0,0,0,6.5,1,5.31,5.31,0,0,0,8.1,4.9,5.31,5.31,0,0,0,12,6.5,5.46,5.46,0,0,0,6.5,12Z\"/>\n",
              "  </svg>\n",
              "    </button>\n",
              "    <script>\n",
              "      (() => {\n",
              "      const buttonEl =\n",
              "        document.querySelector('#id_86ba5853-4811-4472-9a48-926659cb026b button.colab-df-generate');\n",
              "      buttonEl.style.display =\n",
              "        google.colab.kernel.accessAllowed ? 'block' : 'none';\n",
              "\n",
              "      buttonEl.onclick = () => {\n",
              "        google.colab.notebook.generateWithVariable('data');\n",
              "      }\n",
              "      })();\n",
              "    </script>\n",
              "  </div>\n",
              "\n",
              "    </div>\n",
              "  </div>\n"
            ],
            "application/vnd.google.colaboratory.intrinsic+json": {
              "type": "dataframe",
              "variable_name": "data",
              "summary": "{\n  \"name\": \"data\",\n  \"rows\": 3694,\n  \"fields\": [\n    {\n      \"column\": \"item_id\",\n      \"properties\": {\n        \"dtype\": \"number\",\n        \"std\": 28887094,\n        \"min\": 58487,\n        \"max\": 99932615,\n        \"num_unique_values\": 2962,\n        \"samples\": [\n          79248588,\n          59214240,\n          19011777\n        ],\n        \"semantic_type\": \"\",\n        \"description\": \"\"\n      }\n    },\n    {\n      \"column\": \"name\",\n      \"properties\": {\n        \"dtype\": \"category\",\n        \"num_unique_values\": 607,\n        \"samples\": [\n          \"STOCKHOLM\",\n          \"KUDDARNA\",\n          \"ALGOT\"\n        ],\n        \"semantic_type\": \"\",\n        \"description\": \"\"\n      }\n    },\n    {\n      \"column\": \"category\",\n      \"properties\": {\n        \"dtype\": \"category\",\n        \"num_unique_values\": 17,\n        \"samples\": [\n          \"Bar furniture\",\n          \"Beds\",\n          \"Chairs\"\n        ],\n        \"semantic_type\": \"\",\n        \"description\": \"\"\n      }\n    },\n    {\n      \"column\": \"price\",\n      \"properties\": {\n        \"dtype\": \"number\",\n        \"std\": 1374.6524941516225,\n        \"min\": 3.0,\n        \"max\": 9585.0,\n        \"num_unique_values\": 979,\n        \"samples\": [\n          575.0,\n          2616.4,\n          775.0\n        ],\n        \"semantic_type\": \"\",\n        \"description\": \"\"\n      }\n    },\n    {\n      \"column\": \"sellable_online\",\n      \"properties\": {\n        \"dtype\": \"boolean\",\n        \"num_unique_values\": 2,\n        \"samples\": [\n          false,\n          true\n        ],\n        \"semantic_type\": \"\",\n        \"description\": \"\"\n      }\n    },\n    {\n      \"column\": \"link\",\n      \"properties\": {\n        \"dtype\": \"string\",\n        \"num_unique_values\": 2962,\n        \"samples\": [\n          \"https://www.ikea.com/sa/en/p/platsa-wardrobe-white-fonnes-white-s79248588/\",\n          \"https://www.ikea.com/sa/en/p/linnmon-olov-table-geometric-beige-silver-colour-s59214240/\"\n        ],\n        \"semantic_type\": \"\",\n        \"description\": \"\"\n      }\n    },\n    {\n      \"column\": \"other_colors\",\n      \"properties\": {\n        \"dtype\": \"category\",\n        \"num_unique_values\": 2,\n        \"samples\": [\n          \"Yes\",\n          \"No\"\n        ],\n        \"semantic_type\": \"\",\n        \"description\": \"\"\n      }\n    },\n    {\n      \"column\": \"short_description\",\n      \"properties\": {\n        \"dtype\": \"category\",\n        \"num_unique_values\": 1706,\n        \"samples\": [\n          \"        Children's chair\",\n          \"        Frame/mesh baskets/clothes rails,          148x51x207 cm\"\n        ],\n        \"semantic_type\": \"\",\n        \"description\": \"\"\n      }\n    },\n    {\n      \"column\": \"designer\",\n      \"properties\": {\n        \"dtype\": \"category\",\n        \"num_unique_values\": 381,\n        \"samples\": [\n          \"Jomi Evers\",\n          \"Ola Wihlborg/Ehl\\u221a\\u00a9n Johansson\"\n        ],\n        \"semantic_type\": \"\",\n        \"description\": \"\"\n      }\n    },\n    {\n      \"column\": \"depth\",\n      \"properties\": {\n        \"dtype\": \"number\",\n        \"std\": 25.44116556449237,\n        \"min\": 1.0,\n        \"max\": 257.0,\n        \"num_unique_values\": 335,\n        \"samples\": [\n          59.4,\n          22.0\n        ],\n        \"semantic_type\": \"\",\n        \"description\": \"\"\n      }\n    },\n    {\n      \"column\": \"height\",\n      \"properties\": {\n        \"dtype\": \"number\",\n        \"std\": 56.38318312448228,\n        \"min\": 1.0,\n        \"max\": 700.0,\n        \"num_unique_values\": 495,\n        \"samples\": [\n          75.6,\n          190.0\n        ],\n        \"semantic_type\": \"\",\n        \"description\": \"\"\n      }\n    },\n    {\n      \"column\": \"width\",\n      \"properties\": {\n        \"dtype\": \"number\",\n        \"std\": 67.51333193467055,\n        \"min\": 1.0,\n        \"max\": 420.0,\n        \"num_unique_values\": 491,\n        \"samples\": [\n          106.0,\n          46.0\n        ],\n        \"semantic_type\": \"\",\n        \"description\": \"\"\n      }\n    },\n    {\n      \"column\": \"product_description\",\n      \"properties\": {\n        \"dtype\": \"category\",\n        \"num_unique_values\": 960,\n        \"samples\": [\n          \"LISABO coffee table, ash veneer, 118x50 cm We\\u201a\\u00c4\\u00f4re proud of our LISABO series, awarded with the prestigious, international Red Dot Award, for its design. The products are durable, sturdy and easy to assemble, yet look light and hand-crafted. Easy to assemble as each leg only has one fitting.\",\n          \"JUSTINA chair pad, grey, 42/35x40x4 cm Simple and stylish, but above all - comfy. The thick, soft foam filling will make even the most restless feel relaxed at the table. Several colours to choose from \\u201a\\u00c4\\u00ec pick your favourite. The thick foam filling provides great comfort and long-lasting support.\"\n        ],\n        \"semantic_type\": \"\",\n        \"description\": \"\"\n      }\n    },\n    {\n      \"column\": \"current_status\",\n      \"properties\": {\n        \"dtype\": \"category\",\n        \"num_unique_values\": 2,\n        \"samples\": [\n          \"Item still available for sale\",\n          \"Item discontinued\"\n        ],\n        \"semantic_type\": \"\",\n        \"description\": \"\"\n      }\n    },\n    {\n      \"column\": \"keywords\",\n      \"properties\": {\n        \"dtype\": \"category\",\n        \"num_unique_values\": 724,\n        \"samples\": [\n          \"white lightweight stackable easy different eager please\",\n          \"outdoor maintenance-free patio stylish functional allows pass\"\n        ],\n        \"semantic_type\": \"\",\n        \"description\": \"\"\n      }\n    },\n    {\n      \"column\": \"topic_group\",\n      \"properties\": {\n        \"dtype\": \"object\",\n        \"num_unique_values\": 4,\n        \"samples\": [\n          2.0,\n          0.0\n        ],\n        \"semantic_type\": \"\",\n        \"description\": \"\"\n      }\n    },\n    {\n      \"column\": \"topic_desc\",\n      \"properties\": {\n        \"dtype\": \"category\",\n        \"num_unique_values\": 4,\n        \"samples\": [\n          \"Durability and Appearance\",\n          \"Color and Aesthetics, Usability\"\n        ],\n        \"semantic_type\": \"\",\n        \"description\": \"\"\n      }\n    },\n    {\n      \"column\": \"old_price_clean\",\n      \"properties\": {\n        \"dtype\": \"number\",\n        \"std\": 1443.4998067120296,\n        \"min\": 3.0,\n        \"max\": 9985.0,\n        \"num_unique_values\": 846,\n        \"samples\": [\n          1285.0,\n          340.0\n        ],\n        \"semantic_type\": \"\",\n        \"description\": \"\"\n      }\n    }\n  ]\n}"
            }
          },
          "metadata": {},
          "execution_count": 31
        }
      ],
      "execution_count": null,
      "source": [
        "data"
      ],
      "id": "c2948e0392f03645"
    },
    {
      "metadata": {
        "colab": {
          "base_uri": "https://localhost:8080/"
        },
        "id": "20044e50ea47bcfa",
        "outputId": "75c190d0-b893-4aa3-a708-5554c3aefe9d"
      },
      "cell_type": "code",
      "outputs": [
        {
          "output_type": "stream",
          "name": "stdout",
          "text": [
            "Proportion of products available for online purcharse:0.99\n"
          ]
        }
      ],
      "execution_count": null,
      "source": [
        "online_products=data[data['sellable_online']==True]\n",
        "total_products=len(data)\n",
        "\n",
        "proportion_online=len(online_products)/total_products\n",
        "print(f\"Proportion of products available for online purcharse:{proportion_online:.2f}\")"
      ],
      "id": "20044e50ea47bcfa"
    },
    {
      "cell_type": "code",
      "source": [
        "print(data['sellable_online'].value_counts())"
      ],
      "metadata": {
        "colab": {
          "base_uri": "https://localhost:8080/"
        },
        "id": "_0iy0FfqoWP-",
        "outputId": "4745795b-f1af-4d97-eadf-b5b68d15685e"
      },
      "id": "_0iy0FfqoWP-",
      "execution_count": null,
      "outputs": [
        {
          "output_type": "stream",
          "name": "stdout",
          "text": [
            "sellable_online\n",
            "True     3666\n",
            "False      28\n",
            "Name: count, dtype: int64\n"
          ]
        }
      ]
    },
    {
      "metadata": {
        "colab": {
          "base_uri": "https://localhost:8080/"
        },
        "id": "907ae9b2595b7b7d",
        "outputId": "4d343731-9413-4878-ebbc-2c9538eff056"
      },
      "cell_type": "code",
      "outputs": [
        {
          "output_type": "execute_result",
          "data": {
            "text/plain": [
              "3694"
            ]
          },
          "metadata": {},
          "execution_count": 34
        }
      ],
      "execution_count": null,
      "source": [
        "total_products"
      ],
      "id": "907ae9b2595b7b7d"
    },
    {
      "metadata": {
        "colab": {
          "base_uri": "https://localhost:8080/"
        },
        "id": "51fffcaaf4900b42",
        "outputId": "c6beb9c7-5a4a-4ad8-c51e-7f4b759c8e62"
      },
      "cell_type": "code",
      "outputs": [
        {
          "output_type": "execute_result",
          "data": {
            "text/plain": [
              "3666"
            ]
          },
          "metadata": {},
          "execution_count": 35
        }
      ],
      "execution_count": null,
      "source": [
        "len(online_products)"
      ],
      "id": "51fffcaaf4900b42"
    },
    {
      "metadata": {
        "colab": {
          "base_uri": "https://localhost:8080/"
        },
        "id": "317e7b64431622a2",
        "outputId": "ec2bb8f8-0cdf-4089-fa4f-c04e8bc9a4ee"
      },
      "cell_type": "code",
      "outputs": [
        {
          "output_type": "execute_result",
          "data": {
            "text/plain": [
              "np.int64(3666)"
            ]
          },
          "metadata": {},
          "execution_count": 36
        }
      ],
      "execution_count": null,
      "source": [
        "(data['sellable_online']==True).sum()"
      ],
      "id": "317e7b64431622a2"
    },
    {
      "cell_type": "markdown",
      "source": [
        "Price Change Analysis: Determine how many products have a recorded change between price and old_price."
      ],
      "metadata": {
        "id": "xKR5jxOpEmaJ"
      },
      "id": "xKR5jxOpEmaJ"
    },
    {
      "metadata": {
        "colab": {
          "base_uri": "https://localhost:8080/"
        },
        "id": "6d9dc9f153aef09d",
        "outputId": "70bb41ad-6284-42d3-940e-b21b5006b14d"
      },
      "cell_type": "code",
      "outputs": [
        {
          "output_type": "stream",
          "name": "stdout",
          "text": [
            "Number of products with a price change:654\n"
          ]
        }
      ],
      "execution_count": null,
      "source": [
        "price_changed=data[data['price']!=data['old_price_clean']]\n",
        "number_changed_products=len(price_changed)\n",
        "\n",
        "print(f'Number of products with a price change:{number_changed_products}')"
      ],
      "id": "6d9dc9f153aef09d"
    },
    {
      "metadata": {
        "colab": {
          "base_uri": "https://localhost:8080/"
        },
        "id": "3d9bfd09ef57b9f8",
        "outputId": "39b0ef13-3605-4539-954f-5b7ed34e3830"
      },
      "cell_type": "code",
      "outputs": [
        {
          "output_type": "stream",
          "name": "stdout",
          "text": [
            "Bərabər qiymətə sahib məhsul sayı: 3040\n"
          ]
        }
      ],
      "execution_count": null,
      "source": [
        "equal_prices_count = (data['price'] == data['old_price_clean']).sum()\n",
        "print(f\"Bərabər qiymətə sahib məhsul sayı: {equal_prices_count}\")"
      ],
      "id": "3d9bfd09ef57b9f8"
    },
    {
      "metadata": {
        "colab": {
          "base_uri": "https://localhost:8080/"
        },
        "id": "357a8ca3b0c933e9",
        "outputId": "1d7336f1-1b3a-4cd6-cdb7-d6bbd3f8d35d"
      },
      "cell_type": "code",
      "outputs": [
        {
          "output_type": "stream",
          "name": "stdout",
          "text": [
            "Bərabər qiymətə sahib məhsulların nisbəti: 82.30%\n"
          ]
        }
      ],
      "execution_count": null,
      "source": [
        "total_products = len(data)\n",
        "equal_prices_count = (data['price'] == data['old_price_clean']).sum()\n",
        "equal_prices_ratio = equal_prices_count / total_products\n",
        "\n",
        "print(f\"Bərabər qiymətə sahib məhsulların nisbəti: {equal_prices_ratio:.2%}\")"
      ],
      "id": "357a8ca3b0c933e9"
    },
    {
      "cell_type": "code",
      "source": [
        "data.head()"
      ],
      "metadata": {
        "colab": {
          "base_uri": "https://localhost:8080/",
          "height": 348
        },
        "id": "vpESkmz8EZXg",
        "outputId": "e460d547-5feb-4eba-ec6c-39ae376db4ad"
      },
      "id": "vpESkmz8EZXg",
      "execution_count": null,
      "outputs": [
        {
          "output_type": "execute_result",
          "data": {
            "text/plain": [
              "    item_id        name       category  price  sellable_online  \\\n",
              "0  90420332    FREKVENS  Bar furniture  265.0             True   \n",
              "1  80155205        STIG  Bar furniture   69.0             True   \n",
              "2  50420329    FREKVENS  Bar furniture  177.0             True   \n",
              "3    400550    EKEDALEN  Bar furniture  345.0             True   \n",
              "4  40426138  HENRIKSDAL  Bar furniture  395.0             True   \n",
              "\n",
              "                                                link other_colors  \\\n",
              "0  https://www.ikea.com/sa/en/p/frekvens-bar-tabl...           No   \n",
              "1  https://www.ikea.com/sa/en/p/stig-bar-stool-wi...          Yes   \n",
              "2  https://www.ikea.com/sa/en/p/frekvens-bar-stoo...           No   \n",
              "3  https://www.ikea.com/sa/en/p/ekedalen-bar-stoo...           No   \n",
              "4  https://www.ikea.com/sa/en/p/henriksdal-bar-st...           No   \n",
              "\n",
              "                                   short_description              designer  \\\n",
              "0           Bar table, in/outdoor,          51x51 cm  Nicholai Wiig Hansen   \n",
              "1            Bar stool with backrest,          74 cm         Henrik Preutz   \n",
              "2          Bar stool with backrest, in/outdoor,  ...  Nicholai Wiig Hansen   \n",
              "3            Bar stool with backrest,          75 cm      Ehl√©n Johansson   \n",
              "4          Bar stool with backrest frame,        ...         Karl Malmvall   \n",
              "\n",
              "   depth  height  width product_description     current_status keywords  \\\n",
              "0   48.8    99.0   51.0   Item discontinued  Item discontinued            \n",
              "1   50.0   100.0   60.0   Item discontinued  Item discontinued            \n",
              "2   53.0   104.0   43.0   Item discontinued  Item discontinued            \n",
              "3   52.0   114.0   43.0   Item discontinued  Item discontinued            \n",
              "4   51.0   102.0   40.0   Item discontinued  Item discontinued            \n",
              "\n",
              "  topic_group topic_desc  old_price_clean  \n",
              "0                                   265.0  \n",
              "1                                    69.0  \n",
              "2                                   295.0  \n",
              "3                                   345.0  \n",
              "4                                   395.0  "
            ],
            "text/html": [
              "\n",
              "  <div id=\"df-0bc62d57-c26a-45a6-981b-3493e8c4b487\" class=\"colab-df-container\">\n",
              "    <div>\n",
              "<style scoped>\n",
              "    .dataframe tbody tr th:only-of-type {\n",
              "        vertical-align: middle;\n",
              "    }\n",
              "\n",
              "    .dataframe tbody tr th {\n",
              "        vertical-align: top;\n",
              "    }\n",
              "\n",
              "    .dataframe thead th {\n",
              "        text-align: right;\n",
              "    }\n",
              "</style>\n",
              "<table border=\"1\" class=\"dataframe\">\n",
              "  <thead>\n",
              "    <tr style=\"text-align: right;\">\n",
              "      <th></th>\n",
              "      <th>item_id</th>\n",
              "      <th>name</th>\n",
              "      <th>category</th>\n",
              "      <th>price</th>\n",
              "      <th>sellable_online</th>\n",
              "      <th>link</th>\n",
              "      <th>other_colors</th>\n",
              "      <th>short_description</th>\n",
              "      <th>designer</th>\n",
              "      <th>depth</th>\n",
              "      <th>height</th>\n",
              "      <th>width</th>\n",
              "      <th>product_description</th>\n",
              "      <th>current_status</th>\n",
              "      <th>keywords</th>\n",
              "      <th>topic_group</th>\n",
              "      <th>topic_desc</th>\n",
              "      <th>old_price_clean</th>\n",
              "    </tr>\n",
              "  </thead>\n",
              "  <tbody>\n",
              "    <tr>\n",
              "      <th>0</th>\n",
              "      <td>90420332</td>\n",
              "      <td>FREKVENS</td>\n",
              "      <td>Bar furniture</td>\n",
              "      <td>265.0</td>\n",
              "      <td>True</td>\n",
              "      <td>https://www.ikea.com/sa/en/p/frekvens-bar-tabl...</td>\n",
              "      <td>No</td>\n",
              "      <td>Bar table, in/outdoor,          51x51 cm</td>\n",
              "      <td>Nicholai Wiig Hansen</td>\n",
              "      <td>48.8</td>\n",
              "      <td>99.0</td>\n",
              "      <td>51.0</td>\n",
              "      <td>Item discontinued</td>\n",
              "      <td>Item discontinued</td>\n",
              "      <td></td>\n",
              "      <td></td>\n",
              "      <td></td>\n",
              "      <td>265.0</td>\n",
              "    </tr>\n",
              "    <tr>\n",
              "      <th>1</th>\n",
              "      <td>80155205</td>\n",
              "      <td>STIG</td>\n",
              "      <td>Bar furniture</td>\n",
              "      <td>69.0</td>\n",
              "      <td>True</td>\n",
              "      <td>https://www.ikea.com/sa/en/p/stig-bar-stool-wi...</td>\n",
              "      <td>Yes</td>\n",
              "      <td>Bar stool with backrest,          74 cm</td>\n",
              "      <td>Henrik Preutz</td>\n",
              "      <td>50.0</td>\n",
              "      <td>100.0</td>\n",
              "      <td>60.0</td>\n",
              "      <td>Item discontinued</td>\n",
              "      <td>Item discontinued</td>\n",
              "      <td></td>\n",
              "      <td></td>\n",
              "      <td></td>\n",
              "      <td>69.0</td>\n",
              "    </tr>\n",
              "    <tr>\n",
              "      <th>2</th>\n",
              "      <td>50420329</td>\n",
              "      <td>FREKVENS</td>\n",
              "      <td>Bar furniture</td>\n",
              "      <td>177.0</td>\n",
              "      <td>True</td>\n",
              "      <td>https://www.ikea.com/sa/en/p/frekvens-bar-stoo...</td>\n",
              "      <td>No</td>\n",
              "      <td>Bar stool with backrest, in/outdoor,  ...</td>\n",
              "      <td>Nicholai Wiig Hansen</td>\n",
              "      <td>53.0</td>\n",
              "      <td>104.0</td>\n",
              "      <td>43.0</td>\n",
              "      <td>Item discontinued</td>\n",
              "      <td>Item discontinued</td>\n",
              "      <td></td>\n",
              "      <td></td>\n",
              "      <td></td>\n",
              "      <td>295.0</td>\n",
              "    </tr>\n",
              "    <tr>\n",
              "      <th>3</th>\n",
              "      <td>400550</td>\n",
              "      <td>EKEDALEN</td>\n",
              "      <td>Bar furniture</td>\n",
              "      <td>345.0</td>\n",
              "      <td>True</td>\n",
              "      <td>https://www.ikea.com/sa/en/p/ekedalen-bar-stoo...</td>\n",
              "      <td>No</td>\n",
              "      <td>Bar stool with backrest,          75 cm</td>\n",
              "      <td>Ehl√©n Johansson</td>\n",
              "      <td>52.0</td>\n",
              "      <td>114.0</td>\n",
              "      <td>43.0</td>\n",
              "      <td>Item discontinued</td>\n",
              "      <td>Item discontinued</td>\n",
              "      <td></td>\n",
              "      <td></td>\n",
              "      <td></td>\n",
              "      <td>345.0</td>\n",
              "    </tr>\n",
              "    <tr>\n",
              "      <th>4</th>\n",
              "      <td>40426138</td>\n",
              "      <td>HENRIKSDAL</td>\n",
              "      <td>Bar furniture</td>\n",
              "      <td>395.0</td>\n",
              "      <td>True</td>\n",
              "      <td>https://www.ikea.com/sa/en/p/henriksdal-bar-st...</td>\n",
              "      <td>No</td>\n",
              "      <td>Bar stool with backrest frame,        ...</td>\n",
              "      <td>Karl Malmvall</td>\n",
              "      <td>51.0</td>\n",
              "      <td>102.0</td>\n",
              "      <td>40.0</td>\n",
              "      <td>Item discontinued</td>\n",
              "      <td>Item discontinued</td>\n",
              "      <td></td>\n",
              "      <td></td>\n",
              "      <td></td>\n",
              "      <td>395.0</td>\n",
              "    </tr>\n",
              "  </tbody>\n",
              "</table>\n",
              "</div>\n",
              "    <div class=\"colab-df-buttons\">\n",
              "\n",
              "  <div class=\"colab-df-container\">\n",
              "    <button class=\"colab-df-convert\" onclick=\"convertToInteractive('df-0bc62d57-c26a-45a6-981b-3493e8c4b487')\"\n",
              "            title=\"Convert this dataframe to an interactive table.\"\n",
              "            style=\"display:none;\">\n",
              "\n",
              "  <svg xmlns=\"http://www.w3.org/2000/svg\" height=\"24px\" viewBox=\"0 -960 960 960\">\n",
              "    <path d=\"M120-120v-720h720v720H120Zm60-500h600v-160H180v160Zm220 220h160v-160H400v160Zm0 220h160v-160H400v160ZM180-400h160v-160H180v160Zm440 0h160v-160H620v160ZM180-180h160v-160H180v160Zm440 0h160v-160H620v160Z\"/>\n",
              "  </svg>\n",
              "    </button>\n",
              "\n",
              "  <style>\n",
              "    .colab-df-container {\n",
              "      display:flex;\n",
              "      gap: 12px;\n",
              "    }\n",
              "\n",
              "    .colab-df-convert {\n",
              "      background-color: #E8F0FE;\n",
              "      border: none;\n",
              "      border-radius: 50%;\n",
              "      cursor: pointer;\n",
              "      display: none;\n",
              "      fill: #1967D2;\n",
              "      height: 32px;\n",
              "      padding: 0 0 0 0;\n",
              "      width: 32px;\n",
              "    }\n",
              "\n",
              "    .colab-df-convert:hover {\n",
              "      background-color: #E2EBFA;\n",
              "      box-shadow: 0px 1px 2px rgba(60, 64, 67, 0.3), 0px 1px 3px 1px rgba(60, 64, 67, 0.15);\n",
              "      fill: #174EA6;\n",
              "    }\n",
              "\n",
              "    .colab-df-buttons div {\n",
              "      margin-bottom: 4px;\n",
              "    }\n",
              "\n",
              "    [theme=dark] .colab-df-convert {\n",
              "      background-color: #3B4455;\n",
              "      fill: #D2E3FC;\n",
              "    }\n",
              "\n",
              "    [theme=dark] .colab-df-convert:hover {\n",
              "      background-color: #434B5C;\n",
              "      box-shadow: 0px 1px 3px 1px rgba(0, 0, 0, 0.15);\n",
              "      filter: drop-shadow(0px 1px 2px rgba(0, 0, 0, 0.3));\n",
              "      fill: #FFFFFF;\n",
              "    }\n",
              "  </style>\n",
              "\n",
              "    <script>\n",
              "      const buttonEl =\n",
              "        document.querySelector('#df-0bc62d57-c26a-45a6-981b-3493e8c4b487 button.colab-df-convert');\n",
              "      buttonEl.style.display =\n",
              "        google.colab.kernel.accessAllowed ? 'block' : 'none';\n",
              "\n",
              "      async function convertToInteractive(key) {\n",
              "        const element = document.querySelector('#df-0bc62d57-c26a-45a6-981b-3493e8c4b487');\n",
              "        const dataTable =\n",
              "          await google.colab.kernel.invokeFunction('convertToInteractive',\n",
              "                                                    [key], {});\n",
              "        if (!dataTable) return;\n",
              "\n",
              "        const docLinkHtml = 'Like what you see? Visit the ' +\n",
              "          '<a target=\"_blank\" href=https://colab.research.google.com/notebooks/data_table.ipynb>data table notebook</a>'\n",
              "          + ' to learn more about interactive tables.';\n",
              "        element.innerHTML = '';\n",
              "        dataTable['output_type'] = 'display_data';\n",
              "        await google.colab.output.renderOutput(dataTable, element);\n",
              "        const docLink = document.createElement('div');\n",
              "        docLink.innerHTML = docLinkHtml;\n",
              "        element.appendChild(docLink);\n",
              "      }\n",
              "    </script>\n",
              "  </div>\n",
              "\n",
              "\n",
              "    <div id=\"df-0debc31d-2ff8-471b-91fa-72f2f5d8b02d\">\n",
              "      <button class=\"colab-df-quickchart\" onclick=\"quickchart('df-0debc31d-2ff8-471b-91fa-72f2f5d8b02d')\"\n",
              "                title=\"Suggest charts\"\n",
              "                style=\"display:none;\">\n",
              "\n",
              "<svg xmlns=\"http://www.w3.org/2000/svg\" height=\"24px\"viewBox=\"0 0 24 24\"\n",
              "     width=\"24px\">\n",
              "    <g>\n",
              "        <path d=\"M19 3H5c-1.1 0-2 .9-2 2v14c0 1.1.9 2 2 2h14c1.1 0 2-.9 2-2V5c0-1.1-.9-2-2-2zM9 17H7v-7h2v7zm4 0h-2V7h2v10zm4 0h-2v-4h2v4z\"/>\n",
              "    </g>\n",
              "</svg>\n",
              "      </button>\n",
              "\n",
              "<style>\n",
              "  .colab-df-quickchart {\n",
              "      --bg-color: #E8F0FE;\n",
              "      --fill-color: #1967D2;\n",
              "      --hover-bg-color: #E2EBFA;\n",
              "      --hover-fill-color: #174EA6;\n",
              "      --disabled-fill-color: #AAA;\n",
              "      --disabled-bg-color: #DDD;\n",
              "  }\n",
              "\n",
              "  [theme=dark] .colab-df-quickchart {\n",
              "      --bg-color: #3B4455;\n",
              "      --fill-color: #D2E3FC;\n",
              "      --hover-bg-color: #434B5C;\n",
              "      --hover-fill-color: #FFFFFF;\n",
              "      --disabled-bg-color: #3B4455;\n",
              "      --disabled-fill-color: #666;\n",
              "  }\n",
              "\n",
              "  .colab-df-quickchart {\n",
              "    background-color: var(--bg-color);\n",
              "    border: none;\n",
              "    border-radius: 50%;\n",
              "    cursor: pointer;\n",
              "    display: none;\n",
              "    fill: var(--fill-color);\n",
              "    height: 32px;\n",
              "    padding: 0;\n",
              "    width: 32px;\n",
              "  }\n",
              "\n",
              "  .colab-df-quickchart:hover {\n",
              "    background-color: var(--hover-bg-color);\n",
              "    box-shadow: 0 1px 2px rgba(60, 64, 67, 0.3), 0 1px 3px 1px rgba(60, 64, 67, 0.15);\n",
              "    fill: var(--button-hover-fill-color);\n",
              "  }\n",
              "\n",
              "  .colab-df-quickchart-complete:disabled,\n",
              "  .colab-df-quickchart-complete:disabled:hover {\n",
              "    background-color: var(--disabled-bg-color);\n",
              "    fill: var(--disabled-fill-color);\n",
              "    box-shadow: none;\n",
              "  }\n",
              "\n",
              "  .colab-df-spinner {\n",
              "    border: 2px solid var(--fill-color);\n",
              "    border-color: transparent;\n",
              "    border-bottom-color: var(--fill-color);\n",
              "    animation:\n",
              "      spin 1s steps(1) infinite;\n",
              "  }\n",
              "\n",
              "  @keyframes spin {\n",
              "    0% {\n",
              "      border-color: transparent;\n",
              "      border-bottom-color: var(--fill-color);\n",
              "      border-left-color: var(--fill-color);\n",
              "    }\n",
              "    20% {\n",
              "      border-color: transparent;\n",
              "      border-left-color: var(--fill-color);\n",
              "      border-top-color: var(--fill-color);\n",
              "    }\n",
              "    30% {\n",
              "      border-color: transparent;\n",
              "      border-left-color: var(--fill-color);\n",
              "      border-top-color: var(--fill-color);\n",
              "      border-right-color: var(--fill-color);\n",
              "    }\n",
              "    40% {\n",
              "      border-color: transparent;\n",
              "      border-right-color: var(--fill-color);\n",
              "      border-top-color: var(--fill-color);\n",
              "    }\n",
              "    60% {\n",
              "      border-color: transparent;\n",
              "      border-right-color: var(--fill-color);\n",
              "    }\n",
              "    80% {\n",
              "      border-color: transparent;\n",
              "      border-right-color: var(--fill-color);\n",
              "      border-bottom-color: var(--fill-color);\n",
              "    }\n",
              "    90% {\n",
              "      border-color: transparent;\n",
              "      border-bottom-color: var(--fill-color);\n",
              "    }\n",
              "  }\n",
              "</style>\n",
              "\n",
              "      <script>\n",
              "        async function quickchart(key) {\n",
              "          const quickchartButtonEl =\n",
              "            document.querySelector('#' + key + ' button');\n",
              "          quickchartButtonEl.disabled = true;  // To prevent multiple clicks.\n",
              "          quickchartButtonEl.classList.add('colab-df-spinner');\n",
              "          try {\n",
              "            const charts = await google.colab.kernel.invokeFunction(\n",
              "                'suggestCharts', [key], {});\n",
              "          } catch (error) {\n",
              "            console.error('Error during call to suggestCharts:', error);\n",
              "          }\n",
              "          quickchartButtonEl.classList.remove('colab-df-spinner');\n",
              "          quickchartButtonEl.classList.add('colab-df-quickchart-complete');\n",
              "        }\n",
              "        (() => {\n",
              "          let quickchartButtonEl =\n",
              "            document.querySelector('#df-0debc31d-2ff8-471b-91fa-72f2f5d8b02d button');\n",
              "          quickchartButtonEl.style.display =\n",
              "            google.colab.kernel.accessAllowed ? 'block' : 'none';\n",
              "        })();\n",
              "      </script>\n",
              "    </div>\n",
              "\n",
              "    </div>\n",
              "  </div>\n"
            ],
            "application/vnd.google.colaboratory.intrinsic+json": {
              "type": "dataframe",
              "variable_name": "data",
              "summary": "{\n  \"name\": \"data\",\n  \"rows\": 3694,\n  \"fields\": [\n    {\n      \"column\": \"item_id\",\n      \"properties\": {\n        \"dtype\": \"number\",\n        \"std\": 28887094,\n        \"min\": 58487,\n        \"max\": 99932615,\n        \"num_unique_values\": 2962,\n        \"samples\": [\n          79248588,\n          59214240,\n          19011777\n        ],\n        \"semantic_type\": \"\",\n        \"description\": \"\"\n      }\n    },\n    {\n      \"column\": \"name\",\n      \"properties\": {\n        \"dtype\": \"category\",\n        \"num_unique_values\": 607,\n        \"samples\": [\n          \"STOCKHOLM\",\n          \"KUDDARNA\",\n          \"ALGOT\"\n        ],\n        \"semantic_type\": \"\",\n        \"description\": \"\"\n      }\n    },\n    {\n      \"column\": \"category\",\n      \"properties\": {\n        \"dtype\": \"category\",\n        \"num_unique_values\": 17,\n        \"samples\": [\n          \"Bar furniture\",\n          \"Beds\",\n          \"Chairs\"\n        ],\n        \"semantic_type\": \"\",\n        \"description\": \"\"\n      }\n    },\n    {\n      \"column\": \"price\",\n      \"properties\": {\n        \"dtype\": \"number\",\n        \"std\": 1374.6524941516225,\n        \"min\": 3.0,\n        \"max\": 9585.0,\n        \"num_unique_values\": 979,\n        \"samples\": [\n          575.0,\n          2616.4,\n          775.0\n        ],\n        \"semantic_type\": \"\",\n        \"description\": \"\"\n      }\n    },\n    {\n      \"column\": \"sellable_online\",\n      \"properties\": {\n        \"dtype\": \"boolean\",\n        \"num_unique_values\": 2,\n        \"samples\": [\n          false,\n          true\n        ],\n        \"semantic_type\": \"\",\n        \"description\": \"\"\n      }\n    },\n    {\n      \"column\": \"link\",\n      \"properties\": {\n        \"dtype\": \"string\",\n        \"num_unique_values\": 2962,\n        \"samples\": [\n          \"https://www.ikea.com/sa/en/p/platsa-wardrobe-white-fonnes-white-s79248588/\",\n          \"https://www.ikea.com/sa/en/p/linnmon-olov-table-geometric-beige-silver-colour-s59214240/\"\n        ],\n        \"semantic_type\": \"\",\n        \"description\": \"\"\n      }\n    },\n    {\n      \"column\": \"other_colors\",\n      \"properties\": {\n        \"dtype\": \"category\",\n        \"num_unique_values\": 2,\n        \"samples\": [\n          \"Yes\",\n          \"No\"\n        ],\n        \"semantic_type\": \"\",\n        \"description\": \"\"\n      }\n    },\n    {\n      \"column\": \"short_description\",\n      \"properties\": {\n        \"dtype\": \"category\",\n        \"num_unique_values\": 1706,\n        \"samples\": [\n          \"        Children's chair\",\n          \"        Frame/mesh baskets/clothes rails,          148x51x207 cm\"\n        ],\n        \"semantic_type\": \"\",\n        \"description\": \"\"\n      }\n    },\n    {\n      \"column\": \"designer\",\n      \"properties\": {\n        \"dtype\": \"category\",\n        \"num_unique_values\": 381,\n        \"samples\": [\n          \"Jomi Evers\",\n          \"Ola Wihlborg/Ehl\\u221a\\u00a9n Johansson\"\n        ],\n        \"semantic_type\": \"\",\n        \"description\": \"\"\n      }\n    },\n    {\n      \"column\": \"depth\",\n      \"properties\": {\n        \"dtype\": \"number\",\n        \"std\": 25.44116556449237,\n        \"min\": 1.0,\n        \"max\": 257.0,\n        \"num_unique_values\": 335,\n        \"samples\": [\n          59.4,\n          22.0\n        ],\n        \"semantic_type\": \"\",\n        \"description\": \"\"\n      }\n    },\n    {\n      \"column\": \"height\",\n      \"properties\": {\n        \"dtype\": \"number\",\n        \"std\": 56.38318312448228,\n        \"min\": 1.0,\n        \"max\": 700.0,\n        \"num_unique_values\": 495,\n        \"samples\": [\n          75.6,\n          190.0\n        ],\n        \"semantic_type\": \"\",\n        \"description\": \"\"\n      }\n    },\n    {\n      \"column\": \"width\",\n      \"properties\": {\n        \"dtype\": \"number\",\n        \"std\": 67.51333193467055,\n        \"min\": 1.0,\n        \"max\": 420.0,\n        \"num_unique_values\": 491,\n        \"samples\": [\n          106.0,\n          46.0\n        ],\n        \"semantic_type\": \"\",\n        \"description\": \"\"\n      }\n    },\n    {\n      \"column\": \"product_description\",\n      \"properties\": {\n        \"dtype\": \"category\",\n        \"num_unique_values\": 960,\n        \"samples\": [\n          \"LISABO coffee table, ash veneer, 118x50 cm We\\u201a\\u00c4\\u00f4re proud of our LISABO series, awarded with the prestigious, international Red Dot Award, for its design. The products are durable, sturdy and easy to assemble, yet look light and hand-crafted. Easy to assemble as each leg only has one fitting.\",\n          \"JUSTINA chair pad, grey, 42/35x40x4 cm Simple and stylish, but above all - comfy. The thick, soft foam filling will make even the most restless feel relaxed at the table. Several colours to choose from \\u201a\\u00c4\\u00ec pick your favourite. The thick foam filling provides great comfort and long-lasting support.\"\n        ],\n        \"semantic_type\": \"\",\n        \"description\": \"\"\n      }\n    },\n    {\n      \"column\": \"current_status\",\n      \"properties\": {\n        \"dtype\": \"category\",\n        \"num_unique_values\": 2,\n        \"samples\": [\n          \"Item still available for sale\",\n          \"Item discontinued\"\n        ],\n        \"semantic_type\": \"\",\n        \"description\": \"\"\n      }\n    },\n    {\n      \"column\": \"keywords\",\n      \"properties\": {\n        \"dtype\": \"category\",\n        \"num_unique_values\": 724,\n        \"samples\": [\n          \"white lightweight stackable easy different eager please\",\n          \"outdoor maintenance-free patio stylish functional allows pass\"\n        ],\n        \"semantic_type\": \"\",\n        \"description\": \"\"\n      }\n    },\n    {\n      \"column\": \"topic_group\",\n      \"properties\": {\n        \"dtype\": \"object\",\n        \"num_unique_values\": 4,\n        \"samples\": [\n          2.0,\n          0.0\n        ],\n        \"semantic_type\": \"\",\n        \"description\": \"\"\n      }\n    },\n    {\n      \"column\": \"topic_desc\",\n      \"properties\": {\n        \"dtype\": \"category\",\n        \"num_unique_values\": 4,\n        \"samples\": [\n          \"Durability and Appearance\",\n          \"Color and Aesthetics, Usability\"\n        ],\n        \"semantic_type\": \"\",\n        \"description\": \"\"\n      }\n    },\n    {\n      \"column\": \"old_price_clean\",\n      \"properties\": {\n        \"dtype\": \"number\",\n        \"std\": 1443.4998067120296,\n        \"min\": 3.0,\n        \"max\": 9985.0,\n        \"num_unique_values\": 846,\n        \"samples\": [\n          1285.0,\n          340.0\n        ],\n        \"semantic_type\": \"\",\n        \"description\": \"\"\n      }\n    }\n  ]\n}"
            }
          },
          "metadata": {},
          "execution_count": 40
        }
      ]
    },
    {
      "cell_type": "markdown",
      "source": [
        "**Feature Engineering Tasks:**"
      ],
      "metadata": {
        "id": "1cxEOKsbGnYx"
      },
      "id": "1cxEOKsbGnYx"
    },
    {
      "cell_type": "markdown",
      "source": [
        "Price Difference Feature: Create a new feature representing the difference\n",
        "\n",
        "between price and old_price (where applicable)."
      ],
      "metadata": {
        "id": "wHq7zPthHbN5"
      },
      "id": "wHq7zPthHbN5"
    },
    {
      "cell_type": "code",
      "source": [
        "data['old_price_clean'] = data.apply(\n",
        "    lambda row: row['price'] if pd.isna(row['old_price_clean']) else row['old_price_clean'],\n",
        "    axis=1\n",
        ")\n",
        "\n",
        "data['price_difference'] = data['old_price_clean'] - data['price']\n",
        "print(data[['price', 'old_price_clean', 'price_difference']].head())\n"
      ],
      "metadata": {
        "colab": {
          "base_uri": "https://localhost:8080/"
        },
        "id": "M1yDOsJ4EsZx",
        "outputId": "94bc91ce-cf6a-472e-cc8d-5c1857939c72"
      },
      "id": "M1yDOsJ4EsZx",
      "execution_count": null,
      "outputs": [
        {
          "output_type": "stream",
          "name": "stdout",
          "text": [
            "   price  old_price_clean  price_difference\n",
            "0  265.0            265.0               0.0\n",
            "1   69.0             69.0               0.0\n",
            "2  177.0            295.0             118.0\n",
            "3  345.0            345.0               0.0\n",
            "4  395.0            395.0               0.0\n"
          ]
        }
      ]
    },
    {
      "cell_type": "code",
      "source": [
        "data['price_difference'].value_counts()"
      ],
      "metadata": {
        "colab": {
          "base_uri": "https://localhost:8080/",
          "height": 490
        },
        "id": "qzGvHxZab0uW",
        "outputId": "069bdf84-9d65-4ad2-f4d6-0d1e3cc9d6f4"
      },
      "id": "qzGvHxZab0uW",
      "execution_count": null,
      "outputs": [
        {
          "output_type": "execute_result",
          "data": {
            "text/plain": [
              "price_difference\n",
              "0.0      3040\n",
              "199.0      17\n",
              "119.0      16\n",
              "70.0       13\n",
              "180.0      12\n",
              "         ... \n",
              "161.0       1\n",
              "280.0       1\n",
              "51.0        1\n",
              "183.0       1\n",
              "279.5       1\n",
              "Name: count, Length: 311, dtype: int64"
            ],
            "text/html": [
              "<div>\n",
              "<style scoped>\n",
              "    .dataframe tbody tr th:only-of-type {\n",
              "        vertical-align: middle;\n",
              "    }\n",
              "\n",
              "    .dataframe tbody tr th {\n",
              "        vertical-align: top;\n",
              "    }\n",
              "\n",
              "    .dataframe thead th {\n",
              "        text-align: right;\n",
              "    }\n",
              "</style>\n",
              "<table border=\"1\" class=\"dataframe\">\n",
              "  <thead>\n",
              "    <tr style=\"text-align: right;\">\n",
              "      <th></th>\n",
              "      <th>count</th>\n",
              "    </tr>\n",
              "    <tr>\n",
              "      <th>price_difference</th>\n",
              "      <th></th>\n",
              "    </tr>\n",
              "  </thead>\n",
              "  <tbody>\n",
              "    <tr>\n",
              "      <th>0.0</th>\n",
              "      <td>3040</td>\n",
              "    </tr>\n",
              "    <tr>\n",
              "      <th>199.0</th>\n",
              "      <td>17</td>\n",
              "    </tr>\n",
              "    <tr>\n",
              "      <th>119.0</th>\n",
              "      <td>16</td>\n",
              "    </tr>\n",
              "    <tr>\n",
              "      <th>70.0</th>\n",
              "      <td>13</td>\n",
              "    </tr>\n",
              "    <tr>\n",
              "      <th>180.0</th>\n",
              "      <td>12</td>\n",
              "    </tr>\n",
              "    <tr>\n",
              "      <th>...</th>\n",
              "      <td>...</td>\n",
              "    </tr>\n",
              "    <tr>\n",
              "      <th>161.0</th>\n",
              "      <td>1</td>\n",
              "    </tr>\n",
              "    <tr>\n",
              "      <th>280.0</th>\n",
              "      <td>1</td>\n",
              "    </tr>\n",
              "    <tr>\n",
              "      <th>51.0</th>\n",
              "      <td>1</td>\n",
              "    </tr>\n",
              "    <tr>\n",
              "      <th>183.0</th>\n",
              "      <td>1</td>\n",
              "    </tr>\n",
              "    <tr>\n",
              "      <th>279.5</th>\n",
              "      <td>1</td>\n",
              "    </tr>\n",
              "  </tbody>\n",
              "</table>\n",
              "<p>311 rows × 1 columns</p>\n",
              "</div><br><label><b>dtype:</b> int64</label>"
            ]
          },
          "metadata": {},
          "execution_count": 42
        }
      ]
    },
    {
      "cell_type": "markdown",
      "source": [
        "**Dimension Ratios: Create features like depth/width or height/depth for deeper analysis**."
      ],
      "metadata": {
        "id": "-VkhuT-ff2F7"
      },
      "id": "-VkhuT-ff2F7"
    },
    {
      "cell_type": "code",
      "source": [
        "# creating features\n",
        "data['depth_width_ratio'] = data['depth'] / data['width']\n",
        "data['height_depth_ratio'] = data['height'] / data['depth']\n",
        "data['height_width_ratio'] = data['height'] / data['width']\n",
        "\n",
        "data.replace([np.inf, -np.inf], np.nan, inplace=True)\n",
        "\n",
        "print(data[['depth', 'width', 'height', 'depth_width_ratio', 'height_depth_ratio', 'height_width_ratio']].head())"
      ],
      "metadata": {
        "colab": {
          "base_uri": "https://localhost:8080/"
        },
        "id": "slyBLFRBgMME",
        "outputId": "00dfe025-ccbb-4f2d-ee44-ca1a16e3a8d0"
      },
      "id": "slyBLFRBgMME",
      "execution_count": null,
      "outputs": [
        {
          "output_type": "stream",
          "name": "stdout",
          "text": [
            "   depth  width  height  depth_width_ratio  height_depth_ratio  \\\n",
            "0   48.8   51.0    99.0           0.956863            2.028689   \n",
            "1   50.0   60.0   100.0           0.833333            2.000000   \n",
            "2   53.0   43.0   104.0           1.232558            1.962264   \n",
            "3   52.0   43.0   114.0           1.209302            2.192308   \n",
            "4   51.0   40.0   102.0           1.275000            2.000000   \n",
            "\n",
            "   height_width_ratio  \n",
            "0            1.941176  \n",
            "1            1.666667  \n",
            "2            2.418605  \n",
            "3            2.651163  \n",
            "4            2.550000  \n"
          ]
        }
      ]
    },
    {
      "cell_type": "markdown",
      "source": [
        "**Color Availability: Convert the other_colors column into a numerical feature (e.g., one-hot encoding for \"Yes\"/\"No\").**"
      ],
      "metadata": {
        "id": "qkzZU3a8gZYH"
      },
      "id": "qkzZU3a8gZYH"
    },
    {
      "cell_type": "code",
      "source": [
        "data['other_colors'].value_counts()"
      ],
      "metadata": {
        "colab": {
          "base_uri": "https://localhost:8080/",
          "height": 178
        },
        "id": "lX8jLuOWgM_t",
        "outputId": "e521c0f6-9e99-440c-c496-54f187325d64"
      },
      "id": "lX8jLuOWgM_t",
      "execution_count": null,
      "outputs": [
        {
          "output_type": "execute_result",
          "data": {
            "text/plain": [
              "other_colors\n",
              "No     2182\n",
              "Yes    1512\n",
              "Name: count, dtype: int64"
            ],
            "text/html": [
              "<div>\n",
              "<style scoped>\n",
              "    .dataframe tbody tr th:only-of-type {\n",
              "        vertical-align: middle;\n",
              "    }\n",
              "\n",
              "    .dataframe tbody tr th {\n",
              "        vertical-align: top;\n",
              "    }\n",
              "\n",
              "    .dataframe thead th {\n",
              "        text-align: right;\n",
              "    }\n",
              "</style>\n",
              "<table border=\"1\" class=\"dataframe\">\n",
              "  <thead>\n",
              "    <tr style=\"text-align: right;\">\n",
              "      <th></th>\n",
              "      <th>count</th>\n",
              "    </tr>\n",
              "    <tr>\n",
              "      <th>other_colors</th>\n",
              "      <th></th>\n",
              "    </tr>\n",
              "  </thead>\n",
              "  <tbody>\n",
              "    <tr>\n",
              "      <th>No</th>\n",
              "      <td>2182</td>\n",
              "    </tr>\n",
              "    <tr>\n",
              "      <th>Yes</th>\n",
              "      <td>1512</td>\n",
              "    </tr>\n",
              "  </tbody>\n",
              "</table>\n",
              "</div><br><label><b>dtype:</b> int64</label>"
            ]
          },
          "metadata": {},
          "execution_count": 44
        }
      ]
    },
    {
      "cell_type": "markdown",
      "source": [
        "*One Hot Encoding (OHE)*"
      ],
      "metadata": {
        "id": "7fiztuDlg4ws"
      },
      "id": "7fiztuDlg4ws"
    },
    {
      "cell_type": "code",
      "source": [
        "color_encoded =pd.get_dummies(data['other_colors'], prefix='color',drop_first=True)\n",
        "data = pd.concat([data, color_encoded], axis=1)"
      ],
      "metadata": {
        "id": "-ESBJAvigM7C"
      },
      "id": "-ESBJAvigM7C",
      "execution_count": null,
      "outputs": []
    },
    {
      "cell_type": "markdown",
      "source": [
        "Keyword Extraction: Process the keywords column to extract useful terms for potential text analysis."
      ],
      "metadata": {
        "id": "b4j5-3UZi3u9"
      },
      "id": "b4j5-3UZi3u9"
    },
    {
      "cell_type": "code",
      "source": [
        "data['keywords'].isnull().sum()"
      ],
      "metadata": {
        "colab": {
          "base_uri": "https://localhost:8080/"
        },
        "id": "DROaYgqLdtTG",
        "outputId": "a40d9c26-dd7b-4f23-a1c1-cc242307671d"
      },
      "id": "DROaYgqLdtTG",
      "execution_count": null,
      "outputs": [
        {
          "output_type": "execute_result",
          "data": {
            "text/plain": [
              "np.int64(0)"
            ]
          },
          "metadata": {},
          "execution_count": 46
        }
      ]
    },
    {
      "cell_type": "code",
      "source": [
        "data['keywords_clean'] = data['keywords'].fillna('').str.lower()"
      ],
      "metadata": {
        "id": "SV3wdV1WeSkb"
      },
      "id": "SV3wdV1WeSkb",
      "execution_count": null,
      "outputs": []
    },
    {
      "cell_type": "code",
      "source": [
        "data['keywords_clean'].isnull().sum()"
      ],
      "metadata": {
        "colab": {
          "base_uri": "https://localhost:8080/"
        },
        "id": "PV1nSvCLeU_F",
        "outputId": "bd52ba3b-1784-4c26-8513-2a37f84e1242"
      },
      "id": "PV1nSvCLeU_F",
      "execution_count": null,
      "outputs": [
        {
          "output_type": "execute_result",
          "data": {
            "text/plain": [
              "np.int64(0)"
            ]
          },
          "metadata": {},
          "execution_count": 48
        }
      ]
    },
    {
      "cell_type": "code",
      "source": [
        "import re\n",
        "from nltk.corpus import stopwords\n",
        "import nltk\n",
        "\n",
        "nltk.download('stopwords')\n",
        "\n",
        "def clean_keywords(text):\n",
        "    if pd.isnull(text):\n",
        "        return 'unknown'\n",
        "\n",
        "    text = text.lower()\n",
        "    text = re.sub(r'\\d+x\\d+', '', text)\n",
        "    text = re.sub(r'\\d+-\\d+', '', text)\n",
        "    text = re.sub(r'\\d+', '', text)\n",
        "    text = re.sub(r'\\bcm\\b', '', text)\n",
        "    text = re.sub(r'[^a-zA-Z\\s]', '', text)\n",
        "    text = re.sub(r'\\s+', ' ', text).strip()\n",
        "\n",
        "    text = text.replace('etra', 'extra')\n",
        "    text = text.replace('relaed', 'relaxed')\n",
        "    text = text.replace('lightening', 'lightning')\n",
        "\n",
        "    text = re.sub(r'\\b(\\w+)\\1\\b', r'\\1', text)\n",
        "\n",
        "    redundant_phrases = ['fold easy stow', 'right need go', 'slatted', 'white', 'black', 'xx', 'x', 'w', 'bed bed']\n",
        "    for phrase in redundant_phrases:\n",
        "        text = text.replace(phrase, '')\n",
        "\n",
        "    words = text.split()\n",
        "    stop_words = set(stopwords.words('english'))\n",
        "\n",
        "    custom_stopwords = {'use', 'find', 'many', 'place', 'want', 'good', 'put', 'several', 'get', 'organise', 'top', 'goes', 'made', 'wall', 'foldable', 'mounted', 'xx', 'x'}\n",
        "    stop_words.update(custom_stopwords)\n",
        "\n",
        "    words = [word for word in words if word not in stop_words]\n",
        "\n",
        "    return ' '.join(words)\n",
        "\n",
        "data = pd.read_excel('cleaned_data.xlsx')\n",
        "\n",
        "data['cleaned_keywords'] = data['keywords'].apply(lambda x: clean_keywords(x))\n",
        "\n",
        "data_filtered = data[data['cleaned_keywords'].str.split().str.len() > 1]\n",
        "\n"
      ],
      "metadata": {
        "id": "y7wEaT68cUyx"
      },
      "id": "y7wEaT68cUyx",
      "execution_count": null,
      "outputs": []
    },
    {
      "cell_type": "code",
      "source": [
        "data.columns"
      ],
      "metadata": {
        "id": "F7cInTg0Wx6_"
      },
      "id": "F7cInTg0Wx6_",
      "execution_count": null,
      "outputs": []
    },
    {
      "cell_type": "code",
      "source": [
        "from sklearn.feature_extraction.text import CountVectorizer\n",
        "\n",
        "vectorizer = CountVectorizer(ngram_range=(2, 2), stop_words='english')\n",
        "bigrams = vectorizer.fit_transform(df_filtered['cleaned_keywords'])\n",
        "\n",
        "bigram_feature_names = vectorizer.get_feature_names_out()\n",
        "\n",
        "bigram_counts = bigrams.sum(axis=0).A1\n",
        "bigram_freq = dict(zip(bigram_feature_names, bigram_counts))\n",
        "\n",
        "sorted_bigram_freq = sorted(bigram_freq.items(), key=lambda x: x[1], reverse=True)\n",
        "\n",
        "print(sorted_bigram_freq[:10])\n"
      ],
      "metadata": {
        "id": "JqxFEP1bgL-v"
      },
      "id": "JqxFEP1bgL-v",
      "execution_count": null,
      "outputs": []
    },
    {
      "cell_type": "code",
      "source": [
        "bigram_freq = pd.Series(dict(sorted_bigram_freq)).sort_values(ascending=False)\n",
        "print(bigram_freq.head())"
      ],
      "metadata": {
        "id": "ZEHr6rkKhCTw"
      },
      "id": "ZEHr6rkKhCTw",
      "execution_count": null,
      "outputs": []
    },
    {
      "cell_type": "code",
      "source": [
        "threshold_value = 20\n",
        "filtered_bigrams = {bigram: count for bigram, count in sorted_bigram_freq if count >= threshold_value}\n",
        "\n",
        "print(filtered_bigrams)"
      ],
      "metadata": {
        "id": "64ZtEvPbgZf_"
      },
      "id": "64ZtEvPbgZf_",
      "execution_count": null,
      "outputs": []
    },
    {
      "cell_type": "code",
      "source": [
        "print(f\"Filtered bigrams count: {len(filtered_bigrams)}\")"
      ],
      "metadata": {
        "id": "i6EAdXMshRSw"
      },
      "id": "i6EAdXMshRSw",
      "execution_count": null,
      "outputs": []
    },
    {
      "cell_type": "code",
      "source": [
        "from wordcloud import WordCloud\n",
        "import matplotlib.pyplot as plt\n",
        "\n",
        "bigram_freq = {f'{bigram[0]} {bigram[1]}': count for bigram, count in filtered_bigrams.items()}\n",
        "\n",
        "wordcloud = WordCloud(width=800, height=400).generate_from_frequencies(bigram_freq)\n",
        "\n",
        "plt.figure(figsize=(10, 5))\n",
        "plt.imshow(wordcloud, interpolation=\"bilinear\")\n",
        "plt.axis(\"off\")\n",
        "plt.show()\n"
      ],
      "metadata": {
        "id": "-6qkIvNbhXQJ"
      },
      "id": "-6qkIvNbhXQJ",
      "execution_count": null,
      "outputs": []
    },
    {
      "cell_type": "code",
      "source": [
        "from sklearn.feature_extraction.text import TfidfVectorizer\n",
        "\n",
        "tfidf = TfidfVectorizer(max_features=10)\n",
        "tfidf_matrix = tfidf.fit_transform(df['cleaned_keywords'])\n",
        "\n",
        "\n",
        "feature_names = tfidf.get_feature_names_out()\n",
        "df_tfidf = pd.DataFrame(tfidf_matrix.T.toarray(), index=feature_names)\n",
        "df_tfidf = df_tfidf.transpose()\n",
        "\n",
        "print(df_tfidf)"
      ],
      "metadata": {
        "id": "0Y0_KkB_hnnp"
      },
      "id": "0Y0_KkB_hnnp",
      "execution_count": null,
      "outputs": []
    },
    {
      "cell_type": "code",
      "source": [
        "from sklearn.feature_extraction.text import CountVectorizer\n",
        "\n",
        "vectorizer = CountVectorizer(ngram_range=(2, 2), max_features=10)\n",
        "X = vectorizer.fit_transform(df['cleaned_keywords'])\n",
        "\n",
        "bigrams = vectorizer.get_feature_names_out()\n",
        "print(bigrams)\n"
      ],
      "metadata": {
        "id": "VggRjxRMhs15"
      },
      "id": "VggRjxRMhs15",
      "execution_count": null,
      "outputs": []
    },
    {
      "cell_type": "code",
      "source": [
        "import nltk\n",
        "from nltk.corpus import stopwords\n",
        "\n",
        "nltk.download('stopwords')\n",
        "\n",
        "stop_words = set(stopwords.words('english'))\n",
        "\n",
        "custom_stopwords = {'buy', 'cheap', 'sale', 'discount', 'product'}\n",
        "stop_words.update(custom_stopwords)\n",
        "\n",
        "print(stop_words)"
      ],
      "metadata": {
        "id": "4pKzZWYqh4kT"
      },
      "id": "4pKzZWYqh4kT",
      "execution_count": null,
      "outputs": []
    },
    {
      "cell_type": "code",
      "source": [
        "keyword_counts = df['cleaned_keywords'].str.split().explode().value_counts()\n",
        "top_keywords = keyword_counts.head(20)\n",
        "\n",
        "top_keywords.plot(kind='bar', figsize=(10, 5))\n",
        "plt.title('Ən Yüksək Əhəmiyyətli Açar Sözlər')\n",
        "plt.xlabel('Açar Sözlər')\n",
        "plt.ylabel('Əhəmiyyət seviyyesi')\n",
        "plt.show()\n"
      ],
      "metadata": {
        "id": "IG5ZoChZiOHj"
      },
      "id": "IG5ZoChZiOHj",
      "execution_count": null,
      "outputs": []
    },
    {
      "cell_type": "code",
      "source": [
        "df['depth'] = df['depth'].fillna(df['depth'].mean())\n",
        "df['height'] = df['height'].fillna(df['height'].mean())\n",
        "df['width'] = df['width'].fillna(df['width'].mean())"
      ],
      "metadata": {
        "id": "1muNds7sVqlk"
      },
      "id": "1muNds7sVqlk",
      "execution_count": null,
      "outputs": []
    },
    {
      "cell_type": "code",
      "source": [
        "df.isnull().sum()"
      ],
      "metadata": {
        "id": "jSd6gPseVT0J"
      },
      "id": "jSd6gPseVT0J",
      "execution_count": null,
      "outputs": []
    },
    {
      "cell_type": "markdown",
      "source": [
        "**Text Features: Use NLP techniques to vectorize short_description and product_description for input into models.**"
      ],
      "metadata": {
        "id": "X0Bf3PVKg3Of"
      },
      "id": "X0Bf3PVKg3Of"
    },
    {
      "cell_type": "code",
      "source": [
        "from sklearn.feature_extraction.text import CountVectorizer\n",
        "\n",
        "vectorizer = CountVectorizer(stop_words='english')\n",
        "\n",
        "df['combined_description'] = df['short_description'] + \" \" + df['product_description']\n",
        "\n",
        "X_bow = vectorizer.fit_transform(df['combined_description'])\n",
        "\n",
        "print(X_bow.toarray())"
      ],
      "metadata": {
        "id": "6wfMZv2HRVP2"
      },
      "id": "6wfMZv2HRVP2",
      "execution_count": null,
      "outputs": []
    },
    {
      "cell_type": "code",
      "source": [
        "print(X_bow.nnz)  # Non-zero elements count\n",
        "print(X_bow.shape)  # Matrix dimensions (rows, columns)"
      ],
      "metadata": {
        "id": "YSRcYBCcjXcx"
      },
      "id": "YSRcYBCcjXcx",
      "execution_count": null,
      "outputs": []
    },
    {
      "cell_type": "code",
      "source": [
        "dense_matrix = X_bow.toarray()\n",
        "print(dense_matrix)"
      ],
      "metadata": {
        "id": "DijyqjowjfYI"
      },
      "id": "DijyqjowjfYI",
      "execution_count": null,
      "outputs": []
    },
    {
      "cell_type": "code",
      "source": [
        "from sklearn.decomposition import PCA\n",
        "\n",
        "pca = PCA(n_components=2)\n",
        "reduced = pca.fit_transform(X_bow.toarray())\n",
        "plt.scatter(reduced[:, 0], reduced[:, 1])\n",
        "plt.title('PCA of the Bag of Words Matrix')\n",
        "plt.show()\n"
      ],
      "metadata": {
        "id": "7CtczBXMjiBh"
      },
      "id": "7CtczBXMjiBh",
      "execution_count": null,
      "outputs": []
    },
    {
      "cell_type": "code",
      "source": [
        "from sklearn.feature_extraction.text import CountVectorizer\n",
        "from wordcloud import WordCloud\n",
        "import re\n",
        "\n",
        "measurement_units = {'cm', 'm', 'kg', 'g', 'mm', 'inch', 'ft', 'lbs', 'cm²', 'm²', 'km'}\n",
        "\n",
        "vectorizer = CountVectorizer(stop_words='english')\n",
        "\n",
        "X = vectorizer.fit_transform(df['short_description'])\n",
        "\n",
        "term_frequencies = X.sum(axis=0).A1\n",
        "\n",
        "terms = vectorizer.get_feature_names_out()\n",
        "term_frequency_dict = dict(zip(terms, term_frequencies))\n",
        "\n",
        "term_frequency_dict = {term: freq for term, freq in term_frequency_dict.items() if not re.search(r'\\d', term) and term not in measurement_units}\n",
        "\n",
        "wordcloud = WordCloud(width=800, height=400).generate_from_frequencies(term_frequency_dict)\n",
        "\n",
        "plt.imshow(wordcloud, interpolation='bilinear')\n",
        "plt.axis('off')\n",
        "plt.show()"
      ],
      "metadata": {
        "id": "0nJmTMcqjnWx"
      },
      "id": "0nJmTMcqjnWx",
      "execution_count": null,
      "outputs": []
    },
    {
      "cell_type": "code",
      "source": [
        "from sklearn.decomposition import LatentDirichletAllocation\n",
        "from sklearn.feature_extraction.text import CountVectorizer\n",
        "\n",
        "vectorizer = CountVectorizer(stop_words='english')\n",
        "\n",
        "X = vectorizer.fit_transform(df['short_description'])\n",
        "\n",
        "lda = LatentDirichletAllocation(n_components=5, random_state=42)\n",
        "\n",
        "\n",
        "lda.fit(X)\n",
        "\n",
        "terms = vectorizer.get_feature_names_out()\n",
        "for idx, topic in enumerate(lda.components_):\n",
        "    print(f\"Topic #{idx}:\")\n",
        "    print(\" \".join([terms[i] for i in topic.argsort()[:-11:-1]]))\n"
      ],
      "metadata": {
        "id": "s5v3HGlQljaF"
      },
      "id": "s5v3HGlQljaF",
      "execution_count": null,
      "outputs": []
    },
    {
      "cell_type": "code",
      "source": [
        "from sklearn.decomposition import PCA\n",
        "\n",
        "pca = PCA(n_components=2)\n",
        "reduced_data = pca.fit_transform(X.toarray())\n",
        "\n",
        "\n",
        "plt.scatter(reduced_data[:, 0], reduced_data[:, 1], c='blue', alpha=0.5)\n",
        "plt.title(\"PCA of Product Descriptions\")\n",
        "plt.xlabel(\"Principal Component 1\")\n",
        "plt.ylabel(\"Principal Component 2\")\n",
        "plt.show()"
      ],
      "metadata": {
        "id": "d2UwVa0BmdmX"
      },
      "id": "d2UwVa0BmdmX",
      "execution_count": null,
      "outputs": []
    },
    {
      "cell_type": "code",
      "source": [
        "from sklearn.model_selection import train_test_split\n",
        "from sklearn.naive_bayes import MultinomialNB\n",
        "from sklearn.metrics import accuracy_score\n",
        "\n",
        "X_train, X_test, y_train, y_test = train_test_split(df['short_description'], df['category'], test_size=0.3, random_state=42)\n",
        "\n",
        "\n",
        "vectorizer = CountVectorizer(stop_words='english')\n",
        "X_train_vec = vectorizer.fit_transform(X_train)\n",
        "X_test_vec = vectorizer.transform(X_test)\n",
        "\n",
        "\n",
        "classifier = MultinomialNB()\n",
        "classifier.fit(X_train_vec, y_train)\n",
        "\n",
        "y_pred = classifier.predict(X_test_vec)\n",
        "print(f\"Accuracy: {accuracy_score(y_test, y_pred)}\")\n"
      ],
      "metadata": {
        "id": "A1xZLg1nmlP_"
      },
      "id": "A1xZLg1nmlP_",
      "execution_count": null,
      "outputs": []
    },
    {
      "cell_type": "code",
      "source": [
        "df"
      ],
      "metadata": {
        "id": "t8hpyffUohw6"
      },
      "id": "t8hpyffUohw6",
      "execution_count": null,
      "outputs": []
    },
    {
      "cell_type": "markdown",
      "source": [
        "Label Encoding: Encode categorical columns like category and designer for model input."
      ],
      "metadata": {
        "id": "-3d-tr8wkQDb"
      },
      "id": "-3d-tr8wkQDb"
    },
    {
      "cell_type": "markdown",
      "source": [
        "**Model Building and Evaluation:**"
      ],
      "metadata": {
        "id": "nJSnAfttldTq"
      },
      "id": "nJSnAfttldTq"
    },
    {
      "cell_type": "markdown",
      "source": [
        "XGBOOST model"
      ],
      "metadata": {
        "id": "JMMDHGcKLdcL"
      },
      "id": "JMMDHGcKLdcL"
    },
    {
      "cell_type": "code",
      "source": [
        "pip install xgboost"
      ],
      "metadata": {
        "id": "dzl8Z5qhZOmw"
      },
      "id": "dzl8Z5qhZOmw",
      "execution_count": null,
      "outputs": []
    },
    {
      "cell_type": "code",
      "source": [],
      "metadata": {
        "id": "-h_s3iPQWidt"
      },
      "id": "-h_s3iPQWidt",
      "execution_count": null,
      "outputs": []
    },
    {
      "cell_type": "code",
      "source": [],
      "metadata": {
        "id": "_fkFylebWiiK"
      },
      "id": "_fkFylebWiiK",
      "execution_count": null,
      "outputs": []
    },
    {
      "cell_type": "code",
      "source": [],
      "metadata": {
        "id": "uWju7WelWil7"
      },
      "id": "uWju7WelWil7",
      "execution_count": null,
      "outputs": []
    },
    {
      "cell_type": "code",
      "source": [],
      "metadata": {
        "id": "rspBU081WipJ"
      },
      "id": "rspBU081WipJ",
      "execution_count": null,
      "outputs": []
    },
    {
      "cell_type": "markdown",
      "source": [
        "Feature Importance"
      ],
      "metadata": {
        "id": "u5g3h1DcJCOp"
      },
      "id": "u5g3h1DcJCOp"
    },
    {
      "cell_type": "markdown",
      "source": [
        "**Advanced Insights and Visualization:**"
      ],
      "metadata": {
        "id": "2Hie4EOp4WPO"
      },
      "id": "2Hie4EOp4WPO"
    },
    {
      "cell_type": "markdown",
      "source": [
        "Price Trends:"
      ],
      "metadata": {
        "id": "crvvp2rl453x"
      },
      "id": "crvvp2rl453x"
    },
    {
      "cell_type": "code",
      "source": [],
      "metadata": {
        "id": "IYlkoOsPIoiT"
      },
      "id": "IYlkoOsPIoiT",
      "execution_count": null,
      "outputs": []
    },
    {
      "cell_type": "code",
      "source": [],
      "metadata": {
        "id": "P7BBAI7oIolB"
      },
      "id": "P7BBAI7oIolB",
      "execution_count": null,
      "outputs": []
    },
    {
      "cell_type": "code",
      "source": [],
      "metadata": {
        "id": "dxZmhNH6IooU"
      },
      "id": "dxZmhNH6IooU",
      "execution_count": null,
      "outputs": []
    },
    {
      "cell_type": "code",
      "source": [],
      "metadata": {
        "id": "oH2ZIi3nIorg"
      },
      "id": "oH2ZIi3nIorg",
      "execution_count": null,
      "outputs": []
    },
    {
      "cell_type": "code",
      "source": [],
      "metadata": {
        "id": "YFjcvAj_Ioum"
      },
      "id": "YFjcvAj_Ioum",
      "execution_count": null,
      "outputs": []
    },
    {
      "cell_type": "code",
      "source": [],
      "metadata": {
        "id": "OoD6m6GyIox2"
      },
      "id": "OoD6m6GyIox2",
      "execution_count": null,
      "outputs": []
    }
  ],
  "metadata": {
    "kernelspec": {
      "display_name": "Python 3",
      "language": "python",
      "name": "python3"
    },
    "language_info": {
      "codemirror_mode": {
        "name": "ipython",
        "version": 2
      },
      "file_extension": ".py",
      "mimetype": "text/x-python",
      "name": "python",
      "nbconvert_exporter": "python",
      "pygments_lexer": "ipython2",
      "version": "2.7.6"
    },
    "colab": {
      "provenance": []
    }
  },
  "nbformat": 4,
  "nbformat_minor": 5
}