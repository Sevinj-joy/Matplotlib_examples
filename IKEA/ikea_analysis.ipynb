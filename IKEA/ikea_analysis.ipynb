{
 "cells": [
  {
   "cell_type": "code",
   "id": "initial_id",
   "metadata": {
    "collapsed": true,
    "ExecuteTime": {
     "end_time": "2025-04-16T18:42:57.461741Z",
     "start_time": "2025-04-16T18:42:57.460315Z"
    }
   },
   "source": [
    "import pandas as pd\n",
    "import numpy as np\n",
    "import matplotlib.pyplot as plt\n",
    "import seaborn as sns\n"
   ],
   "outputs": [],
   "execution_count": 1
  },
  {
   "metadata": {
    "ExecuteTime": {
     "end_time": "2025-04-16T18:46:23.709043Z",
     "start_time": "2025-04-16T18:46:23.688708Z"
    }
   },
   "cell_type": "code",
   "source": [
    "data=pd.read_csv('ikea2.csv')\n",
    "data.head()"
   ],
   "id": "94537cde8d92559c",
   "outputs": [
    {
     "data": {
      "text/plain": [
       "    item_id        name       category  price     old_price  sellable_online  \\\n",
       "0  90420332    FREKVENS  Bar furniture  265.0  No old price             True   \n",
       "1  80155205        STIG  Bar furniture   69.0  No old price             True   \n",
       "2  50420329    FREKVENS  Bar furniture  177.0        SR 295             True   \n",
       "3    400550    EKEDALEN  Bar furniture  345.0  No old price             True   \n",
       "4  40426138  HENRIKSDAL  Bar furniture  395.0  No old price             True   \n",
       "\n",
       "                                                link other_colors  \\\n",
       "0  https://www.ikea.com/sa/en/p/frekvens-bar-tabl...           No   \n",
       "1  https://www.ikea.com/sa/en/p/stig-bar-stool-wi...          Yes   \n",
       "2  https://www.ikea.com/sa/en/p/frekvens-bar-stoo...           No   \n",
       "3  https://www.ikea.com/sa/en/p/ekedalen-bar-stoo...           No   \n",
       "4  https://www.ikea.com/sa/en/p/henriksdal-bar-st...           No   \n",
       "\n",
       "                                   short_description              designer  \\\n",
       "0           Bar table, in/outdoor,          51x51 cm  Nicholai Wiig Hansen   \n",
       "1            Bar stool with backrest,          74 cm         Henrik Preutz   \n",
       "2          Bar stool with backrest, in/outdoor,  ...  Nicholai Wiig Hansen   \n",
       "3            Bar stool with backrest,          75 cm      Ehl√©n Johansson   \n",
       "4          Bar stool with backrest frame,        ...         Karl Malmvall   \n",
       "\n",
       "   depth  height  width product_description     current_status kewords  \\\n",
       "0    NaN    99.0   51.0   Item discontinued  Item discontinued     NaN   \n",
       "1   50.0   100.0   60.0   Item discontinued  Item discontinued     NaN   \n",
       "2   53.0   104.0   43.0   Item discontinued  Item discontinued     NaN   \n",
       "3   52.0   114.0   43.0   Item discontinued  Item discontinued     NaN   \n",
       "4   51.0   102.0   40.0   Item discontinued  Item discontinued     NaN   \n",
       "\n",
       "   topic_group topic_desc  \n",
       "0          NaN        NaN  \n",
       "1          NaN        NaN  \n",
       "2          NaN        NaN  \n",
       "3          NaN        NaN  \n",
       "4          NaN        NaN  "
      ],
      "text/html": [
       "<div>\n",
       "<style scoped>\n",
       "    .dataframe tbody tr th:only-of-type {\n",
       "        vertical-align: middle;\n",
       "    }\n",
       "\n",
       "    .dataframe tbody tr th {\n",
       "        vertical-align: top;\n",
       "    }\n",
       "\n",
       "    .dataframe thead th {\n",
       "        text-align: right;\n",
       "    }\n",
       "</style>\n",
       "<table border=\"1\" class=\"dataframe\">\n",
       "  <thead>\n",
       "    <tr style=\"text-align: right;\">\n",
       "      <th></th>\n",
       "      <th>item_id</th>\n",
       "      <th>name</th>\n",
       "      <th>category</th>\n",
       "      <th>price</th>\n",
       "      <th>old_price</th>\n",
       "      <th>sellable_online</th>\n",
       "      <th>link</th>\n",
       "      <th>other_colors</th>\n",
       "      <th>short_description</th>\n",
       "      <th>designer</th>\n",
       "      <th>depth</th>\n",
       "      <th>height</th>\n",
       "      <th>width</th>\n",
       "      <th>product_description</th>\n",
       "      <th>current_status</th>\n",
       "      <th>kewords</th>\n",
       "      <th>topic_group</th>\n",
       "      <th>topic_desc</th>\n",
       "    </tr>\n",
       "  </thead>\n",
       "  <tbody>\n",
       "    <tr>\n",
       "      <th>0</th>\n",
       "      <td>90420332</td>\n",
       "      <td>FREKVENS</td>\n",
       "      <td>Bar furniture</td>\n",
       "      <td>265.0</td>\n",
       "      <td>No old price</td>\n",
       "      <td>True</td>\n",
       "      <td>https://www.ikea.com/sa/en/p/frekvens-bar-tabl...</td>\n",
       "      <td>No</td>\n",
       "      <td>Bar table, in/outdoor,          51x51 cm</td>\n",
       "      <td>Nicholai Wiig Hansen</td>\n",
       "      <td>NaN</td>\n",
       "      <td>99.0</td>\n",
       "      <td>51.0</td>\n",
       "      <td>Item discontinued</td>\n",
       "      <td>Item discontinued</td>\n",
       "      <td>NaN</td>\n",
       "      <td>NaN</td>\n",
       "      <td>NaN</td>\n",
       "    </tr>\n",
       "    <tr>\n",
       "      <th>1</th>\n",
       "      <td>80155205</td>\n",
       "      <td>STIG</td>\n",
       "      <td>Bar furniture</td>\n",
       "      <td>69.0</td>\n",
       "      <td>No old price</td>\n",
       "      <td>True</td>\n",
       "      <td>https://www.ikea.com/sa/en/p/stig-bar-stool-wi...</td>\n",
       "      <td>Yes</td>\n",
       "      <td>Bar stool with backrest,          74 cm</td>\n",
       "      <td>Henrik Preutz</td>\n",
       "      <td>50.0</td>\n",
       "      <td>100.0</td>\n",
       "      <td>60.0</td>\n",
       "      <td>Item discontinued</td>\n",
       "      <td>Item discontinued</td>\n",
       "      <td>NaN</td>\n",
       "      <td>NaN</td>\n",
       "      <td>NaN</td>\n",
       "    </tr>\n",
       "    <tr>\n",
       "      <th>2</th>\n",
       "      <td>50420329</td>\n",
       "      <td>FREKVENS</td>\n",
       "      <td>Bar furniture</td>\n",
       "      <td>177.0</td>\n",
       "      <td>SR 295</td>\n",
       "      <td>True</td>\n",
       "      <td>https://www.ikea.com/sa/en/p/frekvens-bar-stoo...</td>\n",
       "      <td>No</td>\n",
       "      <td>Bar stool with backrest, in/outdoor,  ...</td>\n",
       "      <td>Nicholai Wiig Hansen</td>\n",
       "      <td>53.0</td>\n",
       "      <td>104.0</td>\n",
       "      <td>43.0</td>\n",
       "      <td>Item discontinued</td>\n",
       "      <td>Item discontinued</td>\n",
       "      <td>NaN</td>\n",
       "      <td>NaN</td>\n",
       "      <td>NaN</td>\n",
       "    </tr>\n",
       "    <tr>\n",
       "      <th>3</th>\n",
       "      <td>400550</td>\n",
       "      <td>EKEDALEN</td>\n",
       "      <td>Bar furniture</td>\n",
       "      <td>345.0</td>\n",
       "      <td>No old price</td>\n",
       "      <td>True</td>\n",
       "      <td>https://www.ikea.com/sa/en/p/ekedalen-bar-stoo...</td>\n",
       "      <td>No</td>\n",
       "      <td>Bar stool with backrest,          75 cm</td>\n",
       "      <td>Ehl√©n Johansson</td>\n",
       "      <td>52.0</td>\n",
       "      <td>114.0</td>\n",
       "      <td>43.0</td>\n",
       "      <td>Item discontinued</td>\n",
       "      <td>Item discontinued</td>\n",
       "      <td>NaN</td>\n",
       "      <td>NaN</td>\n",
       "      <td>NaN</td>\n",
       "    </tr>\n",
       "    <tr>\n",
       "      <th>4</th>\n",
       "      <td>40426138</td>\n",
       "      <td>HENRIKSDAL</td>\n",
       "      <td>Bar furniture</td>\n",
       "      <td>395.0</td>\n",
       "      <td>No old price</td>\n",
       "      <td>True</td>\n",
       "      <td>https://www.ikea.com/sa/en/p/henriksdal-bar-st...</td>\n",
       "      <td>No</td>\n",
       "      <td>Bar stool with backrest frame,        ...</td>\n",
       "      <td>Karl Malmvall</td>\n",
       "      <td>51.0</td>\n",
       "      <td>102.0</td>\n",
       "      <td>40.0</td>\n",
       "      <td>Item discontinued</td>\n",
       "      <td>Item discontinued</td>\n",
       "      <td>NaN</td>\n",
       "      <td>NaN</td>\n",
       "      <td>NaN</td>\n",
       "    </tr>\n",
       "  </tbody>\n",
       "</table>\n",
       "</div>"
      ]
     },
     "execution_count": 3,
     "metadata": {},
     "output_type": "execute_result"
    }
   ],
   "execution_count": 3
  },
  {
   "metadata": {
    "ExecuteTime": {
     "end_time": "2025-04-16T18:48:46.826673Z",
     "start_time": "2025-04-16T18:48:46.823936Z"
    }
   },
   "cell_type": "code",
   "source": "data.shape",
   "id": "2de6ae0e3c8e897b",
   "outputs": [
    {
     "data": {
      "text/plain": [
       "(3694, 18)"
      ]
     },
     "execution_count": 4,
     "metadata": {},
     "output_type": "execute_result"
    }
   ],
   "execution_count": 4
  },
  {
   "metadata": {
    "ExecuteTime": {
     "end_time": "2025-04-16T18:49:05.140474Z",
     "start_time": "2025-04-16T18:49:05.130988Z"
    }
   },
   "cell_type": "code",
   "source": "data.describe()",
   "id": "c7db72f78ac644ff",
   "outputs": [
    {
     "data": {
      "text/plain": [
       "            item_id        price        depth       height        width  \\\n",
       "count  3.694000e+03  3694.000000  2231.000000  2706.000000  3105.000000   \n",
       "mean   4.863240e+07  1078.208419    54.379202   101.679970   104.470853   \n",
       "std    2.888709e+07  1374.652494    29.958351    61.097585    71.133771   \n",
       "min    5.848700e+04     3.000000     1.000000     1.000000     1.000000   \n",
       "25%    2.039057e+07   180.900000    38.000000    67.000000    60.000000   \n",
       "50%    4.928808e+07   544.700000    47.000000    83.000000    80.000000   \n",
       "75%    7.040357e+07  1429.500000    60.000000   124.000000   140.000000   \n",
       "max    9.993262e+07  9585.000000   257.000000   700.000000   420.000000   \n",
       "\n",
       "       topic_group  \n",
       "count  1409.000000  \n",
       "mean      1.102910  \n",
       "std       0.852835  \n",
       "min       0.000000  \n",
       "25%       0.000000  \n",
       "50%       1.000000  \n",
       "75%       2.000000  \n",
       "max       2.000000  "
      ],
      "text/html": [
       "<div>\n",
       "<style scoped>\n",
       "    .dataframe tbody tr th:only-of-type {\n",
       "        vertical-align: middle;\n",
       "    }\n",
       "\n",
       "    .dataframe tbody tr th {\n",
       "        vertical-align: top;\n",
       "    }\n",
       "\n",
       "    .dataframe thead th {\n",
       "        text-align: right;\n",
       "    }\n",
       "</style>\n",
       "<table border=\"1\" class=\"dataframe\">\n",
       "  <thead>\n",
       "    <tr style=\"text-align: right;\">\n",
       "      <th></th>\n",
       "      <th>item_id</th>\n",
       "      <th>price</th>\n",
       "      <th>depth</th>\n",
       "      <th>height</th>\n",
       "      <th>width</th>\n",
       "      <th>topic_group</th>\n",
       "    </tr>\n",
       "  </thead>\n",
       "  <tbody>\n",
       "    <tr>\n",
       "      <th>count</th>\n",
       "      <td>3.694000e+03</td>\n",
       "      <td>3694.000000</td>\n",
       "      <td>2231.000000</td>\n",
       "      <td>2706.000000</td>\n",
       "      <td>3105.000000</td>\n",
       "      <td>1409.000000</td>\n",
       "    </tr>\n",
       "    <tr>\n",
       "      <th>mean</th>\n",
       "      <td>4.863240e+07</td>\n",
       "      <td>1078.208419</td>\n",
       "      <td>54.379202</td>\n",
       "      <td>101.679970</td>\n",
       "      <td>104.470853</td>\n",
       "      <td>1.102910</td>\n",
       "    </tr>\n",
       "    <tr>\n",
       "      <th>std</th>\n",
       "      <td>2.888709e+07</td>\n",
       "      <td>1374.652494</td>\n",
       "      <td>29.958351</td>\n",
       "      <td>61.097585</td>\n",
       "      <td>71.133771</td>\n",
       "      <td>0.852835</td>\n",
       "    </tr>\n",
       "    <tr>\n",
       "      <th>min</th>\n",
       "      <td>5.848700e+04</td>\n",
       "      <td>3.000000</td>\n",
       "      <td>1.000000</td>\n",
       "      <td>1.000000</td>\n",
       "      <td>1.000000</td>\n",
       "      <td>0.000000</td>\n",
       "    </tr>\n",
       "    <tr>\n",
       "      <th>25%</th>\n",
       "      <td>2.039057e+07</td>\n",
       "      <td>180.900000</td>\n",
       "      <td>38.000000</td>\n",
       "      <td>67.000000</td>\n",
       "      <td>60.000000</td>\n",
       "      <td>0.000000</td>\n",
       "    </tr>\n",
       "    <tr>\n",
       "      <th>50%</th>\n",
       "      <td>4.928808e+07</td>\n",
       "      <td>544.700000</td>\n",
       "      <td>47.000000</td>\n",
       "      <td>83.000000</td>\n",
       "      <td>80.000000</td>\n",
       "      <td>1.000000</td>\n",
       "    </tr>\n",
       "    <tr>\n",
       "      <th>75%</th>\n",
       "      <td>7.040357e+07</td>\n",
       "      <td>1429.500000</td>\n",
       "      <td>60.000000</td>\n",
       "      <td>124.000000</td>\n",
       "      <td>140.000000</td>\n",
       "      <td>2.000000</td>\n",
       "    </tr>\n",
       "    <tr>\n",
       "      <th>max</th>\n",
       "      <td>9.993262e+07</td>\n",
       "      <td>9585.000000</td>\n",
       "      <td>257.000000</td>\n",
       "      <td>700.000000</td>\n",
       "      <td>420.000000</td>\n",
       "      <td>2.000000</td>\n",
       "    </tr>\n",
       "  </tbody>\n",
       "</table>\n",
       "</div>"
      ]
     },
     "execution_count": 5,
     "metadata": {},
     "output_type": "execute_result"
    }
   ],
   "execution_count": 5
  },
  {
   "metadata": {
    "ExecuteTime": {
     "end_time": "2025-04-16T19:00:40.619481Z",
     "start_time": "2025-04-16T19:00:40.613532Z"
    }
   },
   "cell_type": "code",
   "source": "data.info()",
   "id": "b6675d822d32cfa8",
   "outputs": [
    {
     "name": "stdout",
     "output_type": "stream",
     "text": [
      "<class 'pandas.core.frame.DataFrame'>\n",
      "RangeIndex: 3694 entries, 0 to 3693\n",
      "Data columns (total 18 columns):\n",
      " #   Column               Non-Null Count  Dtype  \n",
      "---  ------               --------------  -----  \n",
      " 0   item_id              3694 non-null   int64  \n",
      " 1   name                 3694 non-null   object \n",
      " 2   category             3694 non-null   object \n",
      " 3   price                3694 non-null   float64\n",
      " 4   old_price            3694 non-null   object \n",
      " 5   sellable_online      3694 non-null   bool   \n",
      " 6   link                 3694 non-null   object \n",
      " 7   other_colors         3694 non-null   object \n",
      " 8   short_description    3694 non-null   object \n",
      " 9   designer             3694 non-null   object \n",
      " 10  depth                2231 non-null   float64\n",
      " 11  height               2706 non-null   float64\n",
      " 12  width                3105 non-null   float64\n",
      " 13  product_description  3694 non-null   object \n",
      " 14  current_status       3694 non-null   object \n",
      " 15  kewords              1394 non-null   object \n",
      " 16  topic_group          1409 non-null   float64\n",
      " 17  topic_desc           1409 non-null   object \n",
      "dtypes: bool(1), float64(5), int64(1), object(11)\n",
      "memory usage: 494.3+ KB\n"
     ]
    }
   ],
   "execution_count": 17
  },
  {
   "metadata": {},
   "cell_type": "markdown",
   "source": "Handle Missing Values: Identify and handle missing values in columns such as depth, keywords, topic_group, and topic_desc.",
   "id": "1b5628c4efdf1746"
  },
  {
   "metadata": {
    "ExecuteTime": {
     "end_time": "2025-04-16T18:53:21.017544Z",
     "start_time": "2025-04-16T18:53:21.013856Z"
    }
   },
   "cell_type": "code",
   "source": "data.isnull().sum()",
   "id": "7cab392eced15276",
   "outputs": [
    {
     "data": {
      "text/plain": [
       "item_id                   0\n",
       "name                      0\n",
       "category                  0\n",
       "price                     0\n",
       "old_price                 0\n",
       "sellable_online           0\n",
       "link                      0\n",
       "other_colors              0\n",
       "short_description         0\n",
       "designer                  0\n",
       "depth                  1463\n",
       "height                  988\n",
       "width                   589\n",
       "product_description       0\n",
       "current_status            0\n",
       "kewords                2300\n",
       "topic_group            2285\n",
       "topic_desc             2285\n",
       "dtype: int64"
      ]
     },
     "execution_count": 9,
     "metadata": {},
     "output_type": "execute_result"
    }
   ],
   "execution_count": 9
  },
  {
   "metadata": {
    "ExecuteTime": {
     "end_time": "2025-04-16T18:56:09.668514Z",
     "start_time": "2025-04-16T18:56:09.664186Z"
    }
   },
   "cell_type": "code",
   "source": "data['kewords'].value_counts()",
   "id": "3faa622484b9e453",
   "outputs": [
    {
     "data": {
      "text/plain": [
       "kewords\n",
       "white keep neat lets use Find suitable use humid                                     23\n",
       "fitted online stylish                                                                18\n",
       "white build wide low different create perfect clean modern easy place                16\n",
       "white icing small makes big Clean discreet blend right enhance modern                15\n",
       "light white stained need good ‚Äì sturdy wooden lightweight slide put                13\n",
       "                                                                                     ..\n",
       "store high it‚Äôs difficult reach makes reach 's nice look makes reach store high     1\n",
       "ergonomic keeps comfy focused adjustable tilt help relax Suitable                     1\n",
       "white looks nice dining solid stands Solid hardwearing natural                        1\n",
       "white looks nice dining solid stands                                                  1\n",
       "white 135x51x222-350 Make lovely decorative adjustable help utilise full              1\n",
       "Name: count, Length: 723, dtype: int64"
      ]
     },
     "execution_count": 12,
     "metadata": {},
     "output_type": "execute_result"
    }
   ],
   "execution_count": 12
  },
  {
   "metadata": {
    "ExecuteTime": {
     "end_time": "2025-04-16T18:55:31.131884Z",
     "start_time": "2025-04-16T18:55:31.127005Z"
    }
   },
   "cell_type": "code",
   "source": "data['height'].value_counts()",
   "id": "8cec81a8f16ef8ed",
   "outputs": [
    {
     "data": {
      "text/plain": [
       "height\n",
       "74.0     189\n",
       "236.0    113\n",
       "75.0      82\n",
       "73.0      77\n",
       "83.0      73\n",
       "        ... \n",
       "34.0       1\n",
       "24.0       1\n",
       "31.0       1\n",
       "58.0       1\n",
       "208.0      1\n",
       "Name: count, Length: 193, dtype: int64"
      ]
     },
     "execution_count": 11,
     "metadata": {},
     "output_type": "execute_result"
    }
   ],
   "execution_count": 11
  },
  {
   "metadata": {
    "ExecuteTime": {
     "end_time": "2025-04-16T18:56:37.674849Z",
     "start_time": "2025-04-16T18:56:37.671550Z"
    }
   },
   "cell_type": "code",
   "source": "data['topic_desc'].value_counts()",
   "id": "2efb8e628d70c4c4",
   "outputs": [
    {
     "data": {
      "text/plain": [
       "topic_desc\n",
       "Durability and Appearance          592\n",
       "Color and Aesthetics, Usability    447\n",
       "Style and Functionality            370\n",
       "Name: count, dtype: int64"
      ]
     },
     "execution_count": 13,
     "metadata": {},
     "output_type": "execute_result"
    }
   ],
   "execution_count": 13
  },
  {
   "metadata": {
    "ExecuteTime": {
     "end_time": "2025-04-16T18:56:49.579295Z",
     "start_time": "2025-04-16T18:56:49.576016Z"
    }
   },
   "cell_type": "code",
   "source": "data['topic_group'].value_counts()",
   "id": "b3d537ed1a7e4828",
   "outputs": [
    {
     "data": {
      "text/plain": [
       "topic_group\n",
       "2.0    592\n",
       "0.0    447\n",
       "1.0    370\n",
       "Name: count, dtype: int64"
      ]
     },
     "execution_count": 14,
     "metadata": {},
     "output_type": "execute_result"
    }
   ],
   "execution_count": 14
  },
  {
   "metadata": {},
   "cell_type": "markdown",
   "source": "Standardize Columns: Convert relevant columns to consistent data types (e.g., price and old_price).\n",
   "id": "5035965bc5e7262a"
  },
  {
   "metadata": {
    "ExecuteTime": {
     "end_time": "2025-04-16T18:59:17.609321Z",
     "start_time": "2025-04-16T18:59:17.605647Z"
    }
   },
   "cell_type": "code",
   "source": "data['old_price'].value_counts()",
   "id": "584b7c2083ed9a23",
   "outputs": [
    {
     "data": {
      "text/plain": [
       "old_price\n",
       "No old price    3040\n",
       "SR 995            12\n",
       "SR 1,385          11\n",
       "SR 595            10\n",
       "SR 275             8\n",
       "                ... \n",
       "SR 1,010           1\n",
       "SR 3,045           1\n",
       "SR 5,725           1\n",
       "SR 2,525           1\n",
       "SR 1,755           1\n",
       "Name: count, Length: 365, dtype: int64"
      ]
     },
     "execution_count": 15,
     "metadata": {},
     "output_type": "execute_result"
    }
   ],
   "execution_count": 15
  },
  {
   "metadata": {
    "ExecuteTime": {
     "end_time": "2025-04-16T18:59:28.006519Z",
     "start_time": "2025-04-16T18:59:28.002784Z"
    }
   },
   "cell_type": "code",
   "source": "data['price'].value_counts()",
   "id": "1a3f497b79917647",
   "outputs": [
    {
     "data": {
      "text/plain": [
       "price\n",
       "395.0     66\n",
       "25.0      54\n",
       "195.0     54\n",
       "175.0     51\n",
       "995.0     51\n",
       "          ..\n",
       "729.0      1\n",
       "4345.0     1\n",
       "1247.0     1\n",
       "2616.4     1\n",
       "1572.0     1\n",
       "Name: count, Length: 979, dtype: int64"
      ]
     },
     "execution_count": 16,
     "metadata": {},
     "output_type": "execute_result"
    }
   ],
   "execution_count": 16
  },
  {
   "metadata": {
    "ExecuteTime": {
     "end_time": "2025-04-16T19:06:04.588407Z",
     "start_time": "2025-04-16T19:06:04.583113Z"
    }
   },
   "cell_type": "code",
   "source": [
    "data['old_price'] = data['old_price'].astype(str)\n",
    "data['old_price'] = data['old_price'].str.replace(',', '.')\n",
    "data['old_price'] = data['old_price'].replace('', None)\n",
    "data['old_price'] = data['old_price'].astype(float)"
   ],
   "id": "ca783086ed6029aa",
   "outputs": [],
   "execution_count": 20
  },
  {
   "metadata": {
    "ExecuteTime": {
     "end_time": "2025-04-16T19:06:24.946061Z",
     "start_time": "2025-04-16T19:06:24.941964Z"
    }
   },
   "cell_type": "code",
   "source": "data['old_price'].value_counts()",
   "id": "15aa6dafd975ce59",
   "outputs": [
    {
     "data": {
      "text/plain": [
       "old_price\n",
       "995.000    12\n",
       "1.385      11\n",
       "595.000    10\n",
       "275.000     8\n",
       "2.375       7\n",
       "           ..\n",
       "1.010       1\n",
       "3.045       1\n",
       "4.125       1\n",
       "2.525       1\n",
       "1.755       1\n",
       "Name: count, Length: 364, dtype: int64"
      ]
     },
     "execution_count": 21,
     "metadata": {},
     "output_type": "execute_result"
    }
   ],
   "execution_count": 21
  },
  {
   "metadata": {
    "ExecuteTime": {
     "end_time": "2025-04-16T19:09:05.954803Z",
     "start_time": "2025-04-16T19:09:05.952476Z"
    }
   },
   "cell_type": "code",
   "source": [
    "print(data['old_price'].isnull().sum())    # Yəni 654 sətir  boşdur\n",
    "print(\"--------------\")\n",
    "print(data['old_price'].value_counts().sum())     # Yəni 3040 sətir var"
   ],
   "id": "765d5f96f6d4b4c7",
   "outputs": [
    {
     "name": "stdout",
     "output_type": "stream",
     "text": [
      "3040\n",
      "--------------\n",
      "654\n"
     ]
    }
   ],
   "execution_count": 25
  },
  {
   "metadata": {
    "ExecuteTime": {
     "end_time": "2025-04-16T19:13:36.076017Z",
     "start_time": "2025-04-16T19:13:36.073584Z"
    }
   },
   "cell_type": "code",
   "source": "data['is_discounted'] = data['old_price'] > data['price']",
   "id": "1bf2462b0f6368f",
   "outputs": [],
   "execution_count": 26
  },
  {
   "metadata": {
    "ExecuteTime": {
     "end_time": "2025-04-16T19:13:43.491155Z",
     "start_time": "2025-04-16T19:13:43.487786Z"
    }
   },
   "cell_type": "code",
   "source": "data['is_discounted'].value_counts()",
   "id": "b154df806018737a",
   "outputs": [
    {
     "data": {
      "text/plain": [
       "is_discounted\n",
       "False    3369\n",
       "True      325\n",
       "Name: count, dtype: int64"
      ]
     },
     "execution_count": 27,
     "metadata": {},
     "output_type": "execute_result"
    }
   ],
   "execution_count": 27
  },
  {
   "metadata": {
    "ExecuteTime": {
     "end_time": "2025-04-16T19:15:17.779810Z",
     "start_time": "2025-04-16T19:15:17.776513Z"
    }
   },
   "cell_type": "code",
   "source": [
    "discounted_items = data[data['is_discounted'] == True]\n",
    "print(discounted_items[['price', 'old_price', 'is_discounted']].head())"
   ],
   "id": "d2660cd2810096e0",
   "outputs": [
    {
     "name": "stdout",
     "output_type": "stream",
     "text": [
      "    price  old_price  is_discounted\n",
      "2   177.0      295.0           True\n",
      "5   140.0      175.0           True\n",
      "7   796.0      995.0           True\n",
      "24  100.0      125.0           True\n",
      "31  871.0      940.0           True\n"
     ]
    }
   ],
   "execution_count": 29
  },
  {
   "metadata": {
    "ExecuteTime": {
     "end_time": "2025-04-16T19:21:32.577978Z",
     "start_time": "2025-04-16T19:21:32.542049Z"
    }
   },
   "cell_type": "code",
   "source": [
    "sns.set_style('whitegrid')\n",
    "plt.figure(figsize=(6,4))\n",
    "sns.countplot(x='is_discounted', data=data, palette=['salmon', 'skyblue'])\n",
    "\n",
    "plt.title('Endirimdə olan və olmayan məhsulların sayı')\n",
    "plt.xlabel('Endirimdədir?')\n",
    "plt.ylabel('Say')\n",
    "plt.xticks([0, 1], ['Xeyr', 'Bəli'])\n",
    "plt.tight_layout()\n",
    "plt.show()"
   ],
   "id": "8dc1f9708a3c276a",
   "outputs": [
    {
     "name": "stderr",
     "output_type": "stream",
     "text": [
      "/var/folders/l3/7gwh0chs17vchgqqqlvfykrc0000gn/T/ipykernel_2389/2492267040.py:3: FutureWarning: \n",
      "\n",
      "Passing `palette` without assigning `hue` is deprecated and will be removed in v0.14.0. Assign the `x` variable to `hue` and set `legend=False` for the same effect.\n",
      "\n",
      "  sns.countplot(x='is_discounted', data=data, palette=['salmon', 'skyblue'])\n"
     ]
    },
    {
     "data": {
      "text/plain": [
       "<Figure size 600x400 with 1 Axes>"
      ],
      "image/png": "[encoded data removed]"
     },
     "metadata": {},
     "output_type": "display_data"
    }
   ],
   "execution_count": 31
  },
  {
   "metadata": {
    "ExecuteTime": {
     "end_time": "2025-04-16T19:23:33.782382Z",
     "start_time": "2025-04-16T19:23:33.778165Z"
    }
   },
   "cell_type": "code",
   "source": "print(data.isnull().sum())  # NaN olan dəyərlərin sayı",
   "id": "17edc9d4c3026841",
   "outputs": [
    {
     "name": "stdout",
     "output_type": "stream",
     "text": [
      "item_id                   0\n",
      "name                      0\n",
      "category                  0\n",
      "price                     0\n",
      "old_price              3040\n",
      "sellable_online           0\n",
      "link                      0\n",
      "other_colors              0\n",
      "short_description         0\n",
      "designer                  0\n",
      "depth                  1463\n",
      "height                  988\n",
      "width                   589\n",
      "product_description       0\n",
      "current_status            0\n",
      "kewords                2300\n",
      "topic_group            2285\n",
      "topic_desc             2285\n",
      "is_discounted             0\n",
      "dtype: int64\n"
     ]
    }
   ],
   "execution_count": 32
  },
  {
   "metadata": {
    "ExecuteTime": {
     "end_time": "2025-04-16T19:26:12.959157Z",
     "start_time": "2025-04-16T19:26:12.954262Z"
    }
   },
   "cell_type": "code",
   "source": [
    "total_rows = len(data)\n",
    "\n",
    "nan_percent=(data.isnull().sum()/total_rows)*100\n",
    "nan_percent = nan_percent.round(2)\n",
    "print(nan_percent)"
   ],
   "id": "bd1e488e12c4847",
   "outputs": [
    {
     "name": "stdout",
     "output_type": "stream",
     "text": [
      "item_id                 0.00\n",
      "name                    0.00\n",
      "category                0.00\n",
      "price                   0.00\n",
      "old_price              82.30\n",
      "sellable_online         0.00\n",
      "link                    0.00\n",
      "other_colors            0.00\n",
      "short_description       0.00\n",
      "designer                0.00\n",
      "depth                  39.60\n",
      "height                 26.75\n",
      "width                  15.94\n",
      "product_description     0.00\n",
      "current_status          0.00\n",
      "kewords                62.26\n",
      "topic_group            61.86\n",
      "topic_desc             61.86\n",
      "is_discounted           0.00\n",
      "dtype: float64\n"
     ]
    }
   ],
   "execution_count": 33
  },
  {
   "metadata": {},
   "cell_type": "code",
   "outputs": [],
   "execution_count": null,
   "source": "",
   "id": "8d43dd29795a1782"
  }
 ],
 "metadata": {
  "kernelspec": {
   "display_name": "Python 3",
   "language": "python",
   "name": "python3"
  },
  "language_info": {
   "codemirror_mode": {
    "name": "ipython",
    "version": 2
   },
   "file_extension": ".py",
   "mimetype": "text/x-python",
   "name": "python",
   "nbconvert_exporter": "python",
   "pygments_lexer": "ipython2",
   "version": "2.7.6"
  }
 },
 "nbformat": 4,
 "nbformat_minor": 5
}
