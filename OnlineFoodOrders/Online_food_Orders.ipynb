{
 "cells": [
  {
   "metadata": {
    "ExecuteTime": {
     "end_time": "2025-03-11T12:48:12.491074Z",
     "start_time": "2025-03-11T12:48:12.379655Z"
    }
   },
   "cell_type": "code",
   "source": [
    "import matplotlib.pyplot as plt\n",
    "import seaborn as sns\n",
    "import pandas as pd\n",
    "import numpy as np"
   ],
   "id": "f8b5bf157633afa7",
   "outputs": [],
   "execution_count": 5
  },
  {
   "metadata": {
    "ExecuteTime": {
     "end_time": "2025-03-11T12:48:53.394596Z",
     "start_time": "2025-03-11T12:48:53.373679Z"
    }
   },
   "cell_type": "code",
   "source": "data= pd.read_csv('onlinefoods.csv')",
   "id": "7d96888d8e429074",
   "outputs": [],
   "execution_count": 7
  },
  {
   "metadata": {
    "ExecuteTime": {
     "end_time": "2025-03-11T12:49:02.899851Z",
     "start_time": "2025-03-11T12:49:02.877845Z"
    }
   },
   "cell_type": "code",
   "source": "data.head(20)",
   "id": "352873cb3f81a499",
   "outputs": [
    {
     "data": {
      "text/plain": [
       "    Age  Gender Marital Status      Occupation   Monthly Income  \\\n",
       "0    20  Female         Single         Student        No Income   \n",
       "1    24  Female         Single         Student   Below Rs.10000   \n",
       "2    22    Male         Single         Student   Below Rs.10000   \n",
       "3    22  Female         Single         Student        No Income   \n",
       "4    22    Male         Single         Student   Below Rs.10000   \n",
       "5    27  Female        Married        Employee  More than 50000   \n",
       "6    22    Male         Single         Student        No Income   \n",
       "7    24  Female         Single         Student        No Income   \n",
       "8    23  Female         Single         Student        No Income   \n",
       "9    23  Female         Single         Student        No Income   \n",
       "10   22  Female         Single         Student        No Income   \n",
       "11   23    Male         Single         Student   Below Rs.10000   \n",
       "12   23    Male         Single         Student        No Income   \n",
       "13   21    Male         Single         Student        No Income   \n",
       "14   23  Female         Single  Self Employeed   10001 to 25000   \n",
       "15   24  Female         Single         Student        No Income   \n",
       "16   28  Female         Single        Employee   25001 to 50000   \n",
       "17   23  Female         Single         Student        No Income   \n",
       "18   25    Male         Single         Student        No Income   \n",
       "19   21  Female         Single         Student   Below Rs.10000   \n",
       "\n",
       "   Educational Qualifications  Family size  latitude  longitude  Pin code  \\\n",
       "0               Post Graduate            4   12.9766    77.5993    560001   \n",
       "1                    Graduate            3   12.9770    77.5773    560009   \n",
       "2               Post Graduate            3   12.9551    77.6593    560017   \n",
       "3                    Graduate            6   12.9473    77.5616    560019   \n",
       "4               Post Graduate            4   12.9850    77.5533    560010   \n",
       "5               Post Graduate            2   12.9299    77.6848    560103   \n",
       "6                    Graduate            3   12.9770    77.5773    560009   \n",
       "7               Post Graduate            3   12.9828    77.6131    560042   \n",
       "8               Post Graduate            2   12.9766    77.5993    560001   \n",
       "9               Post Graduate            4   12.9854    77.7081    560048   \n",
       "10              Post Graduate            5   12.9850    77.5533    560010   \n",
       "11              Post Graduate            2   12.9770    77.5773    560009   \n",
       "12              Post Graduate            5   12.8988    77.5764    560078   \n",
       "13                   Graduate            4   12.9770    77.5773    560009   \n",
       "14              Post Graduate            5   12.9438    77.5738    560004   \n",
       "15              Post Graduate            6   12.8893    77.6399    560068   \n",
       "16              Post Graduate            2   12.9783    77.6408    560038   \n",
       "17                   Graduate            3   12.9820    77.6256    560008   \n",
       "18                   Graduate            4   12.8988    77.5764    560078   \n",
       "19              Post Graduate            1   12.9783    77.6408    560038   \n",
       "\n",
       "   Output   Feedback Unnamed: 12  \n",
       "0     Yes   Positive         Yes  \n",
       "1     Yes   Positive         Yes  \n",
       "2     Yes  Negative          Yes  \n",
       "3     Yes   Positive         Yes  \n",
       "4     Yes   Positive         Yes  \n",
       "5     Yes   Positive         Yes  \n",
       "6     Yes   Positive         Yes  \n",
       "7     Yes   Positive         Yes  \n",
       "8     Yes   Positive         Yes  \n",
       "9     Yes   Positive         Yes  \n",
       "10    Yes   Positive         Yes  \n",
       "11    Yes  Negative          Yes  \n",
       "12    Yes   Positive         Yes  \n",
       "13    Yes   Positive         Yes  \n",
       "14    Yes   Positive         Yes  \n",
       "15    Yes   Positive         Yes  \n",
       "16    Yes   Positive         Yes  \n",
       "17    Yes  Negative          Yes  \n",
       "18    Yes  Negative          Yes  \n",
       "19    Yes   Positive         Yes  "
      ],
      "text/html": [
       "<div>\n",
       "<style scoped>\n",
       "    .dataframe tbody tr th:only-of-type {\n",
       "        vertical-align: middle;\n",
       "    }\n",
       "\n",
       "    .dataframe tbody tr th {\n",
       "        vertical-align: top;\n",
       "    }\n",
       "\n",
       "    .dataframe thead th {\n",
       "        text-align: right;\n",
       "    }\n",
       "</style>\n",
       "<table border=\"1\" class=\"dataframe\">\n",
       "  <thead>\n",
       "    <tr style=\"text-align: right;\">\n",
       "      <th></th>\n",
       "      <th>Age</th>\n",
       "      <th>Gender</th>\n",
       "      <th>Marital Status</th>\n",
       "      <th>Occupation</th>\n",
       "      <th>Monthly Income</th>\n",
       "      <th>Educational Qualifications</th>\n",
       "      <th>Family size</th>\n",
       "      <th>latitude</th>\n",
       "      <th>longitude</th>\n",
       "      <th>Pin code</th>\n",
       "      <th>Output</th>\n",
       "      <th>Feedback</th>\n",
       "      <th>Unnamed: 12</th>\n",
       "    </tr>\n",
       "  </thead>\n",
       "  <tbody>\n",
       "    <tr>\n",
       "      <th>0</th>\n",
       "      <td>20</td>\n",
       "      <td>Female</td>\n",
       "      <td>Single</td>\n",
       "      <td>Student</td>\n",
       "      <td>No Income</td>\n",
       "      <td>Post Graduate</td>\n",
       "      <td>4</td>\n",
       "      <td>12.9766</td>\n",
       "      <td>77.5993</td>\n",
       "      <td>560001</td>\n",
       "      <td>Yes</td>\n",
       "      <td>Positive</td>\n",
       "      <td>Yes</td>\n",
       "    </tr>\n",
       "    <tr>\n",
       "      <th>1</th>\n",
       "      <td>24</td>\n",
       "      <td>Female</td>\n",
       "      <td>Single</td>\n",
       "      <td>Student</td>\n",
       "      <td>Below Rs.10000</td>\n",
       "      <td>Graduate</td>\n",
       "      <td>3</td>\n",
       "      <td>12.9770</td>\n",
       "      <td>77.5773</td>\n",
       "      <td>560009</td>\n",
       "      <td>Yes</td>\n",
       "      <td>Positive</td>\n",
       "      <td>Yes</td>\n",
       "    </tr>\n",
       "    <tr>\n",
       "      <th>2</th>\n",
       "      <td>22</td>\n",
       "      <td>Male</td>\n",
       "      <td>Single</td>\n",
       "      <td>Student</td>\n",
       "      <td>Below Rs.10000</td>\n",
       "      <td>Post Graduate</td>\n",
       "      <td>3</td>\n",
       "      <td>12.9551</td>\n",
       "      <td>77.6593</td>\n",
       "      <td>560017</td>\n",
       "      <td>Yes</td>\n",
       "      <td>Negative</td>\n",
       "      <td>Yes</td>\n",
       "    </tr>\n",
       "    <tr>\n",
       "      <th>3</th>\n",
       "      <td>22</td>\n",
       "      <td>Female</td>\n",
       "      <td>Single</td>\n",
       "      <td>Student</td>\n",
       "      <td>No Income</td>\n",
       "      <td>Graduate</td>\n",
       "      <td>6</td>\n",
       "      <td>12.9473</td>\n",
       "      <td>77.5616</td>\n",
       "      <td>560019</td>\n",
       "      <td>Yes</td>\n",
       "      <td>Positive</td>\n",
       "      <td>Yes</td>\n",
       "    </tr>\n",
       "    <tr>\n",
       "      <th>4</th>\n",
       "      <td>22</td>\n",
       "      <td>Male</td>\n",
       "      <td>Single</td>\n",
       "      <td>Student</td>\n",
       "      <td>Below Rs.10000</td>\n",
       "      <td>Post Graduate</td>\n",
       "      <td>4</td>\n",
       "      <td>12.9850</td>\n",
       "      <td>77.5533</td>\n",
       "      <td>560010</td>\n",
       "      <td>Yes</td>\n",
       "      <td>Positive</td>\n",
       "      <td>Yes</td>\n",
       "    </tr>\n",
       "    <tr>\n",
       "      <th>5</th>\n",
       "      <td>27</td>\n",
       "      <td>Female</td>\n",
       "      <td>Married</td>\n",
       "      <td>Employee</td>\n",
       "      <td>More than 50000</td>\n",
       "      <td>Post Graduate</td>\n",
       "      <td>2</td>\n",
       "      <td>12.9299</td>\n",
       "      <td>77.6848</td>\n",
       "      <td>560103</td>\n",
       "      <td>Yes</td>\n",
       "      <td>Positive</td>\n",
       "      <td>Yes</td>\n",
       "    </tr>\n",
       "    <tr>\n",
       "      <th>6</th>\n",
       "      <td>22</td>\n",
       "      <td>Male</td>\n",
       "      <td>Single</td>\n",
       "      <td>Student</td>\n",
       "      <td>No Income</td>\n",
       "      <td>Graduate</td>\n",
       "      <td>3</td>\n",
       "      <td>12.9770</td>\n",
       "      <td>77.5773</td>\n",
       "      <td>560009</td>\n",
       "      <td>Yes</td>\n",
       "      <td>Positive</td>\n",
       "      <td>Yes</td>\n",
       "    </tr>\n",
       "    <tr>\n",
       "      <th>7</th>\n",
       "      <td>24</td>\n",
       "      <td>Female</td>\n",
       "      <td>Single</td>\n",
       "      <td>Student</td>\n",
       "      <td>No Income</td>\n",
       "      <td>Post Graduate</td>\n",
       "      <td>3</td>\n",
       "      <td>12.9828</td>\n",
       "      <td>77.6131</td>\n",
       "      <td>560042</td>\n",
       "      <td>Yes</td>\n",
       "      <td>Positive</td>\n",
       "      <td>Yes</td>\n",
       "    </tr>\n",
       "    <tr>\n",
       "      <th>8</th>\n",
       "      <td>23</td>\n",
       "      <td>Female</td>\n",
       "      <td>Single</td>\n",
       "      <td>Student</td>\n",
       "      <td>No Income</td>\n",
       "      <td>Post Graduate</td>\n",
       "      <td>2</td>\n",
       "      <td>12.9766</td>\n",
       "      <td>77.5993</td>\n",
       "      <td>560001</td>\n",
       "      <td>Yes</td>\n",
       "      <td>Positive</td>\n",
       "      <td>Yes</td>\n",
       "    </tr>\n",
       "    <tr>\n",
       "      <th>9</th>\n",
       "      <td>23</td>\n",
       "      <td>Female</td>\n",
       "      <td>Single</td>\n",
       "      <td>Student</td>\n",
       "      <td>No Income</td>\n",
       "      <td>Post Graduate</td>\n",
       "      <td>4</td>\n",
       "      <td>12.9854</td>\n",
       "      <td>77.7081</td>\n",
       "      <td>560048</td>\n",
       "      <td>Yes</td>\n",
       "      <td>Positive</td>\n",
       "      <td>Yes</td>\n",
       "    </tr>\n",
       "    <tr>\n",
       "      <th>10</th>\n",
       "      <td>22</td>\n",
       "      <td>Female</td>\n",
       "      <td>Single</td>\n",
       "      <td>Student</td>\n",
       "      <td>No Income</td>\n",
       "      <td>Post Graduate</td>\n",
       "      <td>5</td>\n",
       "      <td>12.9850</td>\n",
       "      <td>77.5533</td>\n",
       "      <td>560010</td>\n",
       "      <td>Yes</td>\n",
       "      <td>Positive</td>\n",
       "      <td>Yes</td>\n",
       "    </tr>\n",
       "    <tr>\n",
       "      <th>11</th>\n",
       "      <td>23</td>\n",
       "      <td>Male</td>\n",
       "      <td>Single</td>\n",
       "      <td>Student</td>\n",
       "      <td>Below Rs.10000</td>\n",
       "      <td>Post Graduate</td>\n",
       "      <td>2</td>\n",
       "      <td>12.9770</td>\n",
       "      <td>77.5773</td>\n",
       "      <td>560009</td>\n",
       "      <td>Yes</td>\n",
       "      <td>Negative</td>\n",
       "      <td>Yes</td>\n",
       "    </tr>\n",
       "    <tr>\n",
       "      <th>12</th>\n",
       "      <td>23</td>\n",
       "      <td>Male</td>\n",
       "      <td>Single</td>\n",
       "      <td>Student</td>\n",
       "      <td>No Income</td>\n",
       "      <td>Post Graduate</td>\n",
       "      <td>5</td>\n",
       "      <td>12.8988</td>\n",
       "      <td>77.5764</td>\n",
       "      <td>560078</td>\n",
       "      <td>Yes</td>\n",
       "      <td>Positive</td>\n",
       "      <td>Yes</td>\n",
       "    </tr>\n",
       "    <tr>\n",
       "      <th>13</th>\n",
       "      <td>21</td>\n",
       "      <td>Male</td>\n",
       "      <td>Single</td>\n",
       "      <td>Student</td>\n",
       "      <td>No Income</td>\n",
       "      <td>Graduate</td>\n",
       "      <td>4</td>\n",
       "      <td>12.9770</td>\n",
       "      <td>77.5773</td>\n",
       "      <td>560009</td>\n",
       "      <td>Yes</td>\n",
       "      <td>Positive</td>\n",
       "      <td>Yes</td>\n",
       "    </tr>\n",
       "    <tr>\n",
       "      <th>14</th>\n",
       "      <td>23</td>\n",
       "      <td>Female</td>\n",
       "      <td>Single</td>\n",
       "      <td>Self Employeed</td>\n",
       "      <td>10001 to 25000</td>\n",
       "      <td>Post Graduate</td>\n",
       "      <td>5</td>\n",
       "      <td>12.9438</td>\n",
       "      <td>77.5738</td>\n",
       "      <td>560004</td>\n",
       "      <td>Yes</td>\n",
       "      <td>Positive</td>\n",
       "      <td>Yes</td>\n",
       "    </tr>\n",
       "    <tr>\n",
       "      <th>15</th>\n",
       "      <td>24</td>\n",
       "      <td>Female</td>\n",
       "      <td>Single</td>\n",
       "      <td>Student</td>\n",
       "      <td>No Income</td>\n",
       "      <td>Post Graduate</td>\n",
       "      <td>6</td>\n",
       "      <td>12.8893</td>\n",
       "      <td>77.6399</td>\n",
       "      <td>560068</td>\n",
       "      <td>Yes</td>\n",
       "      <td>Positive</td>\n",
       "      <td>Yes</td>\n",
       "    </tr>\n",
       "    <tr>\n",
       "      <th>16</th>\n",
       "      <td>28</td>\n",
       "      <td>Female</td>\n",
       "      <td>Single</td>\n",
       "      <td>Employee</td>\n",
       "      <td>25001 to 50000</td>\n",
       "      <td>Post Graduate</td>\n",
       "      <td>2</td>\n",
       "      <td>12.9783</td>\n",
       "      <td>77.6408</td>\n",
       "      <td>560038</td>\n",
       "      <td>Yes</td>\n",
       "      <td>Positive</td>\n",
       "      <td>Yes</td>\n",
       "    </tr>\n",
       "    <tr>\n",
       "      <th>17</th>\n",
       "      <td>23</td>\n",
       "      <td>Female</td>\n",
       "      <td>Single</td>\n",
       "      <td>Student</td>\n",
       "      <td>No Income</td>\n",
       "      <td>Graduate</td>\n",
       "      <td>3</td>\n",
       "      <td>12.9820</td>\n",
       "      <td>77.6256</td>\n",
       "      <td>560008</td>\n",
       "      <td>Yes</td>\n",
       "      <td>Negative</td>\n",
       "      <td>Yes</td>\n",
       "    </tr>\n",
       "    <tr>\n",
       "      <th>18</th>\n",
       "      <td>25</td>\n",
       "      <td>Male</td>\n",
       "      <td>Single</td>\n",
       "      <td>Student</td>\n",
       "      <td>No Income</td>\n",
       "      <td>Graduate</td>\n",
       "      <td>4</td>\n",
       "      <td>12.8988</td>\n",
       "      <td>77.5764</td>\n",
       "      <td>560078</td>\n",
       "      <td>Yes</td>\n",
       "      <td>Negative</td>\n",
       "      <td>Yes</td>\n",
       "    </tr>\n",
       "    <tr>\n",
       "      <th>19</th>\n",
       "      <td>21</td>\n",
       "      <td>Female</td>\n",
       "      <td>Single</td>\n",
       "      <td>Student</td>\n",
       "      <td>Below Rs.10000</td>\n",
       "      <td>Post Graduate</td>\n",
       "      <td>1</td>\n",
       "      <td>12.9783</td>\n",
       "      <td>77.6408</td>\n",
       "      <td>560038</td>\n",
       "      <td>Yes</td>\n",
       "      <td>Positive</td>\n",
       "      <td>Yes</td>\n",
       "    </tr>\n",
       "  </tbody>\n",
       "</table>\n",
       "</div>"
      ]
     },
     "execution_count": 8,
     "metadata": {},
     "output_type": "execute_result"
    }
   ],
   "execution_count": 8
  },
  {
   "metadata": {
    "ExecuteTime": {
     "end_time": "2025-03-11T12:49:19.959651Z",
     "start_time": "2025-03-11T12:49:19.933838Z"
    }
   },
   "cell_type": "code",
   "source": "data.info()",
   "id": "507ac8da861bf853",
   "outputs": [
    {
     "name": "stdout",
     "output_type": "stream",
     "text": [
      "<class 'pandas.core.frame.DataFrame'>\n",
      "RangeIndex: 388 entries, 0 to 387\n",
      "Data columns (total 13 columns):\n",
      " #   Column                      Non-Null Count  Dtype  \n",
      "---  ------                      --------------  -----  \n",
      " 0   Age                         388 non-null    int64  \n",
      " 1   Gender                      388 non-null    object \n",
      " 2   Marital Status              388 non-null    object \n",
      " 3   Occupation                  388 non-null    object \n",
      " 4   Monthly Income              388 non-null    object \n",
      " 5   Educational Qualifications  388 non-null    object \n",
      " 6   Family size                 388 non-null    int64  \n",
      " 7   latitude                    388 non-null    float64\n",
      " 8   longitude                   388 non-null    float64\n",
      " 9   Pin code                    388 non-null    int64  \n",
      " 10  Output                      388 non-null    object \n",
      " 11  Feedback                    388 non-null    object \n",
      " 12  Unnamed: 12                 388 non-null    object \n",
      "dtypes: float64(2), int64(3), object(8)\n",
      "memory usage: 39.5+ KB\n"
     ]
    }
   ],
   "execution_count": 9
  },
  {
   "metadata": {
    "ExecuteTime": {
     "end_time": "2025-03-11T12:49:53.176681Z",
     "start_time": "2025-03-11T12:49:53.169772Z"
    }
   },
   "cell_type": "code",
   "source": "data.shape",
   "id": "7477d99abdafcce0",
   "outputs": [
    {
     "data": {
      "text/plain": [
       "(388, 13)"
      ]
     },
     "execution_count": 10,
     "metadata": {},
     "output_type": "execute_result"
    }
   ],
   "execution_count": 10
  },
  {
   "metadata": {
    "ExecuteTime": {
     "end_time": "2025-03-11T12:50:02.879033Z",
     "start_time": "2025-03-11T12:50:02.852895Z"
    }
   },
   "cell_type": "code",
   "source": "data.describe()",
   "id": "eed6c288f1513c06",
   "outputs": [
    {
     "data": {
      "text/plain": [
       "              Age  Family size    latitude   longitude       Pin code\n",
       "count  388.000000   388.000000  388.000000  388.000000     388.000000\n",
       "mean    24.628866     3.280928   12.972058   77.600160  560040.113402\n",
       "std      2.975593     1.351025    0.044489    0.051354      31.399609\n",
       "min     18.000000     1.000000   12.865200   77.484200  560001.000000\n",
       "25%     23.000000     2.000000   12.936900   77.565275  560010.750000\n",
       "50%     24.000000     3.000000   12.977000   77.592100  560033.500000\n",
       "75%     26.000000     4.000000   12.997025   77.630900  560068.000000\n",
       "max     33.000000     6.000000   13.102000   77.758200  560109.000000"
      ],
      "text/html": [
       "<div>\n",
       "<style scoped>\n",
       "    .dataframe tbody tr th:only-of-type {\n",
       "        vertical-align: middle;\n",
       "    }\n",
       "\n",
       "    .dataframe tbody tr th {\n",
       "        vertical-align: top;\n",
       "    }\n",
       "\n",
       "    .dataframe thead th {\n",
       "        text-align: right;\n",
       "    }\n",
       "</style>\n",
       "<table border=\"1\" class=\"dataframe\">\n",
       "  <thead>\n",
       "    <tr style=\"text-align: right;\">\n",
       "      <th></th>\n",
       "      <th>Age</th>\n",
       "      <th>Family size</th>\n",
       "      <th>latitude</th>\n",
       "      <th>longitude</th>\n",
       "      <th>Pin code</th>\n",
       "    </tr>\n",
       "  </thead>\n",
       "  <tbody>\n",
       "    <tr>\n",
       "      <th>count</th>\n",
       "      <td>388.000000</td>\n",
       "      <td>388.000000</td>\n",
       "      <td>388.000000</td>\n",
       "      <td>388.000000</td>\n",
       "      <td>388.000000</td>\n",
       "    </tr>\n",
       "    <tr>\n",
       "      <th>mean</th>\n",
       "      <td>24.628866</td>\n",
       "      <td>3.280928</td>\n",
       "      <td>12.972058</td>\n",
       "      <td>77.600160</td>\n",
       "      <td>560040.113402</td>\n",
       "    </tr>\n",
       "    <tr>\n",
       "      <th>std</th>\n",
       "      <td>2.975593</td>\n",
       "      <td>1.351025</td>\n",
       "      <td>0.044489</td>\n",
       "      <td>0.051354</td>\n",
       "      <td>31.399609</td>\n",
       "    </tr>\n",
       "    <tr>\n",
       "      <th>min</th>\n",
       "      <td>18.000000</td>\n",
       "      <td>1.000000</td>\n",
       "      <td>12.865200</td>\n",
       "      <td>77.484200</td>\n",
       "      <td>560001.000000</td>\n",
       "    </tr>\n",
       "    <tr>\n",
       "      <th>25%</th>\n",
       "      <td>23.000000</td>\n",
       "      <td>2.000000</td>\n",
       "      <td>12.936900</td>\n",
       "      <td>77.565275</td>\n",
       "      <td>560010.750000</td>\n",
       "    </tr>\n",
       "    <tr>\n",
       "      <th>50%</th>\n",
       "      <td>24.000000</td>\n",
       "      <td>3.000000</td>\n",
       "      <td>12.977000</td>\n",
       "      <td>77.592100</td>\n",
       "      <td>560033.500000</td>\n",
       "    </tr>\n",
       "    <tr>\n",
       "      <th>75%</th>\n",
       "      <td>26.000000</td>\n",
       "      <td>4.000000</td>\n",
       "      <td>12.997025</td>\n",
       "      <td>77.630900</td>\n",
       "      <td>560068.000000</td>\n",
       "    </tr>\n",
       "    <tr>\n",
       "      <th>max</th>\n",
       "      <td>33.000000</td>\n",
       "      <td>6.000000</td>\n",
       "      <td>13.102000</td>\n",
       "      <td>77.758200</td>\n",
       "      <td>560109.000000</td>\n",
       "    </tr>\n",
       "  </tbody>\n",
       "</table>\n",
       "</div>"
      ]
     },
     "execution_count": 11,
     "metadata": {},
     "output_type": "execute_result"
    }
   ],
   "execution_count": 11
  },
  {
   "metadata": {
    "ExecuteTime": {
     "end_time": "2025-03-11T12:50:18.293319Z",
     "start_time": "2025-03-11T12:50:18.284861Z"
    }
   },
   "cell_type": "code",
   "source": "data.isnull().sum()",
   "id": "dc724876c3fed58",
   "outputs": [
    {
     "data": {
      "text/plain": [
       "Age                           0\n",
       "Gender                        0\n",
       "Marital Status                0\n",
       "Occupation                    0\n",
       "Monthly Income                0\n",
       "Educational Qualifications    0\n",
       "Family size                   0\n",
       "latitude                      0\n",
       "longitude                     0\n",
       "Pin code                      0\n",
       "Output                        0\n",
       "Feedback                      0\n",
       "Unnamed: 12                   0\n",
       "dtype: int64"
      ]
     },
     "execution_count": 12,
     "metadata": {},
     "output_type": "execute_result"
    }
   ],
   "execution_count": 12
  },
  {
   "metadata": {},
   "cell_type": "markdown",
   "source": "1.\tWhat is the distribution of customers' ages in the dataset?",
   "id": "628a1c1d14fef5b8"
  },
  {
   "metadata": {
    "ExecuteTime": {
     "end_time": "2025-03-11T12:53:45.320849Z",
     "start_time": "2025-03-11T12:53:45.179068Z"
    }
   },
   "cell_type": "code",
   "source": [
    "plt.figure(figsize=(10,5))\n",
    "plt.hist(data['Age'], bins=20)\n",
    "plt.title('Distribution of Customers\\' Ages')\n",
    "plt.xlabel('Age')\n",
    "plt.ylabel('Frequency')\n",
    "plt.show()"
   ],
   "id": "99c62c3f1dc24113",
   "outputs": [
    {
     "data": {
      "text/plain": [
       "<Figure size 1000x500 with 1 Axes>"
      ],
      "image/png": "[encoded data removed]"
     },
     "metadata": {},
     "output_type": "display_data"
    }
   ],
   "execution_count": 15
  },
  {
   "metadata": {
    "ExecuteTime": {
     "end_time": "2025-03-11T12:53:59.685725Z",
     "start_time": "2025-03-11T12:53:59.676030Z"
    }
   },
   "cell_type": "code",
   "source": "print(data['Age'].describe())",
   "id": "d92075a252b76e66",
   "outputs": [
    {
     "name": "stdout",
     "output_type": "stream",
     "text": [
      "count    388.000000\n",
      "mean      24.628866\n",
      "std        2.975593\n",
      "min       18.000000\n",
      "25%       23.000000\n",
      "50%       24.000000\n",
      "75%       26.000000\n",
      "max       33.000000\n",
      "Name: Age, dtype: float64\n"
     ]
    }
   ],
   "execution_count": 16
  },
  {
   "metadata": {},
   "cell_type": "markdown",
   "source": "2.\tHow many male and female customers are there in the dataset?",
   "id": "acebffbd90d2936"
  },
  {
   "metadata": {
    "ExecuteTime": {
     "end_time": "2025-03-11T12:55:04.661300Z",
     "start_time": "2025-03-11T12:55:04.649059Z"
    }
   },
   "cell_type": "code",
   "source": "data['Gender'].value_counts()",
   "id": "f2a4983905bc9ac5",
   "outputs": [
    {
     "data": {
      "text/plain": [
       "Gender\n",
       "Male      222\n",
       "Female    166\n",
       "Name: count, dtype: int64"
      ]
     },
     "execution_count": 17,
     "metadata": {},
     "output_type": "execute_result"
    }
   ],
   "execution_count": 17
  },
  {
   "metadata": {},
   "cell_type": "markdown",
   "source": "3.\tWhat are the different marital statuses represented in the dataset, and what is their distribution?",
   "id": "e03ac38973461074"
  },
  {
   "metadata": {
    "ExecuteTime": {
     "end_time": "2025-03-11T13:16:08.890245Z",
     "start_time": "2025-03-11T13:16:08.835227Z"
    }
   },
   "cell_type": "code",
   "source": [
    "\n",
    "if 'Marital Status' in data.columns:\n",
    "    print(data['Marital Status'].value_counts())\n",
    "else:\n",
    "    print(\"The 'Marital Status' column does not exist in the dataset.\")"
   ],
   "id": "8f46b7e33a46c1d3",
   "outputs": [
    {
     "name": "stdout",
     "output_type": "stream",
     "text": [
      "Marital Status\n",
      "Single               268\n",
      "Married              108\n",
      "Prefer not to say     12\n",
      "Name: count, dtype: int64\n"
     ]
    }
   ],
   "execution_count": 18
  },
  {
   "metadata": {
    "ExecuteTime": {
     "end_time": "2025-03-11T13:18:31.006509Z",
     "start_time": "2025-03-11T13:18:30.484711Z"
    }
   },
   "cell_type": "code",
   "source": [
    "plt.figure(figsize=(7,3))\n",
    "plt.hist(data['Marital Status'], bins=30)\n",
    "plt.title('Marital Status Distribution')\n",
    "plt.xlabel('X-axis Label')\n",
    "plt.ylabel('Frequency')\n",
    "plt.show()"
   ],
   "id": "f665978f5ae53e28",
   "outputs": [
    {
     "data": {
      "text/plain": [
       "<Figure size 700x300 with 1 Axes>"
      ],
      "image/png": "[encoded data removed]"
     },
     "metadata": {},
     "output_type": "display_data"
    }
   ],
   "execution_count": 20
  },
  {
   "metadata": {},
   "cell_type": "markdown",
   "source": "4.\tWhat are the most common occupations among the customers?",
   "id": "55cb0c0164d8892f"
  },
  {
   "metadata": {
    "ExecuteTime": {
     "end_time": "2025-03-11T13:20:42.201697Z",
     "start_time": "2025-03-11T13:20:42.192696Z"
    }
   },
   "cell_type": "code",
   "source": [
    "if 'Occupation' in data.columns:\n",
    "    print(data['Occupation'].value_counts().head(10))\n",
    "else:\n",
    "    print(\"The 'Occupation' column does not exist in the dataset.\")"
   ],
   "id": "31dfe7ec85607e1a",
   "outputs": [
    {
     "name": "stdout",
     "output_type": "stream",
     "text": [
      "Occupation\n",
      "Student           207\n",
      "Employee          118\n",
      "Self Employeed     54\n",
      "House wife          9\n",
      "Name: count, dtype: int64\n"
     ]
    }
   ],
   "execution_count": 21
  },
  {
   "metadata": {
    "ExecuteTime": {
     "end_time": "2025-03-11T13:21:31.538546Z",
     "start_time": "2025-03-11T13:21:31.417644Z"
    }
   },
   "cell_type": "code",
   "source": [
    "plt.figure(figsize=(7,3))\n",
    "plt.hist(data['Occupation'], bins=30)\n",
    "plt.title('Occupation Distribution')\n",
    "plt.xlabel('X-axis Label')\n",
    "plt.ylabel('Frequency')\n",
    "plt.show()"
   ],
   "id": "79b46a3154f2e71a",
   "outputs": [
    {
     "data": {
      "text/plain": [
       "<Figure size 700x300 with 1 Axes>"
      ],
      "image/png": "[encoded data removed]"
     },
     "metadata": {},
     "output_type": "display_data"
    }
   ],
   "execution_count": 22
  },
  {
   "metadata": {},
   "cell_type": "code",
   "outputs": [],
   "execution_count": null,
   "source": "",
   "id": "d42409d05e002b98"
  },
  {
   "metadata": {},
   "cell_type": "code",
   "outputs": [],
   "execution_count": null,
   "source": "",
   "id": "af42dcf414368298"
  }
 ],
 "metadata": {
  "kernelspec": {
   "display_name": "Python 3",
   "language": "python",
   "name": "python3"
  },
  "language_info": {
   "codemirror_mode": {
    "name": "ipython",
    "version": 2
   },
   "file_extension": ".py",
   "mimetype": "text/x-python",
   "name": "python",
   "nbconvert_exporter": "python",
   "pygments_lexer": "ipython2",
   "version": "2.7.6"
  }
 },
 "nbformat": 4,
 "nbformat_minor": 5
}
